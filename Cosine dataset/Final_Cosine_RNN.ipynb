{
  "nbformat": 4,
  "nbformat_minor": 0,
  "metadata": {
    "colab": {
      "provenance": []
    },
    "kernelspec": {
      "name": "python3",
      "display_name": "Python 3"
    },
    "language_info": {
      "name": "python"
    }
  },
  "cells": [
    {
      "cell_type": "code",
      "source": [
        "import torch\n",
        "import torch.nn as nn\n",
        "import torch.optim as optim\n",
        "from torch.utils.data import Dataset, DataLoader\n",
        "import math\n",
        "from torch.utils.data import random_split\n",
        "import matplotlib.pyplot as plt\n",
        "import numpy as np"
      ],
      "metadata": {
        "id": "1wLl5W6b5e5l"
      },
      "execution_count": 1,
      "outputs": []
    },
    {
      "cell_type": "code",
      "source": [
        "import os\n",
        "import random\n",
        "\n",
        "def set_seed(seed):\n",
        "  random.seed(seed)\n",
        "  os.environ['PYTHONHASHSEED'] = str(seed)\n",
        "  np.random.seed(seed)\n",
        "  torch.manual_seed(seed)\n",
        "  torch.cuda.manual_seed(seed)\n",
        "  torch.cuda.manual_seed_all(seed)\n",
        "  torch.backends.cudnn.deterministic = True\n",
        "  torch.backends.cudnn.benchmark = False"
      ],
      "metadata": {
        "id": "IfNeybhdEqVM"
      },
      "execution_count": 2,
      "outputs": []
    },
    {
      "cell_type": "code",
      "source": [
        "seed = 1234\n",
        "set_seed(seed)"
      ],
      "metadata": {
        "id": "uy1DpfYgLzYv"
      },
      "execution_count": 3,
      "outputs": []
    },
    {
      "cell_type": "code",
      "source": [
        "class CosineDataset(Dataset):\n",
        "    def __init__(self, x_0, x_1, x_2, y):\n",
        "        self.x_0 = x_0\n",
        "        self.x_1 = x_1\n",
        "        self.x_2 = x_2\n",
        "        self.y = y\n",
        "\n",
        "    def __len__(self):\n",
        "        return len(self.x_0)\n",
        "\n",
        "    def __getitem__(self, idx):\n",
        "        return self.x_0[idx], self.x_1[idx], self.x_2[idx], self.y[idx]"
      ],
      "metadata": {
        "id": "avO1KQHZq3FF"
      },
      "execution_count": 4,
      "outputs": []
    },
    {
      "cell_type": "code",
      "source": [
        "class CosineDataGenerator:\n",
        "    def __init__(self, num_samples=3000, n_ancilla=3, multiplicity=10, ratio=0.8):\n",
        "        assert num_samples % 5 == 0, \"num_samples must be a multiple of 5\"\n",
        "        self.num_samples = num_samples\n",
        "        self.n_ancilla = n_ancilla\n",
        "        self.multiplicity = multiplicity\n",
        "        self.ratio = ratio\n",
        "        self.delta = math.pi / (2 * 3 * num_samples)  # Step size\n",
        "\n",
        "        # Precompute datasets\n",
        "        self.train_data = self._generate_sequence('train')\n",
        "        self.test_data = self._generate_sequence('test')\n",
        "\n",
        "    def _generate_sequence(self, dataset_type):\n",
        "        if dataset_type == 'train':\n",
        "            start = 0\n",
        "            end = self.ratio * (math.pi / 2) - 4 * self.delta\n",
        "            steps = int(self.ratio * self.num_samples)\n",
        "        else:\n",
        "            start = self.ratio * (math.pi / 2)\n",
        "            end = math.pi / 2 - 4 * self.delta\n",
        "            steps = self.num_samples - int(self.ratio * self.num_samples)\n",
        "\n",
        "        x0_data = torch.linspace(start, end, steps)\n",
        "        x1_data = x0_data + 1 * self.delta\n",
        "        x2_data = x0_data + 2 * self.delta\n",
        "        x3_data = x0_data + 3 * self.delta\n",
        "\n",
        "        input_seq_0 = torch.cos(self.multiplicity * x0_data.unsqueeze(-1))\n",
        "        input_seq_1 = torch.cos(self.multiplicity * x1_data.unsqueeze(-1))\n",
        "        input_seq_2 = torch.cos(self.multiplicity * x2_data.unsqueeze(-1))\n",
        "\n",
        "        target_seq = torch.stack([\n",
        "            torch.cos(self.multiplicity * (x0_data + i * self.delta)) for i in range(1, 4)\n",
        "        ], dim=1)  # Shape: [steps, 3]\n",
        "\n",
        "        return input_seq_0, input_seq_1, input_seq_2, target_seq\n",
        "\n",
        "    def get_loaders(self, batch_size=32):\n",
        "        train_dataset = CosineDataset(*self.train_data)\n",
        "        test_dataset = CosineDataset(*self.test_data)\n",
        "\n",
        "        train_loader = DataLoader(train_dataset, batch_size=batch_size, shuffle=True)\n",
        "        test_loader = DataLoader(test_dataset, batch_size=batch_size)\n",
        "\n",
        "        return train_loader, test_loader"
      ],
      "metadata": {
        "id": "UKQ5-lHEq3H2"
      },
      "execution_count": 5,
      "outputs": []
    },
    {
      "cell_type": "code",
      "source": [
        "generator = CosineDataGenerator()\n",
        "train_loader, test_loader = generator.get_loaders(batch_size=64)"
      ],
      "metadata": {
        "id": "Y7BtIB97q3oX"
      },
      "execution_count": 6,
      "outputs": []
    },
    {
      "cell_type": "code",
      "source": [
        "class RNNModel(nn.Module):\n",
        "    def __init__(self, input_dim=1, hidden_dim=64, output_dim=1, num_layers=1, nonlinearity='tanh'):\n",
        "        super(RNNModel, self).__init__()\n",
        "        self.rnn = nn.RNN(input_size=input_dim,\n",
        "                          hidden_size=hidden_dim,\n",
        "                          num_layers=num_layers,\n",
        "                          nonlinearity=nonlinearity,\n",
        "                          batch_first=True)\n",
        "        self.fc = nn.Linear(hidden_dim, output_dim)\n",
        "        self._init_weights()\n",
        "\n",
        "    def _init_weights(self):\n",
        "        # Initialize RNN weights\n",
        "        for name, param in self.rnn.named_parameters():\n",
        "            if 'weight' in name:\n",
        "                nn.init.uniform_(param, a=-0.6, b=0.6)\n",
        "            elif 'bias' in name:\n",
        "                nn.init.zeros_(param)\n",
        "\n",
        "        # Initialize Linear layer\n",
        "        nn.init.uniform_(self.fc.weight, a=-0.6, b=0.6)\n",
        "        nn.init.zeros_(self.fc.bias)\n",
        "\n",
        "\n",
        "    def forward(self, x_0, x_1, x_2):\n",
        "\n",
        "        out_0, h_0 = self.rnn(x_0)\n",
        "        out_0 = self.fc(out_0)\n",
        "\n",
        "        out_1, h_1 = self.rnn(x_1, h_0)\n",
        "        out_1 = self.fc(out_1)\n",
        "\n",
        "        out_2, _ = self.rnn(x_2, h_1)\n",
        "        out_2 = self.fc(out_2)\n",
        "\n",
        "        combined_out = torch.stack([out_0, out_1, out_2], dim=1).squeeze(-1)  # [batch_size, 3]\n",
        "\n",
        "        return combined_out\n"
      ],
      "metadata": {
        "id": "YWCJiLiYMBEQ"
      },
      "execution_count": 7,
      "outputs": []
    },
    {
      "cell_type": "code",
      "source": [
        "model = RNNModel(input_dim=1, hidden_dim=19, output_dim=1)"
      ],
      "metadata": {
        "id": "q7Mu-Aq75N81"
      },
      "execution_count": 8,
      "outputs": []
    },
    {
      "cell_type": "code",
      "source": [
        "criterion = nn.MSELoss()\n",
        "optimizer = optim.SGD(model.parameters(), lr=5*1e-2)"
      ],
      "metadata": {
        "id": "_Zdbrf9jDssd"
      },
      "execution_count": 9,
      "outputs": []
    },
    {
      "cell_type": "code",
      "source": [
        "def count_params(model):\n",
        "    return sum(p.numel() for p in model.parameters() if p.requires_grad)\n",
        "print(count_params(model))"
      ],
      "metadata": {
        "colab": {
          "base_uri": "https://localhost:8080/"
        },
        "id": "oK6SPi2cjAHK",
        "outputId": "d2d524a0-c5f2-48f6-c3e4-feae51689388"
      },
      "execution_count": 10,
      "outputs": [
        {
          "output_type": "stream",
          "name": "stdout",
          "text": [
            "438\n"
          ]
        }
      ]
    },
    {
      "cell_type": "code",
      "source": [
        "# Test random function\n",
        "model.eval()\n",
        "test_loss_all = 0.0\n",
        "test_loss_y2 = 0.0\n",
        "num_batch = 0\n",
        "\n",
        "with torch.no_grad():\n",
        "    for batch_x_0, batch_x_1, batch_x_2, batch_y in test_loader:\n",
        "        output = model(batch_x_0, batch_x_1, batch_x_2)\n",
        "\n",
        "        loss_all = criterion(output, batch_y)\n",
        "        test_loss_all += loss_all.item()\n",
        "\n",
        "        loss_y2 = criterion(output[:, 2], batch_y[:, 2]) # test only given x0 x1 x2, predict x3\n",
        "        test_loss_y2 += loss_y2.item()\n",
        "        num_batch += 1\n",
        "\n",
        "    test_loss_all /= num_batch\n",
        "    test_loss_y2 /= num_batch\n",
        "print(f\"\\n Test Loss before Training (all steps): {test_loss_all:.4f}\")\n",
        "print(f\"\\n Test Loss before Training (3rd step): {test_loss_y2:.4f}\")\n"
      ],
      "metadata": {
        "colab": {
          "base_uri": "https://localhost:8080/"
        },
        "outputId": "da2b21e6-cf5a-4387-b58e-a52dba4ddbd9",
        "id": "iB5fSBK7E6Ka"
      },
      "execution_count": 11,
      "outputs": [
        {
          "output_type": "stream",
          "name": "stdout",
          "text": [
            "\n",
            " Test Loss before Training (all steps): 0.7434\n",
            "\n",
            " Test Loss before Training (3rd step): 0.6351\n"
          ]
        }
      ]
    },
    {
      "cell_type": "code",
      "source": [
        "loss_history = []"
      ],
      "metadata": {
        "id": "GGcDZ_x6lbjZ"
      },
      "execution_count": 12,
      "outputs": []
    },
    {
      "cell_type": "code",
      "source": [
        "# Training\n",
        "n_epochs = 100\n",
        "for epoch in range(n_epochs):\n",
        "    model.train()\n",
        "    epoch_loss = 0.0\n",
        "    num_batch = 0\n",
        "\n",
        "    for batch_x_0, batch_x_1, batch_x_2, batch_y in train_loader:\n",
        "        optimizer.zero_grad()\n",
        "        output = model(batch_x_0, batch_x_1, batch_x_2)\n",
        "        loss = criterion(output, batch_y)\n",
        "        loss.backward()\n",
        "        optimizer.step()\n",
        "        epoch_loss += loss.item()\n",
        "        num_batch += 1\n",
        "    epoch_loss /= num_batch\n",
        "    #if epoch%10 == 0:\n",
        "    loss_history.append(epoch_loss)\n",
        "    print(f\"Epoch {epoch+1}/{n_epochs} - Loss: {epoch_loss:.4f}\")"
      ],
      "metadata": {
        "colab": {
          "base_uri": "https://localhost:8080/"
        },
        "id": "lbVtobuNDsvT",
        "outputId": "acd8a854-da2e-4a68-e9a5-3e260f5a5715"
      },
      "execution_count": 13,
      "outputs": [
        {
          "output_type": "stream",
          "name": "stdout",
          "text": [
            "Epoch 1/100 - Loss: 0.2389\n",
            "Epoch 2/100 - Loss: 0.0343\n",
            "Epoch 3/100 - Loss: 0.0159\n",
            "Epoch 4/100 - Loss: 0.0126\n",
            "Epoch 5/100 - Loss: 0.0105\n",
            "Epoch 6/100 - Loss: 0.0076\n",
            "Epoch 7/100 - Loss: 0.0071\n",
            "Epoch 8/100 - Loss: 0.0063\n",
            "Epoch 9/100 - Loss: 0.0054\n",
            "Epoch 10/100 - Loss: 0.0052\n",
            "Epoch 11/100 - Loss: 0.0039\n",
            "Epoch 12/100 - Loss: 0.0040\n",
            "Epoch 13/100 - Loss: 0.0035\n",
            "Epoch 14/100 - Loss: 0.0042\n",
            "Epoch 15/100 - Loss: 0.0042\n",
            "Epoch 16/100 - Loss: 0.0039\n",
            "Epoch 17/100 - Loss: 0.0028\n",
            "Epoch 18/100 - Loss: 0.0028\n",
            "Epoch 19/100 - Loss: 0.0025\n",
            "Epoch 20/100 - Loss: 0.0026\n",
            "Epoch 21/100 - Loss: 0.0025\n",
            "Epoch 22/100 - Loss: 0.0022\n",
            "Epoch 23/100 - Loss: 0.0022\n",
            "Epoch 24/100 - Loss: 0.0020\n",
            "Epoch 25/100 - Loss: 0.0020\n",
            "Epoch 26/100 - Loss: 0.0022\n",
            "Epoch 27/100 - Loss: 0.0022\n",
            "Epoch 28/100 - Loss: 0.0022\n",
            "Epoch 29/100 - Loss: 0.0019\n",
            "Epoch 30/100 - Loss: 0.0017\n",
            "Epoch 31/100 - Loss: 0.0017\n",
            "Epoch 32/100 - Loss: 0.0016\n",
            "Epoch 33/100 - Loss: 0.0016\n",
            "Epoch 34/100 - Loss: 0.0014\n",
            "Epoch 35/100 - Loss: 0.0020\n",
            "Epoch 36/100 - Loss: 0.0016\n",
            "Epoch 37/100 - Loss: 0.0015\n",
            "Epoch 38/100 - Loss: 0.0013\n",
            "Epoch 39/100 - Loss: 0.0013\n",
            "Epoch 40/100 - Loss: 0.0012\n",
            "Epoch 41/100 - Loss: 0.0014\n",
            "Epoch 42/100 - Loss: 0.0014\n",
            "Epoch 43/100 - Loss: 0.0011\n",
            "Epoch 44/100 - Loss: 0.0014\n",
            "Epoch 45/100 - Loss: 0.0012\n",
            "Epoch 46/100 - Loss: 0.0013\n",
            "Epoch 47/100 - Loss: 0.0015\n",
            "Epoch 48/100 - Loss: 0.0015\n",
            "Epoch 49/100 - Loss: 0.0011\n",
            "Epoch 50/100 - Loss: 0.0012\n",
            "Epoch 51/100 - Loss: 0.0010\n",
            "Epoch 52/100 - Loss: 0.0012\n",
            "Epoch 53/100 - Loss: 0.0011\n",
            "Epoch 54/100 - Loss: 0.0009\n",
            "Epoch 55/100 - Loss: 0.0011\n",
            "Epoch 56/100 - Loss: 0.0010\n",
            "Epoch 57/100 - Loss: 0.0009\n",
            "Epoch 58/100 - Loss: 0.0010\n",
            "Epoch 59/100 - Loss: 0.0010\n",
            "Epoch 60/100 - Loss: 0.0010\n",
            "Epoch 61/100 - Loss: 0.0011\n",
            "Epoch 62/100 - Loss: 0.0009\n",
            "Epoch 63/100 - Loss: 0.0009\n",
            "Epoch 64/100 - Loss: 0.0009\n",
            "Epoch 65/100 - Loss: 0.0011\n",
            "Epoch 66/100 - Loss: 0.0008\n",
            "Epoch 67/100 - Loss: 0.0010\n",
            "Epoch 68/100 - Loss: 0.0008\n",
            "Epoch 69/100 - Loss: 0.0010\n",
            "Epoch 70/100 - Loss: 0.0007\n",
            "Epoch 71/100 - Loss: 0.0008\n",
            "Epoch 72/100 - Loss: 0.0007\n",
            "Epoch 73/100 - Loss: 0.0009\n",
            "Epoch 74/100 - Loss: 0.0008\n",
            "Epoch 75/100 - Loss: 0.0008\n",
            "Epoch 76/100 - Loss: 0.0007\n",
            "Epoch 77/100 - Loss: 0.0009\n",
            "Epoch 78/100 - Loss: 0.0007\n",
            "Epoch 79/100 - Loss: 0.0007\n",
            "Epoch 80/100 - Loss: 0.0008\n",
            "Epoch 81/100 - Loss: 0.0008\n",
            "Epoch 82/100 - Loss: 0.0008\n",
            "Epoch 83/100 - Loss: 0.0007\n",
            "Epoch 84/100 - Loss: 0.0008\n",
            "Epoch 85/100 - Loss: 0.0007\n",
            "Epoch 86/100 - Loss: 0.0006\n",
            "Epoch 87/100 - Loss: 0.0006\n",
            "Epoch 88/100 - Loss: 0.0007\n",
            "Epoch 89/100 - Loss: 0.0010\n",
            "Epoch 90/100 - Loss: 0.0007\n",
            "Epoch 91/100 - Loss: 0.0007\n",
            "Epoch 92/100 - Loss: 0.0007\n",
            "Epoch 93/100 - Loss: 0.0008\n",
            "Epoch 94/100 - Loss: 0.0006\n",
            "Epoch 95/100 - Loss: 0.0006\n",
            "Epoch 96/100 - Loss: 0.0007\n",
            "Epoch 97/100 - Loss: 0.0006\n",
            "Epoch 98/100 - Loss: 0.0006\n",
            "Epoch 99/100 - Loss: 0.0008\n",
            "Epoch 100/100 - Loss: 0.0005\n"
          ]
        }
      ]
    },
    {
      "cell_type": "code",
      "source": [
        "#Evaluation\n",
        "model.eval()\n",
        "test_loss_all = 0.0\n",
        "test_loss_y2 = 0.0\n",
        "num_batch = 0\n",
        "x_3_list = []\n",
        "y_2_list = []\n",
        "\n",
        "with torch.no_grad():\n",
        "    for batch_x_0, batch_x_1, batch_x_2, batch_y in test_loader:\n",
        "        output = model(batch_x_0, batch_x_1, batch_x_2)\n",
        "\n",
        "        loss_all = criterion(output, batch_y)\n",
        "        test_loss_all += loss_all.item()\n",
        "\n",
        "        loss_y2 = criterion(output[:, 2], batch_y[:, 2])\n",
        "        test_loss_y2 += loss_y2.item()\n",
        "\n",
        "        x_3_list.append(output[:, 2].tolist())\n",
        "        y_2_list.append(batch_y[:, 2].tolist())\n",
        "\n",
        "        num_batch += 1\n",
        "    test_loss_all /= num_batch\n",
        "    test_loss_y2 /= num_batch\n",
        "print(f\"\\n Final test Loss (all steps): {test_loss_all:.4f}\")\n",
        "print(f\"\\n Final test Loss (3rd step): {test_loss_y2:.4f}\")"
      ],
      "metadata": {
        "colab": {
          "base_uri": "https://localhost:8080/"
        },
        "outputId": "c243702b-5fa5-4abc-eeea-5a9d29c02366",
        "id": "dJ_5XV4xFA7q"
      },
      "execution_count": 14,
      "outputs": [
        {
          "output_type": "stream",
          "name": "stdout",
          "text": [
            "\n",
            " Final test Loss (all steps): 0.0012\n",
            "\n",
            " Final test Loss (3rd step): 0.0010\n"
          ]
        }
      ]
    },
    {
      "cell_type": "code",
      "source": [
        "%matplotlib inline\n",
        "import matplotlib.pyplot as plt\n",
        "import numpy as np\n",
        "import matplotlib"
      ],
      "metadata": {
        "id": "pCEZMpPDm98Z"
      },
      "execution_count": 15,
      "outputs": []
    },
    {
      "cell_type": "code",
      "source": [
        "n_steps = len(loss_history)"
      ],
      "metadata": {
        "id": "2Bakni3JnXI8"
      },
      "execution_count": 16,
      "outputs": []
    },
    {
      "cell_type": "code",
      "source": [
        "\n",
        "x_coords = [i for i in range(n_steps)]\n",
        "y_coords = loss_history\n",
        "\n",
        "plt.plot(x_coords, y_coords, c=\"#1f77b4\", marker=\"o\")\n",
        "plt.xlabel('X-axis')\n",
        "plt.ylabel('Y-axis')\n",
        "plt.title('Plot of Points')\n",
        "plt.show()"
      ],
      "metadata": {
        "colab": {
          "base_uri": "https://localhost:8080/",
          "height": 472
        },
        "id": "ySOqwBreoUL8",
        "outputId": "40f4fced-0a7e-4b4a-edc1-64cf2ffa5845"
      },
      "execution_count": 17,
      "outputs": [
        {
          "output_type": "display_data",
          "data": {
            "text/plain": [
              "<Figure size 640x480 with 1 Axes>"
            ],
            "image/png": "[encoded data removed]"
          },
          "metadata": {}
        }
      ]
    },
    {
      "cell_type": "code",
      "source": [
        "print(loss_history)"
      ],
      "metadata": {
        "id": "J-L3-CRaqGLk",
        "colab": {
          "base_uri": "https://localhost:8080/"
        },
        "outputId": "90a29182-da36-4abf-a74b-90f8058b0803"
      },
      "execution_count": 18,
      "outputs": [
        {
          "output_type": "stream",
          "name": "stdout",
          "text": [
            "[0.23888198247081355, 0.03425844003887553, 0.015891706889593286, 0.012645480124966094, 0.010516955455961196, 0.0075574154279341825, 0.007143191117058067, 0.006297541059259521, 0.005369406003554009, 0.005151823500024253, 0.0039370516498916245, 0.00404532952234149, 0.00347450161720381, 0.004181866050011625, 0.004202967448356121, 0.003931028988996619, 0.00284898047041344, 0.0027827617565267964, 0.002521022431258308, 0.0025563400949498542, 0.0024954220126873175, 0.0021554277535822046, 0.002182923965033536, 0.001968128900778921, 0.0020260180371176255, 0.0021558655824169123, 0.0021571705123948817, 0.002152121083590349, 0.0018629479516101511, 0.00170447022997235, 0.0017125418526120484, 0.0015740557052930327, 0.0015747828078211139, 0.0013806985899511921, 0.0019950769186068916, 0.001575347147943256, 0.0014902044341923964, 0.0012936747072289062, 0.0012603077354326256, 0.0012381275239596633, 0.0013681587420011822, 0.0014372455832352372, 0.001121890721965189, 0.0013679835859588103, 0.0011539538268392022, 0.00128253036956793, 0.0015336036433980457, 0.0015000111582738004, 0.0011271310136898567, 0.0012117043385698803, 0.0010038113962907932, 0.0011586286311380957, 0.0010766623630556033, 0.0009492017806654698, 0.001093297663732971, 0.000992594671276349, 0.0008905866554031443, 0.000985852975741421, 0.0010435246758310026, 0.0009873481161010108, 0.0011028178958344813, 0.0009068663088041113, 0.0009180031866938071, 0.0008603486938610379, 0.0011203440279993963, 0.0007865554944146425, 0.0010012600089938037, 0.0008256460737596315, 0.0009664535020036917, 0.0006943546407120792, 0.0007630743976302543, 0.0007426031875902003, 0.0008632184877856879, 0.0007677677785977721, 0.0007688270232297088, 0.0007434136457863803, 0.000860427713824289, 0.0007250078166467382, 0.000692702598538936, 0.0007773323626392276, 0.0007835435895494333, 0.0008496983990832968, 0.0006736303590801789, 0.0007725192209411608, 0.0006511480590377591, 0.0006082389338285123, 0.0006252861149780648, 0.0006758562629233653, 0.0010037347153564425, 0.0006583835722841812, 0.0006711084011170131, 0.0006505440197590934, 0.0008202578020772259, 0.0006229552389796529, 0.0006375028215667331, 0.0007008725821690046, 0.0006133247699931656, 0.0005748710797266348, 0.0007928617369064963, 0.0005386118902702277]\n"
          ]
        }
      ]
    },
    {
      "cell_type": "code",
      "source": [
        "print(x_3_list)"
      ],
      "metadata": {
        "colab": {
          "base_uri": "https://localhost:8080/"
        },
        "id": "ymR2VzEYMUS0",
        "outputId": "9bec88ef-d203-4439-c925-f2458da86cc1"
      },
      "execution_count": 19,
      "outputs": [
        {
          "output_type": "stream",
          "name": "stdout",
          "text": [
            "[[0.9552996158599854, 0.9559017419815063, 0.9556805491447449, 0.9533573389053345, 0.9519680738449097, 0.9520367383956909, 0.9518892168998718, 0.9516968727111816, 0.9515747427940369, 0.9513811469078064, 0.9511299729347229, 0.950871467590332, 0.9505913257598877, 0.9502856731414795, 0.9499583840370178, 0.9496088624000549, 0.949236273765564, 0.9488410949707031, 0.948423445224762, 0.9479827284812927, 0.9475197792053223, 0.9470338225364685, 0.9465253949165344, 0.9459943175315857, 0.9454402327537537, 0.9448641538619995, 0.9442649483680725, 0.9436432719230652, 0.9429988265037537, 0.9423319697380066, 0.9416422247886658, 0.9409303069114685, 0.9401954412460327, 0.9394378662109375, 0.9386581182479858, 0.9378553628921509, 0.9370298981666565, 0.93618243932724, 0.9353123903274536, 0.9344191551208496, 0.9335039854049683, 0.9325658082962036, 0.9316055774688721, 0.9306224584579468, 0.9296169281005859, 0.9285889267921448, 0.9275382161140442, 0.9264649748802185, 0.9253697991371155, 0.924251914024353, 0.9231110215187073, 0.921948254108429, 0.9207626581192017, 0.9195552468299866, 0.9183250069618225, 0.9170719981193542, 0.9157971143722534, 0.9144994616508484, 0.9131795167922974, 0.9118375182151794, 0.910473108291626, 0.9090859293937683, 0.9076768159866333, 0.9062448740005493], [0.91312175989151, 0.9127844572067261, 0.910275936126709, 0.9030724763870239, 0.8979861736297607, 0.8970907926559448, 0.8955052495002747, 0.8937889933586121, 0.8923428654670715, 0.8907460570335388, 0.8890228867530823, 0.8873259425163269, 0.8856129050254822, 0.8838655948638916, 0.882099986076355, 0.880313515663147, 0.87850421667099, 0.8766732215881348, 0.8748200535774231, 0.8729444742202759, 0.8710471987724304, 0.8691277503967285, 0.8671860694885254, 0.8652229905128479, 0.8632378578186035, 0.8612305521965027, 0.8592008948326111, 0.8571496605873108, 0.8550771474838257, 0.8529823422431946, 0.8508653044700623, 0.8487266898155212, 0.846565842628479, 0.8443837761878967, 0.8421800136566162, 0.839954137802124, 0.8377066850662231, 0.8354369401931763, 0.8331457376480103, 0.8308335542678833, 0.8284991979598999, 0.8261430263519287, 0.8237653374671936, 0.8213657140731812, 0.8189449310302734, 0.8165026903152466, 0.8140386939048767, 0.811553418636322, 0.8090459704399109, 0.8065170049667358, 0.8039675951004028, 0.8013962507247925, 0.7988031506538391, 0.79618901014328, 0.7935529351234436, 0.7908960580825806, 0.7882177829742432, 0.7855184078216553, 0.7827975749969482, 0.7800549864768982, 0.7772911190986633, 0.7745071649551392, 0.7717015743255615, 0.768873929977417], [0.7780932784080505, 0.7756397724151611, 0.7701655626296997, 0.760786235332489, 0.7531419992446899, 0.7515482902526855, 0.748467743396759, 0.7452243566513062, 0.7424731254577637, 0.7395161390304565, 0.7363739013671875, 0.733295738697052, 0.730217695236206, 0.7270886898040771, 0.7239447832107544, 0.7207854986190796, 0.7176024913787842, 0.7143980860710144, 0.7111736536026001, 0.707929253578186, 0.7046645283699036, 0.7013782262802124, 0.6980718970298767, 0.6947444081306458, 0.6913971900939941, 0.6880294680595398, 0.6846412420272827, 0.6812329888343811, 0.6778035163879395, 0.6743537187576294, 0.6708842515945435, 0.6673951148986816, 0.6638850569725037, 0.6603548526763916, 0.6568039059638977, 0.6532338261604309, 0.6496436595916748, 0.6460331678390503, 0.6424026489257812, 0.6387519240379333, 0.6350810527801514, 0.6313908696174622, 0.6276816725730896, 0.6239514350891113, 0.620201826095581, 0.6164320111274719, 0.6126432418823242, 0.6088347434997559, 0.6050066947937012, 0.6011589169502258, 0.5972912311553955, 0.593403697013855, 0.5894975662231445, 0.5855730772018433, 0.581627607345581, 0.5776636600494385, 0.5736796855926514, 0.5696771144866943, 0.5656554698944092, 0.561614990234375, 0.5575550198554993, 0.5534757375717163, 0.5493773221969604, 0.5452609062194824], [0.5513951778411865, 0.5477927923202515, 0.5400283336639404, 0.5315593481063843, 0.5229698419570923, 0.5205846428871155, 0.5159024000167847, 0.5114030838012695, 0.507397472858429, 0.5031400918960571, 0.4987228214740753, 0.49438631534576416, 0.4900655150413513, 0.48567652702331543, 0.4812774062156677, 0.47687140107154846, 0.4724418818950653, 0.46799492835998535, 0.46353089809417725, 0.45904847979545593, 0.4545480012893677, 0.450031042098999, 0.44549739360809326, 0.44094476103782654, 0.4363756775856018, 0.43178868293762207, 0.4271852672100067, 0.42256399989128113, 0.41792744398117065, 0.41327324509620667, 0.4086013436317444, 0.4039130210876465, 0.3992084860801697, 0.3944886326789856, 0.38975054025650024, 0.38499683141708374, 0.3802262544631958, 0.3754402697086334, 0.37063735723495483, 0.3658202886581421, 0.36098653078079224, 0.35613611340522766, 0.3512699604034424, 0.3463892340660095, 0.3414939045906067, 0.33658158779144287, 0.3316549062728882, 0.32671207189559937, 0.3217552900314331, 0.3167828321456909, 0.31179720163345337, 0.30679619312286377, 0.30177974700927734, 0.29674866795539856, 0.29170432686805725, 0.28664690256118774, 0.2815735936164856, 0.27648723125457764, 0.27138617634773254, 0.2662724256515503, 0.2611442804336548, 0.25600460171699524, 0.2508508563041687, 0.245682954788208], [0.24088358879089355, 0.23887401819229126, 0.23225519061088562, 0.22687456011772156, 0.21841496229171753, 0.21503737568855286, 0.20897948741912842, 0.20379877090454102, 0.1986924409866333, 0.19334596395492554, 0.18800511956214905, 0.18269363045692444, 0.17740130424499512, 0.17205041646957397, 0.1667029857635498, 0.16135215759277344, 0.15598461031913757, 0.15060728788375854, 0.14522027969360352, 0.13982534408569336, 0.13441920280456543, 0.12900269031524658, 0.12357687950134277, 0.11814287304878235, 0.1127001941204071, 0.10724827647209167, 0.10178819298744202, 0.09631848335266113, 0.09084177017211914, 0.08535611629486084, 0.07986414432525635, 0.07436418533325195, 0.06885549426078796, 0.06333976984024048, 0.057817935943603516, 0.05228939652442932, 0.04675433039665222, 0.041212886571884155, 0.035664260387420654, 0.030110806226730347, 0.024550676345825195, 0.018986910581588745, 0.013416767120361328, 0.007840752601623535, 0.0022597908973693848, -0.0033244192600250244, -0.008913516998291016, -0.014506518840789795, -0.020103424787521362, -0.025704920291900635, -0.03130906820297241, -0.03691750764846802, -0.042526841163635254, -0.048139870166778564, -0.05375629663467407, -0.05937546491622925, -0.06499546766281128, -0.07061713933944702, -0.07624056935310364, -0.08186513185501099, -0.08749192953109741, -0.09311860799789429, -0.09874698519706726, -0.1043735146522522], [-0.12056249380111694, -0.12105578184127808, -0.12383359670639038, -0.12546023726463318, -0.13332849740982056, -0.13763707876205444, -0.14411768317222595, -0.14927726984024048, -0.15492045879364014, -0.1606634259223938, -0.1662343442440033, -0.17184841632843018, -0.17744684219360352, -0.18306970596313477, -0.18866842985153198, -0.19426566362380981, -0.19986334443092346, -0.20545482635498047, -0.2110428810119629, -0.21662521362304688, -0.22220417857170105, -0.22777563333511353, -0.23334282636642456, -0.2389054000377655, -0.2444620430469513, -0.2500115633010864, -0.255554735660553, -0.2610911726951599, -0.2666207551956177, -0.2721441388130188, -0.2776591181755066, -0.28316766023635864, -0.28866714239120483, -0.29415762424468994, -0.29964178800582886, -0.305117130279541, -0.31058269739151, -0.3160393238067627, -0.3214864134788513, -0.32692432403564453, -0.332352876663208, -0.33777064085006714, -0.3431788682937622, -0.34857606887817383, -0.3539612293243408, -0.3593374490737915, -0.3647022247314453, -0.37005484104156494, -0.3753957152366638, -0.38072457909584045, -0.38604146242141724, -0.39134687185287476, -0.39663881063461304, -0.4019186198711395, -0.4071848392486572, -0.4124366044998169, -0.4176769256591797, -0.42290353775024414, -0.4281153678894043, -0.433313250541687, -0.438496470451355, -0.44366538524627686, -0.4488205313682556, -0.45395970344543457], [-0.4722291827201843, -0.4734576940536499, -0.47409307956695557, -0.4733850955963135, -0.47926199436187744, -0.4842018485069275, -0.49000847339630127, -0.49432432651519775, -0.4994523525238037, -0.504554271697998, -0.5094571113586426, -0.5143899917602539, -0.5193184614181519, -0.5242440104484558, -0.5291271209716797, -0.5340020656585693, -0.5388607978820801, -0.5436981916427612, -0.5485175251960754, -0.5533182621002197, -0.5581016540527344, -0.5628648996353149, -0.567609965801239, -0.5723349452018738, -0.5770398378372192, -0.5817267894744873, -0.5863939523696899, -0.5910407304763794, -0.59566730260849, -0.6002748012542725, -0.6048601865768433, -0.6094270944595337, -0.613972544670105, -0.6184980869293213, -0.6230021119117737, -0.6274844408035278, -0.6319472789764404, -0.6363889575004578, -0.640808641910553, -0.6452069282531738, -0.6495844125747681, -0.6539387702941895, -0.6582728624343872, -0.6625843048095703, -0.6668746471405029, -0.671142041683197, -0.6753865480422974, -0.6796103715896606, -0.6838115453720093, -0.6879896521568298, -0.6921452879905701, -0.6962786912918091, -0.7003882527351379, -0.7044760584831238, -0.7085402607917786, -0.7125822901725769, -0.7166003584861755, -0.720594584941864, -0.724566638469696, -0.7285157442092896, -0.7324405908584595, -0.736341655254364, -0.7402201294898987, -0.7440733909606934], [-0.7570193409919739, -0.7590695023536682, -0.7596057057380676, -0.7591807246208191, -0.7621136903762817, -0.7665829062461853, -0.7708868980407715, -0.7739201188087463, -0.7776634693145752, -0.7813330888748169, -0.7848996520042419, -0.7884398698806763, -0.7919900417327881, -0.7955178022384644, -0.7989997863769531, -0.8024686574935913, -0.8059110045433044, -0.809329092502594, -0.8127211928367615, -0.8160891532897949, -0.8194329738616943, -0.8227508068084717, -0.8260446190834045, -0.8293130993843079, -0.832557201385498, -0.83577561378479, -0.8389697670936584, -0.8421375751495361, -0.8452814817428589, -0.8483996391296387, -0.8514928817749023, -0.8545612692832947, -0.8576034307479858, -0.8606215119361877, -0.8636139035224915, -0.8665814399719238, -0.8695231080055237, -0.8724402189254761, -0.8753308057785034, -0.8781973123550415, -0.8810378313064575, -0.8838527798652649, -0.8866430521011353, -0.8894070386886597, -0.8921464085578918, -0.8948599100112915, -0.897548496723175, -0.9002112150192261, -0.9028488397598267, -0.9054601788520813, -0.9080467224121094, -0.9106078743934631, -0.9131431579589844, -0.9156535863876343, -0.9181374311447144, -0.920596718788147, -0.9230302572250366, -0.9254385232925415, -0.9278208017349243, -0.9301780462265015, -0.9325090646743774, -0.9348152875900269, -0.9370956420898438, -0.9393506050109863], [-0.9457271099090576, -0.9472742080688477, -0.9479007720947266, -0.9484682083129883, -0.9495397806167603, -0.9523214101791382, -0.954695463180542, -0.9564398527145386, -0.9584925174713135, -0.9605034589767456, -0.9624807834625244, -0.964409351348877, -0.9663447141647339, -0.9682449102401733, -0.9701130390167236, -0.9719610214233398, -0.9737828969955444, -0.9755791425704956, -0.9773489236831665, -0.9790948629379272, -0.9808143377304077, -0.982508659362793, -0.9841777086257935, -0.9858213663101196, -0.9874391555786133, -0.9890320301055908, -0.9905993938446045, -0.9921413660049438, -0.9936580657958984, -0.9951490163803101, -0.9966150522232056, -0.9980554580688477, -0.9994707107543945, -1.000860571861267, -1.0022252798080444, -1.0035641193389893, -1.0048778057098389, -1.0061665773391724, -1.0074297189712524, -1.008668065071106, -1.0098803043365479, -1.0110679864883423, -1.0122300386428833, -1.013366937637329, -1.0144788026809692, -1.015565276145935, -1.0166263580322266, -1.0176621675491333, -1.018673062324524, -1.0196586847305298, -1.0206191539764404, -1.0215542316436768, -1.0224641561508179, -1.0233489274978638, -1.0242085456848145, -1.0250428915023804, -1.0258524417877197, -1.0266366004943848, -1.0273953676223755, -1.0281294584274292, -1.0288381576538086, -1.0295219421386719, -1.0301802158355713, -1.0308135747909546], [-1.0317953824996948, -1.0323015451431274, -1.032716989517212, -1.0331413745880127, -1.0335346460342407, -1.0340876579284668, -1.0345673561096191, -1.0349764823913574, -1.035384178161621, -1.0357673168182373, -1.0361255407333374, -1.036455750465393, -1.0367645025253296, -1.0370466709136963, -1.0373038053512573, -1.0375356674194336, -1.0377429723739624, -1.0379250049591064, -1.0380818843841553, -1.0382139682769775, -1.0383208990097046, -1.0384026765823364, -1.0384595394134521, -1.0384913682937622]]\n"
          ]
        }
      ]
    },
    {
      "cell_type": "code",
      "source": [
        "print(y_2_list)"
      ],
      "metadata": {
        "colab": {
          "base_uri": "https://localhost:8080/"
        },
        "id": "tmuloL-nMUWA",
        "outputId": "6defe666-9fda-4af5-f307-c604be4507f7"
      },
      "execution_count": 20,
      "outputs": [
        {
          "output_type": "stream",
          "name": "stdout",
          "text": [
            "[[0.9999862909317017, 0.9999452233314514, 0.9998767375946045, 0.9997808933258057, 0.9996576309204102, 0.9995070099830627, 0.9993290305137634, 0.9991236925125122, 0.9988909363746643, 0.998630940914154, 0.9983434677124023, 0.9980287551879883, 0.9976866841316223, 0.9973171949386597, 0.9969205856323242, 0.9964964985847473, 0.9960452318191528, 0.9955666065216064, 0.9950607419013977, 0.9945275783538818, 0.9939674139022827, 0.9933797717094421, 0.9927650690078735, 0.9921231269836426, 0.9914539456367493, 0.9907578229904175, 0.9900343418121338, 0.9892838597297668, 0.9885061979293823, 0.9877015352249146, 0.9868696928024292, 0.9860112071037292, 0.9851253032684326, 0.9842126369476318, 0.9832730293273926, 0.9823063015937805, 0.98131263256073, 0.9802924990653992, 0.9792453646659851, 0.978171169757843, 0.9770703911781311, 0.9759426712989807, 0.9747886061668396, 0.9736074805259705, 0.972399890422821, 0.971165657043457, 0.9699046015739441, 0.9686169624328613, 0.9673032760620117, 0.9659628868103027, 0.9645957946777344, 0.9632025361061096, 0.9617826342582703, 0.9603369235992432, 0.9588643908500671, 0.957365870475769, 0.9558411240577698, 0.9542899131774902, 0.9527125358581543, 0.9511097073554993, 0.9494805335998535, 0.947825014591217, 0.9461438655853271, 0.9444365501403809], [0.942703902721405, 0.9409448504447937, 0.9391604065895081, 0.9373501539230347, 0.935513973236084, 0.9336521029472351, 0.9317653775215149, 0.9298528432846069, 0.9279144406318665, 0.9259509444236755, 0.9239618182182312, 0.9219480752944946, 0.919908344745636, 0.917843759059906, 0.9157540798187256, 0.9136389493942261, 0.9114987850189209, 0.9093344807624817, 0.9071448445320129, 0.9049299359321594, 0.9026907086372375, 0.9004262685775757, 0.898137629032135, 0.8958244323730469, 0.8934866786003113, 0.891124427318573, 0.8887373805046082, 0.8863259553909302, 0.8838911652565002, 0.8814317584037781, 0.8789477348327637, 0.8764400482177734, 0.8739079833030701, 0.8713523745536804, 0.8687729239463806, 0.8661697506904602, 0.8635427951812744, 0.8608916997909546, 0.8582170605659485, 0.8555198907852173, 0.8527987599372864, 0.8500538468360901, 0.8472861051559448, 0.844494640827179, 0.8416805863380432, 0.8388435244560242, 0.8359834551811218, 0.8331004977226257, 0.8301941752433777, 0.8272651433944702, 0.8243144750595093, 0.8213407397270203, 0.818343997001648, 0.8153253793716431, 0.8122838139533997, 0.8092206120491028, 0.8061352372169495, 0.8030278086662292, 0.7998983860015869, 0.7967464923858643, 0.793572723865509, 0.7903784513473511, 0.7871619462966919, 0.7839232683181763], [0.7806636691093445, 0.7773821949958801, 0.7740799784660339, 0.7707565426826477, 0.767412006855011, 0.7640464901924133, 0.7606594562530518, 0.757251501083374, 0.7538241147994995, 0.7503754496574402, 0.7469056248664856, 0.7434159517288208, 0.7399052977561951, 0.7363750338554382, 0.7328245639801025, 0.7292540669441223, 0.7256635427474976, 0.7220525741577148, 0.7184217572212219, 0.7147719860076904, 0.7111032605171204, 0.7074137330055237, 0.7037055492401123, 0.6999773383140564, 0.6962307095527649, 0.6924650073051453, 0.6886802911758423, 0.6848767399787903, 0.6810537576675415, 0.677212119102478, 0.6733525991439819, 0.6694753766059875, 0.6655784249305725, 0.6616639494895935, 0.6577306389808655, 0.6537799835205078, 0.6498115062713623, 0.6458251476287842, 0.6418211460113525, 0.6377988457679749, 0.633759081363678, 0.6297026872634888, 0.6256297826766968, 0.6215382814407349, 0.6174305081367493, 0.6133050322532654, 0.6091635227203369, 0.6050053834915161, 0.600830614566803, 0.5966394543647766, 0.5924311280250549, 0.5882065892219543, 0.5839667320251465, 0.5797116756439209, 0.5754391551017761, 0.5711516737937927, 0.5668477416038513, 0.5625291466712952, 0.5581950545310974, 0.5538457632064819, 0.549481213092804, 0.5451008677482605, 0.5407056212425232, 0.5362963080406189], [0.5318731665611267, 0.5274338126182556, 0.522980809211731, 0.5185127258300781, 0.5140312314033508, 0.5095348358154297, 0.50502610206604, 0.5005027651786804, 0.4959648847579956, 0.491413414478302, 0.486849308013916, 0.4822727143764496, 0.4776812493801117, 0.47307753562927246, 0.4684600234031677, 0.46383050084114075, 0.45918747782707214, 0.45453354716300964, 0.44986632466316223, 0.44518592953681946, 0.4404933452606201, 0.4357895255088806, 0.43107467889785767, 0.4263462722301483, 0.4216070771217346, 0.41685545444488525, 0.41209328174591064, 0.40731894969940186, 0.40253522992134094, 0.39773958921432495, 0.3929322063922882, 0.3881140351295471, 0.38328611850738525, 0.37844860553741455, 0.37359896302223206, 0.3687399625778198, 0.36386996507644653, 0.3589909076690674, 0.35410112142562866, 0.3492034375667572, 0.34429529309272766, 0.3393768072128296, 0.33444905281066895, 0.3295130133628845, 0.32456886768341064, 0.3196140229701996, 0.31465134024620056, 0.3096791207790375, 0.3046993315219879, 0.2997102737426758, 0.29471486806869507, 0.28971046209335327, 0.28469720482826233, 0.2796761393547058, 0.2746483385562897, 0.26961395144462585, 0.26457032561302185, 0.25952038168907166, 0.2544623911380768, 0.2493983805179596, 0.24432659149169922, 0.23924998939037323, 0.23416589200496674, 0.22907446324825287], [0.2239767462015152, 0.21887384355068207, 0.21376493573188782, 0.20865017175674438, 0.2035297006368637, 0.19840271770954132, 0.19327124953269958, 0.18813353776931763, 0.18299254775047302, 0.17784561216831207, 0.17269288003444672, 0.16753540933132172, 0.16237428784370422, 0.15720871090888977, 0.1520388424396515, 0.14686480164527893, 0.14168581366539001, 0.13650387525558472, 0.13131724298000336, 0.1261289268732071, 0.12093620002269745, 0.11573921889066696, 0.11053906381130219, 0.10533683001995087, 0.10013171285390854, 0.09492385387420654, 0.08971339464187622, 0.0844995304942131, 0.07928430289030075, 0.07406595349311829, 0.06884747743606567, 0.06362616270780563, 0.058402154594659805, 0.05317654460668564, 0.04795043542981148, 0.04272301122546196, 0.037494417279958725, 0.032264795154333115, 0.027033336460590363, 0.021802091971039772, 0.01656929776072502, 0.011337955482304096, 0.006105349399149418, 0.0008716224692761898, -0.004362128209322691, -0.009594805538654327, -0.01482722070068121, -0.02005922980606556, -0.02529068849980831, -0.030522409826517105, -0.03575234115123749, -0.04098224639892578, -0.046209122985601425, -0.051435686647892, -0.05666179582476616, -0.06188635155558586, -0.06710825860500336, -0.07232833653688431, -0.07754642516374588, -0.08276239037513733, -0.08797704428434372, -0.0931883379817009, -0.09839802980422974, -0.10360312461853027], [-0.10880633443593979, -0.11400751024484634, -0.11920556426048279, -0.12439940869808197, -0.12958984076976776, -0.1347767412662506, -0.1399599313735962, -0.14514024555683136, -0.15031562745571136, -0.15548785030841827, -0.16065391898155212, -0.1658165454864502, -0.17097556591033936, -0.17612989246845245, -0.18127846717834473, -0.18642206490039825, -0.19156058132648468, -0.19669383764266968, -0.20182263851165771, -0.20694498717784882, -0.21206259727478027, -0.2171725332736969, -0.2222774475812912, -0.22737722098827362, -0.23247075080871582, -0.23755700886249542, -0.24263674020767212, -0.24770984053611755, -0.2527761459350586, -0.2578364610671997, -0.2628887891769409, -0.2679348289966583, -0.27297264337539673, -0.2780020236968994, -0.2830256521701813, -0.28804153203964233, -0.29304859042167664, -0.29804763197898865, -0.30303850769996643, -0.30802109837532043, -0.31299614906311035, -0.317961722612381, -0.3229195177555084, -0.3278675377368927, -0.33280569314956665, -0.3377365171909332, -0.3426581025123596, -0.34756940603256226, -0.3524712026119232, -0.3573633134365082, -0.36224567890167236, -0.3671189844608307, -0.3719813823699951, -0.3768344521522522, -0.3816763162612915, -0.3865068554878235, -0.3913285732269287, -0.39613956212997437, -0.40093883872032166, -0.4057271182537079, -0.4105043113231659, -0.41527023911476135, -0.42002567648887634, -0.42476874589920044], [-0.4295010566711426, -0.43422073125839233, -0.43892765045166016, -0.4436242878437042, -0.4483087360858917, -0.45298007130622864, -0.45763900876045227, -0.46228542923927307, -0.4669191837310791, -0.47154098749160767, -0.4761490225791931, -0.480744868516922, -0.48532670736312866, -0.48989441990852356, -0.4944503903388977, -0.49899283051490784, -0.5035207867622375, -0.508034884929657, -0.5125351548194885, -0.5170213580131531, -0.5214942097663879, -0.5259519815444946, -0.5303961038589478, -0.5348249673843384, -0.5392383337020874, -0.5436385869979858, -0.5480238795280457, -0.5523934364318848, -0.5567478537559509, -0.5610877871513367, -0.5654107928276062, -0.5697198510169983, -0.5740125775337219, -0.5782903432846069, -0.5825515389442444, -0.5867959260940552, -0.5910258293151855, -0.5952395796775818, -0.5994362235069275, -0.6036164164543152, -0.6077808737754822, -0.6119272112846375, -0.6160582900047302, -0.6201717257499695, -0.6242688894271851, -0.6283482313156128, -0.6324096918106079, -0.636455237865448, -0.6404833793640137, -0.6444932222366333, -0.6484854817390442, -0.6524606347084045, -0.6564165353775024, -0.6603558659553528, -0.6642763614654541, -0.668179452419281, -0.6720634698867798, -0.6759284138679504, -0.6797762513160706, -0.6836054921150208, -0.6874153017997742, -0.6912062764167786, -0.6949790120124817, -0.6987313032150269], [-0.7024658918380737, -0.7061805725097656, -0.709876537322998, -0.7135524153709412, -0.7172080874443054, -0.7208454012870789, -0.7244630455970764, -0.7280601263046265, -0.7316372990608215, -0.7351951003074646, -0.7387315034866333, -0.7422488927841187, -0.7457453608512878, -0.7492220401763916, -0.7526775598526001, -0.7561130523681641, -0.7595266699790955, -0.7629206776618958, -0.7662931680679321, -0.7696446776390076, -0.772975742816925, -0.7762844562530518, -0.7795730829238892, -0.7828397750854492, -0.7860856056213379, -0.7893093228340149, -0.7925119996070862, -0.7956917881965637, -0.7988510131835938, -0.8019877076148987, -0.805102527141571, -0.8081957697868347, -0.8112658262252808, -0.8143147826194763, -0.8173408508300781, -0.8203451037406921, -0.8233263492584229, -0.8262855410575867, -0.8292210698127747, -0.8321349620819092, -0.8350255489349365, -0.8378932476043701, -0.8407385349273682, -0.843559741973877, -0.8463588953018188, -0.8491343855857849, -0.8518871068954468, -0.8546159863471985, -0.8573219180107117, -0.8600034713745117, -0.8626623749732971, -0.8652971982955933, -0.8679083585739136, -0.8704962134361267, -0.8730592727661133, -0.8755993247032166, -0.8781149983406067, -0.8806070685386658, -0.8830745220184326, -0.8855183124542236, -0.8879368901252747, -0.8903321027755737, -0.8927024602890015, -0.8950483798980713], [-0.8973701596260071, -0.8996666073799133, -0.9019392132759094, -0.9041867256164551, -0.9064098596572876, -0.9086077809333801, -0.91078120470047, -0.9129288792610168, -0.9150524139404297, -0.9171504378318787, -0.9192233681678772, -0.9212715029716492, -0.9232943654060364, -0.9252912402153015, -0.9272631406784058, -0.9292100071907043, -0.9311310648918152, -0.9330269694328308, -0.9348966479301453, -0.9367414116859436, -0.9385601878166199, -0.940353274345398, -0.9421209096908569, -0.9438627362251282, -0.9455780982971191, -0.9472678303718567, -0.9489319920539856, -0.9505698680877686, -0.9521819353103638, -0.9537674188613892, -0.9553273320198059, -0.9568607807159424, -0.9583680629730225, -0.9598493576049805, -0.9613043665885925, -0.9627325534820557, -0.9641345739364624, -0.9655104875564575, -0.9668596982955933, -0.9681826829910278, -0.9694786667823792, -0.9707485437393188, -0.9719916582107544, -0.9732081294059753, -0.9743981957435608, -0.9755615592002869, -0.9766977429389954, -0.9778074622154236, -0.9788905382156372, -0.9799466133117676, -0.9809761047363281, -0.9819782972335815, -0.9829540252685547, -0.983902633190155, -0.9848242402076721, -0.9857191443443298, -0.9865869879722595, -0.9874274730682373, -0.9882411360740662, -0.9890278577804565, -0.9897873401641846, -0.9905198812484741, -0.9912251234054565, -0.9919032454490662], [-0.9925541877746582, -0.9931780099868774, -0.9937747120857239, -0.994344174861908, -0.9948862195014954, -0.9954010844230652, -0.9958888292312622, -0.9963492155075073, -0.9967823624610901, -0.997188150882721, -0.9975666403770447, -0.9979178309440613, -0.998241662979126, -0.9985381960868835, -0.998807430267334, -0.999049186706543, -0.9992636442184448, -0.9994508028030396, -0.9996104836463928, -0.999742865562439, -0.9998478293418884, -0.999925434589386, -0.9999756217002869, -0.9999985098838806]]\n"
          ]
        }
      ]
    },
    {
      "cell_type": "code",
      "source": [
        "file_path = 'simple_model.pth'\n",
        "torch.save(model.state_dict(), file_path)"
      ],
      "metadata": {
        "id": "cwsQ7QEaMUY7"
      },
      "execution_count": 21,
      "outputs": []
    },
    {
      "cell_type": "code",
      "source": [
        "model1 = RNNModel(input_dim=1, hidden_dim=19, output_dim=1)\n",
        "model1.load_state_dict(torch.load(file_path))\n",
        "model1.eval()"
      ],
      "metadata": {
        "colab": {
          "base_uri": "https://localhost:8080/"
        },
        "id": "BV7kWuN7MXUz",
        "outputId": "1f95da65-6775-43bf-d3f5-738c85aeb0a0"
      },
      "execution_count": 22,
      "outputs": [
        {
          "output_type": "execute_result",
          "data": {
            "text/plain": [
              "RNNModel(\n",
              "  (rnn): RNN(1, 19, batch_first=True)\n",
              "  (fc): Linear(in_features=19, out_features=1, bias=True)\n",
              ")"
            ]
          },
          "metadata": {},
          "execution_count": 22
        }
      ]
    },
    {
      "cell_type": "code",
      "source": [
        "#Evaluation\n",
        "model1.eval()\n",
        "test_loss_all = 0.0\n",
        "test_loss_y2 = 0.0\n",
        "num_batch = 0\n",
        "output_list = []\n",
        "y_list = []\n",
        "\n",
        "with torch.no_grad():\n",
        "    for batch_x_0, batch_x_1, batch_x_2, batch_y in test_loader:\n",
        "        output = model1(batch_x_0, batch_x_1, batch_x_2)\n",
        "\n",
        "        loss_all = criterion(output, batch_y)\n",
        "        test_loss_all += loss_all.item()\n",
        "\n",
        "        loss_y2 = criterion(output[:, 2], batch_y[:, 2])\n",
        "        test_loss_y2 += loss_y2.item()\n",
        "\n",
        "        output_list.append(output.tolist())\n",
        "        y_list.append(batch_y.tolist())\n",
        "\n",
        "        num_batch += 1\n",
        "    test_loss_all /= num_batch\n",
        "    test_loss_y2 /= num_batch\n",
        "print(f\"\\n Final test Loss (all steps): {test_loss_all:.4f}\")\n",
        "print(f\"\\n Final test Loss (3rd step): {test_loss_y2:.4f}\")"
      ],
      "metadata": {
        "colab": {
          "base_uri": "https://localhost:8080/"
        },
        "id": "OJpqxd2YaarK",
        "outputId": "eafbf251-7e17-4fdc-bd40-0a139b7b939f"
      },
      "execution_count": 23,
      "outputs": [
        {
          "output_type": "stream",
          "name": "stdout",
          "text": [
            "\n",
            " Final test Loss (all steps): 0.0012\n",
            "\n",
            " Final test Loss (3rd step): 0.0010\n"
          ]
        }
      ]
    },
    {
      "cell_type": "code",
      "source": [
        "print(output_list)"
      ],
      "metadata": {
        "colab": {
          "base_uri": "https://localhost:8080/"
        },
        "id": "0vuiPVmFMXX6",
        "outputId": "ae121687-8324-40d8-fd9b-c479dc0dfe79"
      },
      "execution_count": 24,
      "outputs": [
        {
          "output_type": "stream",
          "name": "stdout",
          "text": [
            "[[[1.1159275770187378, 0.955274224281311, 0.9552996158599854], [1.1769912242889404, 0.9558782577514648, 0.9559017419815063], [1.031538724899292, 0.9556678533554077, 0.9556805491447449], [1.0102288722991943, 0.9533748626708984, 0.9533573389053345], [0.9980117082595825, 0.952006459236145, 0.9519680738449097], [0.9130732417106628, 0.9520809054374695, 0.9520367383956909], [0.8825007677078247, 0.9519408941268921, 0.9518892168998718], [0.9371827840805054, 0.9517562389373779, 0.9516968727111816], [0.9568063020706177, 0.9516410827636719, 0.9515747427940369], [0.9509595632553101, 0.9514548182487488, 0.9513811469078064], [0.952144980430603, 0.9512113332748413, 0.9511299729347229], [0.952538788318634, 0.9509603977203369, 0.950871467590332], [0.9506765007972717, 0.9506878852844238, 0.9505913257598877], [0.9502918720245361, 0.9503896236419678, 0.9502856731414795], [0.950219988822937, 0.9500698447227478, 0.9499583840370178], [0.9498390555381775, 0.9497279524803162, 0.9496088624000549], [0.9494643211364746, 0.9493631720542908, 0.949236273765564], [0.949110746383667, 0.9489753842353821, 0.9488410949707031], [0.9487075209617615, 0.9485652446746826, 0.948423445224762], [0.9482778906822205, 0.9481322169303894, 0.9479827284812927], [0.9478315711021423, 0.9476765990257263, 0.9475197792053223], [0.9473605155944824, 0.9471983909606934, 0.9470338225364685], [0.9468668103218079, 0.9466975331306458, 0.9465253949165344], [0.9463509917259216, 0.9461738467216492, 0.9459943175315857], [0.9458124041557312, 0.9456275701522827, 0.9454402327537537], [0.9452511668205261, 0.9450589418411255, 0.9448641538619995], [0.9446670413017273, 0.944467306137085, 0.9442649483680725], [0.9440603852272034, 0.9438531398773193, 0.9436432719230652], [0.9434309601783752, 0.9432163238525391, 0.9429988265037537], [0.9427794218063354, 0.9425567984580994, 0.9423319697380066], [0.9421046376228333, 0.9418748617172241, 0.9416422247886658], [0.9414076805114746, 0.9411702156066895, 0.9409303069114685], [0.9406879544258118, 0.9404429793357849, 0.9401954412460327], [0.939945638179779, 0.9396930932998657, 0.9394378662109375], [0.9391807317733765, 0.9389205574989319, 0.9386581182479858], [0.938393235206604, 0.938125491142273, 0.9378553628921509], [0.9375829100608826, 0.9373077750205994, 0.9370298981666565], [0.9367504715919495, 0.9364679455757141, 0.93618243932724], [0.9358952641487122, 0.9356049299240112, 0.9353123903274536], [0.9350173473358154, 0.9347195625305176, 0.9344191551208496], [0.9341170191764832, 0.9338117241859436, 0.9335039854049683], [0.9331939220428467, 0.9328811168670654, 0.9325658082962036], [0.9322487115859985, 0.9319283366203308, 0.9316055774688721], [0.9312806725502014, 0.930952787399292, 0.9306224584579468], [0.9302902221679688, 0.9299547672271729, 0.9296169281005859], [0.9292770624160767, 0.9289343953132629, 0.9285889267921448], [0.9282413721084595, 0.9278910756111145, 0.9275382161140442], [0.9271832704544067, 0.9268253445625305, 0.9264649748802185], [0.9261030554771423, 0.925737738609314, 0.9253697991371155], [0.9249998331069946, 0.9246270656585693, 0.924251914024353], [0.9238743185997009, 0.9234939813613892, 0.9231110215187073], [0.9227263927459717, 0.9223387241363525, 0.921948254108429], [0.921555757522583, 0.9211606383323669, 0.9207626581192017], [0.920363187789917, 0.9199605584144592, 0.9195552468299866], [0.9191479682922363, 0.9187374711036682, 0.9183250069618225], [0.9179100394248962, 0.9174925088882446, 0.9170719981193542], [0.9166500568389893, 0.9162248373031616, 0.9157971143722534], [0.9153673052787781, 0.9149346351623535, 0.9144994616508484], [0.9140623807907104, 0.913622260093689, 0.9131795167922974], [0.9127354621887207, 0.9122877717018127, 0.9118375182151794], [0.9113857746124268, 0.9109306931495667, 0.910473108291626], [0.9100136756896973, 0.9095510244369507, 0.9090859293937683], [0.9086192846298218, 0.9081491231918335, 0.9076768159866333], [0.9072022438049316, 0.9067249894142151, 0.9062448740005493]], [[1.062893033027649, 0.9135832190513611, 0.91312175989151], [1.110477328300476, 0.91325443983078, 0.9127844572067261], [0.9786917567253113, 0.9107595682144165, 0.910275936126709], [0.9428713917732239, 0.903575599193573, 0.9030724763870239], [0.9374239444732666, 0.898506224155426, 0.8979861736297607], [0.8685087561607361, 0.8976151347160339, 0.8970907926559448], [0.8370994925498962, 0.8960371017456055, 0.8955052495002747], [0.8834925293922424, 0.8943288326263428, 0.8937889933586121], [0.8981155753135681, 0.8928897976875305, 0.8923428654670715], [0.8909769654273987, 0.8913000226020813, 0.8907460570335388], [0.8906447887420654, 0.889584481716156, 0.8890228867530823], [0.8897691369056702, 0.8878946900367737, 0.8873259425163269], [0.8866396546363831, 0.8861889243125916, 0.8856129050254822], [0.884843111038208, 0.884449303150177, 0.8838655948638916], [0.8833395838737488, 0.8826911449432373, 0.882099986076355], [0.8815099000930786, 0.8809120059013367, 0.880313515663147], [0.8796899318695068, 0.8791099786758423, 0.87850421667099], [0.8779003620147705, 0.8772863745689392, 0.8766732215881348], [0.8760623931884766, 0.8754407167434692, 0.8748200535774231], [0.8741962909698486, 0.8735722899436951, 0.8729444742202759], [0.8723152875900269, 0.8716822862625122, 0.8710471987724304], [0.8704105615615845, 0.8697699904441833, 0.8691277503967285], [0.8684835433959961, 0.8678361177444458, 0.8671860694885254], [0.8665350079536438, 0.8658802509307861, 0.8652229905128479], [0.8645644783973694, 0.8639023303985596, 0.8632378578186035], [0.8625717163085938, 0.8619024157524109, 0.8612305521965027], [0.8605570793151855, 0.8598803281784058, 0.8592008948326111], [0.8585201501846313, 0.857836127281189, 0.8571496605873108], [0.856462299823761, 0.8557709455490112, 0.8550771474838257], [0.8543820381164551, 0.8536834120750427, 0.8529823422431946], [0.8522796630859375, 0.8515735864639282, 0.8508653044700623], [0.8501555919647217, 0.8494424223899841, 0.8487266898155212], [0.8480093479156494, 0.8472888469696045, 0.846565842628479], [0.8458417654037476, 0.8451139330863953, 0.8443837761878967], [0.8436524271965027, 0.8429173827171326, 0.8421800136566162], [0.8414411544799805, 0.8406989574432373, 0.839954137802124], [0.8392082452774048, 0.838458776473999, 0.8377066850662231], [0.8369531631469727, 0.83619624376297, 0.8354369401931763], [0.8346762657165527, 0.8339123129844666, 0.8331457376480103], [0.8323786854743958, 0.8316073417663574, 0.8308335542678833], [0.8300586342811584, 0.8292801976203918, 0.8284991979598999], [0.8277167081832886, 0.8269309997558594, 0.8261430263519287], [0.8253536820411682, 0.8245607018470764, 0.8237653374671936], [0.8229683637619019, 0.8221683502197266, 0.8213657140731812], [0.8205620050430298, 0.819754421710968, 0.8189449310302734], [0.8181341886520386, 0.8173196911811829, 0.8165026903152466], [0.8156846761703491, 0.8148629069328308, 0.8140386939048767], [0.8132135272026062, 0.8123846054077148, 0.811553418636322], [0.8107203841209412, 0.8098843693733215, 0.8090459704399109], [0.8082058429718018, 0.8073626756668091, 0.8065170049667358], [0.8056707978248596, 0.8048205375671387, 0.8039675951004028], [0.8031139373779297, 0.8022563457489014, 0.8013962507247925], [0.8005348443984985, 0.7996701598167419, 0.7988031506538391], [0.7979351282119751, 0.7970631122589111, 0.79618901014328], [0.7953130602836609, 0.7944343686103821, 0.7935529351234436], [0.7926706671714783, 0.7917845249176025, 0.7908960580825806], [0.790006697177887, 0.7891134023666382, 0.7882177829742432], [0.7873213887214661, 0.7864209413528442, 0.7855184078216553], [0.7846146821975708, 0.7837074995040894, 0.7827975749969482], [0.7818863987922668, 0.780971884727478, 0.7800549864768982], [0.7791368365287781, 0.778215229511261, 0.7772911190986633], [0.7763669490814209, 0.7754381895065308, 0.7745071649551392], [0.7735754251480103, 0.7726397514343262, 0.7717015743255615], [0.7707619667053223, 0.769819438457489, 0.768873929977417]], [[0.9013224840164185, 0.7790360450744629, 0.7780932784080505], [0.9111199975013733, 0.7765936255455017, 0.7756397724151611], [0.8301998376846313, 0.771135687828064, 0.7701655626296997], [0.7698720693588257, 0.7617592811584473, 0.760786235332489], [0.7724526524543762, 0.7541242241859436, 0.7531419992446899], [0.745935320854187, 0.7525342106819153, 0.7515482902526855], [0.716519832611084, 0.7494615912437439, 0.748467743396759], [0.7410200238227844, 0.7462259531021118, 0.7452243566513062], [0.74766606092453, 0.7434813976287842, 0.7424731254577637], [0.7406685948371887, 0.7405311465263367, 0.7395161390304565], [0.738283634185791, 0.7373961210250854, 0.7363739013671875], [0.7361706495285034, 0.7343249917030334, 0.733295738697052], [0.7322127223014832, 0.7312538623809814, 0.730217695236206], [0.7290211915969849, 0.7281317114830017, 0.7270886898040771], [0.7261084914207458, 0.7249947786331177, 0.7239447832107544], [0.7229105234146118, 0.7218420505523682, 0.7207854986190796], [0.719706118106842, 0.7186663150787354, 0.7176024913787842], [0.7165382504463196, 0.71546870470047, 0.7143980860710144], [0.7133311033248901, 0.7122513055801392, 0.7111736536026001], [0.7100939154624939, 0.7090135812759399, 0.707929253578186], [0.7068443298339844, 0.7057559490203857, 0.7046645283699036], [0.703572690486908, 0.702476441860199, 0.7013782262802124], [0.7002795338630676, 0.6991768479347229, 0.6980718970298767], [0.6969655156135559, 0.6958561539649963, 0.6947444081306458], [0.6936323642730713, 0.6925157904624939, 0.6913971900939941], [0.6902781128883362, 0.6891548037528992, 0.6880294680595398], [0.6869035959243774, 0.6857737898826599, 0.6846412420272827], [0.6835087537765503, 0.682371973991394, 0.6812329888343811], [0.6800931096076965, 0.6789492964744568, 0.6778035163879395], [0.6766566038131714, 0.6755061149597168, 0.6743537187576294], [0.6732007265090942, 0.6720437407493591, 0.6708842515945435], [0.6697252988815308, 0.6685613989830017, 0.6673951148986816], [0.6662282347679138, 0.6650575995445251, 0.6638850569725037], [0.6627117991447449, 0.6615344882011414, 0.6603548526763916], [0.6591745018959045, 0.6579903960227966, 0.6568039059638977], [0.6556174755096436, 0.6544268131256104, 0.6532338261604309], [0.6520406007766724, 0.6508430242538452, 0.6496436595916748], [0.6484436988830566, 0.6472395062446594, 0.6460331678390503], [0.6448265910148621, 0.6436158418655396, 0.6424026489257812], [0.6411890983581543, 0.6399714946746826, 0.6387519240379333], [0.6375313401222229, 0.6363072991371155, 0.6350810527801514], [0.6338545083999634, 0.6326239109039307, 0.6313908696174622], [0.6301586627960205, 0.6289212703704834, 0.6276816725730896], [0.6264412999153137, 0.6251975297927856, 0.6239514350891113], [0.6227049827575684, 0.6214545965194702, 0.620201826095581], [0.6189484596252441, 0.617691159248352, 0.6164320111274719], [0.6151725053787231, 0.6139090061187744, 0.6126432418823242], [0.6113772392272949, 0.6101071834564209, 0.6088347434997559], [0.6075620055198669, 0.6062856316566467, 0.6050066947937012], [0.6037276983261108, 0.6024442911148071, 0.6011589169502258], [0.5998727083206177, 0.5985829830169678, 0.5972912311553955], [0.5959984064102173, 0.5947021842002869, 0.593403697013855], [0.5921053886413574, 0.5908026099205017, 0.5894975662231445], [0.5881936550140381, 0.5868844389915466, 0.5855730772018433], [0.584260880947113, 0.5829453468322754, 0.581627607345581], [0.5803098082542419, 0.578987717628479, 0.5776636600494385], [0.5763385891914368, 0.5750101804733276, 0.5736796855926514], [0.5723490715026855, 0.5710141062736511, 0.5696771144866943], [0.5683401226997375, 0.5669989585876465, 0.5656554698944092], [0.5643123388290405, 0.562964677810669, 0.561614990234375], [0.5602653622627258, 0.558911144733429, 0.5575550198554993], [0.5561984181404114, 0.5548381209373474, 0.5534757375717163], [0.5521126985549927, 0.5507460832595825, 0.5493773221969604], [0.5480087995529175, 0.5466357469558716, 0.5452609062194824]], [[0.6301037073135376, 0.5528075695037842, 0.5513951778411865], [0.5869722366333008, 0.5492039918899536, 0.5477927923202515], [0.5895733833312988, 0.5414444208145142, 0.5400283336639404], [0.5292971134185791, 0.5329640507698059, 0.5315593481063843], [0.5257616639137268, 0.5243757367134094, 0.5229698419570923], [0.5308844447135925, 0.5219953060150146, 0.5205846428871155], [0.508941650390625, 0.5173214077949524, 0.5159024000167847], [0.5111658573150635, 0.512827455997467, 0.5114030838012695], [0.5117042660713196, 0.5088279843330383, 0.507397472858429], [0.5058301687240601, 0.5045771598815918, 0.5031400918960571], [0.501212477684021, 0.5001659393310547, 0.4987228214740753], [0.49755123257637024, 0.49583521485328674, 0.49438631534576416], [0.4930163025856018, 0.4915207028388977, 0.4900655150413513], [0.488505095243454, 0.4871373176574707, 0.48567652702331543], [0.4842314124107361, 0.48274460434913635, 0.4812774062156677], [0.4798353314399719, 0.47834455966949463, 0.47687140107154846], [0.4753870964050293, 0.47392091155052185, 0.4724418818950653], [0.47096002101898193, 0.4694799780845642, 0.46799492835998535], [0.4665147662162781, 0.4650217592716217, 0.46353089809417725], [0.4620398283004761, 0.4605451822280884, 0.45904847979545593], [0.4575502276420593, 0.45605045557022095, 0.4545480012893677], [0.45304620265960693, 0.4515393376350403, 0.450031042098999], [0.4485241174697876, 0.4470118284225464, 0.44549739360809326], [0.4439828395843506, 0.4424649178981781, 0.44094476103782654], [0.4394254684448242, 0.43790143728256226, 0.4363756775856018], [0.4348497688770294, 0.43332016468048096, 0.43178868293762207], [0.4302576184272766, 0.4287225008010864, 0.4271852672100067], [0.4256477952003479, 0.4241068959236145, 0.42256399989128113], [0.4210226535797119, 0.4194759130477905, 0.41792744398117065], [0.4163796007633209, 0.41482728719711304, 0.41327324509620667], [0.41171902418136597, 0.41016116738319397, 0.4086013436317444], [0.4070415496826172, 0.40547817945480347, 0.4039130210876465], [0.40234827995300293, 0.40077924728393555, 0.3992084860801697], [0.3976394832134247, 0.39606502652168274, 0.3944886326789856], [0.39291223883628845, 0.39133238792419434, 0.38975054025650024], [0.38816964626312256, 0.38658398389816284, 0.38499683141708374], [0.3834095597267151, 0.3818188011646271, 0.3802262544631958], [0.37863436341285706, 0.37703830003738403, 0.3754402697086334], [0.3738422989845276, 0.3722405731678009, 0.37063735723495483], [0.3690357804298401, 0.36742889881134033, 0.3658202886581421], [0.3642125427722931, 0.3626005947589874, 0.36098653078079224], [0.35937267541885376, 0.357755184173584, 0.35613611340522766], [0.35451701283454895, 0.3528943359851837, 0.3512699604034424], [0.3496464788913727, 0.3480186462402344, 0.3463892340660095], [0.3447616696357727, 0.34312862157821655, 0.3414939045906067], [0.33985936641693115, 0.3382214307785034, 0.33658158779144287], [0.3349428176879883, 0.3332996964454651, 0.3316549062728882], [0.3300100266933441, 0.32836195826530457, 0.32671207189559937], [0.3250632882118225, 0.3234102129936218, 0.3217552900314331], [0.3201006352901459, 0.3184424638748169, 0.3167828321456909], [0.315125048160553, 0.31346195936203003, 0.31179720163345337], [0.31013354659080505, 0.30846577882766724, 0.30679619312286377], [0.30512675642967224, 0.3034540116786957, 0.30177974700927734], [0.30010539293289185, 0.2984279692173004, 0.29674866795539856], [0.29507070779800415, 0.2933884263038635, 0.29170432686805725], [0.2900226414203644, 0.2883356213569641, 0.28664690256118774], [0.2849586009979248, 0.2832668423652649, 0.2815735936164856], [0.2798815369606018, 0.27818524837493896, 0.27648723125457764], [0.27478957176208496, 0.2730887234210968, 0.27138617634773254], [0.26968517899513245, 0.26797935366630554, 0.2662724256515503], [0.26456573605537415, 0.2628557085990906, 0.2611442804336548], [0.25943511724472046, 0.25772058963775635, 0.25600460171699524], [0.2542899250984192, 0.2525712847709656, 0.2508508563041687], [0.24913084506988525, 0.2474076747894287, 0.245682954788208]], [[0.2666034698486328, 0.24267739057540894, 0.24088358879089355], [0.18919235467910767, 0.24065572023391724, 0.23887401819229126], [0.2602737545967102, 0.2340204119682312, 0.23225519061088562], [0.21284177899360657, 0.22862082719802856, 0.22687456011772156], [0.216766357421875, 0.22015947103500366, 0.21841496229171753], [0.22825652360916138, 0.2167869210243225, 0.21503737568855286], [0.21536561846733093, 0.2107345163822174, 0.20897948741912842], [0.20685908198356628, 0.205555260181427, 0.20379877090454102], [0.20212140679359436, 0.20045378804206848, 0.1986924409866333], [0.1970158815383911, 0.1951119601726532, 0.19334596395492554], [0.191478431224823, 0.18977439403533936, 0.18800511956214905], [0.18621212244033813, 0.18446660041809082, 0.18269363045692444], [0.18097850680351257, 0.17917805910110474, 0.17740130424499512], [0.1755964159965515, 0.17383068799972534, 0.17205041646957397], [0.17026782035827637, 0.16848689317703247, 0.1667029857635498], [0.16492989659309387, 0.16313958168029785, 0.16135215759277344], [0.15956464409828186, 0.1577754020690918, 0.15598461031913757], [0.1541934311389923, 0.15240150690078735, 0.15060728788375854], [0.14881432056427002, 0.1470176875591278, 0.14522027969360352], [0.14342626929283142, 0.14162611961364746, 0.13982534408569336], [0.13802585005760193, 0.13622325658798218, 0.13441920280456543], [0.13261595368385315, 0.13080978393554688, 0.12900269031524658], [0.12719660997390747, 0.1253872513771057, 0.12357687950134277], [0.12176868319511414, 0.11995643377304077, 0.11814287304878235], [0.11633172631263733, 0.11451643705368042, 0.1127001941204071], [0.11088588833808899, 0.1090676486492157, 0.10724827647209167], [0.10543128848075867, 0.10361018776893616, 0.10178819298744202], [0.09996727108955383, 0.09814336895942688, 0.09631848335266113], [0.09449589252471924, 0.09266924858093262, 0.09084177017211914], [0.08901530504226685, 0.08718597888946533, 0.08535611629486084], [0.08352887630462646, 0.08169722557067871, 0.07986414432525635], [0.07803374528884888, 0.07619920372962952, 0.07436418533325195], [0.07253000140190125, 0.0706932544708252, 0.06885549426078796], [0.0670190155506134, 0.06517979502677917, 0.06333976984024048], [0.061501920223236084, 0.05966043472290039, 0.057817935943603516], [0.05597802996635437, 0.0541340708732605, 0.05228939652442932], [0.05044707655906677, 0.048601120710372925, 0.04675433039665222], [0.04490995407104492, 0.043061643838882446, 0.041212886571884155], [0.039365530014038086, 0.037515223026275635, 0.035664260387420654], [0.0338156521320343, 0.0319635272026062, 0.030110806226730347], [0.02825927734375, 0.026405364274978638, 0.024550676345825195], [0.022699087858200073, 0.0208432674407959, 0.018986910581588745], [0.017132729291915894, 0.015275001525878906, 0.013416767120361328], [0.01155996322631836, 0.009700596332550049, 0.007840752601623535], [0.005982398986816406, 0.004121452569961548, 0.0022597908973693848], [0.00040084123611450195, -0.0014615952968597412, -0.0033244192600250244], [-0.0051850080490112305, -0.007049143314361572, -0.008913516998291016], [-0.010775357484817505, -0.012640625238418579, -0.014506518840789795], [-0.016369521617889404, -0.018236368894577026, -0.020103424787521362], [-0.02196890115737915, -0.023836731910705566, -0.025704920291900635], [-0.02757054567337036, -0.02943962812423706, -0.03130906820297241], [-0.03317686915397644, -0.035046935081481934, -0.03691750764846802], [-0.038784176111221313, -0.040655285120010376, -0.042526841163635254], [-0.04439544677734375, -0.04626750946044922, -0.048139870166778564], [-0.05001044273376465, -0.05188333988189697, -0.05375629663467407], [-0.05562776327133179, -0.05750155448913574, -0.05937546491622925], [-0.061246395111083984, -0.0631207823753357, -0.06499546766281128], [-0.06686720252037048, -0.06874200701713562, -0.07061713933944702], [-0.07248950004577637, -0.07436490058898926, -0.07624056935310364], [-0.07811316847801208, -0.07998919486999512, -0.08186513185501099], [-0.08373939990997314, -0.08561563491821289, -0.08749192953109741], [-0.08936542272567749, -0.09124201536178589, -0.09311860799789429], [-0.09499329328536987, -0.0968700647354126, -0.09874698519706726], [-0.10061967372894287, -0.10249650478363037, -0.1043735146522522]], [[-0.13860046863555908, -0.11864641308784485, -0.12056249380111694], [-0.2046891152858734, -0.11914098262786865, -0.12105578184127808], [-0.12237614393234253, -0.1219375729560852, -0.12383359670639038], [-0.18785196542739868, -0.12358248233795166, -0.12546023726463318], [-0.13770365715026855, -0.1314561665058136, -0.13332849740982056], [-0.12411218881607056, -0.13575994968414307, -0.13763707876205444], [-0.1346401572227478, -0.14224165678024292, -0.14411768317222595], [-0.14631837606430054, -0.14740359783172607, -0.14927726984024048], [-0.15210843086242676, -0.15304601192474365, -0.15492045879364014], [-0.15642309188842773, -0.15878981351852417, -0.1606634259223938], [-0.16245955228805542, -0.16436195373535156, -0.1662343442440033], [-0.16818353533744812, -0.1699768304824829, -0.17184841632843018], [-0.173725426197052, -0.17557603120803833, -0.17744684219360352], [-0.17930352687835693, -0.18120017647743225, -0.18306970596313477], [-0.18492716550827026, -0.18679994344711304, -0.18866842985153198], [-0.1905418336391449, -0.19239851832389832, -0.19426566362380981], [-0.1961282193660736, -0.19799751043319702, -0.19986334443092346], [-0.20172423124313354, -0.2035902440547943, -0.20545482635498047], [-0.20731696486473083, -0.20917987823486328, -0.2110428810119629], [-0.2129024863243103, -0.21476399898529053, -0.21662521362304688], [-0.21848386526107788, -0.22034454345703125, -0.22220417857170105], [-0.22405916452407837, -0.2259177565574646, -0.22777563333511353], [-0.22963011264801025, -0.23148661851882935, -0.23334282636642456], [-0.23519635200500488, -0.23705118894577026, -0.2389054000377655], [-0.24075675010681152, -0.24260979890823364, -0.2444620430469513], [-0.24631047248840332, -0.2481612265110016, -0.2500115633010864], [-0.25185805559158325, -0.2537066340446472, -0.255554735660553], [-0.2573988437652588, -0.25924548506736755, -0.2610911726951599], [-0.2629331350326538, -0.26477736234664917, -0.2666207551956177], [-0.26846131682395935, -0.2703031301498413, -0.2721441388130188], [-0.2739814221858978, -0.27582067251205444, -0.2776591181755066], [-0.27949464321136475, -0.2813316583633423, -0.28316766023635864], [-0.2849997878074646, -0.28683406114578247, -0.28866714239120483], [-0.2904955744743347, -0.29232701659202576, -0.29415762424468994], [-0.2959851622581482, -0.2978138327598572, -0.29964178800582886], [-0.3014664649963379, -0.30329227447509766, -0.305117130279541], [-0.3069379925727844, -0.3087608814239502, -0.31058269739151], [-0.3124007284641266, -0.31422045826911926, -0.3160393238067627], [-0.31785398721694946, -0.31967079639434814, -0.3214864134788513], [-0.3232980966567993, -0.3251118063926697, -0.32692432403564453], [-0.3287333846092224, -0.3305438160896301, -0.332352876663208], [-0.33415788412094116, -0.3359648585319519, -0.33777064085006714], [-0.3395731747150421, -0.3413766622543335, -0.3431788682937622], [-0.34497731924057007, -0.3467773199081421, -0.34857606887817383], [-0.35036975145339966, -0.3521661162376404, -0.3539612293243408], [-0.35575324296951294, -0.3575459122657776, -0.3593374490737915], [-0.361125648021698, -0.362914502620697, -0.3647022247314453], [-0.36648598313331604, -0.3682710528373718, -0.37005484104156494], [-0.3718344569206238, -0.3736158013343811, -0.3753957152366638], [-0.3771713972091675, -0.3789486289024353, -0.38072457909584045], [-0.3824962377548218, -0.3842695951461792, -0.38604146242141724], [-0.387810081243515, -0.3895791172981262, -0.39134687185287476], [-0.39311033487319946, -0.3948751986026764, -0.39663881063461304], [-0.39839881658554077, -0.40015947818756104, -0.4019186198711395], [-0.40367376804351807, -0.40543001890182495, -0.4071848392486572], [-0.4089343547821045, -0.4106862545013428, -0.4124366044998169], [-0.41418367624282837, -0.4159311056137085, -0.4176769256591797], [-0.4194193482398987, -0.4211622476577759, -0.42290353775024414], [-0.424640417098999, -0.42637860774993896, -0.4281153678894043], [-0.4298475980758667, -0.4315812587738037, -0.433313250541687], [-0.4350404739379883, -0.43676942586898804, -0.438496470451355], [-0.44021928310394287, -0.4419431686401367, -0.44366538524627686], [-0.44538414478302, -0.44710302352905273, -0.4488205313682556], [-0.45053327083587646, -0.45224738121032715, -0.45395970344543457]], [[-0.5141012668609619, -0.4705314636230469, -0.4722291827201843], [-0.5370360016822815, -0.4717533588409424, -0.4734576940536499], [-0.48098278045654297, -0.47239255905151367, -0.47409307956695557], [-0.5698851943016052, -0.4716895818710327, -0.4733850955963135], [-0.48998433351516724, -0.47758108377456665, -0.47926199436187744], [-0.47106218338012695, -0.4825197458267212, -0.4842018485069275], [-0.4810847043991089, -0.48833245038986206, -0.49000847339630127], [-0.4967094659805298, -0.49265456199645996, -0.49432432651519775], [-0.4978874921798706, -0.4977880120277405, -0.4994523525238037], [-0.4998844265937805, -0.5028955936431885, -0.504554271697998], [-0.5062633752822876, -0.5078038573265076, -0.5094571113586426], [-0.5113668441772461, -0.5127426981925964, -0.5143899917602539], [-0.5160457491874695, -0.5176771283149719, -0.5193184614181519], [-0.5208468437194824, -0.5226082801818848, -0.5242440104484558], [-0.5258970260620117, -0.5274975299835205, -0.5291271209716797], [-0.5307832956314087, -0.5323783755302429, -0.5340020656585693], [-0.5356061458587646, -0.5372429490089417, -0.5388607978820801], [-0.5404700636863708, -0.542086660861969, -0.5436981916427612], [-0.5453085899353027, -0.5469120144844055, -0.5485175251960754], [-0.550119161605835, -0.5517191886901855, -0.5533182621002197], [-0.5549118518829346, -0.5565087199211121, -0.5581016540527344], [-0.5596898198127747, -0.5612782835960388, -0.5628648996353149], [-0.5644479393959045, -0.5660296678543091, -0.567609965801239], [-0.5691851377487183, -0.5707612037658691, -0.5723349452018738], [-0.5739031434059143, -0.5754724740982056, -0.5770398378372192], [-0.5786030292510986, -0.5801659226417542, -0.5817267894744873], [-0.5832836627960205, -0.584839940071106, -0.5863939523696899], [-0.587943434715271, -0.5894932746887207, -0.5910407304763794], [-0.592583417892456, -0.5941263437271118, -0.59566730260849], [-0.5972042679786682, -0.5987405776977539, -0.6002748012542725], [-0.6018034219741821, -0.6033329367637634, -0.6048601865768433], [-0.6063835620880127, -0.6079065203666687, -0.6094270944595337], [-0.6109429597854614, -0.6124588251113892, -0.613972544670105], [-0.6154822111129761, -0.616991400718689, -0.6184980869293213], [-0.6200000643730164, -0.6215022206306458, -0.6230021119117737], [-0.624496340751648, -0.625991702079773, -0.6274844408035278], [-0.6289732456207275, -0.6304613947868347, -0.6319472789764404], [-0.6334291100502014, -0.6349102258682251, -0.6363889575004578], [-0.6378628611564636, -0.6393369436264038, -0.640808641910553], [-0.6422755718231201, -0.6437424421310425, -0.6452069282531738], [-0.64666748046875, -0.6481271982192993, -0.6495844125747681], [-0.651036262512207, -0.6524888277053833, -0.6539387702941895], [-0.6553847789764404, -0.6568300127983093, -0.6582728624343872], [-0.6597108840942383, -0.6611488461494446, -0.6625843048095703], [-0.6640158891677856, -0.665446400642395, -0.6668746471405029], [-0.6682980060577393, -0.6697213053703308, -0.671142041683197], [-0.6725573539733887, -0.6739732027053833, -0.6753865480422974], [-0.6767958998680115, -0.6782042980194092, -0.6796103715896606], [-0.6810120940208435, -0.6824131011962891, -0.6838115453720093], [-0.685205340385437, -0.6865986585617065, -0.6879896521568298], [-0.6893757581710815, -0.6907618045806885, -0.6921452879905701], [-0.6935245990753174, -0.6949030160903931, -0.6962786912918091], [-0.6976491212844849, -0.6990199089050293, -0.7003882527351379], [-0.7017524242401123, -0.7031155824661255, -0.7044760584831238], [-0.7058320045471191, -0.7071875333786011, -0.7085402607917786], [-0.7098891139030457, -0.7112370729446411, -0.7125822901725769], [-0.7139228582382202, -0.7152628898620605, -0.7166003584861755], [-0.717932403087616, -0.719264805316925, -0.720594584941864], [-0.7219202518463135, -0.7232449054718018, -0.724566638469696], [-0.7258849143981934, -0.7272015810012817, -0.7285157442092896], [-0.7298251390457153, -0.7311340570449829, -0.7324405908584595], [-0.7337421774864197, -0.7350432872772217, -0.736341655254364], [-0.7376363277435303, -0.7389293909072876, -0.7402201294898987], [-0.7415054440498352, -0.7427908182144165, -0.7440733909606934]], [[-0.8043022751808167, -0.7557711601257324, -0.7570193409919739], [-0.78047776222229, -0.7578207850456238, -0.7590695023536682], [-0.7649073004722595, -0.7583560347557068, -0.7596057057380676], [-0.8189752697944641, -0.7579253315925598, -0.7591807246208191], [-0.7977254390716553, -0.7608722448348999, -0.7621136903762817], [-0.7481105327606201, -0.7653476595878601, -0.7665829062461853], [-0.7606102228164673, -0.7696608901023865, -0.7708868980407715], [-0.7831773161888123, -0.7727007865905762, -0.7739201188087463], [-0.778128445148468, -0.7764526009559631, -0.7776634693145752], [-0.7771375775337219, -0.7801306247711182, -0.7813330888748169], [-0.7824605703353882, -0.7837054133415222, -0.7848996520042419], [-0.7866172790527344, -0.787253737449646, -0.7884398698806763], [-0.78956139087677, -0.7908120155334473, -0.7919900417327881], [-0.7929778099060059, -0.7943479418754578, -0.7955178022384644], [-0.7967697381973267, -0.7978379130363464, -0.7989997863769531], [-0.8001859188079834, -0.8013150691986084, -0.8024686574935913], [-0.8035926222801208, -0.8047658205032349, -0.8059110045433044], [-0.807048499584198, -0.8081919550895691, -0.809329092502594], [-0.810469388961792, -0.8115923404693604, -0.8127211928367615], [-0.8138450980186462, -0.8149688243865967, -0.8160891532897949], [-0.8172029256820679, -0.8183211088180542, -0.8194329738616943], [-0.8205413818359375, -0.8216468691825867, -0.8227508068084717], [-0.8238509893417358, -0.8249490261077881, -0.8260446190834045], [-0.8271355032920837, -0.8282257318496704, -0.8293130993843079], [-0.8303963541984558, -0.8314781785011292, -0.832557201385498], [-0.8336316347122192, -0.8347049951553345, -0.83577561378479], [-0.8368422985076904, -0.8379074335098267, -0.8389697670936584], [-0.8400269746780396, -0.8410835266113281, -0.8421375751495361], [-0.8431876301765442, -0.8442358374595642, -0.8452814817428589], [-0.8463224768638611, -0.8473623991012573, -0.8483996391296387], [-0.8494324684143066, -0.8504639863967896, -0.8514928817749023], [-0.8525176048278809, -0.85354083776474, -0.8545612692832947], [-0.8555766940116882, -0.8565914034843445, -0.8576034307479858], [-0.858611524105072, -0.859618067741394, -0.8606215119361877], [-0.8616208434104919, -0.8626186847686768, -0.8636139035224915], [-0.864605188369751, -0.8655945658683777, -0.8665814399719238], [-0.8675638437271118, -0.8685448169708252, -0.8695231080055237], [-0.8704975843429565, -0.8714702725410461, -0.8724402189254761], [-0.8734051585197449, -0.8743693828582764, -0.8753308057785034], [-0.8762885332107544, -0.877244234085083, -0.8781973123550415], [-0.8791458010673523, -0.8800932168960571, -0.8810378313064575], [-0.8819777965545654, -0.8829168081283569, -0.8838527798652649], [-0.884784996509552, -0.8857154846191406, -0.8866430521011353], [-0.8875659108161926, -0.8884878158569336, -0.8894070386886597], [-0.8903223276138306, -0.8912357687950134, -0.8921464085578918], [-0.8930527567863464, -0.8939577341079712, -0.8948599100112915], [-0.8957583904266357, -0.8966547250747681, -0.897548496723175], [-0.8984380960464478, -0.8993260264396667, -0.9002112150192261], [-0.901092529296875, -0.901972234249115, -0.9028488397598267], [-0.9037209749221802, -0.904591977596283, -0.9054601788520813], [-0.906324565410614, -0.9071872234344482, -0.9080467224121094], [-0.9089024662971497, -0.9097567200660706, -0.9106078743934631], [-0.9114546775817871, -0.9123005867004395, -0.9131431579589844], [-0.9139822125434875, -0.9148192405700684, -0.9156535863876343], [-0.9164830446243286, -0.9173117876052856, -0.9181374311447144], [-0.9189594984054565, -0.9197795391082764, -0.920596718788147], [-0.9214098453521729, -0.9222215414047241, -0.9230302572250366], [-0.923835277557373, -0.9246381521224976, -0.9254385232925415], [-0.9262344837188721, -0.9270291328430176, -0.9278208017349243], [-0.928608775138855, -0.9293949604034424, -0.9301780462265015], [-0.9309568405151367, -0.9317344427108765, -0.9325090646743774], [-0.9332799911499023, -0.934049129486084, -0.9348152875900269], [-0.9355775117874146, -0.936337947845459, -0.9370956420898438], [-0.9378494024276733, -0.9386013746261597, -0.9393506050109863]], [[-0.9894006252288818, -0.9450109004974365, -0.9457271099090576], [-0.9330271482467651, -0.9465627670288086, -0.9472742080688477], [-0.9577760696411133, -0.947189211845398, -0.9479007720947266], [-0.9381135702133179, -0.9477531909942627, -0.9484682083129883], [-1.024120807647705, -0.9488301277160645, -0.9495397806167603], [-0.9242362976074219, -0.9516228437423706, -0.9523214101791382], [-0.9417495727539062, -0.9540073871612549, -0.954695463180542], [-0.9689083099365234, -0.9557582139968872, -0.9564398527145386], [-0.9613749980926514, -0.9578198194503784, -0.9584925174713135], [-0.9573822021484375, -0.9598393440246582, -0.9605034589767456], [-0.9608112573623657, -0.9618252515792847, -0.9624807834625244], [-0.9638563394546509, -0.9637621641159058, -0.964409351348877], [-0.9648243188858032, -0.9657059907913208, -0.9663447141647339], [-0.9668221473693848, -0.9676148891448975, -0.9682449102401733], [-0.9689903259277344, -0.9694912433624268, -0.9701130390167236], [-0.9707542657852173, -0.9713479280471802, -0.9719610214233398], [-0.972543478012085, -0.9731779098510742, -0.9737828969955444], [-0.9743789434432983, -0.9749830961227417, -0.9755791425704956], [-0.9761829376220703, -0.9767613410949707, -0.9773489236831665], [-0.9779292345046997, -0.9785153865814209, -0.9790948629379272], [-0.9796684980392456, -0.9802436828613281, -0.9808143377304077], [-0.9813829660415649, -0.9819464683532715, -0.982508659362793], [-0.9830676317214966, -0.9836241006851196, -0.9841777086257935], [-0.9847277402877808, -0.9852763414382935, -0.9858213663101196], [-0.9863626956939697, -0.9869025945663452, -0.9874391555786133], [-0.9879727363586426, -0.9885035753250122, -0.9890320301055908], [-0.9895569086074829, -0.9900796413421631, -0.9905993938446045], [-0.9911156892776489, -0.9916298389434814, -0.9921413660049438], [-0.9926493167877197, -0.9931550025939941, -0.9936580657958984], [-0.9941571950912476, -0.9946545362472534, -0.9951490163803101], [-0.9956401586532593, -0.9961289167404175, -0.9966150522232056], [-0.9970974922180176, -0.9975777864456177, -0.9980554580688477], [-0.9985294342041016, -0.9990013837814331, -0.9994707107543945], [-0.9999363422393799, -1.0003999471664429, -1.000860571861267], [-1.0013179779052734, -1.0017728805541992, -1.0022252798080444], [-1.0026735067367554, -1.0031203031539917, -1.0035641193389893], [-1.0040043592453003, -1.0044424533843994, -1.0048778057098389], [-1.0053101778030396, -1.0057398080825806, -1.0061665773391724], [-1.0065900087356567, -1.0070111751556396, -1.0074297189712524], [-1.0078450441360474, -1.0082579851150513, -1.008668065071106], [-1.009074330329895, -1.0094788074493408, -1.0098803043365479], [-1.0102788209915161, -1.0106747150421143, -1.0110679864883423], [-1.0114576816558838, -1.0118454694747925, -1.0122300386428833], [-1.0126115083694458, -1.0129905939102173, -1.013366937637329], [-1.0137399435043335, -1.014110803604126, -1.0144788026809692], [-1.0148435831069946, -1.01520574092865, -1.015565276145935], [-1.0159212350845337, -1.0162752866744995, -1.0166263580322266], [-1.0169739723205566, -1.0173195600509644, -1.0176621675491333], [-1.018001675605774, -1.018338918685913, -1.018673062324524], [-1.019003987312317, -1.019332766532898, -1.0196586847305298], [-1.0199815034866333, -1.0203016996383667, -1.0206191539764404], [-1.0209330320358276, -1.0212448835372925, -1.0215542316436768], [-1.0218600034713745, -1.0221635103225708, -1.0224641561508179], [-1.022761583328247, -1.0230566263198853, -1.0233489274978638], [-1.0236380100250244, -1.0239245891571045, -1.0242085456848145], [-1.0244892835617065, -1.024767518043518, -1.0250428915023804], [-1.025315523147583, -1.025585412979126, -1.0258524417877197], [-1.0261162519454956, -1.02637779712677, -1.0266366004943848], [-1.0268919467926025, -1.0271450281143188, -1.0273953676223755], [-1.0276427268981934, -1.0278875827789307, -1.0281294584274292], [-1.0283682346343994, -1.028604507446289, -1.0288381576538086], [-1.0290687084197998, -1.029296636581421, -1.0295219421386719], [-1.0297437906265259, -1.0299633741378784, -1.0301802158355713], [-1.0303938388824463, -1.0306051969528198, -1.0308135747909546]], [[-1.0730352401733398, -1.0316041707992554, -1.0317953824996948], [-1.0017061233520508, -1.032117486000061, -1.0323015451431274], [-1.0485583543777466, -1.0325376987457275, -1.032716989517212], [-0.9796222448348999, -1.0329676866531372, -1.0331413745880127], [-1.1328980922698975, -1.033366322517395, -1.0335346460342407], [-1.0011664628982544, -1.033929467201233, -1.0340876579284668], [-1.0205124616622925, -1.0344181060791016, -1.0345673561096191], [-1.0480693578720093, -1.034834861755371, -1.0349764823913574], [-1.0402820110321045, -1.0352511405944824, -1.035384178161621], [-1.0337104797363281, -1.0356426239013672, -1.0357673168182373], [-1.035400390625, -1.0360091924667358, -1.0361255407333374], [-1.0370302200317383, -1.03634774684906, -1.036455750465393], [-1.0362188816070557, -1.0366647243499756, -1.0367645025253296], [-1.036750078201294, -1.03695547580719, -1.0370466709136963], [-1.0372508764266968, -1.0372207164764404, -1.0373038053512573], [-1.0374149084091187, -1.0374611616134644, -1.0375356674194336], [-1.0375760793685913, -1.0376765727996826, -1.0377429723739624], [-1.0378018617630005, -1.0378671884536743, -1.0379250049591064], [-1.0379927158355713, -1.0380324125289917, -1.0380818843841553], [-1.038122534751892, -1.038172721862793, -1.0382139682769775], [-1.0382518768310547, -1.0382879972457886, -1.0383208990097046], [-1.038352131843567, -1.038378119468689, -1.0384026765823364], [-1.0384247303009033, -1.0384434461593628, -1.0384595394134521], [-1.0384721755981445, -1.0384833812713623, -1.0384913682937622]]]\n"
          ]
        }
      ]
    },
    {
      "cell_type": "code",
      "source": [
        "print(y_list)"
      ],
      "metadata": {
        "colab": {
          "base_uri": "https://localhost:8080/"
        },
        "id": "sC1mfPqTMa_j",
        "outputId": "ee9b4213-0960-4ba7-fbb7-abc7ff14ddde"
      },
      "execution_count": 25,
      "outputs": [
        {
          "output_type": "stream",
          "name": "stdout",
          "text": [
            "[[[0.9999985098838806, 0.9999939203262329, 0.9999862909317017], [0.9999756813049316, 0.9999619722366333, 0.9999452233314514], [0.999925434589386, 0.999902606010437, 0.9998767375946045], [0.9998478293418884, 0.9998158812522888, 0.9997808933258057], [0.999742865562439, 0.9997017979621887, 0.9996576309204102], [0.9996105432510376, 0.9995602965354919, 0.9995070099830627], [0.9994508028030396, 0.9993914365768433, 0.9993290305137634], [0.9992637038230896, 0.9991952180862427, 0.9991236925125122], [0.999049186706543, 0.9989715814590454, 0.9988909363746643], [0.998807430267334, 0.9987207055091858, 0.998630940914154], [0.9985381960868835, 0.9984423518180847, 0.9983434677124023], [0.9982417225837708, 0.9981367588043213, 0.9980287551879883], [0.997917890548706, 0.997803807258606, 0.9976866841316223], [0.9975666403770447, 0.997443437576294, 0.9973171949386597], [0.9971882104873657, 0.9970559477806091, 0.9969205856323242], [0.9967823624610901, 0.9966409802436829, 0.9964964985847473], [0.9963492751121521, 0.9961987733840942, 0.9960452318191528], [0.9958888292312622, 0.9957292079925537, 0.9955666065216064], [0.9954012036323547, 0.9952325224876404, 0.9950607419013977], [0.9948862195014954, 0.9947084188461304, 0.9945275783538818], [0.994344174861908, 0.9941573143005371, 0.9939674139022827], [0.9937747120857239, 0.9935787320137024, 0.9933797717094421], [0.993178129196167, 0.9929730892181396, 0.9927650690078735], [0.9925543069839478, 0.9923402667045593, 0.9921231269836426], [0.9919032454490662, 0.9916800856590271, 0.9914539456367493], [0.9912252426147461, 0.9909930229187012, 0.9907578229904175], [0.9905198812484741, 0.9902786016464233, 0.9900343418121338], [0.9897874593734741, 0.9895371794700623, 0.9892838597297668], [0.9890278577804565, 0.9887685179710388, 0.9885061979293823], [0.9882412552833557, 0.9879729151725769, 0.9877015352249146], [0.9874274730682373, 0.9871501326560974, 0.9868696928024292], [0.9865869283676147, 0.9863005876541138, 0.9860112071037292], [0.9857190847396851, 0.9854236841201782, 0.9851253032684326], [0.9848244190216064, 0.9845200181007385, 0.9842126369476318], [0.9839027523994446, 0.9835894107818604, 0.9832730293273926], [0.9829540252685547, 0.9826316237449646, 0.9823063015937805], [0.9819782972335815, 0.9816469550132751, 0.98131263256073], [0.9809761047363281, 0.9806357622146606, 0.9802924990653992], [0.9799467921257019, 0.9795975685119629, 0.9792453646659851], [0.9788905382156372, 0.9785323143005371, 0.978171169757843], [0.9778076410293579, 0.9774404764175415, 0.9770703911781311], [0.9766977429389954, 0.9763216972351074, 0.9759426712989807], [0.9755614995956421, 0.9751765727996826, 0.9747886061668396], [0.974398136138916, 0.974004328250885, 0.9736074805259705], [0.9732083082199097, 0.9728055596351624, 0.972399890422821], [0.9719918370246887, 0.9715802073478699, 0.971165657043457], [0.9707485437393188, 0.9703280329704285, 0.9699046015739441], [0.9694786667823792, 0.9690492749214172, 0.9686169624328613], [0.9681826233863831, 0.9677444696426392, 0.9673032760620117], [0.9668599367141724, 0.9664129018783569, 0.9659628868103027], [0.9655104875564575, 0.9650545716285706, 0.9645957946777344], [0.9641348123550415, 0.9636701345443726, 0.9632025361061096], [0.9627324938774109, 0.96225905418396, 0.9617826342582703], [0.9613043665885925, 0.9608221054077148, 0.9603369235992432], [0.9598493576049805, 0.9593583345413208, 0.9588643908500671], [0.9583683013916016, 0.9578685164451599, 0.957365870475769], [0.9568610787391663, 0.9563525319099426, 0.9558411240577698], [0.9553273320198059, 0.9548100829124451, 0.9542899131774902], [0.9537674188613892, 0.9532414078712463, 0.9527125358581543], [0.9521819353103638, 0.9516472816467285, 0.9511097073554993], [0.9505701065063477, 0.9500267505645752, 0.9494805335998535], [0.9489319920539856, 0.9483799338340759, 0.947825014591217], [0.9472681283950806, 0.9467074275016785, 0.9461438655853271], [0.9455780386924744, 0.9450087547302246, 0.9444365501403809]], [[0.9438626766204834, 0.9432847499847412, 0.942703902721405], [0.9421208500862122, 0.9415342807769775, 0.9409448504447937], [0.9403535723686218, 0.9397584199905396, 0.9391604065895081], [0.9385604858398438, 0.9379567503929138, 0.9373501539230347], [0.9367414116859436, 0.936129093170166, 0.935513973236084], [0.9348966479301453, 0.9342758059501648, 0.9336521029472351], [0.9330269694328308, 0.9323976039886475, 0.9317653775215149], [0.9311314225196838, 0.9304935336112976, 0.9298528432846069], [0.9292100071907043, 0.9285635948181152, 0.9279144406318665], [0.9272634983062744, 0.9266086220741272, 0.9259509444236755], [0.9252912402153015, 0.9246279001235962, 0.9239618182182312], [0.9232943058013916, 0.9226226210594177, 0.9219480752944946], [0.9212714433670044, 0.9205912947654724, 0.919908344745636], [0.9192236661911011, 0.9185351133346558, 0.917843759059906], [0.9171507954597473, 0.9164538383483887, 0.9157540798187256], [0.9150523543357849, 0.9143470525741577, 0.9136389493942261], [0.9129288792610168, 0.9122152328491211, 0.9114987850189209], [0.9107811450958252, 0.9100592136383057, 0.9093344807624817], [0.9086081385612488, 0.9078778624534607, 0.9071448445320129], [0.9064098000526428, 0.905671238899231, 0.9049299359321594], [0.9041870832443237, 0.9034402370452881, 0.9026907086372375], [0.9019391536712646, 0.90118408203125, 0.9004262685775757], [0.899666965007782, 0.8989036679267883, 0.898137629032135], [0.8973701596260071, 0.8965986371040344, 0.8958244323730469], [0.8950487375259399, 0.8942690491676331, 0.8934866786003113], [0.8927028179168701, 0.8919150233268738, 0.891124427318573], [0.890332043170929, 0.8895360827445984, 0.8887373805046082], [0.8879368901252747, 0.8871327638626099, 0.8863259553909302], [0.8855182528495789, 0.8847060799598694, 0.8838911652565002], [0.883074939250946, 0.8822547197341919, 0.8814317584037781], [0.880607008934021, 0.8797786831855774, 0.8789477348327637], [0.8781154155731201, 0.8772791028022766, 0.8764400482177734], [0.8755993247032166, 0.8747549653053284, 0.8739079833030701], [0.8730596899986267, 0.8722073435783386, 0.8713523745536804], [0.8704961538314819, 0.8696358799934387, 0.8687729239463806], [0.867908775806427, 0.8670405745506287, 0.8661697506904602], [0.8652976751327515, 0.864421546459198, 0.8635427951812744], [0.8626623749732971, 0.8617783188819885, 0.8608916997909546], [0.8600034117698669, 0.8591115474700928, 0.8582170605659485], [0.8573219180107117, 0.8564221858978271, 0.8555198907852173], [0.8546164035797119, 0.8537089228630066, 0.8527987599372864], [0.851887047290802, 0.8509717583656311, 0.8500538468360901], [0.8491348624229431, 0.8482117652893066, 0.8472861051559448], [0.8463588953018188, 0.8454280495643616, 0.844494640827179], [0.8435602188110352, 0.8426216840744019, 0.8416805863380432], [0.8407384753227234, 0.8397923111915588, 0.8388435244560242], [0.8378937244415283, 0.8369398713111877, 0.8359834551811218], [0.8350260257720947, 0.8340645432472229, 0.8331004977226257], [0.8321349620819092, 0.8311658501625061, 0.8301941752433777], [0.8292210698127747, 0.8282443284988403, 0.8272651433944702], [0.8262855410575867, 0.8253012895584106, 0.8243144750595093], [0.823326826095581, 0.8223350644111633, 0.8213407397270203], [0.8203450441360474, 0.8193457722663879, 0.818343997001648], [0.8173413872718811, 0.81633460521698, 0.8153253793716431], [0.8143147230148315, 0.8133005499839783, 0.8122838139533997], [0.8112663626670837, 0.8102447390556335, 0.8092206120491028], [0.8081957697868347, 0.8071667551994324, 0.8061352372169495], [0.8051030039787292, 0.8040666580200195, 0.8030278086662292], [0.8019882440567017, 0.8009445667266846, 0.7998983860015869], [0.798850953578949, 0.7977999448776245, 0.7967464923858643], [0.7956917881965637, 0.7946334481239319, 0.793572723865509], [0.7925119400024414, 0.7914463877677917, 0.7903784513473511], [0.7893098592758179, 0.7882370948791504, 0.7871619462966919], [0.7860855460166931, 0.7850055694580078, 0.7839232683181763]], [[0.7828403115272522, 0.7817531824111938, 0.7806636691093445], [0.7795730233192444, 0.7784788012504578, 0.7773821949958801], [0.7762849926948547, 0.7751836776733398, 0.7740799784660339], [0.772975742816925, 0.7718673348426819, 0.7707565426826477], [0.7696452736854553, 0.7685298323631287, 0.767412006855011], [0.7662937641143799, 0.7651712894439697, 0.7640464901924133], [0.762920618057251, 0.7617911696434021, 0.7606594562530518], [0.7595266103744507, 0.7583901882171631, 0.757251501083374], [0.7561129927635193, 0.7549697160720825, 0.7538241147994995], [0.7526780962944031, 0.7515279054641724, 0.7503754496574402], [0.7492219805717468, 0.7480649352073669, 0.7469056248664856], [0.7457459568977356, 0.7445820569992065, 0.7434159517288208], [0.7422488331794739, 0.7410781979560852, 0.7399052977561951], [0.7387320399284363, 0.737554669380188, 0.7363750338554382], [0.7351950407028198, 0.7340109348297119, 0.7328245639801025], [0.7316378951072693, 0.7304471135139465, 0.7292540669441223], [0.7280607223510742, 0.7268632650375366, 0.7256635427474976], [0.7244629859924316, 0.7232588529586792, 0.7220525741577148], [0.7208453416824341, 0.7196346521377563, 0.7184217572212219], [0.7172086834907532, 0.7159914374351501, 0.7147719860076904], [0.7135530114173889, 0.7123292088508606, 0.7111032605171204], [0.7098764777183533, 0.7086461782455444, 0.7074137330055237], [0.7061811685562134, 0.7049444317817688, 0.7037055492401123], [0.702465832233429, 0.7012226581573486, 0.6999773383140564], [0.6987319588661194, 0.6974824070930481, 0.6962307095527649], [0.6949789524078369, 0.6937230229377747, 0.6924650073051453], [0.6912068724632263, 0.6899446249008179, 0.6886802911758423], [0.6874158978462219, 0.6861473917961121, 0.6848767399787903], [0.683605432510376, 0.6823306083679199, 0.6810537576675415], [0.6797761917114258, 0.6784952282905579, 0.677212119102478], [0.675929069519043, 0.6746419072151184, 0.6733525991439819], [0.6720641255378723, 0.6707707643508911, 0.6694753766059875], [0.6681793928146362, 0.6668799519538879, 0.6655784249305725], [0.6642770767211914, 0.6629714965820312, 0.6616639494895935], [0.660355806350708, 0.6590442061424255, 0.6577306389808655], [0.656417191028595, 0.6550995707511902, 0.6537799835205078], [0.6524605751037598, 0.6511370539665222, 0.6498115062713623], [0.6484861373901367, 0.6471566557884216, 0.6458251476287842], [0.6444939374923706, 0.643158495426178, 0.6418211460113525], [0.6404833197593689, 0.6391420364379883, 0.6377988457679749], [0.6364551782608032, 0.6351081132888794, 0.633759081363678], [0.6324103474617004, 0.6310575008392334, 0.6297026872634888], [0.6283489465713501, 0.6269903182983398, 0.6256297826766968], [0.6242688298225403, 0.6229044795036316, 0.6215382814407349], [0.620172381401062, 0.6188023686408997, 0.6174305081367493], [0.6160582304000854, 0.6146825551986694, 0.6133050322532654], [0.6119279265403748, 0.6105466485023499, 0.6091635227203369], [0.6077808737754822, 0.6063940525054932, 0.6050053834915161], [0.6036171317100525, 0.6022248268127441, 0.600830614566803], [0.5994369387626648, 0.5980390906333923, 0.5966394543647766], [0.595239520072937, 0.59383624792099, 0.5924311280250549], [0.5910257697105408, 0.5896170735359192, 0.5882065892219543], [0.5867966413497925, 0.5853825807571411, 0.5839667320251465], [0.5825522541999817, 0.5811328291893005, 0.5797116756439209], [0.5782902836799622, 0.5768656134605408, 0.5754391551017761], [0.5740132927894592, 0.5725833773612976, 0.5711516737937927], [0.5697198510169983, 0.5682846903800964, 0.5668477416038513], [0.5654115080833435, 0.5639711618423462, 0.5625291466712952], [0.5610877275466919, 0.5596422553062439, 0.5581950545310974], [0.5567485690116882, 0.5552979707717896, 0.5538457632064819], [0.5523941516876221, 0.5509385466575623, 0.549481213092804], [0.5480238199234009, 0.5465632081031799, 0.5451008677482605], [0.5436385273933411, 0.542172908782959, 0.5407056212425232], [0.5392391085624695, 0.537768542766571, 0.5362963080406189]], [[0.5348256826400757, 0.5333502292633057, 0.5318731665611267], [0.530396044254303, 0.5289157629013062, 0.5274338126182556], [0.5259526968002319, 0.5244675874710083, 0.522980809211731], [0.5214941501617432, 0.5200042128562927, 0.5185127258300781], [0.5170220732688904, 0.5155274271965027, 0.5140312314033508], [0.5125350952148438, 0.5110357403755188, 0.5095348358154297], [0.5080356597900391, 0.5065316557884216, 0.50502610206604], [0.5035215020179749, 0.5020129084587097, 0.5005027651786804], [0.49899277091026306, 0.4974795877933502, 0.4959648847579956], [0.49445033073425293, 0.49293261766433716, 0.491413414478302], [0.48989519476890564, 0.4883730113506317, 0.486849308013916], [0.48532748222351074, 0.48380082845687866, 0.4822727143764496], [0.4807448089122772, 0.47921374440193176, 0.4776812493801117], [0.4761497974395752, 0.47461438179016113, 0.47307753562927246], [0.4715408980846405, 0.4700011909008026, 0.4684600234031677], [0.4669199585914612, 0.4653759300708771, 0.46383050084114075], [0.4622853696346283, 0.46073710918426514, 0.45918747782707214], [0.45763981342315674, 0.4560873508453369, 0.45453354716300964], [0.4529808759689331, 0.4514242708683014, 0.44986632466316223], [0.44830867648124695, 0.4467479884624481, 0.44518592953681946], [0.44362419843673706, 0.4420594573020935, 0.4404933452606201], [0.4389284551143646, 0.43735966086387634, 0.4357895255088806], [0.4342215359210968, 0.43264874815940857, 0.43107467889785767], [0.4295009970664978, 0.4279242753982544, 0.4263462722301483], [0.4247695505619049, 0.4231889545917511, 0.4216070771217346], [0.42002561688423157, 0.41844117641448975, 0.41685545444488525], [0.4152710437774658, 0.4136827886104584, 0.41209328174591064], [0.4105042517185211, 0.40891221165657043, 0.40731894969940186], [0.40572792291641235, 0.4041321873664856, 0.40253522992134094], [0.4009396433830261, 0.3993402123451233, 0.39773958921432495], [0.3961395025253296, 0.39453643560409546, 0.3929322063922882], [0.39132851362228394, 0.3897218704223633, 0.3881140351295471], [0.38650766015052795, 0.38489747047424316, 0.38328611850738525], [0.38167712092399597, 0.3800634443759918, 0.37844860553741455], [0.37683436274528503, 0.3752172291278839, 0.37359896302223206], [0.3719821870326996, 0.3703616261482239, 0.3687399625778198], [0.3671189248561859, 0.3654949963092804, 0.36386996507644653], [0.36224648356437683, 0.3606192469596863, 0.3589909076690674], [0.3573632538318634, 0.3557327389717102, 0.35410112142562866], [0.3524720072746277, 0.3508382737636566, 0.3492034375667572], [0.3475702404975891, 0.34593328833580017, 0.34429529309272766], [0.34265804290771484, 0.3410179316997528, 0.3393768072128296], [0.33773645758628845, 0.3360932469367981, 0.33444905281066895], [0.3328065276145935, 0.3311602771282196, 0.3295130133628845], [0.32786837220191956, 0.3262191116809845, 0.32456886768341064], [0.32291942834854126, 0.3212672173976898, 0.3196140229701996], [0.31796255707740784, 0.3163074254989624, 0.31465134024620056], [0.3129960894584656, 0.31133806705474854, 0.3096791207790375], [0.3080219328403473, 0.3063611090183258, 0.3046993315219879], [0.30303844809532166, 0.3013748228549957, 0.2997102737426758], [0.2980484664440155, 0.2963821291923523, 0.29471486806869507], [0.2930494248867035, 0.291380375623703, 0.28971046209335327], [0.28804144263267517, 0.28636977076530457, 0.28469720482826233], [0.2830255925655365, 0.2813512980937958, 0.2796761393547058], [0.27800288796424866, 0.2763260304927826, 0.2746483385562897], [0.2729734778404236, 0.27129411697387695, 0.26961395144462585], [0.26793476939201355, 0.26625293493270874, 0.26457032561302185], [0.26288965344429016, 0.26120540499687195, 0.25952038168907166], [0.25783640146255493, 0.2561497688293457, 0.2544623911380768], [0.25277701020240784, 0.25108808279037476, 0.2493983805179596], [0.24770976603031158, 0.24601855874061584, 0.24432659149169922], [0.24263758957386017, 0.24094416201114655, 0.23924998939037323], [0.23755785822868347, 0.23586224019527435, 0.23416589200496674], [0.23247069120407104, 0.23077292740345, 0.22907446324825287]], [[0.22737714648246765, 0.22567729651927948, 0.2239767462015152], [0.22227831184864044, 0.22057640552520752, 0.21887384355068207], [0.21717339754104614, 0.21546949446201324, 0.21376493573188782], [0.2120625227689743, 0.210356667637825, 0.20865017175674438], [0.20694585144519806, 0.20523808896541595, 0.2035297006368637], [0.20182256400585175, 0.2001129537820816, 0.19840271770954132], [0.19669470191001892, 0.19498327374458313, 0.19327124953269958], [0.1915605068206787, 0.18984730541706085, 0.18813353776931763], [0.1864229440689087, 0.18470802903175354, 0.18299254775047302], [0.18127933144569397, 0.1795627474784851, 0.17784561216831207], [0.17612981796264648, 0.1744116097688675, 0.17269288003444672], [0.1709754914045334, 0.16925570368766785, 0.16753540933132172], [0.16581740975379944, 0.16409610211849213, 0.16237428784370422], [0.16065479815006256, 0.15893200039863586, 0.15720871090888977], [0.1554877758026123, 0.153763547539711, 0.1520388424396515], [0.1503165066242218, 0.14859087765216827, 0.14686480164527893], [0.1451401710510254, 0.14341320097446442, 0.14168581366539001], [0.13996081054210663, 0.1382325440645218, 0.13650387525558472], [0.13477666676044464, 0.1330471634864807, 0.13131724298000336], [0.1295907199382782, 0.12786002457141876, 0.1261289268732071], [0.12440028786659241, 0.12266843020915985, 0.12093620002269745], [0.11920549720525742, 0.11747253686189651, 0.11573921889066696], [0.11400744318962097, 0.11227342486381531, 0.11053906381130219], [0.10880721360445023, 0.10707218199968338, 0.10533683001995087], [0.10360400378704071, 0.10186801105737686, 0.10013171285390854], [0.09839795529842377, 0.0966610535979271, 0.09492385387420654], [0.09318921715021133, 0.09145144373178482, 0.08971339464187622], [0.08797697722911835, 0.08623838424682617, 0.0844995304942131], [0.08276326954364777, 0.08102390915155411, 0.07928430289030075], [0.07754635065793991, 0.07580626755952835, 0.07406595349311829], [0.07232921570539474, 0.07058845460414886, 0.06884747743606567], [0.06710914522409439, 0.06536775082349777, 0.06362616270780563], [0.06188628077507019, 0.06014430895447731, 0.058402154594659805], [0.05666172504425049, 0.05491922050714493, 0.05317654460668564], [0.051436569541692734, 0.049693576991558075, 0.04795043542981148], [0.04621000215411186, 0.04446657374501228, 0.04272301122546196], [0.04098217561841011, 0.03923835605382919, 0.037494417279958725], [0.035753220319747925, 0.03400906175374985, 0.032264795154333115], [0.030522337183356285, 0.02877788059413433, 0.027033336460590363], [0.025291571393609047, 0.023546867072582245, 0.021802091971039772], [0.02005915716290474, 0.01831425540149212, 0.01656929776072502], [0.01482810266315937, 0.013083049096167088, 0.011337955482304096], [0.009595687501132488, 0.007850530557334423, 0.006105349399149418], [0.004362056497484446, 0.0026168436743319035, 0.0008716224692761898], [-0.0008716940064914525, -0.002616915153339505, -0.004362128209322691], [-0.00610446697100997, -0.007849648594856262, -0.009594805538654327], [-0.011337073519825935, -0.013082167133688927, -0.01482722070068121], [-0.016569368541240692, -0.01831432618200779, -0.02005922980606556], [-0.021801210939884186, -0.02354598604142666, -0.02529068849980831], [-0.027033409103751183, -0.02877795323729515, -0.030522409826517105], [-0.03226391226053238, -0.03400817885994911, -0.03575234115123749], [-0.037494488060474396, -0.039238426834344864, -0.04098224639892578], [-0.042722128331661224, -0.044465694576501846, -0.046209122985601425], [-0.04794955253601074, -0.04969269782304764, -0.051435686647892], [-0.05317661911249161, -0.0549192912876606, -0.05666179582476616], [-0.058402225375175476, -0.06014437973499298, -0.06188635155558586], [-0.0636252835392952, -0.06536687165498734, -0.06710825860500336], [-0.06884659081697464, -0.07058756798505783, -0.07232833653688431], [-0.07406602054834366, -0.07580634206533432, -0.07754642516374588], [-0.07928342372179031, -0.08102302998304367, -0.08276239037513733], [-0.08449960500001907, -0.08623845875263214, -0.08797704428434372], [-0.08971251547336578, -0.09145056456327438, -0.0931883379817009], [-0.09492392838001251, -0.09666112065315247, -0.09839802980422974], [-0.1001308336853981, -0.10186713933944702, -0.10360312461853027]], [[-0.10533595085144043, -0.10707131028175354, -0.10880633443593979], [-0.11053913831710815, -0.11227349191904068, -0.11400751024484634], [-0.11573928594589233, -0.11747260391712189, -0.11920556426048279], [-0.12093532085418701, -0.12266755104064941, -0.12439940869808197], [-0.12612804770469666, -0.12785914540290833, -0.12958984076976776], [-0.13131731748580933, -0.1330472230911255, -0.1347767412662506], [-0.13650299608707428, -0.13823167979717255, -0.1399599313735962], [-0.1416858732700348, -0.14341327548027039, -0.14514024555683136], [-0.1468639373779297, -0.14859001338481903, -0.15031562745571136], [-0.15203891694545746, -0.15376362204551697, -0.15548785030841827], [-0.15720784664154053, -0.15893112123012543, -0.16065391898155212], [-0.1623734086751938, -0.1640952229499817, -0.1658165454864502], [-0.1675354689359665, -0.16925577819347382, -0.17097556591033936], [-0.1726929396390915, -0.17441168427467346, -0.17612989246845245], [-0.17784474790096283, -0.17956188321113586, -0.18127846717834473], [-0.18299168348312378, -0.1847071647644043, -0.18642206490039825], [-0.1881336122751236, -0.18984737992286682, -0.19156058132648468], [-0.19327038526535034, -0.1949823945760727, -0.19669383764266968], [-0.1984027922153473, -0.20011301338672638, -0.20182263851165771], [-0.20352883636951447, -0.2052372246980667, -0.20694498717784882], [-0.20865024626255035, -0.21035674214363098, -0.21206259727478027], [-0.21376407146453857, -0.215468630194664, -0.2171725332736969], [-0.21887297928333282, -0.22057555615901947, -0.2222774475812912], [-0.22397682070732117, -0.22567735612392426, -0.22737722098827362], [-0.22907452285289764, -0.2307729870080948, -0.23247075080871582], [-0.2341650277376175, -0.2358613759279251, -0.23755700886249542], [-0.239249125123024, -0.2409432977437973, -0.24263674020767212], [-0.2443266659975052, -0.24601863324642181, -0.24770984053611755], [-0.24939751625061035, -0.2510872185230255, -0.2527761459350586], [-0.25446245074272156, -0.25614985823631287, -0.2578364610671997], [-0.2595195174217224, -0.2612045407295227, -0.2628887891769409], [-0.2645703852176666, -0.2662530243396759, -0.2679348289966583], [-0.2696130871772766, -0.2712932825088501, -0.27297264337539673], [-0.2746475040912628, -0.27632519602775574, -0.2780020236968994], [-0.2796761989593506, -0.28135135769844055, -0.2830256521701813], [-0.2846972644329071, -0.28636983036994934, -0.28804153203964233], [-0.28970959782600403, -0.29137954115867615, -0.29304859042167664], [-0.2947140038013458, -0.29638126492500305, -0.29804763197898865], [-0.29971036314964294, -0.3013748824596405, -0.30303850769996643], [-0.30469849705696106, -0.30636027455329895, -0.30802109837532043], [-0.30967918038368225, -0.3113381564617157, -0.31299614906311035], [-0.3146505057811737, -0.31630659103393555, -0.317961722612381], [-0.31961408257484436, -0.3212672770023346, -0.3229195177555084], [-0.3245680332183838, -0.32621827721595764, -0.3278675377368927], [-0.32951217889785767, -0.33115944266319275, -0.33280569314956665], [-0.3344491124153137, -0.33609333634376526, -0.3377365171909332], [-0.33937689661979675, -0.34101802110671997, -0.3426581025123596], [-0.3442944586277008, -0.3459324538707733, -0.34756940603256226], [-0.34920260310173035, -0.35083743929862976, -0.3524712026119232], [-0.3541012108325958, -0.355732798576355, -0.3573633134365082], [-0.3589901030063629, -0.3606184422969818, -0.36224567890167236], [-0.3638700544834137, -0.36549508571624756, -0.3671189844608307], [-0.36873912811279297, -0.3703608214855194, -0.3719813823699951], [-0.37359902262687683, -0.3752172887325287, -0.3768344521522522], [-0.3784478008747101, -0.38006263971328735, -0.3816763162612915], [-0.3832853138446808, -0.3848966658115387, -0.3865068554878235], [-0.3881140947341919, -0.38972193002700806, -0.3913285732269287], [-0.392932265996933, -0.3945365250110626, -0.39613956212997437], [-0.3977387845516205, -0.3993394076824188, -0.40093883872032166], [-0.4025344252586365, -0.40413138270378113, -0.4057271182537079], [-0.40731900930404663, -0.4089123010635376, -0.4105043113231659], [-0.4120924770832062, -0.4136819839477539, -0.41527023911476135], [-0.41685551404953003, -0.4184412360191345, -0.42002567648887634], [-0.42160627245903015, -0.42318814992904663, -0.42476874589920044]], [[-0.4263463318347931, -0.42792433500289917, -0.4295010566711426], [-0.4310738742351532, -0.4326479434967041, -0.43422073125839233], [-0.43578875064849854, -0.4373588562011719, -0.43892765045166016], [-0.4404934048652649, -0.4420595169067383, -0.4436242878437042], [-0.44518598914146423, -0.4467480480670929, -0.4483087360858917], [-0.44986552000045776, -0.4514234960079193, -0.45298007130622864], [-0.4545327425003052, -0.45608657598495483, -0.45763900876045227], [-0.4591875374317169, -0.4607371687889099, -0.46228542923927307], [-0.46382972598075867, -0.465375155210495, -0.4669191837310791], [-0.4684600830078125, -0.4700012505054474, -0.47154098749160767], [-0.4730767607688904, -0.47461360692977905, -0.4761490225791931], [-0.47768130898475647, -0.47921380400657654, -0.480744868516922], [-0.4822719395160675, -0.4838000535964966, -0.48532670736312866], [-0.48684853315353394, -0.48837223649024963, -0.48989441990852356], [-0.4914134740829468, -0.49293267726898193, -0.4944503903388977], [-0.4959649443626404, -0.497479647397995, -0.49899283051490784], [-0.5005019903182983, -0.5020121335983276, -0.5035207867622375], [-0.5050253868103027, -0.5065308809280396, -0.508034884929657], [-0.5095348954200745, -0.5110357999801636, -0.5125351548194885], [-0.5140304565429688, -0.5155267119407654, -0.5170213580131531], [-0.5185127854347229, -0.5200042724609375, -0.5214942097663879], [-0.5229800939559937, -0.5244668126106262, -0.5259519815444946], [-0.5274338722229004, -0.5289158225059509, -0.5303961038589478], [-0.5318723917007446, -0.5333495140075684, -0.5348249673843384], [-0.5362955927848816, -0.537767767906189, -0.5392383337020874], [-0.540705680847168, -0.5421729683876038, -0.5436385869979858], [-0.5451009273529053, -0.5465632677078247, -0.5480238795280457], [-0.5494804978370667, -0.550937831401825, -0.5523934364318848], [-0.5538449883460999, -0.5552972555160522, -0.5567478537559509], [-0.5581951141357422, -0.5596423149108887, -0.5610877871513367], [-0.5625283718109131, -0.5639704465866089, -0.5654107928276062], [-0.5668478012084961, -0.5682847499847412, -0.5697198510169983], [-0.5711509585380554, -0.5725826621055603, -0.5740125775337219], [-0.5754392147064209, -0.5768656730651855, -0.5782903432846069], [-0.5797109603881836, -0.5811321139335632, -0.5825515389442444], [-0.5839660167694092, -0.5853818655014038, -0.5867959260940552], [-0.5882066488265991, -0.589617133140564, -0.5910258293151855], [-0.5924311876296997, -0.5938363075256348, -0.5952395796775818], [-0.5966387391090393, -0.598038375377655, -0.5994362235069275], [-0.6008298993110657, -0.6022241115570068, -0.6036164164543152], [-0.6050054430961609, -0.6063941121101379, -0.6077808737754822], [-0.6091628670692444, -0.6105459332466125, -0.6119272112846375], [-0.6133050918579102, -0.6146826148033142, -0.6160582900047302], [-0.617429792881012, -0.6188017129898071, -0.6201717257499695], [-0.6215383410453796, -0.6229045391082764, -0.6242688894271851], [-0.6256291270256042, -0.6269896626472473, -0.6283482313156128], [-0.6297019720077515, -0.6310567855834961, -0.6324096918106079], [-0.6337591409683228, -0.6351081728935242, -0.636455237865448], [-0.6377989053726196, -0.6391420960426331, -0.6404833793640137], [-0.64182049036026, -0.6431578397750854, -0.6444932222366333], [-0.6458244919776917, -0.6471559405326843, -0.6484854817390442], [-0.6498115062713623, -0.6511370539665222, -0.6524606347084045], [-0.6537793278694153, -0.6550989151000977, -0.6564165353775024], [-0.6577306985855103, -0.6590442657470703, -0.6603558659553528], [-0.661663293838501, -0.6629708409309387, -0.6642763614654541], [-0.6655784845352173, -0.6668799519538879, -0.668179452419281], [-0.669474720954895, -0.6707701683044434, -0.6720634698867798], [-0.6733519434928894, -0.6746412515640259, -0.6759284138679504], [-0.6772121787071228, -0.6784952282905579, -0.6797762513160706], [-0.6810538172721863, -0.6823306679725647, -0.6836054921150208], [-0.6848760843276978, -0.6861467361450195, -0.6874153017997742], [-0.6886796355247498, -0.6899440288543701, -0.6912062764167786], [-0.6924650073051453, -0.6937230825424194, -0.6949790120124817], [-0.6962300539016724, -0.6974817514419556, -0.6987313032150269]], [[-0.6999773979187012, -0.7012227177619934, -0.7024658918380737], [-0.7037048935890198, -0.7049437761306763, -0.7061805725097656], [-0.7074137926101685, -0.7086462378501892, -0.709876537322998], [-0.7111026644706726, -0.7123286128044128, -0.7135524153709412], [-0.7147713303565979, -0.7159907817840576, -0.7172080874443054], [-0.7184218168258667, -0.7196347117424011, -0.7208454012870789], [-0.7220526337623596, -0.723258912563324, -0.7244630455970764], [-0.7256629467010498, -0.7268626689910889, -0.7280601263046265], [-0.7292534708976746, -0.7304465174674988, -0.7316372990608215], [-0.7328246235847473, -0.7340109944343567, -0.7351951003074646], [-0.7363744378089905, -0.7375540733337402, -0.7387315034866333], [-0.7399053573608398, -0.74107825756073, -0.7422488927841187], [-0.743415355682373, -0.7445815205574036, -0.7457453608512878], [-0.7469056844711304, -0.7480649948120117, -0.7492220401763916], [-0.7503748536109924, -0.7515273690223694, -0.7526775598526001], [-0.7538241744041443, -0.7549697756767273, -0.7561130523681641], [-0.7572515606880188, -0.7583902478218079, -0.7595266699790955], [-0.7606594562530518, -0.7617912292480469, -0.7629206776618958], [-0.7640459537506104, -0.765170693397522, -0.7662931680679321], [-0.767411470413208, -0.7685292363166809, -0.7696446776390076], [-0.7707566022872925, -0.7718673348426819, -0.772975742816925], [-0.7740793824195862, -0.7751830816268921, -0.7762844562530518], [-0.7773821949958801, -0.7784788012504578, -0.7795730829238892], [-0.7806631326675415, -0.7817526459693909, -0.7828397750854492], [-0.7839232683181763, -0.7850056290626526, -0.7860856056213379], [-0.7871613502502441, -0.7882365584373474, -0.7893093228340149], [-0.7903785109519958, -0.7914464473724365, -0.7925119996070862], [-0.7935727834701538, -0.7946335077285767, -0.7956917881965637], [-0.796746551990509, -0.7977999448776245, -0.7988510131835938], [-0.7998978495597839, -0.8009440302848816, -0.8019877076148987], [-0.8030272722244263, -0.8040661215782166, -0.805102527141571], [-0.8061352968215942, -0.8071667551994324, -0.8081957697868347], [-0.8092201352119446, -0.8102442026138306, -0.8112658262252808], [-0.8122838735580444, -0.8133005499839783, -0.8143147826194763], [-0.8153248429298401, -0.816334068775177, -0.8173408508300781], [-0.8183440566062927, -0.8193458318710327, -0.8203451037406921], [-0.8213402628898621, -0.8223345279693604, -0.8233263492584229], [-0.824314534664154, -0.8253012895584106, -0.8262855410575867], [-0.8272651433944702, -0.8282443881034851, -0.8292210698127747], [-0.8301942348480225, -0.8311658501625061, -0.8321349620819092], [-0.8331000208854675, -0.8340640664100647, -0.8350255489349365], [-0.8359829783439636, -0.8369393944740295, -0.8378932476043701], [-0.8388435244560242, -0.8397923111915588, -0.8407385349273682], [-0.841680109500885, -0.8426212072372437, -0.843559741973877], [-0.8444947004318237, -0.8454281091690063, -0.8463588953018188], [-0.8472856283187866, -0.8482112884521484, -0.8491343855857849], [-0.8500538468360901, -0.8509717583656311, -0.8518871068954468], [-0.852798342704773, -0.8537084460258484, -0.8546159863471985], [-0.8555198907852173, -0.8564222455024719, -0.8573219180107117], [-0.8582170605659485, -0.8591116070747375, -0.8600034713745117], [-0.8608917593955994, -0.8617783784866333, -0.8626623749732971], [-0.8635423183441162, -0.8644210696220398, -0.8652971982955933], [-0.866169273853302, -0.8670401573181152, -0.8679083585739136], [-0.8687729835510254, -0.8696359395980835, -0.8704962134361267], [-0.871351957321167, -0.8722069263458252, -0.8730592727661133], [-0.8739079833030701, -0.8747550249099731, -0.8755993247032166], [-0.87643963098526, -0.8772786855697632, -0.8781149983406067], [-0.8789477348327637, -0.8797787427902222, -0.8806070685386658], [-0.8814313411712646, -0.8822543025016785, -0.8830745220184326], [-0.883891224861145, -0.8847060799598694, -0.8855183124542236], [-0.886326014995575, -0.8871328234672546, -0.8879368901252747], [-0.8887374401092529, -0.8895360827445984, -0.8903321027755737], [-0.8911240696907043, -0.8919146060943604, -0.8927024602890015], [-0.8934862613677979, -0.8942686915397644, -0.8950483798980713]], [[-0.8958244323730469, -0.8965986967086792, -0.8973701596260071], [-0.8981372714042664, -0.8989033102989197, -0.8996666073799133], [-0.9004263281822205, -0.9011841416358948, -0.9019392132759094], [-0.9026902914047241, -0.9034398794174194, -0.9041867256164551], [-0.9049299955368042, -0.9056712985038757, -0.9064098596572876], [-0.9071444272994995, -0.907877504825592, -0.9086077809333801], [-0.9093344807624817, -0.9100592136383057, -0.91078120470047], [-0.9114988446235657, -0.9122152328491211, -0.9129288792610168], [-0.9136390089988708, -0.9143470525741577, -0.9150524139404297], [-0.9157537221908569, -0.91645348072052, -0.9171504378318787], [-0.9178434610366821, -0.9185348153114319, -0.9192233681678772], [-0.919908344745636, -0.9205912947654724, -0.9212715029716492], [-0.9219480752944946, -0.9226226210594177, -0.9232943654060364], [-0.9239618182182312, -0.924627959728241, -0.9252912402153015], [-0.9259506464004517, -0.9266083240509033, -0.9272631406784058], [-0.9279144406318665, -0.92856365442276, -0.9292100071907043], [-0.9298524856567383, -0.930493175983429, -0.9311310648918152], [-0.9317654371261597, -0.9323976039886475, -0.9330269694328308], [-0.9336521625518799, -0.9342758059501648, -0.9348966479301453], [-0.935513973236084, -0.9361291527748108, -0.9367414116859436], [-0.9373498558998108, -0.9379564523696899, -0.9385601878166199], [-0.9391601085662842, -0.9397581219673157, -0.940353274345398], [-0.9409449100494385, -0.9415343403816223, -0.9421209096908569], [-0.9427039623260498, -0.9432847499847412, -0.9438627362251282], [-0.9444365501403809, -0.9450087547302246, -0.9455780982971191], [-0.946143627166748, -0.9467071890830994, -0.9472678303718567], [-0.9478250741958618, -0.9483799934387207, -0.9489319920539856], [-0.9494802355766296, -0.9500265121459961, -0.9505698680877686], [-0.9511097073554993, -0.9516472816467285, -0.9521819353103638], [-0.9527125954627991, -0.9532414674758911, -0.9537674188613892], [-0.9542899131774902, -0.9548100829124451, -0.9553273320198059], [-0.9558408260345459, -0.9563522934913635, -0.9568607807159424], [-0.9573655724525452, -0.9578682780265808, -0.9583680629730225], [-0.9588643908500671, -0.9593583345413208, -0.9598493576049805], [-0.9603369235992432, -0.9608221054077148, -0.9613043665885925], [-0.9617826342582703, -0.96225905418396, -0.9627325534820557], [-0.9632022976875305, -0.9636698961257935, -0.9641345739364624], [-0.9645957946777344, -0.9650546312332153, -0.9655104875564575], [-0.9659626483917236, -0.9664126634597778, -0.9668596982955933], [-0.9673033356666565, -0.9677444696426392, -0.9681826829910278], [-0.9686169624328613, -0.9690492749214172, -0.9694786667823792], [-0.9699046015739441, -0.9703280329704285, -0.9707485437393188], [-0.9711654186248779, -0.9715800285339355, -0.9719916582107544], [-0.9723996520042419, -0.972805380821228, -0.9732081294059753], [-0.9736074805259705, -0.974004328250885, -0.9743981957435608], [-0.9747886657714844, -0.9751765727996826, -0.9755615592002869], [-0.9759426712989807, -0.9763216972351074, -0.9766977429389954], [-0.9770702123641968, -0.9774402976036072, -0.9778074622154236], [-0.978171169757843, -0.9785323739051819, -0.9788905382156372], [-0.9792451858520508, -0.9795973896980286, -0.9799466133117676], [-0.9802924990653992, -0.9806358218193054, -0.9809761047363281], [-0.9813126921653748, -0.9816470146179199, -0.9819782972335815], [-0.9823063015937805, -0.9826316833496094, -0.9829540252685547], [-0.9832728505134583, -0.983589231967926, -0.983902633190155], [-0.9842124581336975, -0.984519898891449, -0.9848242402076721], [-0.9851253032684326, -0.985423743724823, -0.9857191443443298], [-0.9860112071037292, -0.9863005876541138, -0.9865869879722595], [-0.986869752407074, -0.9871501326560974, -0.9874274730682373], [-0.987701416015625, -0.9879727959632874, -0.9882411360740662], [-0.9885061979293823, -0.9887685179710388, -0.9890278577804565], [-0.9892837405204773, -0.9895370602607727, -0.9897873401641846], [-0.9900343418121338, -0.9902786016464233, -0.9905198812484741], [-0.9907577037811279, -0.9909929037094116, -0.9912251234054565], [-0.9914539456367493, -0.9916800856590271, -0.9919032454490662]], [[-0.992123007774353, -0.9923401474952698, -0.9925541877746582], [-0.992764949798584, -0.9929729700088501, -0.9931780099868774], [-0.9933797717094421, -0.9935787320137024, -0.9937747120857239], [-0.9939674139022827, -0.9941573143005371, -0.994344174861908], [-0.9945275783538818, -0.9947084188461304, -0.9948862195014954], [-0.9950606822967529, -0.9952324032783508, -0.9954010844230652], [-0.9955666065216064, -0.9957292079925537, -0.9958888292312622], [-0.9960451722145081, -0.9961987137794495, -0.9963492155075073], [-0.9964964985847473, -0.9966409802436829, -0.9967823624610901], [-0.9969205260276794, -0.9970558881759644, -0.997188150882721], [-0.9973171949386597, -0.997443437576294, -0.9975666403770447], [-0.9976866245269775, -0.9978037476539612, -0.9979178309440613], [-0.9980286955833435, -0.9981366991996765, -0.998241662979126], [-0.9983434677124023, -0.9984423518180847, -0.9985381960868835], [-0.998630940914154, -0.9987207055091858, -0.998807430267334], [-0.9988909363746643, -0.9989715814590454, -0.999049186706543], [-0.9991236329078674, -0.9991951584815979, -0.9992636442184448], [-0.9993290305137634, -0.9993914365768433, -0.9994508028030396], [-0.9995070099830627, -0.9995602965354919, -0.9996104836463928], [-0.9996576309204102, -0.9997017979621887, -0.999742865562439], [-0.9997808337211609, -0.9998158812522888, -0.9998478293418884], [-0.9998767375946045, -0.999902606010437, -0.999925434589386], [-0.9999452233314514, -0.9999619722366333, -0.9999756217002869], [-0.9999862909317017, -0.9999939203262329, -0.9999985098838806]]]\n"
          ]
        }
      ]
    },
    {
      "cell_type": "code",
      "source": [],
      "metadata": {
        "id": "mAqKjUoQMbCK"
      },
      "execution_count": 25,
      "outputs": []
    }
  ]
}