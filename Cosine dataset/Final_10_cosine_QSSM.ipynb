{
  "nbformat": 4,
  "nbformat_minor": 0,
  "metadata": {
    "colab": {
      "provenance": []
    },
    "kernelspec": {
      "name": "python3",
      "display_name": "Python 3"
    },
    "language_info": {
      "name": "python"
    }
  },
  "cells": [
    {
      "cell_type": "code",
      "source": [
        "!pip install pennylane --quiet\n"
      ],
      "metadata": {
        "colab": {
          "base_uri": "https://localhost:8080/"
        },
        "id": "z0-lN7Sji3VF",
        "outputId": "ea0e4ed8-4a1e-4bab-b1fc-0446779330f2"
      },
      "execution_count": 1,
      "outputs": [
        {
          "output_type": "stream",
          "name": "stdout",
          "text": [
            "\u001b[2K     \u001b[90m━━━━━━━━━━━━━━━━━━━━━━━━━━━━━━━━━━━━━━━━\u001b[0m \u001b[32m56.1/56.1 kB\u001b[0m \u001b[31m3.7 MB/s\u001b[0m eta \u001b[36m0:00:00\u001b[0m\n",
            "\u001b[2K   \u001b[90m━━━━━━━━━━━━━━━━━━━━━━━━━━━━━━━━━━━━━━━━\u001b[0m \u001b[32m2.3/2.3 MB\u001b[0m \u001b[31m20.6 MB/s\u001b[0m eta \u001b[36m0:00:00\u001b[0m\n",
            "\u001b[2K   \u001b[90m━━━━━━━━━━━━━━━━━━━━━━━━━━━━━━━━━━━━━━━━\u001b[0m \u001b[32m930.8/930.8 kB\u001b[0m \u001b[31m25.7 MB/s\u001b[0m eta \u001b[36m0:00:00\u001b[0m\n",
            "\u001b[2K   \u001b[90m━━━━━━━━━━━━━━━━━━━━━━━━━━━━━━━━━━━━━━━━\u001b[0m \u001b[32m2.5/2.5 MB\u001b[0m \u001b[31m49.8 MB/s\u001b[0m eta \u001b[36m0:00:00\u001b[0m\n",
            "\u001b[2K   \u001b[90m━━━━━━━━━━━━━━━━━━━━━━━━━━━━━━━━━━━━━━━━\u001b[0m \u001b[32m2.1/2.1 MB\u001b[0m \u001b[31m39.0 MB/s\u001b[0m eta \u001b[36m0:00:00\u001b[0m\n",
            "\u001b[2K   \u001b[90m━━━━━━━━━━━━━━━━━━━━━━━━━━━━━━━━━━━━━━━━\u001b[0m \u001b[32m167.9/167.9 kB\u001b[0m \u001b[31m12.7 MB/s\u001b[0m eta \u001b[36m0:00:00\u001b[0m\n",
            "\u001b[2K   \u001b[90m━━━━━━━━━━━━━━━━━━━━━━━━━━━━━━━━━━━━━━━━\u001b[0m \u001b[32m8.6/8.6 MB\u001b[0m \u001b[31m28.2 MB/s\u001b[0m eta \u001b[36m0:00:00\u001b[0m\n",
            "\u001b[?25h"
          ]
        }
      ]
    },
    {
      "cell_type": "code",
      "source": [
        "import torch\n",
        "import torch.nn as nn\n",
        "import torch.optim as optim\n",
        "from torch.utils.data import Dataset, DataLoader\n",
        "import math\n",
        "import matplotlib.pyplot as plt\n",
        "import numpy as np\n",
        "import pennylane as qml\n"
      ],
      "metadata": {
        "id": "1wLl5W6b5e5l",
        "colab": {
          "base_uri": "https://localhost:8080/"
        },
        "outputId": "13fa36d1-59c4-4546-98b8-e1a11159c8ca"
      },
      "execution_count": 2,
      "outputs": [
        {
          "output_type": "stream",
          "name": "stderr",
          "text": [
            "/usr/local/lib/python3.11/dist-packages/pennylane/capture/capture_operators.py:33: RuntimeWarning: PennyLane is not yet compatible with JAX versions > 0.4.28. You have version 0.4.33 installed. Please downgrade JAX to <=0.4.28 to avoid runtime errors.\n",
            "  warnings.warn(\n"
          ]
        }
      ]
    },
    {
      "cell_type": "code",
      "source": [
        "import os\n",
        "import random\n",
        "\n",
        "def set_seed(seed):\n",
        "  random.seed(seed)\n",
        "  os.environ['PYTHONHASHSEED'] = str(seed)\n",
        "  np.random.seed(seed)\n",
        "  torch.manual_seed(seed)\n",
        "  torch.cuda.manual_seed(seed)\n",
        "  torch.cuda.manual_seed_all(seed)\n",
        "  torch.backends.cudnn.deterministic = True\n",
        "  torch.backends.cudnn.benchmark = False"
      ],
      "metadata": {
        "id": "nmj_2YQ8-nVp"
      },
      "execution_count": 3,
      "outputs": []
    },
    {
      "cell_type": "code",
      "source": [
        "seed = 1234\n",
        "set_seed(seed)"
      ],
      "metadata": {
        "id": "DryTgfbn-3AZ"
      },
      "execution_count": 16,
      "outputs": []
    },
    {
      "cell_type": "code",
      "source": [
        "class CosineDataset(Dataset):\n",
        "    def __init__(self, x_0, x_1, x_2, y):\n",
        "        self.x_0 = x_0\n",
        "        self.x_1 = x_1\n",
        "        self.x_2 = x_2\n",
        "        self.y = y\n",
        "\n",
        "    def __len__(self):\n",
        "        return len(self.x_0)\n",
        "\n",
        "    def __getitem__(self, idx):\n",
        "        return self.x_0[idx], self.x_1[idx], self.x_2[idx], self.y[idx]"
      ],
      "metadata": {
        "id": "avO1KQHZq3FF"
      },
      "execution_count": 17,
      "outputs": []
    },
    {
      "cell_type": "code",
      "source": [
        "class CosineDataGenerator:\n",
        "    def __init__(self, num_samples=3000, n_ancilla=3, multiplicity=10, ratio=0.8):\n",
        "        assert num_samples % 5 == 0, \"num_samples must be a multiple of 5\"\n",
        "        self.num_samples = num_samples\n",
        "        self.n_ancilla = n_ancilla\n",
        "        self.multiplicity = multiplicity\n",
        "        self.ratio = ratio\n",
        "        self.delta = math.pi / (2 * 3 * num_samples)  # Step size\n",
        "\n",
        "        # Precompute datasets\n",
        "        self.train_data = self._generate_sequence('train')\n",
        "        self.test_data = self._generate_sequence('test')\n",
        "\n",
        "    def _generate_sequence(self, dataset_type):\n",
        "        if dataset_type == 'train':\n",
        "            start = 0\n",
        "            end = self.ratio * (math.pi / 2) - 4 * self.delta\n",
        "            steps = int(self.ratio * self.num_samples)\n",
        "        else:\n",
        "            start = self.ratio * (math.pi / 2)\n",
        "            end = math.pi / 2 - 4 * self.delta\n",
        "            steps = self.num_samples - int(self.ratio * self.num_samples)\n",
        "\n",
        "        x0_data = torch.linspace(start, end, steps)\n",
        "        x1_data = x0_data + 1 * self.delta\n",
        "        x2_data = x0_data + 2 * self.delta\n",
        "        x3_data = x0_data + 3 * self.delta\n",
        "\n",
        "        input_seq_0 = torch.cos(self.multiplicity * x0_data.unsqueeze(-1))\n",
        "        input_seq_1 = torch.cos(self.multiplicity * x1_data.unsqueeze(-1))\n",
        "        input_seq_2 = torch.cos(self.multiplicity * x2_data.unsqueeze(-1))\n",
        "\n",
        "        target_seq = torch.stack([\n",
        "            torch.cos(self.multiplicity * (x0_data + i * self.delta)) for i in range(1, 4)\n",
        "        ], dim=1)  # Shape: [steps, 3]\n",
        "\n",
        "        return input_seq_0, input_seq_1, input_seq_2, target_seq\n",
        "\n",
        "    def get_loaders(self, batch_size=32):\n",
        "        train_dataset = CosineDataset(*self.train_data)\n",
        "        test_dataset = CosineDataset(*self.test_data)\n",
        "\n",
        "        train_loader = DataLoader(train_dataset, batch_size=batch_size, shuffle=True)\n",
        "        test_loader = DataLoader(test_dataset, batch_size=batch_size)\n",
        "\n",
        "        return train_loader, test_loader"
      ],
      "metadata": {
        "id": "UKQ5-lHEq3H2"
      },
      "execution_count": 18,
      "outputs": []
    },
    {
      "cell_type": "code",
      "source": [
        "generator = CosineDataGenerator()\n",
        "train_loader, test_loader = generator.get_loaders(batch_size=64)"
      ],
      "metadata": {
        "id": "Y7BtIB97q3oX"
      },
      "execution_count": 19,
      "outputs": []
    },
    {
      "cell_type": "code",
      "source": [
        "class QSSMLayer(nn.Module):\n",
        "    def __init__(self, n_ancilla=3, n_layers=6, backend=\"default.qubit\"):\n",
        "        super(QSSMLayer, self).__init__()\n",
        "\n",
        "        self.n_ancilla = n_ancilla # number of ancilla qubits\n",
        "        self.n_layers = n_layers # number of repeated blocks in U_B\n",
        "\n",
        "        self.n_q1 = 1 + n_ancilla # 1 dimensional input + ancillae\n",
        "        self.n_q2 = 2 * self.n_q1\n",
        "        self.n_q3 = 3 * self.n_q1\n",
        "\n",
        "        self.dev1 = qml.device(backend, wires=self.n_q1)\n",
        "        self.dev2 = qml.device(backend, wires=self.n_q2)\n",
        "        self.dev3 = qml.device(backend, wires=self.n_q3)\n",
        "\n",
        "#step 1\n",
        "        def circuit_1(inputs, r_z_1, r_x, r_z_2, c_r_z, U_B, U_A, r_y, c_r_y):\n",
        "\n",
        "            qml.AngleEmbedding(inputs, wires=range(self.n_q1), rotation='Y') # angle embedding by rotation Y\n",
        "\n",
        "            for l in range(self.n_layers):\n",
        "                for i in range(self.n_q1):\n",
        "\n",
        "                    qml.RX(r_z_1[l, i, :], wires=i)\n",
        "                    qml.RZ(r_x[l, i, :], wires=i)\n",
        "                    qml.RX(r_z_2[l, i, :], wires=i)\n",
        "\n",
        "                    if i< self.n_q1 - 1:\n",
        "                      qml.CRZ(c_r_z[l, i, :], wires = [i+1, i] )\n",
        "                    if i == self.n_q1 - 1:\n",
        "                      qml.CRZ(c_r_z[l, i, :], wires = [0, i])\n",
        "\n",
        "            for i in range(self.n_q1):\n",
        "\n",
        "                qml.RY(r_y[i], wires=i) # rotate Y every wrire\n",
        "\n",
        "                if i < self.n_q1 - 1:\n",
        "                  qml.CRY(c_r_y[i], wires=[i+1, i]) # chain of controlled Y gates\n",
        "\n",
        "                if i == self.n_q1 - 1:\n",
        "                  qml.CRY(c_r_y[i], wires=[0, i])\n",
        "\n",
        "            #return [qml.expval(qml.PauliZ(i)) for i in range(self.n_q1)]\n",
        "            return [qml.expval(qml.PauliZ(i)) for i in [1]]\n",
        "\n",
        "#step 2\n",
        "        def circuit_2(inputs, r_z_1, r_x, r_z_2, c_r_z, U_B, U_A, r_y, c_r_y):\n",
        "\n",
        "            qml.AngleEmbedding(inputs, wires=range(self.n_q2), rotation='Y')\n",
        "\n",
        "            for l in range(self.n_layers):\n",
        "                for i in range(self.n_q1):\n",
        "\n",
        "                    qml.RX(r_z_1[l, i, :], wires=i)\n",
        "                    qml.RZ(r_x[l, i, :], wires=i)\n",
        "                    qml.RX(r_z_2[l, i, :], wires=i)\n",
        "\n",
        "                    if i< self.n_q1 - 1:\n",
        "                      qml.CRZ(c_r_z[l, i, :], wires = [i+1, i] )\n",
        "                    if i == self.n_q1 - 1:\n",
        "                      qml.CRZ(c_r_z[l, i, :], wires = [0, i])\n",
        "\n",
        "            for l in range(self.n_layers):\n",
        "                for i in range(self.n_q1, self.n_q2):\n",
        "\n",
        "                    qml.RX(r_z_1[l, i - self.n_q1, :], wires=i)\n",
        "                    qml.RZ(r_x[l, i - self.n_q1, :], wires=i)\n",
        "                    qml.RX(r_z_2[l, i - self.n_q1, :], wires=i)\n",
        "\n",
        "                    if i< self.n_q2 - 1:\n",
        "                      qml.CRZ(c_r_z[l, i - self.n_q1, :], wires = [i+1, i] )\n",
        "                    if i == self.n_q2 - 1:\n",
        "                      qml.CRZ(c_r_z[l, i - self.n_q1, :], wires = [self.n_q1, i])\n",
        "\n",
        "            # Apply e^{1*U_A[i,j] Z_i Z_j} to qubits 0 1 2\n",
        "            for i in range(self.n_q1):\n",
        "              for j in range(i+1, self.n_q1):\n",
        "                qml.IsingZZ(U_A[i,j], wires=[i, j])\n",
        "\n",
        "            # RY and CRY\n",
        "            # wires of x_0\n",
        "            for i in range(self.n_q2):\n",
        "\n",
        "                if i < self.n_q1:\n",
        "\n",
        "                  qml.RY(r_y[i], wires=i) # rotate Y every wrire\n",
        "\n",
        "                  qml.CRY(c_r_y[i], wires=[i+1, i]) # chain of controlled Y gates\n",
        "\n",
        "\n",
        "            # wires of x_1\n",
        "                if ( i in range(self.n_q1, self.n_q2) ):\n",
        "\n",
        "                  qml.RY(r_y[i - self.n_q1], wires=i)\n",
        "\n",
        "                  if i < self.n_q2 - 1:\n",
        "                    qml.CRY(c_r_y[i - self.n_q1], wires=[i+1, i])\n",
        "\n",
        "                  if i == self.n_q2 - 1:\n",
        "                    qml.CRY(c_r_y[i - self.n_q1], wires=[0, i])\n",
        "\n",
        "            #return [qml.expval(qml.PauliZ(i)) for i in range(self.n_q1)]\n",
        "            return [qml.expval(qml.PauliZ(i)) for i in [1]]\n",
        "\n",
        "# step 3\n",
        "        def circuit_3(inputs, r_z_1, r_x, r_z_2, c_r_z, U_B, U_A, r_y, c_r_y):\n",
        "\n",
        "            qml.AngleEmbedding(inputs, wires=range(self.n_q3), rotation='Y')\n",
        "\n",
        "            for l in range(self.n_layers):\n",
        "                for i in range(self.n_q1):\n",
        "\n",
        "                    qml.RX(r_z_1[l, i, :], wires=i)\n",
        "                    qml.RZ(r_x[l, i, :], wires=i)\n",
        "                    qml.RX(r_z_2[l, i, :], wires=i)\n",
        "\n",
        "                    if i< self.n_q1 - 1:\n",
        "                      qml.CRZ(c_r_z[l, i, :], wires = [i+1, i] )\n",
        "                    if i == self.n_q1 - 1:\n",
        "                      qml.CRZ(c_r_z[l, i, :], wires = [0, i])\n",
        "\n",
        "\n",
        "            for l in range(self.n_layers):\n",
        "                for i in range(self.n_q1, self.n_q2):\n",
        "\n",
        "                    qml.RX(r_z_1[l, i - self.n_q1, :], wires=i)\n",
        "                    qml.RZ(r_x[l, i - self.n_q1, :], wires=i)\n",
        "                    qml.RX(r_z_2[l, i - self.n_q1, :], wires=i)\n",
        "\n",
        "                    if i< self.n_q2 - 1:\n",
        "                      qml.CRZ(c_r_z[l, i - self.n_q1, :], wires = [i+1, i] )\n",
        "                    if i == self.n_q2 - 1:\n",
        "                      qml.CRZ(c_r_z[l, i - self.n_q1, :], wires = [self.n_q1, i])\n",
        "\n",
        "\n",
        "            for l in range(self.n_layers):\n",
        "                for i in range(self.n_q2, self.n_q3):\n",
        "                    qml.RX(r_z_1[l, i - self.n_q2, :], wires=i)\n",
        "                    qml.RZ(r_x[l, i - self.n_q2, :], wires=i)\n",
        "                    qml.RX(r_z_2[l, i - self.n_q2, :], wires=i)\n",
        "\n",
        "                    if i< self.n_q3 - 1:\n",
        "                      qml.CRZ(c_r_z[l, i - self.n_q2, :], wires = [i+1, i] )\n",
        "                    if i == self.n_q3 - 1:\n",
        "                      qml.CRZ(c_r_z[l, i - self.n_q2, :], wires = [self.n_q2, i])\n",
        "\n",
        "\n",
        "            # Apply e^{2*U_A[i,j] Z_i Z_j} to qubits 0 1 2\n",
        "            for i in range(self.n_q1):\n",
        "              for j in range(i+1, self.n_q1):\n",
        "                qml.IsingZZ(2*U_A[i, j], wires=[i, j])\n",
        "\n",
        "\n",
        "            # Apply e^{1*U_A[i,j] Z_i Z_j} to qubits 3 4 5\n",
        "            for i in range(self.n_q1, self.n_q2):\n",
        "              for j in range(i+1, self.n_q2):\n",
        "                # Calculate relative indices for U_A\n",
        "                i_rel = i - self.n_q1\n",
        "                j_rel = j - self.n_q1\n",
        "            # Check bounds before accessing U_A\n",
        "                if i_rel < U_A.shape[0] and j_rel < U_A.shape[1]:\n",
        "                  qml.IsingZZ(U_A[i_rel, j_rel], wires=[i, j])\n",
        "\n",
        "            # RY and CRY\n",
        "            # wires of x_0\n",
        "            for i in range(self.n_q3):\n",
        "                if i < self.n_q1:\n",
        "\n",
        "                  qml.RY(r_y[i], wires=i) # rotate Y every wrire\n",
        "\n",
        "                  qml.CRY(c_r_y[i], wires=[i+1, i]) # chain of controlled Y gates\n",
        "\n",
        "\n",
        "            # wires of x_1\n",
        "                if i in range(self.n_q1, self.n_q2):\n",
        "\n",
        "                  qml.RY(r_y[i - self.n_q1], wires=i)\n",
        "\n",
        "                  qml.CRY(c_r_y[i - self.n_q1], wires=[i+1, i]) # chain of controlled Y gates\n",
        "\n",
        "\n",
        "            # wires of x_2\n",
        "                if i in range(self.n_q2, self.n_q3):\n",
        "                  qml.RY(r_y[i - self.n_q2], wires=i) # rotate Y every wrire\n",
        "\n",
        "                  if i < self.n_q3 - 1:\n",
        "                    qml.CRY(c_r_y[i - self.n_q2], wires=[i+1, i]) # chain of controlled Y gates\n",
        "\n",
        "                  if i == self.n_q3 - 1:\n",
        "                    qml.CRY(c_r_y[i - self.n_q2], wires=[0, i])\n",
        "\n",
        "\n",
        "            #return [qml.expval(qml.PauliZ(i)) for i in range(self.n_q1)]\n",
        "            return [qml.expval(qml.PauliZ(i)) for i in [1]]\n",
        "\n",
        "        weight_shapes = {\n",
        "            \"r_z_1\": (self.n_layers, self.n_q1, 1),\n",
        "            \"r_x\": (self.n_layers, self.n_q1, 1),\n",
        "            \"r_z_2\": (self.n_layers, self.n_q1, 1),\n",
        "            \"c_r_z\": (self.n_layers, self.n_q1, 1),\n",
        "            \"U_B\": (self.n_layers, 1, self.n_q1),\n",
        "            \"U_A\":(self.n_q1, self.n_q1),\n",
        "            \"r_y\": (self.n_q1, 1),\n",
        "            \"c_r_y\": (self.n_q1, 1),\n",
        "        }\n",
        "        # Add initialization\n",
        "\n",
        "        self.qlayer_1 = qml.qnn.TorchLayer(qml.QNode(circuit_1, self.dev1, interface=\"torch\"), weight_shapes)\n",
        "        self.qlayer_2 = qml.qnn.TorchLayer(qml.QNode(circuit_2, self.dev2, interface=\"torch\"), weight_shapes)\n",
        "        self.qlayer_3 = qml.qnn.TorchLayer(qml.QNode(circuit_3, self.dev3, interface=\"torch\"), weight_shapes)\n",
        "\n",
        "        # Uniform initialization of all parameters in each quantum layer\n",
        "        init_left, init_right = -1.0, 1.0\n",
        "        for layer in [self.qlayer_1, self.qlayer_2, self.qlayer_3]:\n",
        "          for name, param in layer.named_parameters():\n",
        "            torch.nn.init.uniform_(param, a=init_left, b=init_right)\n",
        "\n",
        "    def forward(self, x_0, x_1, x_2):\n",
        "        out_0 = torch.mean(self.qlayer_1(x_0), dim=1)  # shape: [batch_size]\n",
        "        out_1 = torch.mean(self.qlayer_2(x_1), dim=1)\n",
        "        out_2 = torch.mean(self.qlayer_3(x_2), dim=1)\n",
        "        combined_out = torch.stack([out_0, out_1, out_2], dim=1)  # [batch_size, 3]\n",
        "        return combined_out\n"
      ],
      "metadata": {
        "id": "WwtVM-aQ5v5Y"
      },
      "execution_count": 20,
      "outputs": []
    },
    {
      "cell_type": "code",
      "source": [
        "model = QSSMLayer()"
      ],
      "metadata": {
        "id": "q7Mu-Aq75N81"
      },
      "execution_count": 21,
      "outputs": []
    },
    {
      "cell_type": "code",
      "source": [
        "criterion = nn.MSELoss()\n",
        "optimizer = optim.SGD(model.parameters(), lr=5*1e-2)"
      ],
      "metadata": {
        "id": "_Zdbrf9jDssd"
      },
      "execution_count": 22,
      "outputs": []
    },
    {
      "cell_type": "code",
      "source": [
        "def count_params(model):\n",
        "    return sum(p.numel() for p in model.parameters() if p.requires_grad)\n",
        "print(count_params(model))"
      ],
      "metadata": {
        "colab": {
          "base_uri": "https://localhost:8080/"
        },
        "id": "oK6SPi2cjAHK",
        "outputId": "2dcf7034-474d-42d0-89c7-33cbd7b042fe"
      },
      "execution_count": 23,
      "outputs": [
        {
          "output_type": "stream",
          "name": "stdout",
          "text": [
            "432\n"
          ]
        }
      ]
    },
    {
      "cell_type": "code",
      "source": [
        "# Test random function\n",
        "model.eval()\n",
        "test_loss_all = 0.0\n",
        "test_loss_y2 = 0.0\n",
        "num_batch = 0\n",
        "\n",
        "with torch.no_grad():\n",
        "    for batch_x_0, batch_x_1, batch_x_2, batch_y in test_loader:\n",
        "        output = model(batch_x_0, batch_x_1, batch_x_2)\n",
        "\n",
        "        loss_all = criterion(output, batch_y)\n",
        "        test_loss_all += loss_all.item()\n",
        "\n",
        "        loss_y2 = criterion(output[:, 2], batch_y[:, 2]) # test only given x0 x1 x2, predict x3\n",
        "        test_loss_y2 += loss_y2.item()\n",
        "        num_batch += 1\n",
        "\n",
        "    test_loss_all /= num_batch\n",
        "    test_loss_y2 /= num_batch\n",
        "print(f\"\\n Test Loss before Training (all steps): {test_loss_all:.4f}\")\n",
        "print(f\"\\n Test Loss before Training (3rd step): {test_loss_y2:.4f}\")\n"
      ],
      "metadata": {
        "colab": {
          "base_uri": "https://localhost:8080/"
        },
        "id": "Ut9bhYV4hiHc",
        "outputId": "d1b9fb53-732e-4fca-d4f9-a42f6d5454c3"
      },
      "execution_count": 24,
      "outputs": [
        {
          "output_type": "stream",
          "name": "stdout",
          "text": [
            "\n",
            " Test Loss before Training (all steps): 0.8670\n",
            "\n",
            " Test Loss before Training (3rd step): 0.6753\n"
          ]
        }
      ]
    },
    {
      "cell_type": "code",
      "source": [
        "loss_history = []"
      ],
      "metadata": {
        "id": "GGcDZ_x6lbjZ"
      },
      "execution_count": 25,
      "outputs": []
    },
    {
      "cell_type": "code",
      "source": [
        "# Training\n",
        "n_epochs = 100\n",
        "for epoch in range(n_epochs):\n",
        "    model.train()\n",
        "    epoch_loss = 0.0\n",
        "    num_batch = 0\n",
        "\n",
        "    for batch_x_0, batch_x_1, batch_x_2, batch_y in train_loader:\n",
        "        optimizer.zero_grad()\n",
        "        output = model(batch_x_0, batch_x_1, batch_x_2)\n",
        "        loss = criterion(output, batch_y)\n",
        "        loss.backward()\n",
        "        optimizer.step()\n",
        "        epoch_loss += loss.item()\n",
        "        num_batch += 1\n",
        "    epoch_loss /= num_batch\n",
        "    #if epoch%10 == 0:\n",
        "    loss_history.append(epoch_loss)\n",
        "    print(f\"Epoch {epoch+1}/{n_epochs} - Loss: {epoch_loss:.4f}\")"
      ],
      "metadata": {
        "colab": {
          "base_uri": "https://localhost:8080/"
        },
        "id": "lbVtobuNDsvT",
        "outputId": "c7469d47-faa9-43a5-a97a-e88f30dae3e2"
      },
      "execution_count": 26,
      "outputs": [
        {
          "output_type": "stream",
          "name": "stdout",
          "text": [
            "Epoch 1/100 - Loss: 0.3985\n",
            "Epoch 2/100 - Loss: 0.1665\n",
            "Epoch 3/100 - Loss: 0.0838\n",
            "Epoch 4/100 - Loss: 0.0484\n",
            "Epoch 5/100 - Loss: 0.0330\n",
            "Epoch 6/100 - Loss: 0.0252\n",
            "Epoch 7/100 - Loss: 0.0208\n",
            "Epoch 8/100 - Loss: 0.0180\n",
            "Epoch 9/100 - Loss: 0.0162\n",
            "Epoch 10/100 - Loss: 0.0148\n",
            "Epoch 11/100 - Loss: 0.0138\n",
            "Epoch 12/100 - Loss: 0.0130\n",
            "Epoch 13/100 - Loss: 0.0124\n",
            "Epoch 14/100 - Loss: 0.0119\n",
            "Epoch 15/100 - Loss: 0.0115\n",
            "Epoch 16/100 - Loss: 0.0111\n",
            "Epoch 17/100 - Loss: 0.0109\n",
            "Epoch 18/100 - Loss: 0.0106\n",
            "Epoch 19/100 - Loss: 0.0104\n",
            "Epoch 20/100 - Loss: 0.0103\n",
            "Epoch 21/100 - Loss: 0.0101\n",
            "Epoch 22/100 - Loss: 0.0100\n",
            "Epoch 23/100 - Loss: 0.0099\n",
            "Epoch 24/100 - Loss: 0.0098\n",
            "Epoch 25/100 - Loss: 0.0096\n",
            "Epoch 26/100 - Loss: 0.0096\n",
            "Epoch 27/100 - Loss: 0.0095\n",
            "Epoch 28/100 - Loss: 0.0095\n",
            "Epoch 29/100 - Loss: 0.0094\n",
            "Epoch 30/100 - Loss: 0.0093\n",
            "Epoch 31/100 - Loss: 0.0093\n",
            "Epoch 32/100 - Loss: 0.0092\n",
            "Epoch 33/100 - Loss: 0.0091\n",
            "Epoch 34/100 - Loss: 0.0092\n",
            "Epoch 35/100 - Loss: 0.0091\n",
            "Epoch 36/100 - Loss: 0.0091\n",
            "Epoch 37/100 - Loss: 0.0091\n",
            "Epoch 38/100 - Loss: 0.0091\n",
            "Epoch 39/100 - Loss: 0.0090\n",
            "Epoch 40/100 - Loss: 0.0090\n",
            "Epoch 41/100 - Loss: 0.0089\n",
            "Epoch 42/100 - Loss: 0.0090\n",
            "Epoch 43/100 - Loss: 0.0090\n",
            "Epoch 44/100 - Loss: 0.0089\n",
            "Epoch 45/100 - Loss: 0.0089\n",
            "Epoch 46/100 - Loss: 0.0089\n",
            "Epoch 47/100 - Loss: 0.0089\n",
            "Epoch 48/100 - Loss: 0.0088\n",
            "Epoch 49/100 - Loss: 0.0088\n",
            "Epoch 50/100 - Loss: 0.0088\n",
            "Epoch 51/100 - Loss: 0.0088\n",
            "Epoch 52/100 - Loss: 0.0088\n",
            "Epoch 53/100 - Loss: 0.0088\n",
            "Epoch 54/100 - Loss: 0.0087\n",
            "Epoch 55/100 - Loss: 0.0087\n",
            "Epoch 56/100 - Loss: 0.0087\n",
            "Epoch 57/100 - Loss: 0.0087\n",
            "Epoch 58/100 - Loss: 0.0087\n",
            "Epoch 59/100 - Loss: 0.0087\n",
            "Epoch 60/100 - Loss: 0.0087\n",
            "Epoch 61/100 - Loss: 0.0087\n",
            "Epoch 62/100 - Loss: 0.0087\n",
            "Epoch 63/100 - Loss: 0.0087\n",
            "Epoch 64/100 - Loss: 0.0086\n",
            "Epoch 65/100 - Loss: 0.0086\n",
            "Epoch 66/100 - Loss: 0.0087\n",
            "Epoch 67/100 - Loss: 0.0087\n",
            "Epoch 68/100 - Loss: 0.0086\n",
            "Epoch 69/100 - Loss: 0.0086\n",
            "Epoch 70/100 - Loss: 0.0086\n",
            "Epoch 71/100 - Loss: 0.0086\n",
            "Epoch 72/100 - Loss: 0.0086\n",
            "Epoch 73/100 - Loss: 0.0086\n",
            "Epoch 74/100 - Loss: 0.0086\n",
            "Epoch 75/100 - Loss: 0.0086\n",
            "Epoch 76/100 - Loss: 0.0086\n",
            "Epoch 77/100 - Loss: 0.0086\n",
            "Epoch 78/100 - Loss: 0.0086\n",
            "Epoch 79/100 - Loss: 0.0086\n",
            "Epoch 80/100 - Loss: 0.0085\n",
            "Epoch 81/100 - Loss: 0.0086\n",
            "Epoch 82/100 - Loss: 0.0085\n",
            "Epoch 83/100 - Loss: 0.0085\n",
            "Epoch 84/100 - Loss: 0.0085\n",
            "Epoch 85/100 - Loss: 0.0085\n",
            "Epoch 86/100 - Loss: 0.0085\n",
            "Epoch 87/100 - Loss: 0.0085\n",
            "Epoch 88/100 - Loss: 0.0085\n",
            "Epoch 89/100 - Loss: 0.0085\n",
            "Epoch 90/100 - Loss: 0.0085\n",
            "Epoch 91/100 - Loss: 0.0085\n",
            "Epoch 92/100 - Loss: 0.0085\n",
            "Epoch 93/100 - Loss: 0.0085\n",
            "Epoch 94/100 - Loss: 0.0084\n",
            "Epoch 95/100 - Loss: 0.0085\n",
            "Epoch 96/100 - Loss: 0.0084\n",
            "Epoch 97/100 - Loss: 0.0084\n",
            "Epoch 98/100 - Loss: 0.0085\n",
            "Epoch 99/100 - Loss: 0.0085\n",
            "Epoch 100/100 - Loss: 0.0084\n"
          ]
        }
      ]
    },
    {
      "cell_type": "code",
      "source": [
        "#Evaluation\n",
        "model.eval()\n",
        "test_loss_all = 0.0\n",
        "test_loss_y2 = 0.0\n",
        "num_batch = 0\n",
        "x_3_list = []\n",
        "y_2_list = []\n",
        "\n",
        "with torch.no_grad():\n",
        "    for batch_x_0, batch_x_1, batch_x_2, batch_y in test_loader:\n",
        "        output = model(batch_x_0, batch_x_1, batch_x_2)\n",
        "\n",
        "        loss_all = criterion(output, batch_y)\n",
        "        test_loss_all += loss_all.item()\n",
        "\n",
        "        loss_y2 = criterion(output[:, 2], batch_y[:, 2])\n",
        "        test_loss_y2 += loss_y2.item()\n",
        "\n",
        "        x_3_list.append(output[:, 2].tolist())\n",
        "        y_2_list.append(batch_y[:, 2].tolist())\n",
        "\n",
        "        num_batch += 1\n",
        "    test_loss_all /= num_batch\n",
        "    test_loss_y2 /= num_batch\n",
        "print(f\"\\n Final test Loss (all steps): {test_loss_all:.4f}\")\n",
        "print(f\"\\n Final test Loss (3rd step): {test_loss_y2:.4f}\")"
      ],
      "metadata": {
        "id": "UBOuW-3pDsx2",
        "colab": {
          "base_uri": "https://localhost:8080/"
        },
        "outputId": "1e5651d1-1578-45ba-aae9-eec59d4ff14a"
      },
      "execution_count": 27,
      "outputs": [
        {
          "output_type": "stream",
          "name": "stdout",
          "text": [
            "\n",
            " Final test Loss (all steps): 0.0095\n",
            "\n",
            " Final test Loss (3rd step): 0.0098\n"
          ]
        }
      ]
    },
    {
      "cell_type": "code",
      "source": [
        "#print(output.shape)\n",
        "#print(output[:, 2])"
      ],
      "metadata": {
        "id": "Oll0HSYhLj2k"
      },
      "execution_count": 28,
      "outputs": []
    },
    {
      "cell_type": "code",
      "source": [
        "%matplotlib inline\n",
        "import matplotlib.pyplot as plt\n",
        "import numpy as np\n",
        "import matplotlib"
      ],
      "metadata": {
        "id": "pCEZMpPDm98Z"
      },
      "execution_count": 29,
      "outputs": []
    },
    {
      "cell_type": "code",
      "source": [
        "n_steps = len(loss_history)"
      ],
      "metadata": {
        "id": "2Bakni3JnXI8"
      },
      "execution_count": 30,
      "outputs": []
    },
    {
      "cell_type": "code",
      "source": [
        "\n",
        "x_coords = [i for i in range(n_steps)]\n",
        "y_coords = loss_history\n",
        "\n",
        "plt.plot(x_coords, y_coords, c=\"#1f77b4\", marker=\"o\")\n",
        "plt.xlabel('X-axis')\n",
        "plt.ylabel('Y-axis')\n",
        "plt.title('Plot of Points')\n",
        "plt.show()"
      ],
      "metadata": {
        "colab": {
          "base_uri": "https://localhost:8080/",
          "height": 472
        },
        "id": "ySOqwBreoUL8",
        "outputId": "b5cfd3e6-7e53-40f6-89fe-bb6a912f74f0"
      },
      "execution_count": 31,
      "outputs": [
        {
          "output_type": "display_data",
          "data": {
            "text/plain": [
              "<Figure size 640x480 with 1 Axes>"
            ],
            "image/png": "[encoded data removed]"
          },
          "metadata": {}
        }
      ]
    },
    {
      "cell_type": "code",
      "source": [
        "print(loss_history)"
      ],
      "metadata": {
        "id": "J-L3-CRaqGLk",
        "colab": {
          "base_uri": "https://localhost:8080/"
        },
        "outputId": "b48fd3fa-8c2b-484e-ee2d-28391f02c00c"
      },
      "execution_count": 32,
      "outputs": [
        {
          "output_type": "stream",
          "name": "stdout",
          "text": [
            "[0.39847090565844584, 0.1664889758746875, 0.083831167534778, 0.048421115957592666, 0.032964954936974926, 0.02522894171507735, 0.02083794145207656, 0.018019475557498242, 0.016248995928387893, 0.014813118957375226, 0.013761021564469525, 0.012974493573174664, 0.012392546099267508, 0.011910515972168037, 0.011477318739420489, 0.01114927300889241, 0.010904509243310281, 0.010616637950174902, 0.010425708403712824, 0.01030521969752092, 0.010078146318463902, 0.009994632564485073, 0.009909760464276923, 0.009751233541847844, 0.009622206886936175, 0.009605351087980364, 0.009517386053247671, 0.009468500649458483, 0.009365218201358067, 0.00932991706864222, 0.009286946077880106, 0.00922214754514004, 0.009147174350035033, 0.009195103935015044, 0.009117615102839313, 0.009106365044748313, 0.00908925501923812, 0.009068472519222843, 0.008973662373854926, 0.008956832798982137, 0.008910067403983129, 0.008950222675737581, 0.008954905132812104, 0.008889008950638143, 0.008863894158582153, 0.00886005986677973, 0.008896531243073312, 0.008775765934076748, 0.008837278172569839, 0.008829145349170031, 0.008783373074900163, 0.008769492986366936, 0.008781316494079013, 0.00869747344404459, 0.008743720031098315, 0.008697040072691283, 0.008746635744740305, 0.00869702188739259, 0.008677393504369416, 0.008661606189745822, 0.008664770848362854, 0.008675865976041868, 0.00866648919978424, 0.008644916141699804, 0.008627079414988035, 0.008657892491962565, 0.008663383508591275, 0.00857840738210239, 0.008635710287643107, 0.00859699821050622, 0.008586493982492309, 0.008559419528434151, 0.008580926389090325, 0.008601523200540166, 0.008587453465320562, 0.008558496636779685, 0.008572774363289537, 0.00856190266724872, 0.008558415097037428, 0.008524123064585422, 0.008564615646671308, 0.008517123060300946, 0.008549173043942765, 0.008518686125937262, 0.008529670818365719, 0.008538505356562765, 0.008503628992720655, 0.008512880714414152, 0.008513173223228046, 0.008465107481338476, 0.008467927281009523, 0.008453640706935212, 0.008511012432312495, 0.008438916864657873, 0.008490906489130697, 0.008449107702625426, 0.008438286579851257, 0.008469729855852691, 0.008485411796228666, 0.008447171103111223]\n"
          ]
        }
      ]
    },
    {
      "cell_type": "code",
      "source": [
        "print(x_3_list)"
      ],
      "metadata": {
        "id": "PVTwvTgYea4r",
        "colab": {
          "base_uri": "https://localhost:8080/"
        },
        "outputId": "00df1167-4d88-4d75-fa96-265a06d1423c"
      },
      "execution_count": 33,
      "outputs": [
        {
          "output_type": "stream",
          "name": "stdout",
          "text": [
            "[[0.8364229798316956, 0.836405873298645, 0.836374044418335, 0.8363275527954102, 0.8362663388252258, 0.8361904621124268, 0.8360999226570129, 0.8359946608543396, 0.835874617099762, 0.8357399106025696, 0.8355904221534729, 0.8354262113571167, 0.8352472186088562, 0.8350533246994019, 0.8348447680473328, 0.8346213102340698, 0.8343830108642578, 0.8341297507286072, 0.8338617086410522, 0.8335785865783691, 0.8332806825637817, 0.8329676389694214, 0.8326396346092224, 0.83229660987854, 0.8319384455680847, 0.831565260887146, 0.8311767578125, 0.8307731747627258, 0.8303542733192444, 0.8299201726913452, 0.829470694065094, 0.8290059566497803, 0.828525722026825, 0.8280301094055176, 0.8275189995765686, 0.8269922733306885, 0.8264499306678772, 0.8258921504020691, 0.8253185749053955, 0.8247291445732117, 0.8241240978240967, 0.8235029578208923, 0.8228662014007568, 0.8222132921218872, 0.8215444087982178, 0.820859432220459, 0.8201582431793213, 0.8194407820701599, 0.8187073469161987, 0.8179574608802795, 0.8171910047531128, 0.8164082169532776, 0.81560879945755, 0.8147931098937988, 0.8139603137969971, 0.8131110668182373, 0.8122449517250061, 0.8113617897033691, 0.810461699962616, 0.8095449209213257, 0.8086108565330505, 0.8076594471931458, 0.8066909909248352, 0.8057051301002502], [0.80470210313797, 0.8036811947822571, 0.8026430010795593, 0.8015871644020081, 0.800513505935669, 0.7994219064712524, 0.7983129620552063, 0.7971857786178589, 0.7960403561592102, 0.7948769927024841, 0.7936952710151672, 0.7924957275390625, 0.7912774085998535, 0.7900408506393433, 0.7887856960296631, 0.7875117063522339, 0.7862191200256348, 0.7849081158638, 0.7835780382156372, 0.7822287082672119, 0.7808607220649719, 0.7794731855392456, 0.778066873550415, 0.7766411304473877, 0.7751960158348083, 0.7737315893173218, 0.7722471952438354, 0.7707432508468628, 0.7692200541496277, 0.767676830291748, 0.7661133408546448, 0.7645303010940552, 0.7629268169403076, 0.7613034248352051, 0.759660005569458, 0.7579960823059082, 0.7563117742538452, 0.7546067833900452, 0.7528811097145081, 0.7511354684829712, 0.7493688464164734, 0.7475810050964355, 0.745772659778595, 0.74394291639328, 0.7420925498008728, 0.7402210235595703, 0.738328218460083, 0.7364141941070557, 0.7344784140586853, 0.7325211763381958, 0.7305432558059692, 0.7285432815551758, 0.7265213131904602, 0.7244779467582703, 0.7224123477935791, 0.7203252911567688, 0.7182163000106812, 0.7160852551460266, 0.7139320969581604, 0.7117564082145691, 0.7095584869384766, 0.7073391079902649, 0.705096960067749, 0.7028319835662842], [0.7005448937416077, 0.6982349157333374, 0.6959027647972107, 0.6935478448867798, 0.691170334815979, 0.688770055770874, 0.6863464117050171, 0.6838999390602112, 0.6814315319061279, 0.6789395809173584, 0.6764242649078369, 0.673886239528656, 0.6713247299194336, 0.6687405109405518, 0.6661331057548523, 0.6635025143623352, 0.6608485579490662, 0.6581708788871765, 0.6554698944091797, 0.6527460217475891, 0.64999920129776, 0.6472280025482178, 0.644433856010437, 0.641615629196167, 0.638774573802948, 0.635909914970398, 0.6330217123031616, 0.6301100254058838, 0.6271741986274719, 0.6242148280143738, 0.6212323904037476, 0.6182268857955933, 0.6151967644691467, 0.6121435165405273, 0.6090661287307739, 0.6059657335281372, 0.6028417348861694, 0.5996941328048706, 0.5965229272842407, 0.5933275818824768, 0.5901087522506714, 0.5868669152259827, 0.5836020708084106, 0.5803126692771912, 0.5770002603530884, 0.5736638903617859, 0.5703046917915344, 0.5669220685958862, 0.5635160803794861, 0.5600867867469788, 0.5566335916519165, 0.5531570315361023, 0.5496580004692078, 0.5461364388465881, 0.5425904393196106, 0.5390220880508423, 0.5354300737380981, 0.5318157076835632, 0.5281784534454346, 0.5245184898376465, 0.5208356380462646, 0.5171294808387756, 0.5134006142616272, 0.509649932384491], [0.5058774352073669, 0.5020812153816223, 0.49826332926750183, 0.49442246556282043, 0.4905602037906647, 0.4866751730442047, 0.48276957869529724, 0.4788414537906647, 0.474890798330307, 0.4709184467792511, 0.4669252932071686, 0.46291136741638184, 0.4588746130466461, 0.45481738448143005, 0.4507382810115814, 0.4466388523578644, 0.44251787662506104, 0.4383775591850281, 0.4342159032821655, 0.4300329387187958, 0.42582961916923523, 0.42160677909851074, 0.41736459732055664, 0.413100928068161, 0.40881821513175964, 0.40451502799987793, 0.4001930356025696, 0.39585089683532715, 0.3914911448955536, 0.38711148500442505, 0.38271215558052063, 0.37829405069351196, 0.37385812401771545, 0.3694046139717102, 0.36493122577667236, 0.36044058203697205, 0.35593119263648987, 0.35140490531921387, 0.34686025977134705, 0.3422999083995819, 0.33772149682044983, 0.3331252932548523, 0.3285122513771057, 0.3238834738731384, 0.31923913955688477, 0.3145768642425537, 0.3098994493484497, 0.3052053451538086, 0.30049651861190796, 0.29577139019966125, 0.2910328209400177, 0.2862783670425415, 0.28150835633277893, 0.276723712682724, 0.2719256281852722, 0.2671143412590027, 0.2622874081134796, 0.2574477195739746, 0.25259366631507874, 0.24772733449935913, 0.24284709990024567, 0.23795592784881592, 0.2330513596534729, 0.22813363373279572], [0.2232038676738739, 0.21826323866844177, 0.21331104636192322, 0.20834757387638092, 0.2033730447292328, 0.1983868032693863, 0.19339093565940857, 0.18838383257389069, 0.1833685338497162, 0.1783425211906433, 0.17330604791641235, 0.1682603359222412, 0.16320650279521942, 0.15814390778541565, 0.15307283401489258, 0.1479935348033905, 0.1429053246974945, 0.1378103792667389, 0.13270707428455353, 0.12759844958782196, 0.12248202413320541, 0.11735805124044418, 0.11222773045301437, 0.10709225386381149, 0.101951003074646, 0.09680423140525818, 0.09165220707654953, 0.08649428188800812, 0.08133260160684586, 0.0761655792593956, 0.07099629938602448, 0.06582222878932953, 0.060643650591373444, 0.05546177551150322, 0.050277840346097946, 0.045091185718774796, 0.03990207985043526, 0.03471082076430321, 0.029516737908124924, 0.024322012439370155, 0.019125033169984818, 0.013928922824561596, 0.008731127716600895, 0.0035319316666573286, -0.001667433767579496, -0.0068657356314361095, -0.012063638307154179, -0.017260855063796043, -0.022457102313637733, -0.0276530422270298, -0.03284649923443794, -0.03803907707333565, -0.0432276614010334, -0.04841480404138565, -0.053600210696458817, -0.0587826706469059, -0.06396094709634781, -0.06913570314645767, -0.0743066743016243, -0.07947356253862381, -0.08463703095912933, -0.08979491144418716, -0.09494882076978683, -0.10009567439556122], [-0.10523798316717148, -0.11037550121545792, -0.11550698429346085, -0.12063123285770416, -0.12574893236160278, -0.13085979223251343, -0.1359635442495346, -0.14106084406375885, -0.14614959061145782, -0.1512313336133957, -0.1563030481338501, -0.161367267370224, -0.16642369329929352, -0.17147113382816315, -0.17650845646858215, -0.18153628706932068, -0.18655437231063843, -0.1915624588727951, -0.19656121730804443, -0.20154856145381927, -0.20652607083320618, -0.2114907205104828, -0.21644507348537445, -0.2213888168334961, -0.22632081806659698, -0.2312399446964264, -0.23614686727523804, -0.24104131758213043, -0.24592308700084686, -0.25079280138015747, -0.2556484639644623, -0.26049163937568665, -0.2653203308582306, -0.2701342701911926, -0.27493590116500854, -0.27972325682640076, -0.28449520468711853, -0.28925246000289917, -0.2939947545528412, -0.29872196912765503, -0.3034346401691437, -0.30813083052635193, -0.31281211972236633, -0.31747666001319885, -0.3221241235733032, -0.32675689458847046, -0.3313731253147125, -0.3359716832637787, -0.340553343296051, -0.34511783719062805, -0.3496650457382202, -0.3541955351829529, -0.3587074875831604, -0.36320242285728455, -0.3676784932613373, -0.3721355199813843, -0.376575767993927, -0.38099750876426697, -0.38539963960647583, -0.38978293538093567, -0.39414721727371216, -0.3984922468662262, -0.4028187394142151, -0.40712496638298035], [-0.4114122688770294, -0.41567903757095337, -0.4199250340461731, -0.42415258288383484, -0.42835983633995056, -0.4325459897518158, -0.4367116689682007, -0.4408567249774933, -0.44498103857040405, -0.4490852355957031, -0.45316770672798157, -0.4572297930717468, -0.46126991510391235, -0.4652880132198334, -0.46928614377975464, -0.4732626974582672, -0.47721683979034424, -0.48114925622940063, -0.48505982756614685, -0.4889485538005829, -0.492815762758255, -0.4966602325439453, -0.5004832148551941, -0.5042831301689148, -0.5080599784851074, -0.5118158459663391, -0.5155491232872009, -0.5192590355873108, -0.522946298122406, -0.5266115069389343, -0.5302525758743286, -0.533872127532959, -0.5374680161476135, -0.5410415530204773, -0.5445914268493652, -0.5481175780296326, -0.5516217947006226, -0.5551029443740845, -0.5585601329803467, -0.5619940161705017, -0.5654053092002869, -0.5687918663024902, -0.5721564292907715, -0.5754968523979187, -0.5788143873214722, -0.5821079611778259, -0.5853773951530457, -0.5886245369911194, -0.5918480753898621, -0.5950474739074707, -0.5982233881950378, -0.6013762354850769, -0.604504406452179, -0.6076100468635559, -0.6106916069984436, -0.6137501001358032, -0.6167844533920288, -0.6197946071624756, -0.622782289981842, -0.6257463693618774, -0.6286863684654236, -0.6316028237342834, -0.6344961524009705, -0.6373649835586548], [-0.6402113437652588, -0.6430336236953735, -0.6458330154418945, -0.648608386516571, -0.6513598561286926, -0.6540889143943787, -0.6567946672439575, -0.6594765186309814, -0.6621350646018982, -0.6647708415985107, -0.6673824191093445, -0.669971764087677, -0.6725373864173889, -0.6750804781913757, -0.6775999665260315, -0.6800969839096069, -0.6825699806213379, -0.6850210428237915, -0.6874486804008484, -0.6898535490036011, -0.6922360062599182, -0.6945949196815491, -0.6969320774078369, -0.6992462277412415, -0.7015381455421448, -0.7038071751594543, -0.7060542106628418, -0.7082780003547668, -0.7104803323745728, -0.7126600742340088, -0.7148175239562988, -0.7169533371925354, -0.7190662622451782, -0.7211580276489258, -0.7232275605201721, -0.7252755761146545, -0.7273014783859253, -0.7293060421943665, -0.7312882542610168, -0.7332496643066406, -0.7351892590522766, -0.7371074557304382, -0.7390047311782837, -0.7408799529075623, -0.7427349090576172, -0.7445682287216187, -0.7463810443878174, -0.7481725811958313, -0.7499435544013977, -0.7516931891441345, -0.753422737121582, -0.7551313638687134, -0.7568195462226868, -0.7584875822067261, -0.7601346969604492, -0.7617620825767517, -0.7633690237998962, -0.7649562358856201, -0.7665230631828308, -0.7680702805519104, -0.7695971131324768, -0.7711047530174255, -0.7725924849510193, -0.7740606069564819], [-0.7755094170570374, -0.7769383788108826, -0.7783485054969788, -0.7797391414642334, -0.781110942363739, -0.7824632525444031, -0.7837969660758972, -0.7851113080978394, -0.7864071726799011, -0.7876842021942139, -0.7889425754547119, -0.7901825904846191, -0.7914040684700012, -0.792606770992279, -0.7937913537025452, -0.7949579358100891, -0.7961061596870422, -0.7972365021705627, -0.7983484268188477, -0.7994428873062134, -0.8005193471908569, -0.8015780448913574, -0.8026191592216492, -0.8036428093910217, -0.8046485185623169, -0.8056369423866272, -0.806608259677887, -0.8075620532035828, -0.8084988594055176, -0.8094182014465332, -0.8103207349777222, -0.8112062811851501, -0.8120747208595276, -0.8129265308380127, -0.8137616515159607, -0.8145796656608582, -0.8153812289237976, -0.816166341304779, -0.8169348239898682, -0.8176869750022888, -0.8184224963188171, -0.8191420435905457, -0.8198451399803162, -0.8205320835113525, -0.8212029933929443, -0.8218578100204468, -0.8224964737892151, -0.8231192231178284, -0.823726236820221, -0.824317216873169, -0.8248926401138306, -0.8254520893096924, -0.8259959816932678, -0.8265241980552673, -0.8270368576049805, -0.8275339603424072, -0.8280156254768372, -0.8284816741943359, -0.828932523727417, -0.8293679356575012, -0.8297879695892334, -0.8301929235458374, -0.8305824995040894, -0.8309568762779236], [-0.8313160538673401, -0.8316601514816284, -0.8319891691207886, -0.8323031663894653, -0.8326019644737244, -0.8328858613967896, -0.8331547975540161, -0.833408772945404, -0.8336477875709534, -0.8338719606399536, -0.8340811729431152, -0.8342756032943726, -0.834455132484436, -0.8346198797225952, -0.8347698450088501, -0.8349049687385559, -0.8350253105163574, -0.8351309895515442, -0.8352217674255371, -0.8352978825569153, -0.8353592753410339, -0.8354059457778931, -0.8354378342628479, -0.8354550004005432]]\n"
          ]
        }
      ]
    },
    {
      "cell_type": "code",
      "source": [
        "print(y_2_list)"
      ],
      "metadata": {
        "colab": {
          "base_uri": "https://localhost:8080/"
        },
        "id": "PQuN6QQ6K26K",
        "outputId": "80506163-48b3-4361-cf63-80b4f668607d"
      },
      "execution_count": 34,
      "outputs": [
        {
          "output_type": "stream",
          "name": "stdout",
          "text": [
            "[[0.9999862909317017, 0.9999452233314514, 0.9998767375946045, 0.9997808933258057, 0.9996576309204102, 0.9995070099830627, 0.9993290305137634, 0.9991236925125122, 0.9988909363746643, 0.998630940914154, 0.9983434677124023, 0.9980287551879883, 0.9976866841316223, 0.9973171949386597, 0.9969205856323242, 0.9964964985847473, 0.9960452318191528, 0.9955666065216064, 0.9950607419013977, 0.9945275783538818, 0.9939674139022827, 0.9933797717094421, 0.9927650690078735, 0.9921231269836426, 0.9914539456367493, 0.9907578229904175, 0.9900343418121338, 0.9892838597297668, 0.9885061979293823, 0.9877015352249146, 0.9868696928024292, 0.9860112071037292, 0.9851253032684326, 0.9842126369476318, 0.9832730293273926, 0.9823063015937805, 0.98131263256073, 0.9802924990653992, 0.9792453646659851, 0.978171169757843, 0.9770703911781311, 0.9759426712989807, 0.9747886061668396, 0.9736074805259705, 0.972399890422821, 0.971165657043457, 0.9699046015739441, 0.9686169624328613, 0.9673032760620117, 0.9659628868103027, 0.9645957946777344, 0.9632025361061096, 0.9617826342582703, 0.9603369235992432, 0.9588643908500671, 0.957365870475769, 0.9558411240577698, 0.9542899131774902, 0.9527125358581543, 0.9511097073554993, 0.9494805335998535, 0.947825014591217, 0.9461438655853271, 0.9444365501403809], [0.942703902721405, 0.9409448504447937, 0.9391604065895081, 0.9373501539230347, 0.935513973236084, 0.9336521029472351, 0.9317653775215149, 0.9298528432846069, 0.9279144406318665, 0.9259509444236755, 0.9239618182182312, 0.9219480752944946, 0.919908344745636, 0.917843759059906, 0.9157540798187256, 0.9136389493942261, 0.9114987850189209, 0.9093344807624817, 0.9071448445320129, 0.9049299359321594, 0.9026907086372375, 0.9004262685775757, 0.898137629032135, 0.8958244323730469, 0.8934866786003113, 0.891124427318573, 0.8887373805046082, 0.8863259553909302, 0.8838911652565002, 0.8814317584037781, 0.8789477348327637, 0.8764400482177734, 0.8739079833030701, 0.8713523745536804, 0.8687729239463806, 0.8661697506904602, 0.8635427951812744, 0.8608916997909546, 0.8582170605659485, 0.8555198907852173, 0.8527987599372864, 0.8500538468360901, 0.8472861051559448, 0.844494640827179, 0.8416805863380432, 0.8388435244560242, 0.8359834551811218, 0.8331004977226257, 0.8301941752433777, 0.8272651433944702, 0.8243144750595093, 0.8213407397270203, 0.818343997001648, 0.8153253793716431, 0.8122838139533997, 0.8092206120491028, 0.8061352372169495, 0.8030278086662292, 0.7998983860015869, 0.7967464923858643, 0.793572723865509, 0.7903784513473511, 0.7871619462966919, 0.7839232683181763], [0.7806636691093445, 0.7773821949958801, 0.7740799784660339, 0.7707565426826477, 0.767412006855011, 0.7640464901924133, 0.7606594562530518, 0.757251501083374, 0.7538241147994995, 0.7503754496574402, 0.7469056248664856, 0.7434159517288208, 0.7399052977561951, 0.7363750338554382, 0.7328245639801025, 0.7292540669441223, 0.7256635427474976, 0.7220525741577148, 0.7184217572212219, 0.7147719860076904, 0.7111032605171204, 0.7074137330055237, 0.7037055492401123, 0.6999773383140564, 0.6962307095527649, 0.6924650073051453, 0.6886802911758423, 0.6848767399787903, 0.6810537576675415, 0.677212119102478, 0.6733525991439819, 0.6694753766059875, 0.6655784249305725, 0.6616639494895935, 0.6577306389808655, 0.6537799835205078, 0.6498115062713623, 0.6458251476287842, 0.6418211460113525, 0.6377988457679749, 0.633759081363678, 0.6297026872634888, 0.6256297826766968, 0.6215382814407349, 0.6174305081367493, 0.6133050322532654, 0.6091635227203369, 0.6050053834915161, 0.600830614566803, 0.5966394543647766, 0.5924311280250549, 0.5882065892219543, 0.5839667320251465, 0.5797116756439209, 0.5754391551017761, 0.5711516737937927, 0.5668477416038513, 0.5625291466712952, 0.5581950545310974, 0.5538457632064819, 0.549481213092804, 0.5451008677482605, 0.5407056212425232, 0.5362963080406189], [0.5318731665611267, 0.5274338126182556, 0.522980809211731, 0.5185127258300781, 0.5140312314033508, 0.5095348358154297, 0.50502610206604, 0.5005027651786804, 0.4959648847579956, 0.491413414478302, 0.486849308013916, 0.4822727143764496, 0.4776812493801117, 0.47307753562927246, 0.4684600234031677, 0.46383050084114075, 0.45918747782707214, 0.45453354716300964, 0.44986632466316223, 0.44518592953681946, 0.4404933452606201, 0.4357895255088806, 0.43107467889785767, 0.4263462722301483, 0.4216070771217346, 0.41685545444488525, 0.41209328174591064, 0.40731894969940186, 0.40253522992134094, 0.39773958921432495, 0.3929322063922882, 0.3881140351295471, 0.38328611850738525, 0.37844860553741455, 0.37359896302223206, 0.3687399625778198, 0.36386996507644653, 0.3589909076690674, 0.35410112142562866, 0.3492034375667572, 0.34429529309272766, 0.3393768072128296, 0.33444905281066895, 0.3295130133628845, 0.32456886768341064, 0.3196140229701996, 0.31465134024620056, 0.3096791207790375, 0.3046993315219879, 0.2997102737426758, 0.29471486806869507, 0.28971046209335327, 0.28469720482826233, 0.2796761393547058, 0.2746483385562897, 0.26961395144462585, 0.26457032561302185, 0.25952038168907166, 0.2544623911380768, 0.2493983805179596, 0.24432659149169922, 0.23924998939037323, 0.23416589200496674, 0.22907446324825287], [0.2239767462015152, 0.21887384355068207, 0.21376493573188782, 0.20865017175674438, 0.2035297006368637, 0.19840271770954132, 0.19327124953269958, 0.18813353776931763, 0.18299254775047302, 0.17784561216831207, 0.17269288003444672, 0.16753540933132172, 0.16237428784370422, 0.15720871090888977, 0.1520388424396515, 0.14686480164527893, 0.14168581366539001, 0.13650387525558472, 0.13131724298000336, 0.1261289268732071, 0.12093620002269745, 0.11573921889066696, 0.11053906381130219, 0.10533683001995087, 0.10013171285390854, 0.09492385387420654, 0.08971339464187622, 0.0844995304942131, 0.07928430289030075, 0.07406595349311829, 0.06884747743606567, 0.06362616270780563, 0.058402154594659805, 0.05317654460668564, 0.04795043542981148, 0.04272301122546196, 0.037494417279958725, 0.032264795154333115, 0.027033336460590363, 0.021802091971039772, 0.01656929776072502, 0.011337955482304096, 0.006105349399149418, 0.0008716224692761898, -0.004362128209322691, -0.009594805538654327, -0.01482722070068121, -0.02005922980606556, -0.02529068849980831, -0.030522409826517105, -0.03575234115123749, -0.04098224639892578, -0.046209122985601425, -0.051435686647892, -0.05666179582476616, -0.06188635155558586, -0.06710825860500336, -0.07232833653688431, -0.07754642516374588, -0.08276239037513733, -0.08797704428434372, -0.0931883379817009, -0.09839802980422974, -0.10360312461853027], [-0.10880633443593979, -0.11400751024484634, -0.11920556426048279, -0.12439940869808197, -0.12958984076976776, -0.1347767412662506, -0.1399599313735962, -0.14514024555683136, -0.15031562745571136, -0.15548785030841827, -0.16065391898155212, -0.1658165454864502, -0.17097556591033936, -0.17612989246845245, -0.18127846717834473, -0.18642206490039825, -0.19156058132648468, -0.19669383764266968, -0.20182263851165771, -0.20694498717784882, -0.21206259727478027, -0.2171725332736969, -0.2222774475812912, -0.22737722098827362, -0.23247075080871582, -0.23755700886249542, -0.24263674020767212, -0.24770984053611755, -0.2527761459350586, -0.2578364610671997, -0.2628887891769409, -0.2679348289966583, -0.27297264337539673, -0.2780020236968994, -0.2830256521701813, -0.28804153203964233, -0.29304859042167664, -0.29804763197898865, -0.30303850769996643, -0.30802109837532043, -0.31299614906311035, -0.317961722612381, -0.3229195177555084, -0.3278675377368927, -0.33280569314956665, -0.3377365171909332, -0.3426581025123596, -0.34756940603256226, -0.3524712026119232, -0.3573633134365082, -0.36224567890167236, -0.3671189844608307, -0.3719813823699951, -0.3768344521522522, -0.3816763162612915, -0.3865068554878235, -0.3913285732269287, -0.39613956212997437, -0.40093883872032166, -0.4057271182537079, -0.4105043113231659, -0.41527023911476135, -0.42002567648887634, -0.42476874589920044], [-0.4295010566711426, -0.43422073125839233, -0.43892765045166016, -0.4436242878437042, -0.4483087360858917, -0.45298007130622864, -0.45763900876045227, -0.46228542923927307, -0.4669191837310791, -0.47154098749160767, -0.4761490225791931, -0.480744868516922, -0.48532670736312866, -0.48989441990852356, -0.4944503903388977, -0.49899283051490784, -0.5035207867622375, -0.508034884929657, -0.5125351548194885, -0.5170213580131531, -0.5214942097663879, -0.5259519815444946, -0.5303961038589478, -0.5348249673843384, -0.5392383337020874, -0.5436385869979858, -0.5480238795280457, -0.5523934364318848, -0.5567478537559509, -0.5610877871513367, -0.5654107928276062, -0.5697198510169983, -0.5740125775337219, -0.5782903432846069, -0.5825515389442444, -0.5867959260940552, -0.5910258293151855, -0.5952395796775818, -0.5994362235069275, -0.6036164164543152, -0.6077808737754822, -0.6119272112846375, -0.6160582900047302, -0.6201717257499695, -0.6242688894271851, -0.6283482313156128, -0.6324096918106079, -0.636455237865448, -0.6404833793640137, -0.6444932222366333, -0.6484854817390442, -0.6524606347084045, -0.6564165353775024, -0.6603558659553528, -0.6642763614654541, -0.668179452419281, -0.6720634698867798, -0.6759284138679504, -0.6797762513160706, -0.6836054921150208, -0.6874153017997742, -0.6912062764167786, -0.6949790120124817, -0.6987313032150269], [-0.7024658918380737, -0.7061805725097656, -0.709876537322998, -0.7135524153709412, -0.7172080874443054, -0.7208454012870789, -0.7244630455970764, -0.7280601263046265, -0.7316372990608215, -0.7351951003074646, -0.7387315034866333, -0.7422488927841187, -0.7457453608512878, -0.7492220401763916, -0.7526775598526001, -0.7561130523681641, -0.7595266699790955, -0.7629206776618958, -0.7662931680679321, -0.7696446776390076, -0.772975742816925, -0.7762844562530518, -0.7795730829238892, -0.7828397750854492, -0.7860856056213379, -0.7893093228340149, -0.7925119996070862, -0.7956917881965637, -0.7988510131835938, -0.8019877076148987, -0.805102527141571, -0.8081957697868347, -0.8112658262252808, -0.8143147826194763, -0.8173408508300781, -0.8203451037406921, -0.8233263492584229, -0.8262855410575867, -0.8292210698127747, -0.8321349620819092, -0.8350255489349365, -0.8378932476043701, -0.8407385349273682, -0.843559741973877, -0.8463588953018188, -0.8491343855857849, -0.8518871068954468, -0.8546159863471985, -0.8573219180107117, -0.8600034713745117, -0.8626623749732971, -0.8652971982955933, -0.8679083585739136, -0.8704962134361267, -0.8730592727661133, -0.8755993247032166, -0.8781149983406067, -0.8806070685386658, -0.8830745220184326, -0.8855183124542236, -0.8879368901252747, -0.8903321027755737, -0.8927024602890015, -0.8950483798980713], [-0.8973701596260071, -0.8996666073799133, -0.9019392132759094, -0.9041867256164551, -0.9064098596572876, -0.9086077809333801, -0.91078120470047, -0.9129288792610168, -0.9150524139404297, -0.9171504378318787, -0.9192233681678772, -0.9212715029716492, -0.9232943654060364, -0.9252912402153015, -0.9272631406784058, -0.9292100071907043, -0.9311310648918152, -0.9330269694328308, -0.9348966479301453, -0.9367414116859436, -0.9385601878166199, -0.940353274345398, -0.9421209096908569, -0.9438627362251282, -0.9455780982971191, -0.9472678303718567, -0.9489319920539856, -0.9505698680877686, -0.9521819353103638, -0.9537674188613892, -0.9553273320198059, -0.9568607807159424, -0.9583680629730225, -0.9598493576049805, -0.9613043665885925, -0.9627325534820557, -0.9641345739364624, -0.9655104875564575, -0.9668596982955933, -0.9681826829910278, -0.9694786667823792, -0.9707485437393188, -0.9719916582107544, -0.9732081294059753, -0.9743981957435608, -0.9755615592002869, -0.9766977429389954, -0.9778074622154236, -0.9788905382156372, -0.9799466133117676, -0.9809761047363281, -0.9819782972335815, -0.9829540252685547, -0.983902633190155, -0.9848242402076721, -0.9857191443443298, -0.9865869879722595, -0.9874274730682373, -0.9882411360740662, -0.9890278577804565, -0.9897873401641846, -0.9905198812484741, -0.9912251234054565, -0.9919032454490662], [-0.9925541877746582, -0.9931780099868774, -0.9937747120857239, -0.994344174861908, -0.9948862195014954, -0.9954010844230652, -0.9958888292312622, -0.9963492155075073, -0.9967823624610901, -0.997188150882721, -0.9975666403770447, -0.9979178309440613, -0.998241662979126, -0.9985381960868835, -0.998807430267334, -0.999049186706543, -0.9992636442184448, -0.9994508028030396, -0.9996104836463928, -0.999742865562439, -0.9998478293418884, -0.999925434589386, -0.9999756217002869, -0.9999985098838806]]\n"
          ]
        }
      ]
    },
    {
      "cell_type": "code",
      "source": [
        "file_path = 'simple_model.pth'\n",
        "torch.save(model.state_dict(), file_path)"
      ],
      "metadata": {
        "id": "YgM8qVqJK6CI"
      },
      "execution_count": 35,
      "outputs": []
    },
    {
      "cell_type": "code",
      "source": [
        "model1 = QSSMLayer()\n",
        "model1.load_state_dict(torch.load(file_path))\n",
        "model1.eval()"
      ],
      "metadata": {
        "colab": {
          "base_uri": "https://localhost:8080/"
        },
        "id": "he4qZPKkUvby",
        "outputId": "091c733d-1598-42e6-8599-c2214d1c9d1a"
      },
      "execution_count": 38,
      "outputs": [
        {
          "output_type": "stream",
          "name": "stderr",
          "text": [
            "<ipython-input-38-80a699686ac3>:2: FutureWarning: You are using `torch.load` with `weights_only=False` (the current default value), which uses the default pickle module implicitly. It is possible to construct malicious pickle data which will execute arbitrary code during unpickling (See https://github.com/pytorch/pytorch/blob/main/SECURITY.md#untrusted-models for more details). In a future release, the default value for `weights_only` will be flipped to `True`. This limits the functions that could be executed during unpickling. Arbitrary objects will no longer be allowed to be loaded via this mode unless they are explicitly allowlisted by the user via `torch.serialization.add_safe_globals`. We recommend you start setting `weights_only=True` for any use case where you don't have full control of the loaded file. Please open an issue on GitHub for any issues related to this experimental feature.\n",
            "  model1.load_state_dict(torch.load(file_path))\n"
          ]
        },
        {
          "output_type": "execute_result",
          "data": {
            "text/plain": [
              "QSSMLayer(\n",
              "  (qlayer_1): <Quantum Torch Layer: func=circuit_1>\n",
              "  (qlayer_2): <Quantum Torch Layer: func=circuit_2>\n",
              "  (qlayer_3): <Quantum Torch Layer: func=circuit_3>\n",
              ")"
            ]
          },
          "metadata": {},
          "execution_count": 38
        }
      ]
    },
    {
      "cell_type": "code",
      "source": [
        "#Evaluation\n",
        "model1.eval()\n",
        "test_loss_all = 0.0\n",
        "test_loss_y2 = 0.0\n",
        "num_batch = 0\n",
        "output_list = []\n",
        "y_list = []\n",
        "\n",
        "with torch.no_grad():\n",
        "    for batch_x_0, batch_x_1, batch_x_2, batch_y in test_loader:\n",
        "        output = model1(batch_x_0, batch_x_1, batch_x_2)\n",
        "\n",
        "        loss_all = criterion(output, batch_y)\n",
        "        test_loss_all += loss_all.item()\n",
        "\n",
        "        loss_y2 = criterion(output[:, 2], batch_y[:, 2])\n",
        "        test_loss_y2 += loss_y2.item()\n",
        "\n",
        "        output_list.append(output.tolist())\n",
        "        y_list.append(batch_y.tolist())\n",
        "\n",
        "        num_batch += 1\n",
        "    test_loss_all /= num_batch\n",
        "    test_loss_y2 /= num_batch\n",
        "print(f\"\\n Final test Loss (all steps): {test_loss_all:.4f}\")\n",
        "print(f\"\\n Final test Loss (3rd step): {test_loss_y2:.4f}\")"
      ],
      "metadata": {
        "colab": {
          "base_uri": "https://localhost:8080/"
        },
        "id": "7YJSu6TJVIAy",
        "outputId": "91ddd1ac-7295-499a-b73d-c75f28e54735"
      },
      "execution_count": 41,
      "outputs": [
        {
          "output_type": "stream",
          "name": "stdout",
          "text": [
            "\n",
            " Final test Loss (all steps): 0.0095\n",
            "\n",
            " Final test Loss (3rd step): 0.0098\n"
          ]
        }
      ]
    },
    {
      "cell_type": "code",
      "source": [
        "print(output_list)"
      ],
      "metadata": {
        "colab": {
          "base_uri": "https://localhost:8080/"
        },
        "id": "OGggidbrVIDh",
        "outputId": "9e9cca50-37a6-471b-b64c-f52a41a7243e"
      },
      "execution_count": 42,
      "outputs": [
        {
          "output_type": "stream",
          "name": "stdout",
          "text": [
            "[[[0.8400757312774658, 0.8365865349769592, 0.8364229798316956], [0.8400683403015137, 0.8365743160247803, 0.836405873298645], [0.8400461673736572, 0.8365473747253418, 0.836374044418335], [0.8400092720985413, 0.8365057706832886, 0.8363275527954102], [0.8399574756622314, 0.8364495635032654, 0.8362663388252258], [0.8398910164833069, 0.8363785743713379, 0.8361904621124268], [0.8398096561431885, 0.8362929224967957, 0.8360999226570129], [0.8397135138511658, 0.8361926078796387, 0.8359946608543396], [0.8396025896072388, 0.8360775113105774, 0.835874617099762], [0.8394768238067627, 0.8359478116035461, 0.8357399106025696], [0.8393361568450928, 0.8358032703399658, 0.8355904221534729], [0.8391807079315186, 0.835644006729126, 0.8354262113571167], [0.8390103578567505, 0.8354699611663818, 0.8352472186088562], [0.8388251066207886, 0.8352811932563782, 0.8350533246994019], [0.8386250734329224, 0.8350775837898254, 0.8348447680473328], [0.8384100198745728, 0.8348590731620789, 0.8346213102340698], [0.8381800055503845, 0.8346258401870728, 0.8343830108642578], [0.8379350304603577, 0.8343775868415833, 0.8341297507286072], [0.8376750946044922, 0.8341145515441895, 0.8338617086410522], [0.8374001383781433, 0.8338366150856018, 0.8335785865783691], [0.8371101021766663, 0.8335437774658203, 0.8332806825637817], [0.836804986000061, 0.8332358598709106, 0.8329676389694214], [0.8364848494529724, 0.8329129219055176, 0.8326396346092224], [0.8361494541168213, 0.8325750231742859, 0.83229660987854], [0.8357989192008972, 0.8322219848632812, 0.8319384455680847], [0.8354333639144897, 0.8318539261817932, 0.831565260887146], [0.8350524306297302, 0.8314706683158875, 0.8311767578125], [0.8346562385559082, 0.831072211265564, 0.8307731747627258], [0.8342446684837341, 0.830658495426178, 0.8303542733192444], [0.8338177800178528, 0.830229640007019, 0.8299201726913452], [0.8333755135536194, 0.8297854065895081, 0.829470694065094], [0.8329179286956787, 0.8293259739875793, 0.8290059566497803], [0.8324447274208069, 0.8288509249687195, 0.828525722026825], [0.8319560885429382, 0.8283606767654419, 0.8280301094055176], [0.8314518332481384, 0.8278548121452332, 0.8275189995765686], [0.8309319019317627, 0.8273334503173828, 0.8269922733306885], [0.8303963541984558, 0.8267964720726013, 0.8264499306678772], [0.8298452496528625, 0.826244056224823, 0.8258921504020691], [0.8292782306671143, 0.8256758451461792, 0.8253185749053955], [0.8286953568458557, 0.8250918388366699, 0.8247291445732117], [0.8280966281890869, 0.8244920969009399, 0.8241240978240967], [0.8274819254875183, 0.8238765001296997, 0.8235029578208923], [0.826851487159729, 0.8232451677322388, 0.8228662014007568], [0.8262048363685608, 0.8225976824760437, 0.8222132921218872], [0.825542151927948, 0.8219343423843384, 0.8215444087982178], [0.8248633146286011, 0.8212549686431885, 0.820859432220459], [0.8241680860519409, 0.8205592632293701, 0.8201582431793213], [0.8234566450119019, 0.8198474049568176, 0.8194407820701599], [0.8227291703224182, 0.8191195130348206, 0.8187073469161987], [0.821985125541687, 0.8183753490447998, 0.8179574608802795], [0.8212244510650635, 0.8176144957542419, 0.8171910047531128], [0.8204474449157715, 0.8168373703956604, 0.8164082169532776], [0.8196536898612976, 0.8160436749458313, 0.81560879945755], [0.8188434839248657, 0.815233588218689, 0.8147931098937988], [0.8180163502693176, 0.8144065737724304, 0.8139603137969971], [0.8171725273132324, 0.8135630488395691, 0.8131110668182373], [0.8163118362426758, 0.8127027750015259, 0.8122449517250061], [0.8154340386390686, 0.8118253946304321, 0.8113617897033691], [0.8145392537117004, 0.8109311461448669, 0.810461699962616], [0.8136277198791504, 0.8100201487541199, 0.8095449209213257], [0.8126988410949707, 0.8090919852256775, 0.8086108565330505], [0.8117525577545166, 0.8081465363502502, 0.8076594471931458], [0.8107892274856567, 0.8071839809417725, 0.8066909909248352], [0.8098081946372986, 0.8062039613723755, 0.8057051301002502]], [[0.8088101148605347, 0.8052069544792175, 0.80470210313797], [0.8077941536903381, 0.804192066192627, 0.8036811947822571], [0.8067607879638672, 0.8031599521636963, 0.8026430010795593], [0.8057096600532532, 0.8021101355552673, 0.8015871644020081], [0.8046405911445618, 0.8010424971580505, 0.800513505935669], [0.8035537600517273, 0.7999569773674011, 0.7994219064712524], [0.8024492859840393, 0.7988541126251221, 0.7983129620552063], [0.8013266921043396, 0.7977330684661865, 0.7971857786178589], [0.8001857995986938, 0.7965938448905945, 0.7960403561592102], [0.7990268468856812, 0.795436680316925, 0.7948769927024841], [0.7978494763374329, 0.7942612171173096, 0.7936952710151672], [0.796654224395752, 0.7930678725242615, 0.7924957275390625], [0.795440137386322, 0.7918557524681091, 0.7912774085998535], [0.7942076921463013, 0.7906253933906555, 0.7900408506393433], [0.7929567098617554, 0.7893766760826111, 0.7887856960296631], [0.7916868329048157, 0.7881090044975281, 0.7875117063522339], [0.7903981804847717, 0.7868226766586304, 0.7862191200256348], [0.789091169834137, 0.7855179905891418, 0.7849081158638], [0.7877649068832397, 0.7841944098472595, 0.7835780382156372], [0.7864195108413696, 0.78285151720047, 0.7822287082672119], [0.7850552201271057, 0.781489908695221, 0.7808607220649719], [0.783671498298645, 0.7801088690757751, 0.7794731855392456], [0.782268762588501, 0.7787089943885803, 0.778066873550415], [0.7808467149734497, 0.7772898077964783, 0.7766411304473877], [0.7794051170349121, 0.7758512496948242, 0.7751960158348083], [0.7779440879821777, 0.7743933200836182, 0.7737315893173218], [0.7764632105827332, 0.7729155421257019, 0.7722471952438354], [0.7749625444412231, 0.7714181542396545, 0.7707432508468628], [0.7734426856040955, 0.7699015140533447, 0.7692200541496277], [0.7719026803970337, 0.7683649063110352, 0.767676830291748], [0.7703424692153931, 0.7668082118034363, 0.7661133408546448], [0.768762469291687, 0.765231728553772, 0.7645303010940552], [0.7671620845794678, 0.763634979724884, 0.7629268169403076], [0.7655417919158936, 0.7620183825492859, 0.7613034248352051], [0.7639011144638062, 0.7603815197944641, 0.759660005569458], [0.7622401118278503, 0.7587244510650635, 0.7579960823059082], [0.7605587244033813, 0.7570469379425049, 0.7563117742538452], [0.7588564157485962, 0.7553486824035645, 0.7546067833900452], [0.7571335434913635, 0.7536298632621765, 0.7528811097145081], [0.7553905248641968, 0.751891016960144, 0.7511354684829712], [0.7536264657974243, 0.7501311898231506, 0.7493688464164734], [0.751841127872467, 0.748350203037262, 0.7475810050964355], [0.7500351667404175, 0.7465487122535706, 0.745772659778595], [0.7482078075408936, 0.7447258830070496, 0.74394291639328], [0.7463597059249878, 0.7428823113441467, 0.7420925498008728], [0.744490385055542, 0.7410176992416382, 0.7402210235595703], [0.7425998449325562, 0.7391319274902344, 0.738328218460083], [0.7406879663467407, 0.7372247576713562, 0.7364141941070557], [0.7387542128562927, 0.7352960109710693, 0.7344784140586853], [0.7367990016937256, 0.7333457469940186, 0.7325211763381958], [0.7348228693008423, 0.7313746809959412, 0.7305432558059692], [0.7328248023986816, 0.7293817400932312, 0.7285432815551758], [0.7308045625686646, 0.7273667454719543, 0.7265213131904602], [0.7287629246711731, 0.7253303527832031, 0.7244779467582703], [0.7266989350318909, 0.7232718467712402, 0.7224123477935791], [0.7246133685112, 0.7211918234825134, 0.7203252911567688], [0.7225058674812317, 0.7190898060798645, 0.7182163000106812], [0.7203762531280518, 0.7169657945632935, 0.7160852551460266], [0.7182244658470154, 0.7148197293281555, 0.7139320969581604], [0.7160500884056091, 0.7126510739326477, 0.7117564082145691], [0.7138532996177673, 0.7104602456092834, 0.7095584869384766], [0.7116349935531616, 0.7082479000091553, 0.7073391079902649], [0.7093938589096069, 0.7060127854347229, 0.705096960067749], [0.7071298360824585, 0.7037549018859863, 0.7028319835662842]], [[0.7048436403274536, 0.7014749646186829, 0.7005448937416077], [0.7025344371795654, 0.6991720199584961, 0.6982349157333374], [0.7002029418945312, 0.6968468427658081, 0.6959027647972107], [0.6978487372398376, 0.694499135017395, 0.6935478448867798], [0.6954717040061951, 0.6921286582946777, 0.691170334815979], [0.6930718421936035, 0.6897354125976562, 0.688770055770874], [0.6906486749649048, 0.6873189210891724, 0.6863464117050171], [0.688202440738678, 0.6848795413970947, 0.6838999390602112], [0.685734212398529, 0.6824180483818054, 0.6814315319061279], [0.6832424402236938, 0.6799332499504089, 0.6789395809173584], [0.6807270646095276, 0.6774250268936157, 0.6764242649078369], [0.6781890988349915, 0.6748940944671631, 0.673886239528656], [0.6756273508071899, 0.6723396182060242, 0.6713247299194336], [0.673042893409729, 0.669762372970581, 0.6687405109405518], [0.6704351305961609, 0.6671620011329651, 0.6661331057548523], [0.6678040623664856, 0.6645384430885315, 0.6635025143623352], [0.6651496887207031, 0.661891520023346, 0.6608485579490662], [0.6624712944030762, 0.6592208743095398, 0.6581708788871765], [0.6597696542739868, 0.6565268039703369, 0.6554698944091797], [0.6570449471473694, 0.6538099646568298, 0.6527460217475891], [0.6542971730232239, 0.6510701179504395, 0.64999920129776], [0.6515250205993652, 0.6483058333396912, 0.6472280025482178], [0.6487297415733337, 0.6455186605453491, 0.644433856010437], [0.6459103226661682, 0.6427074074745178, 0.641615629196167], [0.6430679559707642, 0.639873206615448, 0.638774573802948], [0.6402018666267395, 0.6370154619216919, 0.635909914970398], [0.6373121738433838, 0.6341341137886047, 0.6330217123031616], [0.634398877620697, 0.6312292814254761, 0.6301100254058838], [0.6314613223075867, 0.6283003091812134, 0.6271741986274719], [0.6285000443458557, 0.6253477334976196, 0.6242148280143738], [0.6255156397819519, 0.622372031211853, 0.6212323904037476], [0.6225081086158752, 0.6193733215332031, 0.6182268857955933], [0.6194757223129272, 0.6163498759269714, 0.6151967644691467], [0.6164202690124512, 0.6133034229278564, 0.6121435165405273], [0.613340437412262, 0.6102327108383179, 0.6090661287307739], [0.6102375388145447, 0.6071389317512512, 0.6059657335281372], [0.6071109175682068, 0.6040215492248535, 0.6028417348861694], [0.6039605140686035, 0.6008805632591248, 0.5996941328048706], [0.6007864475250244, 0.5977159738540649, 0.5965229272842407], [0.5975881218910217, 0.5945271849632263, 0.5933275818824768], [0.5943661332130432, 0.5913148522377014, 0.5901087522506714], [0.5911210179328918, 0.5880793929100037, 0.5868669152259827], [0.587852954864502, 0.5848211050033569, 0.5836020708084106], [0.5845599174499512, 0.5815380215644836, 0.5803126692771912], [0.5812439918518066, 0.5782321095466614, 0.5770002603530884], [0.5779038667678833, 0.5749019980430603, 0.5736638903617859], [0.5745407938957214, 0.5715490579605103, 0.5703046917915344], [0.5711541175842285, 0.5681726932525635, 0.5669220685958862], [0.5677441358566284, 0.56477290391922, 0.5635160803794861], [0.5643104910850525, 0.5613498091697693, 0.5600867867469788], [0.5608528256416321, 0.5579026937484741, 0.5566335916519165], [0.5573719143867493, 0.554432213306427, 0.5531570315361023], [0.5538681745529175, 0.5509392619132996, 0.5496580004692078], [0.550341784954071, 0.5474236607551575, 0.5461364388465881], [0.5467908978462219, 0.5438836216926575, 0.5425904393196106], [0.5432174801826477, 0.5403211712837219, 0.5390220880508423], [0.5396201610565186, 0.5367350578308105, 0.5354300737380981], [0.5360005497932434, 0.5331264734268188, 0.5318157076835632], [0.5323578119277954, 0.5294950008392334, 0.5281784534454346], [0.5286921262741089, 0.5258406400680542, 0.5245184898376465], [0.5250035524368286, 0.522163450717926, 0.5208356380462646], [0.5212914347648621, 0.5184628367424011, 0.5171294808387756], [0.5175565481185913, 0.5147395730018616, 0.5134006142616272], [0.5137996077537537, 0.5109943747520447, 0.509649932384491]], [[0.5100207924842834, 0.5072272419929504, 0.5058774352073669], [0.5062180161476135, 0.5034363269805908, 0.5020812153816223], [0.5023935437202454, 0.49962377548217773, 0.49826332926750183], [0.4985458552837372, 0.49578821659088135, 0.49442246556282043], [0.4946766197681427, 0.4919310510158539, 0.4905602037906647], [0.4907844066619873, 0.4880511462688446, 0.4866751730442047], [0.4868715703487396, 0.48415061831474304, 0.48276957869529724], [0.48293596506118774, 0.48022741079330444, 0.4788414537906647], [0.4789777398109436, 0.47628164291381836, 0.474890798330307], [0.4749976098537445, 0.47231414914131165, 0.4709184467792511], [0.47099652886390686, 0.46832576394081116, 0.4669252932071686], [0.46697452664375305, 0.4643165171146393, 0.46291136741638184], [0.46292954683303833, 0.4602844715118408, 0.4588746130466461], [0.4588639438152313, 0.4562317430973053, 0.45481738448143005], [0.45477625727653503, 0.4521571099758148, 0.4507382810115814], [0.4506681263446808, 0.44806215167045593, 0.4466388523578644], [0.4465382397174835, 0.4439454972743988, 0.44251787662506104], [0.4423888921737671, 0.4398094713687897, 0.4383775591850281], [0.43821799755096436, 0.435651957988739, 0.4342159032821655], [0.4340256452560425, 0.43147310614585876, 0.4300329387187958], [0.4298127591609955, 0.42727378010749817, 0.42582961916923523], [0.4255802035331726, 0.42305493354797363, 0.42160677909851074], [0.4213281273841858, 0.4188166558742523, 0.41736459732055664], [0.41705435514450073, 0.41455674171447754, 0.413100928068161], [0.412761390209198, 0.41027769446372986, 0.40881821513175964], [0.4084477722644806, 0.40597811341285706, 0.40451502799987793], [0.4041152596473694, 0.40165969729423523, 0.4001930356025696], [0.3997623324394226, 0.39732101559638977, 0.39585089683532715], [0.3953916132450104, 0.39296457171440125, 0.3914911448955536], [0.391000896692276, 0.38858821988105774, 0.38711148500442505], [0.38659024238586426, 0.3841920793056488, 0.38271215558052063], [0.38216063380241394, 0.37977704405784607, 0.37829405069351196], [0.3777131140232086, 0.3753441274166107, 0.37385812401771545], [0.3732477128505707, 0.3708935081958771, 0.3694046139717102], [0.368762344121933, 0.3664229214191437, 0.36493122577667236], [0.3642595410346985, 0.361935019493103, 0.36044058203697205], [0.359737753868103, 0.35742825269699097, 0.35593119263648987], [0.3551989197731018, 0.3529044985771179, 0.35140490531921387], [0.35064151883125305, 0.3483622968196869, 0.34686025977134705], [0.34606823325157166, 0.3438042402267456, 0.3422999083995819], [0.34147676825523376, 0.3392281234264374, 0.33772149682044983], [0.3368672728538513, 0.33463406562805176, 0.3331252932548523], [0.3322407603263855, 0.3300230801105499, 0.3285122513771057], [0.32759836316108704, 0.32539626955986023, 0.3238834738731384], [0.3229401707649231, 0.32075372338294983, 0.31923913955688477], [0.3182638883590698, 0.31609317660331726, 0.3145768642425537], [0.3135722577571869, 0.3114174008369446, 0.3098994493484497], [0.30886372923851013, 0.3067248463630676, 0.3052053451538086], [0.3041403293609619, 0.3020174205303192, 0.30049651861190796], [0.2994004487991333, 0.29729363322257996, 0.29577139019966125], [0.2946469187736511, 0.2925562560558319, 0.2910328209400177], [0.289877325296402, 0.28780293464660645, 0.2862783670425415], [0.28509199619293213, 0.28303390741348267, 0.28150835633277893], [0.2802918255329132, 0.27825021743774414, 0.276723712682724], [0.2754780650138855, 0.27345290780067444, 0.2719256281852722], [0.2706508934497833, 0.26864227652549744, 0.2671143412590027], [0.2658078670501709, 0.26381590962409973, 0.2622874081134796], [0.2609519064426422, 0.25897666811943054, 0.2574477195739746], [0.25608140230178833, 0.2541229724884033, 0.25259366631507874], [0.251198410987854, 0.24925687909126282, 0.24772733449935913], [0.24630135297775269, 0.2443767637014389, 0.24284709990024567], [0.24139316380023956, 0.23948559165000916, 0.23795592784881592], [0.23647141456604004, 0.23458093404769897, 0.2330513596534729], [0.23153628408908844, 0.22966298460960388, 0.22813363373279572]], [[0.22658893465995789, 0.224732905626297, 0.2232038676738739], [0.2216305285692215, 0.21979179978370667, 0.21826323866844177], [0.21666038036346436, 0.21483907103538513, 0.21331104636192322], [0.21167875826358795, 0.20987491309642792, 0.20834757387638092], [0.2066859006881714, 0.2048995941877365, 0.2033730447292328], [0.20168115198612213, 0.199912428855896, 0.1983868032693863], [0.19666658341884613, 0.1949155479669571, 0.19339093565940857], [0.19164058566093445, 0.18990729749202728, 0.18838383257389069], [0.18660621345043182, 0.1848907470703125, 0.1833685338497162], [0.1815609335899353, 0.1798633337020874, 0.1783425211906433], [0.17650501430034637, 0.17482538521289825, 0.17330604791641235], [0.17143964767456055, 0.1697780340909958, 0.1682603359222412], [0.16636599600315094, 0.16472245752811432, 0.16320650279521942], [0.16128340363502502, 0.1596580147743225, 0.15814390778541565], [0.1561921387910843, 0.15458495914936066, 0.15307283401489258], [0.15109246969223022, 0.14950357377529144, 0.1479935348033905], [0.1459837257862091, 0.14441314339637756, 0.1429053246974945], [0.14086803793907166, 0.13931585848331451, 0.1378103792667389], [0.13574378192424774, 0.13421007990837097, 0.13270707428455353], [0.13061408698558807, 0.12909889221191406, 0.12759844958782196], [0.1254763901233673, 0.12397975474596024, 0.12248202413320541], [0.12033095210790634, 0.11885295063257217, 0.11735805124044418], [0.11517898738384247, 0.11371967941522598, 0.11222773045301437], [0.11002171039581299, 0.10858115553855896, 0.10709225386381149], [0.10485846549272537, 0.10343671590089798, 0.101951003074646], [0.0996895283460617, 0.09828662127256393, 0.09680423140525818], [0.09451516717672348, 0.0931311696767807, 0.09165220707654953], [0.08933471888303757, 0.08796969056129456, 0.08649428188800812], [0.08415035158395767, 0.08280432969331741, 0.08133260160684586], [0.07896045595407486, 0.07763350009918213, 0.0761655792593956], [0.07376815378665924, 0.07246031612157822, 0.07099629938602448], [0.06857088208198547, 0.06728220731019974, 0.06582222878932953], [0.06336891651153564, 0.062099456787109375, 0.060643650591373444], [0.05816350132226944, 0.05691329389810562, 0.05546177551150322], [0.05295585095882416, 0.051724955439567566, 0.050277840346097946], [0.047745320945978165, 0.04653376340866089, 0.045091185718774796], [0.04253217577934265, 0.04134001582860947, 0.03990207985043526], [0.0373167060315609, 0.03614398092031479, 0.03471082076430321], [0.032098252326250076, 0.030945006757974625, 0.029516737908124924], [0.026878995820879936, 0.025745268911123276, 0.024322012439370155], [0.021657317876815796, 0.02054314874112606, 0.019125033169984818], [0.016436360776424408, 0.015341788530349731, 0.013928922824561596], [0.011213558726012707, 0.01013861782848835, 0.008731127716600895], [0.005989192519336939, 0.004933926742523909, 0.0035319316666573286], [0.0007645014557056129, -0.00027105395565740764, -0.001667433767579496], [-0.004459275398403406, -0.005475089885294437, -0.0068657356314361095], [-0.009682804346084595, -0.010678845457732677, -0.012063638307154179], [-0.014905799180269241, -0.015882031992077827, -0.017260855063796043], [-0.020127974450588226, -0.021084370091557503, -0.022457102313637733], [-0.025349996984004974, -0.026286518201231956, -0.0276530422270298], [-0.03056967630982399, -0.03148629888892174, -0.03284649923443794], [-0.03578862547874451, -0.03668532148003578, -0.03803907707333565], [-0.04100371524691582, -0.04188046231865883, -0.0432276614010334], [-0.04621751233935356, -0.04707428067922592, -0.04841480404138565], [-0.05142971873283386, -0.05226648598909378, -0.053600210696458817], [-0.05663911625742912, -0.05745584890246391, -0.0587826706469059], [-0.06184446066617966, -0.06264115869998932, -0.06396094709634781], [-0.06704642623662949, -0.06782304495573044, -0.06913570314645767], [-0.07224472612142563, -0.07300125807523727, -0.0743066743016243], [-0.077439084649086, -0.07817550003528595, -0.07947356253862381], [-0.08263015002012253, -0.08334644883871078, -0.08463703095912933], [-0.0878157764673233, -0.08851192146539688, -0.08979491144418716], [-0.09299754351377487, -0.09367354214191437, -0.09494882076978683], [-0.09817236661911011, -0.09882818907499313, -0.10009567439556122]], [[-0.10334277898073196, -0.10397842526435852, -0.10523798316717148], [-0.10850852727890015, -0.10912396758794785, -0.11037550121545792], [-0.11366835981607437, -0.11426358669996262, -0.11550698429346085], [-0.11882107704877853, -0.11939609050750732, -0.12063123285770416], [-0.12396734952926636, -0.1245221421122551, -0.12574893236160278], [-0.12910689413547516, -0.12964144349098206, -0.13085979223251343], [-0.13423945009708405, -0.1347537785768509, -0.1359635442495346], [-0.13936567306518555, -0.13985975086688995, -0.14106084406375885], [-0.14448341727256775, -0.1449572741985321, -0.14614959061145782], [-0.14959430694580078, -0.1500478982925415, -0.1512313336133957], [-0.15469525754451752, -0.1551285833120346, -0.1563030481338501], [-0.15978878736495972, -0.16020187735557556, -0.161367267370224], [-0.16487465798854828, -0.1652674823999405, -0.16642369329929352], [-0.16995161771774292, -0.17032422125339508, -0.17147113382816315], [-0.1750185638666153, -0.17537091672420502, -0.17650845646858215], [-0.18007610738277435, -0.18040822446346283, -0.18153628706932068], [-0.185124009847641, -0.18543589115142822, -0.18655437231063843], [-0.19016198813915253, -0.1904536783695221, -0.1915624588727951], [-0.19519071280956268, -0.1954621970653534, -0.19656121730804443], [-0.2002081423997879, -0.20045937597751617, -0.20154856145381927], [-0.20521578192710876, -0.20544683933258057, -0.20652607083320618], [-0.2102106809616089, -0.2104215770959854, -0.2114907205104828], [-0.21519532799720764, -0.2153860628604889, -0.21644507348537445], [-0.22016948461532593, -0.2203400582075119, -0.2213888168334961], [-0.22513192892074585, -0.22528238594532013, -0.22632081806659698], [-0.23008160293102264, -0.23021191358566284, -0.2312399446964264], [-0.23501911759376526, -0.23512932658195496, -0.23614686727523804], [-0.2399442195892334, -0.24003435671329498, -0.24104131758213043], [-0.24485673010349274, -0.2449267953634262, -0.24592308700084686], [-0.24975721538066864, -0.24980728328227997, -0.25079280138015747], [-0.2546437680721283, -0.2546738088130951, -0.2556484639644623], [-0.2595178186893463, -0.25952789187431335, -0.26049163937568665], [-0.26437750458717346, -0.26436755061149597, -0.2653203308582306], [-0.2692224383354187, -0.2691926062107086, -0.2701342701911926], [-0.2740551829338074, -0.27400538325309753, -0.27493590116500854], [-0.27887365221977234, -0.2788040041923523, -0.27972325682640076], [-0.28367677330970764, -0.2835872769355774, -0.28449520468711853], [-0.2884652316570282, -0.28835591673851013, -0.28925246000289917], [-0.2932388186454773, -0.2931097149848938, -0.2939947545528412], [-0.29799726605415344, -0.2978484332561493, -0.29872196912765503], [-0.30274125933647156, -0.30257266759872437, -0.3034346401691437], [-0.30746886134147644, -0.30728060007095337, -0.30813083052635193], [-0.31218159198760986, -0.3119736909866333, -0.31281211972236633], [-0.3168775141239166, -0.31665000319480896, -0.31747666001319885], [-0.32155641913414, -0.32130932807922363, -0.3221241235733032], [-0.32622066140174866, -0.3259540796279907, -0.32675689458847046], [-0.3308684229850769, -0.33058232069015503, -0.3313731253147125], [-0.33549854159355164, -0.335193008184433, -0.3359716832637787], [-0.34011173248291016, -0.3397867679595947, -0.340553343296051], [-0.34470778703689575, -0.3443635106086731, -0.34511783719062805], [-0.3492865562438965, -0.3489229679107666, -0.3496650457382202], [-0.3538486361503601, -0.3534657657146454, -0.3541955351829529], [-0.3583921790122986, -0.3579901456832886, -0.3587074875831604], [-0.3629187345504761, -0.3624975085258484, -0.36320242285728455], [-0.36742642521858215, -0.3669860363006592, -0.3676784932613373], [-0.3719150424003601, -0.3714556396007538, -0.3721355199813843], [-0.3763869106769562, -0.3759084939956665, -0.376575767993927], [-0.3808402419090271, -0.38034287095069885, -0.38099750876426697], [-0.3852740228176117, -0.38475772738456726, -0.38539963960647583], [-0.3896889388561249, -0.38915377855300903, -0.38978293538093567], [-0.39408478140830994, -0.39353081583976746, -0.39414721727371216], [-0.39846137166023254, -0.397888720035553, -0.3984922468662262], [-0.4028194546699524, -0.40222808718681335, -0.4028187394142151], [-0.40715721249580383, -0.4065472483634949, -0.40712496638298035]], [[-0.4114760756492615, -0.41084757447242737, -0.4114122688770294], [-0.41577431559562683, -0.41512730717658997, -0.41567903757095337], [-0.4200518727302551, -0.4193864166736603, -0.4199250340461731], [-0.4243108332157135, -0.42362701892852783, -0.42415258288383484], [-0.42854952812194824, -0.42784738540649414, -0.42835983633995056], [-0.4327670931816101, -0.43204671144485474, -0.4325459897518158], [-0.43696415424346924, -0.436225563287735, -0.4367116689682007], [-0.4411405622959137, -0.4403838813304901, -0.4408567249774933], [-0.44529619812965393, -0.4445214569568634, -0.44498103857040405], [-0.4494316875934601, -0.4486389458179474, -0.4490852355957031], [-0.45354536175727844, -0.45273470878601074, -0.45316770672798157], [-0.457638680934906, -0.4568101763725281, -0.4572297930717468], [-0.46170997619628906, -0.46086370944976807, -0.46126991510391235], [-0.46575915813446045, -0.4648951590061188, -0.4652880132198334], [-0.4697883129119873, -0.4689067006111145, -0.46928614377975464], [-0.4737958610057831, -0.4728966951370239, -0.4732626974582672], [-0.4777809977531433, -0.47686436772346497, -0.47721683979034424], [-0.48174428939819336, -0.480810284614563, -0.48114925622940063], [-0.4856857657432556, -0.48473435640335083, -0.48505982756614685], [-0.4896051287651062, -0.48863649368286133, -0.4889485538005829], [-0.4935031831264496, -0.492517352104187, -0.492815762758255], [-0.49737828969955444, -0.4963754117488861, -0.4966602325439453], [-0.501231849193573, -0.5002118945121765, -0.5004832148551941], [-0.5050623416900635, -0.5040254592895508, -0.5042831301689148], [-0.5088697075843811, -0.507815957069397, -0.5080599784851074], [-0.5126558542251587, -0.5115853548049927, -0.5118158459663391], [-0.5164194703102112, -0.5153322219848633, -0.5155491232872009], [-0.5201596021652222, -0.5190557837486267, -0.5192590355873108], [-0.5238771438598633, -0.5227566957473755, -0.522946298122406], [-0.5275724530220032, -0.5264354348182678, -0.5266115069389343], [-0.5312435030937195, -0.5300901532173157, -0.5302525758743286], [-0.5348929166793823, -0.5337232947349548, -0.533872127532959], [-0.5385187268257141, -0.5373328924179077, -0.5374680161476135], [-0.5421220660209656, -0.540920078754425, -0.5410415530204773], [-0.5457016229629517, -0.5444836616516113, -0.5445914268493652], [-0.5492573380470276, -0.5480234026908875, -0.5481175780296326], [-0.5527911186218262, -0.551541268825531, -0.5516217947006226], [-0.5563016533851624, -0.5550360083580017, -0.5551029443740845], [-0.559788167476654, -0.5585068464279175, -0.5585601329803467], [-0.5632513165473938, -0.5619543194770813, -0.5619940161705017], [-0.5666916966438293, -0.5653792023658752, -0.5654053092002869], [-0.5701074004173279, -0.568779468536377, -0.5687918663024902], [-0.5735008120536804, -0.5721574425697327, -0.5721564292907715], [-0.5768701434135437, -0.5755114555358887, -0.5754968523979187], [-0.5802164077758789, -0.5788426995277405, -0.5788143873214722], [-0.5835386514663696, -0.5821497440338135, -0.5821079611778259], [-0.586836576461792, -0.5854327082633972, -0.5853773951530457], [-0.5901121497154236, -0.5886933207511902, -0.5886245369911194], [-0.5933640599250793, -0.5919303894042969, -0.5918480753898621], [-0.5965917110443115, -0.5951433181762695, -0.5950474739074707], [-0.5997956991195679, -0.5983327031135559, -0.5982233881950378], [-0.6029765605926514, -0.6014989614486694, -0.6013762354850769], [-0.6061326265335083, -0.6046404838562012, -0.604504406452179], [-0.6092660427093506, -0.6077596545219421, -0.6076100468635559], [-0.6123752593994141, -0.6108545660972595, -0.6106916069984436], [-0.6154612302780151, -0.613926351070404, -0.6137501001358032], [-0.6185229420661926, -0.6169739961624146, -0.6167844533920288], [-0.6215604543685913, -0.6199974417686462, -0.6197946071624756], [-0.6245753765106201, -0.6229984760284424, -0.622782289981842], [-0.6275665163993835, -0.6259757280349731, -0.6257463693618774], [-0.6305335164070129, -0.6289290189743042, -0.6286863684654236], [-0.633476734161377, -0.6318585872650146, -0.6316028237342834], [-0.6363968253135681, -0.6347651481628418, -0.6344961524009705], [-0.6392922401428223, -0.6376470923423767, -0.6373649835586548]], [[-0.6421650648117065, -0.6405065059661865, -0.6402113437652588], [-0.645013689994812, -0.6433418989181519, -0.6430336236953735], [-0.6478392481803894, -0.6461542844772339, -0.6458330154418945], [-0.6506407260894775, -0.6489427089691162, -0.648608386516571], [-0.6534181237220764, -0.6517070531845093, -0.6513598561286926], [-0.6561729907989502, -0.6544490456581116, -0.6540889143943787], [-0.6589043736457825, -0.6571676731109619, -0.6567946672439575], [-0.661611795425415, -0.6598623394966125, -0.6594765186309814], [-0.6642957925796509, -0.6625336408615112, -0.6621350646018982], [-0.6669568419456482, -0.6651821732521057, -0.6647708415985107], [-0.6695935726165771, -0.6678065061569214, -0.6673824191093445], [-0.6722079515457153, -0.6704084873199463, -0.669971764087677], [-0.6747984886169434, -0.6729868054389954, -0.6725373864173889], [-0.677366316318512, -0.6755424737930298, -0.6750804781913757], [-0.67991042137146, -0.6780744194984436, -0.6775999665260315], [-0.6824318170547485, -0.6805839538574219, -0.6800969839096069], [-0.6849292516708374, -0.6830694079399109, -0.6825699806213379], [-0.687404453754425, -0.6855328679084778, -0.6850210428237915], [-0.6898562908172607, -0.687972903251648, -0.6874486804008484], [-0.6922850608825684, -0.6903901100158691, -0.6898535490036011], [-0.6946913599967957, -0.69278484582901, -0.6922360062599182], [-0.6970739960670471, -0.6951559782028198, -0.6945949196815491], [-0.6994346380233765, -0.6975052952766418, -0.6969320774078369], [-0.7017720937728882, -0.699831485748291, -0.6992462277412415], [-0.7040873169898987, -0.7021355032920837, -0.7015381455421448], [-0.7063794136047363, -0.7044165134429932, -0.7038071751594543], [-0.7086493968963623, -0.7066755294799805, -0.7060542106628418], [-0.7108960151672363, -0.7089112401008606, -0.7082780003547668], [-0.7131210565567017, -0.7111254930496216, -0.7104803323745728], [-0.715323269367218, -0.7133169174194336, -0.7126600742340088], [-0.7175031900405884, -0.7154861092567444, -0.7148175239562988], [-0.7196612358093262, -0.7176336646080017, -0.7169533371925354], [-0.7217963337898254, -0.7197582721710205, -0.7190662622451782], [-0.7239100933074951, -0.7218616008758545, -0.7211580276489258], [-0.7260013818740845, -0.7239426374435425, -0.7232275605201721], [-0.7280711531639099, -0.7260021567344666, -0.7252755761146545], [-0.7301185727119446, -0.7280394434928894, -0.7273014783859253], [-0.7321445345878601, -0.7300553917884827, -0.7293060421943665], [-0.7341480255126953, -0.7320488691329956, -0.7312882542610168], [-0.7361306548118591, -0.7340215444564819, -0.7332496643066406], [-0.7380911707878113, -0.7359723448753357, -0.7351892590522766], [-0.7400302290916443, -0.7379016280174255, -0.7371074557304382], [-0.7419481873512268, -0.7398099303245544, -0.7390047311782837], [-0.7438439726829529, -0.7416961789131165, -0.7408799529075623], [-0.7457192540168762, -0.7435620427131653, -0.7427349090576172], [-0.7475730180740356, -0.7454063296318054, -0.7445682287216187], [-0.7494059205055237, -0.7472298741340637, -0.7463810443878174], [-0.7512174844741821, -0.749032199382782, -0.7481725811958313], [-0.7530083060264587, -0.750813901424408, -0.7499435544013977], [-0.7547776103019714, -0.7525741457939148, -0.7516931891441345], [-0.7565268278121948, -0.7543143033981323, -0.753422737121582], [-0.7582549452781677, -0.7560334205627441, -0.7551313638687134], [-0.7599623799324036, -0.7577320337295532, -0.7568195462226868], [-0.7616496682167053, -0.7594104409217834, -0.7584875822067261], [-0.763315737247467, -0.7610679268836975, -0.7601346969604492], [-0.7649621367454529, -0.7627056241035461, -0.7617620825767517], [-0.7665877938270569, -0.7643227577209473, -0.7633690237998962], [-0.7681936025619507, -0.7659200429916382, -0.7649562358856201], [-0.7697789669036865, -0.7674970030784607, -0.7665230631828308], [-0.7713445425033569, -0.7690542936325073, -0.7680702805519104], [-0.7728896141052246, -0.7705910205841064, -0.7695971131324768], [-0.7744153141975403, -0.7721086144447327, -0.7711047530174255], [-0.7759209871292114, -0.7736061215400696, -0.7725924849510193], [-0.7774069905281067, -0.7750838994979858, -0.7740606069564819]], [[-0.7788735032081604, -0.7765424847602844, -0.7755094170570374], [-0.7803200483322144, -0.7779811024665833, -0.7769383788108826], [-0.7817476391792297, -0.7794008851051331, -0.7783485054969788], [-0.7831555008888245, -0.780800998210907, -0.7797391414642334], [-0.7845444679260254, -0.7821821570396423, -0.781110942363739], [-0.7859139442443848, -0.7835439443588257, -0.7824632525444031], [-0.7872645258903503, -0.7848869562149048, -0.7837969660758972], [-0.7885956168174744, -0.7862105369567871, -0.7851113080978394], [-0.7899082899093628, -0.7875156402587891, -0.7864071726799011], [-0.7912018299102783, -0.7888017892837524, -0.7876842021942139], [-0.7924765348434448, -0.7900691628456116, -0.7889425754547119], [-0.7937328815460205, -0.7913181781768799, -0.7901825904846191], [-0.7949705719947815, -0.792548656463623, -0.7914040684700012], [-0.7961893081665039, -0.7937601804733276, -0.792606770992279], [-0.7973898649215698, -0.7949535846710205, -0.7937913537025452], [-0.7985721826553345, -0.7961288690567017, -0.7949579358100891], [-0.7997361421585083, -0.7972857356071472, -0.7961061596870422], [-0.80088210105896, -0.7984247803688049, -0.7972365021705627], [-0.8020094633102417, -0.7995452880859375, -0.7983484268188477], [-0.8031192421913147, -0.8006482124328613, -0.7994428873062134], [-0.8042108416557312, -0.8017330765724182, -0.8005193471908569], [-0.8052846193313599, -0.8028001189231873, -0.8015780448913574], [-0.8063408136367798, -0.8038495779037476, -0.8026191592216492], [-0.8073793053627014, -0.8048813939094543, -0.8036428093910217], [-0.8083998560905457, -0.8058953881263733, -0.8046485185623169], [-0.8094029426574707, -0.8068919777870178, -0.8056369423866272], [-0.8103887438774109, -0.8078712821006775, -0.806608259677887], [-0.8113570809364319, -0.8088331818580627, -0.8075620532035828], [-0.812308132648468, -0.8097777962684631, -0.8084988594055176], [-0.813241720199585, -0.8107050657272339, -0.8094182014465332], [-0.8141583800315857, -0.8116154074668884, -0.8103207349777222], [-0.8150578141212463, -0.8125086426734924, -0.8112062811851501], [-0.8159403204917908, -0.8133848309516907, -0.8120747208595276], [-0.8168059587478638, -0.814244270324707, -0.8129265308380127], [-0.8176546692848206, -0.8150869607925415, -0.8137616515159607], [-0.8184862732887268, -0.8159124851226807, -0.8145796656608582], [-0.8193013668060303, -0.8167215585708618, -0.8153812289237976], [-0.8200998902320862, -0.8175140023231506, -0.816166341304779], [-0.8208816647529602, -0.8182898759841919, -0.8169348239898682], [-0.821647047996521, -0.8190493583679199, -0.8176869750022888], [-0.8223957419395447, -0.8197920322418213, -0.8184224963188171], [-0.8231282234191895, -0.8205187916755676, -0.8191420435905457], [-0.8238442540168762, -0.8212289810180664, -0.8198451399803162], [-0.8245440125465393, -0.8219228982925415, -0.8205320835113525], [-0.8252277374267578, -0.8226008415222168, -0.8212029933929443], [-0.8258951902389526, -0.823262631893158, -0.8218578100204468], [-0.8265463709831238, -0.8239081501960754, -0.8224964737892151], [-0.8271816372871399, -0.8245378136634827, -0.8231192231178284], [-0.827800989151001, -0.8251515626907349, -0.823726236820221], [-0.8284043669700623, -0.8257493376731873, -0.824317216873169], [-0.8289918899536133, -0.8263312578201294, -0.8248926401138306], [-0.8295634388923645, -0.8268973231315613, -0.8254520893096924], [-0.8301194310188293, -0.8274478316307068, -0.8259959816932678], [-0.8306596875190735, -0.8279825448989868, -0.8265241980552673], [-0.8311841487884521, -0.8285016417503357, -0.8270368576049805], [-0.831693172454834, -0.8290051817893982, -0.8275339603424072], [-0.8321865200996399, -0.8294931650161743, -0.8280156254768372], [-0.8326643109321594, -0.8299656510353088, -0.8284816741943359], [-0.8331266641616821, -0.830422580242157, -0.828932523727417], [-0.8335736393928528, -0.8308642506599426, -0.8293679356575012], [-0.8340051770210266, -0.8312904834747314, -0.8297879695892334], [-0.8344213962554932, -0.831701397895813, -0.8301929235458374], [-0.8348222970962524, -0.832097053527832, -0.8305824995040894], [-0.8352078795433044, -0.8324773907661438, -0.8309568762779236]], [[-0.835578203201294, -0.8328425884246826, -0.8313160538673401], [-0.8359333872795105, -0.8331925272941589, -0.8316601514816284], [-0.8362734317779541, -0.8335274457931519, -0.8319891691207886], [-0.8365983963012695, -0.8338472247123718, -0.8323031663894653], [-0.8369081020355225, -0.8341518044471741, -0.8326019644737244], [-0.8372028470039368, -0.8344414234161377, -0.8328858613967896], [-0.8374825119972229, -0.8347160816192627, -0.8331547975540161], [-0.8377472162246704, -0.8349756598472595, -0.833408772945404], [-0.8379969596862793, -0.8352202773094177, -0.8336477875709534], [-0.83823162317276, -0.8354498744010925, -0.8338719606399536], [-0.8384514451026917, -0.8356646299362183, -0.8340811729431152], [-0.8386563062667847, -0.8358644843101501, -0.8342756032943726], [-0.8388463258743286, -0.836049497127533, -0.834455132484436], [-0.8390214443206787, -0.8362195491790771, -0.8346198797225952], [-0.8391817212104797, -0.8363748788833618, -0.8347698450088501], [-0.8393270969390869, -0.8365151882171631, -0.8349049687385559], [-0.8394576907157898, -0.8366408348083496, -0.8350253105163574], [-0.8395735025405884, -0.8367516994476318, -0.8351309895515442], [-0.8396744728088379, -0.8368476629257202, -0.8352217674255371], [-0.8397606611251831, -0.8369289040565491, -0.8352978825569153], [-0.8398320078849792, -0.8369953036308289, -0.8353592753410339], [-0.8398885726928711, -0.8370470404624939, -0.8354059457778931], [-0.8399304747581482, -0.8370838761329651, -0.8354378342628479], [-0.8399575352668762, -0.8371060490608215, -0.8354550004005432]]]\n"
          ]
        }
      ]
    },
    {
      "cell_type": "code",
      "source": [
        "print(y_list)"
      ],
      "metadata": {
        "colab": {
          "base_uri": "https://localhost:8080/"
        },
        "id": "ydaLWjpYZVIY",
        "outputId": "ccf0a069-7cd0-48b0-a46f-daf498873edd"
      },
      "execution_count": 43,
      "outputs": [
        {
          "output_type": "stream",
          "name": "stdout",
          "text": [
            "[[[0.9999985098838806, 0.9999939203262329, 0.9999862909317017], [0.9999756813049316, 0.9999619722366333, 0.9999452233314514], [0.999925434589386, 0.999902606010437, 0.9998767375946045], [0.9998478293418884, 0.9998158812522888, 0.9997808933258057], [0.999742865562439, 0.9997017979621887, 0.9996576309204102], [0.9996105432510376, 0.9995602965354919, 0.9995070099830627], [0.9994508028030396, 0.9993914365768433, 0.9993290305137634], [0.9992637038230896, 0.9991952180862427, 0.9991236925125122], [0.999049186706543, 0.9989715814590454, 0.9988909363746643], [0.998807430267334, 0.9987207055091858, 0.998630940914154], [0.9985381960868835, 0.9984423518180847, 0.9983434677124023], [0.9982417225837708, 0.9981367588043213, 0.9980287551879883], [0.997917890548706, 0.997803807258606, 0.9976866841316223], [0.9975666403770447, 0.997443437576294, 0.9973171949386597], [0.9971882104873657, 0.9970559477806091, 0.9969205856323242], [0.9967823624610901, 0.9966409802436829, 0.9964964985847473], [0.9963492751121521, 0.9961987733840942, 0.9960452318191528], [0.9958888292312622, 0.9957292079925537, 0.9955666065216064], [0.9954012036323547, 0.9952325224876404, 0.9950607419013977], [0.9948862195014954, 0.9947084188461304, 0.9945275783538818], [0.994344174861908, 0.9941573143005371, 0.9939674139022827], [0.9937747120857239, 0.9935787320137024, 0.9933797717094421], [0.993178129196167, 0.9929730892181396, 0.9927650690078735], [0.9925543069839478, 0.9923402667045593, 0.9921231269836426], [0.9919032454490662, 0.9916800856590271, 0.9914539456367493], [0.9912252426147461, 0.9909930229187012, 0.9907578229904175], [0.9905198812484741, 0.9902786016464233, 0.9900343418121338], [0.9897874593734741, 0.9895371794700623, 0.9892838597297668], [0.9890278577804565, 0.9887685179710388, 0.9885061979293823], [0.9882412552833557, 0.9879729151725769, 0.9877015352249146], [0.9874274730682373, 0.9871501326560974, 0.9868696928024292], [0.9865869283676147, 0.9863005876541138, 0.9860112071037292], [0.9857190847396851, 0.9854236841201782, 0.9851253032684326], [0.9848244190216064, 0.9845200181007385, 0.9842126369476318], [0.9839027523994446, 0.9835894107818604, 0.9832730293273926], [0.9829540252685547, 0.9826316237449646, 0.9823063015937805], [0.9819782972335815, 0.9816469550132751, 0.98131263256073], [0.9809761047363281, 0.9806357622146606, 0.9802924990653992], [0.9799467921257019, 0.9795975685119629, 0.9792453646659851], [0.9788905382156372, 0.9785323143005371, 0.978171169757843], [0.9778076410293579, 0.9774404764175415, 0.9770703911781311], [0.9766977429389954, 0.9763216972351074, 0.9759426712989807], [0.9755614995956421, 0.9751765727996826, 0.9747886061668396], [0.974398136138916, 0.974004328250885, 0.9736074805259705], [0.9732083082199097, 0.9728055596351624, 0.972399890422821], [0.9719918370246887, 0.9715802073478699, 0.971165657043457], [0.9707485437393188, 0.9703280329704285, 0.9699046015739441], [0.9694786667823792, 0.9690492749214172, 0.9686169624328613], [0.9681826233863831, 0.9677444696426392, 0.9673032760620117], [0.9668599367141724, 0.9664129018783569, 0.9659628868103027], [0.9655104875564575, 0.9650545716285706, 0.9645957946777344], [0.9641348123550415, 0.9636701345443726, 0.9632025361061096], [0.9627324938774109, 0.96225905418396, 0.9617826342582703], [0.9613043665885925, 0.9608221054077148, 0.9603369235992432], [0.9598493576049805, 0.9593583345413208, 0.9588643908500671], [0.9583683013916016, 0.9578685164451599, 0.957365870475769], [0.9568610787391663, 0.9563525319099426, 0.9558411240577698], [0.9553273320198059, 0.9548100829124451, 0.9542899131774902], [0.9537674188613892, 0.9532414078712463, 0.9527125358581543], [0.9521819353103638, 0.9516472816467285, 0.9511097073554993], [0.9505701065063477, 0.9500267505645752, 0.9494805335998535], [0.9489319920539856, 0.9483799338340759, 0.947825014591217], [0.9472681283950806, 0.9467074275016785, 0.9461438655853271], [0.9455780386924744, 0.9450087547302246, 0.9444365501403809]], [[0.9438626766204834, 0.9432847499847412, 0.942703902721405], [0.9421208500862122, 0.9415342807769775, 0.9409448504447937], [0.9403535723686218, 0.9397584199905396, 0.9391604065895081], [0.9385604858398438, 0.9379567503929138, 0.9373501539230347], [0.9367414116859436, 0.936129093170166, 0.935513973236084], [0.9348966479301453, 0.9342758059501648, 0.9336521029472351], [0.9330269694328308, 0.9323976039886475, 0.9317653775215149], [0.9311314225196838, 0.9304935336112976, 0.9298528432846069], [0.9292100071907043, 0.9285635948181152, 0.9279144406318665], [0.9272634983062744, 0.9266086220741272, 0.9259509444236755], [0.9252912402153015, 0.9246279001235962, 0.9239618182182312], [0.9232943058013916, 0.9226226210594177, 0.9219480752944946], [0.9212714433670044, 0.9205912947654724, 0.919908344745636], [0.9192236661911011, 0.9185351133346558, 0.917843759059906], [0.9171507954597473, 0.9164538383483887, 0.9157540798187256], [0.9150523543357849, 0.9143470525741577, 0.9136389493942261], [0.9129288792610168, 0.9122152328491211, 0.9114987850189209], [0.9107811450958252, 0.9100592136383057, 0.9093344807624817], [0.9086081385612488, 0.9078778624534607, 0.9071448445320129], [0.9064098000526428, 0.905671238899231, 0.9049299359321594], [0.9041870832443237, 0.9034402370452881, 0.9026907086372375], [0.9019391536712646, 0.90118408203125, 0.9004262685775757], [0.899666965007782, 0.8989036679267883, 0.898137629032135], [0.8973701596260071, 0.8965986371040344, 0.8958244323730469], [0.8950487375259399, 0.8942690491676331, 0.8934866786003113], [0.8927028179168701, 0.8919150233268738, 0.891124427318573], [0.890332043170929, 0.8895360827445984, 0.8887373805046082], [0.8879368901252747, 0.8871327638626099, 0.8863259553909302], [0.8855182528495789, 0.8847060799598694, 0.8838911652565002], [0.883074939250946, 0.8822547197341919, 0.8814317584037781], [0.880607008934021, 0.8797786831855774, 0.8789477348327637], [0.8781154155731201, 0.8772791028022766, 0.8764400482177734], [0.8755993247032166, 0.8747549653053284, 0.8739079833030701], [0.8730596899986267, 0.8722073435783386, 0.8713523745536804], [0.8704961538314819, 0.8696358799934387, 0.8687729239463806], [0.867908775806427, 0.8670405745506287, 0.8661697506904602], [0.8652976751327515, 0.864421546459198, 0.8635427951812744], [0.8626623749732971, 0.8617783188819885, 0.8608916997909546], [0.8600034117698669, 0.8591115474700928, 0.8582170605659485], [0.8573219180107117, 0.8564221858978271, 0.8555198907852173], [0.8546164035797119, 0.8537089228630066, 0.8527987599372864], [0.851887047290802, 0.8509717583656311, 0.8500538468360901], [0.8491348624229431, 0.8482117652893066, 0.8472861051559448], [0.8463588953018188, 0.8454280495643616, 0.844494640827179], [0.8435602188110352, 0.8426216840744019, 0.8416805863380432], [0.8407384753227234, 0.8397923111915588, 0.8388435244560242], [0.8378937244415283, 0.8369398713111877, 0.8359834551811218], [0.8350260257720947, 0.8340645432472229, 0.8331004977226257], [0.8321349620819092, 0.8311658501625061, 0.8301941752433777], [0.8292210698127747, 0.8282443284988403, 0.8272651433944702], [0.8262855410575867, 0.8253012895584106, 0.8243144750595093], [0.823326826095581, 0.8223350644111633, 0.8213407397270203], [0.8203450441360474, 0.8193457722663879, 0.818343997001648], [0.8173413872718811, 0.81633460521698, 0.8153253793716431], [0.8143147230148315, 0.8133005499839783, 0.8122838139533997], [0.8112663626670837, 0.8102447390556335, 0.8092206120491028], [0.8081957697868347, 0.8071667551994324, 0.8061352372169495], [0.8051030039787292, 0.8040666580200195, 0.8030278086662292], [0.8019882440567017, 0.8009445667266846, 0.7998983860015869], [0.798850953578949, 0.7977999448776245, 0.7967464923858643], [0.7956917881965637, 0.7946334481239319, 0.793572723865509], [0.7925119400024414, 0.7914463877677917, 0.7903784513473511], [0.7893098592758179, 0.7882370948791504, 0.7871619462966919], [0.7860855460166931, 0.7850055694580078, 0.7839232683181763]], [[0.7828403115272522, 0.7817531824111938, 0.7806636691093445], [0.7795730233192444, 0.7784788012504578, 0.7773821949958801], [0.7762849926948547, 0.7751836776733398, 0.7740799784660339], [0.772975742816925, 0.7718673348426819, 0.7707565426826477], [0.7696452736854553, 0.7685298323631287, 0.767412006855011], [0.7662937641143799, 0.7651712894439697, 0.7640464901924133], [0.762920618057251, 0.7617911696434021, 0.7606594562530518], [0.7595266103744507, 0.7583901882171631, 0.757251501083374], [0.7561129927635193, 0.7549697160720825, 0.7538241147994995], [0.7526780962944031, 0.7515279054641724, 0.7503754496574402], [0.7492219805717468, 0.7480649352073669, 0.7469056248664856], [0.7457459568977356, 0.7445820569992065, 0.7434159517288208], [0.7422488331794739, 0.7410781979560852, 0.7399052977561951], [0.7387320399284363, 0.737554669380188, 0.7363750338554382], [0.7351950407028198, 0.7340109348297119, 0.7328245639801025], [0.7316378951072693, 0.7304471135139465, 0.7292540669441223], [0.7280607223510742, 0.7268632650375366, 0.7256635427474976], [0.7244629859924316, 0.7232588529586792, 0.7220525741577148], [0.7208453416824341, 0.7196346521377563, 0.7184217572212219], [0.7172086834907532, 0.7159914374351501, 0.7147719860076904], [0.7135530114173889, 0.7123292088508606, 0.7111032605171204], [0.7098764777183533, 0.7086461782455444, 0.7074137330055237], [0.7061811685562134, 0.7049444317817688, 0.7037055492401123], [0.702465832233429, 0.7012226581573486, 0.6999773383140564], [0.6987319588661194, 0.6974824070930481, 0.6962307095527649], [0.6949789524078369, 0.6937230229377747, 0.6924650073051453], [0.6912068724632263, 0.6899446249008179, 0.6886802911758423], [0.6874158978462219, 0.6861473917961121, 0.6848767399787903], [0.683605432510376, 0.6823306083679199, 0.6810537576675415], [0.6797761917114258, 0.6784952282905579, 0.677212119102478], [0.675929069519043, 0.6746419072151184, 0.6733525991439819], [0.6720641255378723, 0.6707707643508911, 0.6694753766059875], [0.6681793928146362, 0.6668799519538879, 0.6655784249305725], [0.6642770767211914, 0.6629714965820312, 0.6616639494895935], [0.660355806350708, 0.6590442061424255, 0.6577306389808655], [0.656417191028595, 0.6550995707511902, 0.6537799835205078], [0.6524605751037598, 0.6511370539665222, 0.6498115062713623], [0.6484861373901367, 0.6471566557884216, 0.6458251476287842], [0.6444939374923706, 0.643158495426178, 0.6418211460113525], [0.6404833197593689, 0.6391420364379883, 0.6377988457679749], [0.6364551782608032, 0.6351081132888794, 0.633759081363678], [0.6324103474617004, 0.6310575008392334, 0.6297026872634888], [0.6283489465713501, 0.6269903182983398, 0.6256297826766968], [0.6242688298225403, 0.6229044795036316, 0.6215382814407349], [0.620172381401062, 0.6188023686408997, 0.6174305081367493], [0.6160582304000854, 0.6146825551986694, 0.6133050322532654], [0.6119279265403748, 0.6105466485023499, 0.6091635227203369], [0.6077808737754822, 0.6063940525054932, 0.6050053834915161], [0.6036171317100525, 0.6022248268127441, 0.600830614566803], [0.5994369387626648, 0.5980390906333923, 0.5966394543647766], [0.595239520072937, 0.59383624792099, 0.5924311280250549], [0.5910257697105408, 0.5896170735359192, 0.5882065892219543], [0.5867966413497925, 0.5853825807571411, 0.5839667320251465], [0.5825522541999817, 0.5811328291893005, 0.5797116756439209], [0.5782902836799622, 0.5768656134605408, 0.5754391551017761], [0.5740132927894592, 0.5725833773612976, 0.5711516737937927], [0.5697198510169983, 0.5682846903800964, 0.5668477416038513], [0.5654115080833435, 0.5639711618423462, 0.5625291466712952], [0.5610877275466919, 0.5596422553062439, 0.5581950545310974], [0.5567485690116882, 0.5552979707717896, 0.5538457632064819], [0.5523941516876221, 0.5509385466575623, 0.549481213092804], [0.5480238199234009, 0.5465632081031799, 0.5451008677482605], [0.5436385273933411, 0.542172908782959, 0.5407056212425232], [0.5392391085624695, 0.537768542766571, 0.5362963080406189]], [[0.5348256826400757, 0.5333502292633057, 0.5318731665611267], [0.530396044254303, 0.5289157629013062, 0.5274338126182556], [0.5259526968002319, 0.5244675874710083, 0.522980809211731], [0.5214941501617432, 0.5200042128562927, 0.5185127258300781], [0.5170220732688904, 0.5155274271965027, 0.5140312314033508], [0.5125350952148438, 0.5110357403755188, 0.5095348358154297], [0.5080356597900391, 0.5065316557884216, 0.50502610206604], [0.5035215020179749, 0.5020129084587097, 0.5005027651786804], [0.49899277091026306, 0.4974795877933502, 0.4959648847579956], [0.49445033073425293, 0.49293261766433716, 0.491413414478302], [0.48989519476890564, 0.4883730113506317, 0.486849308013916], [0.48532748222351074, 0.48380082845687866, 0.4822727143764496], [0.4807448089122772, 0.47921374440193176, 0.4776812493801117], [0.4761497974395752, 0.47461438179016113, 0.47307753562927246], [0.4715408980846405, 0.4700011909008026, 0.4684600234031677], [0.4669199585914612, 0.4653759300708771, 0.46383050084114075], [0.4622853696346283, 0.46073710918426514, 0.45918747782707214], [0.45763981342315674, 0.4560873508453369, 0.45453354716300964], [0.4529808759689331, 0.4514242708683014, 0.44986632466316223], [0.44830867648124695, 0.4467479884624481, 0.44518592953681946], [0.44362419843673706, 0.4420594573020935, 0.4404933452606201], [0.4389284551143646, 0.43735966086387634, 0.4357895255088806], [0.4342215359210968, 0.43264874815940857, 0.43107467889785767], [0.4295009970664978, 0.4279242753982544, 0.4263462722301483], [0.4247695505619049, 0.4231889545917511, 0.4216070771217346], [0.42002561688423157, 0.41844117641448975, 0.41685545444488525], [0.4152710437774658, 0.4136827886104584, 0.41209328174591064], [0.4105042517185211, 0.40891221165657043, 0.40731894969940186], [0.40572792291641235, 0.4041321873664856, 0.40253522992134094], [0.4009396433830261, 0.3993402123451233, 0.39773958921432495], [0.3961395025253296, 0.39453643560409546, 0.3929322063922882], [0.39132851362228394, 0.3897218704223633, 0.3881140351295471], [0.38650766015052795, 0.38489747047424316, 0.38328611850738525], [0.38167712092399597, 0.3800634443759918, 0.37844860553741455], [0.37683436274528503, 0.3752172291278839, 0.37359896302223206], [0.3719821870326996, 0.3703616261482239, 0.3687399625778198], [0.3671189248561859, 0.3654949963092804, 0.36386996507644653], [0.36224648356437683, 0.3606192469596863, 0.3589909076690674], [0.3573632538318634, 0.3557327389717102, 0.35410112142562866], [0.3524720072746277, 0.3508382737636566, 0.3492034375667572], [0.3475702404975891, 0.34593328833580017, 0.34429529309272766], [0.34265804290771484, 0.3410179316997528, 0.3393768072128296], [0.33773645758628845, 0.3360932469367981, 0.33444905281066895], [0.3328065276145935, 0.3311602771282196, 0.3295130133628845], [0.32786837220191956, 0.3262191116809845, 0.32456886768341064], [0.32291942834854126, 0.3212672173976898, 0.3196140229701996], [0.31796255707740784, 0.3163074254989624, 0.31465134024620056], [0.3129960894584656, 0.31133806705474854, 0.3096791207790375], [0.3080219328403473, 0.3063611090183258, 0.3046993315219879], [0.30303844809532166, 0.3013748228549957, 0.2997102737426758], [0.2980484664440155, 0.2963821291923523, 0.29471486806869507], [0.2930494248867035, 0.291380375623703, 0.28971046209335327], [0.28804144263267517, 0.28636977076530457, 0.28469720482826233], [0.2830255925655365, 0.2813512980937958, 0.2796761393547058], [0.27800288796424866, 0.2763260304927826, 0.2746483385562897], [0.2729734778404236, 0.27129411697387695, 0.26961395144462585], [0.26793476939201355, 0.26625293493270874, 0.26457032561302185], [0.26288965344429016, 0.26120540499687195, 0.25952038168907166], [0.25783640146255493, 0.2561497688293457, 0.2544623911380768], [0.25277701020240784, 0.25108808279037476, 0.2493983805179596], [0.24770976603031158, 0.24601855874061584, 0.24432659149169922], [0.24263758957386017, 0.24094416201114655, 0.23924998939037323], [0.23755785822868347, 0.23586224019527435, 0.23416589200496674], [0.23247069120407104, 0.23077292740345, 0.22907446324825287]], [[0.22737714648246765, 0.22567729651927948, 0.2239767462015152], [0.22227831184864044, 0.22057640552520752, 0.21887384355068207], [0.21717339754104614, 0.21546949446201324, 0.21376493573188782], [0.2120625227689743, 0.210356667637825, 0.20865017175674438], [0.20694585144519806, 0.20523808896541595, 0.2035297006368637], [0.20182256400585175, 0.2001129537820816, 0.19840271770954132], [0.19669470191001892, 0.19498327374458313, 0.19327124953269958], [0.1915605068206787, 0.18984730541706085, 0.18813353776931763], [0.1864229440689087, 0.18470802903175354, 0.18299254775047302], [0.18127933144569397, 0.1795627474784851, 0.17784561216831207], [0.17612981796264648, 0.1744116097688675, 0.17269288003444672], [0.1709754914045334, 0.16925570368766785, 0.16753540933132172], [0.16581740975379944, 0.16409610211849213, 0.16237428784370422], [0.16065479815006256, 0.15893200039863586, 0.15720871090888977], [0.1554877758026123, 0.153763547539711, 0.1520388424396515], [0.1503165066242218, 0.14859087765216827, 0.14686480164527893], [0.1451401710510254, 0.14341320097446442, 0.14168581366539001], [0.13996081054210663, 0.1382325440645218, 0.13650387525558472], [0.13477666676044464, 0.1330471634864807, 0.13131724298000336], [0.1295907199382782, 0.12786002457141876, 0.1261289268732071], [0.12440028786659241, 0.12266843020915985, 0.12093620002269745], [0.11920549720525742, 0.11747253686189651, 0.11573921889066696], [0.11400744318962097, 0.11227342486381531, 0.11053906381130219], [0.10880721360445023, 0.10707218199968338, 0.10533683001995087], [0.10360400378704071, 0.10186801105737686, 0.10013171285390854], [0.09839795529842377, 0.0966610535979271, 0.09492385387420654], [0.09318921715021133, 0.09145144373178482, 0.08971339464187622], [0.08797697722911835, 0.08623838424682617, 0.0844995304942131], [0.08276326954364777, 0.08102390915155411, 0.07928430289030075], [0.07754635065793991, 0.07580626755952835, 0.07406595349311829], [0.07232921570539474, 0.07058845460414886, 0.06884747743606567], [0.06710914522409439, 0.06536775082349777, 0.06362616270780563], [0.06188628077507019, 0.06014430895447731, 0.058402154594659805], [0.05666172504425049, 0.05491922050714493, 0.05317654460668564], [0.051436569541692734, 0.049693576991558075, 0.04795043542981148], [0.04621000215411186, 0.04446657374501228, 0.04272301122546196], [0.04098217561841011, 0.03923835605382919, 0.037494417279958725], [0.035753220319747925, 0.03400906175374985, 0.032264795154333115], [0.030522337183356285, 0.02877788059413433, 0.027033336460590363], [0.025291571393609047, 0.023546867072582245, 0.021802091971039772], [0.02005915716290474, 0.01831425540149212, 0.01656929776072502], [0.01482810266315937, 0.013083049096167088, 0.011337955482304096], [0.009595687501132488, 0.007850530557334423, 0.006105349399149418], [0.004362056497484446, 0.0026168436743319035, 0.0008716224692761898], [-0.0008716940064914525, -0.002616915153339505, -0.004362128209322691], [-0.00610446697100997, -0.007849648594856262, -0.009594805538654327], [-0.011337073519825935, -0.013082167133688927, -0.01482722070068121], [-0.016569368541240692, -0.01831432618200779, -0.02005922980606556], [-0.021801210939884186, -0.02354598604142666, -0.02529068849980831], [-0.027033409103751183, -0.02877795323729515, -0.030522409826517105], [-0.03226391226053238, -0.03400817885994911, -0.03575234115123749], [-0.037494488060474396, -0.039238426834344864, -0.04098224639892578], [-0.042722128331661224, -0.044465694576501846, -0.046209122985601425], [-0.04794955253601074, -0.04969269782304764, -0.051435686647892], [-0.05317661911249161, -0.0549192912876606, -0.05666179582476616], [-0.058402225375175476, -0.06014437973499298, -0.06188635155558586], [-0.0636252835392952, -0.06536687165498734, -0.06710825860500336], [-0.06884659081697464, -0.07058756798505783, -0.07232833653688431], [-0.07406602054834366, -0.07580634206533432, -0.07754642516374588], [-0.07928342372179031, -0.08102302998304367, -0.08276239037513733], [-0.08449960500001907, -0.08623845875263214, -0.08797704428434372], [-0.08971251547336578, -0.09145056456327438, -0.0931883379817009], [-0.09492392838001251, -0.09666112065315247, -0.09839802980422974], [-0.1001308336853981, -0.10186713933944702, -0.10360312461853027]], [[-0.10533595085144043, -0.10707131028175354, -0.10880633443593979], [-0.11053913831710815, -0.11227349191904068, -0.11400751024484634], [-0.11573928594589233, -0.11747260391712189, -0.11920556426048279], [-0.12093532085418701, -0.12266755104064941, -0.12439940869808197], [-0.12612804770469666, -0.12785914540290833, -0.12958984076976776], [-0.13131731748580933, -0.1330472230911255, -0.1347767412662506], [-0.13650299608707428, -0.13823167979717255, -0.1399599313735962], [-0.1416858732700348, -0.14341327548027039, -0.14514024555683136], [-0.1468639373779297, -0.14859001338481903, -0.15031562745571136], [-0.15203891694545746, -0.15376362204551697, -0.15548785030841827], [-0.15720784664154053, -0.15893112123012543, -0.16065391898155212], [-0.1623734086751938, -0.1640952229499817, -0.1658165454864502], [-0.1675354689359665, -0.16925577819347382, -0.17097556591033936], [-0.1726929396390915, -0.17441168427467346, -0.17612989246845245], [-0.17784474790096283, -0.17956188321113586, -0.18127846717834473], [-0.18299168348312378, -0.1847071647644043, -0.18642206490039825], [-0.1881336122751236, -0.18984737992286682, -0.19156058132648468], [-0.19327038526535034, -0.1949823945760727, -0.19669383764266968], [-0.1984027922153473, -0.20011301338672638, -0.20182263851165771], [-0.20352883636951447, -0.2052372246980667, -0.20694498717784882], [-0.20865024626255035, -0.21035674214363098, -0.21206259727478027], [-0.21376407146453857, -0.215468630194664, -0.2171725332736969], [-0.21887297928333282, -0.22057555615901947, -0.2222774475812912], [-0.22397682070732117, -0.22567735612392426, -0.22737722098827362], [-0.22907452285289764, -0.2307729870080948, -0.23247075080871582], [-0.2341650277376175, -0.2358613759279251, -0.23755700886249542], [-0.239249125123024, -0.2409432977437973, -0.24263674020767212], [-0.2443266659975052, -0.24601863324642181, -0.24770984053611755], [-0.24939751625061035, -0.2510872185230255, -0.2527761459350586], [-0.25446245074272156, -0.25614985823631287, -0.2578364610671997], [-0.2595195174217224, -0.2612045407295227, -0.2628887891769409], [-0.2645703852176666, -0.2662530243396759, -0.2679348289966583], [-0.2696130871772766, -0.2712932825088501, -0.27297264337539673], [-0.2746475040912628, -0.27632519602775574, -0.2780020236968994], [-0.2796761989593506, -0.28135135769844055, -0.2830256521701813], [-0.2846972644329071, -0.28636983036994934, -0.28804153203964233], [-0.28970959782600403, -0.29137954115867615, -0.29304859042167664], [-0.2947140038013458, -0.29638126492500305, -0.29804763197898865], [-0.29971036314964294, -0.3013748824596405, -0.30303850769996643], [-0.30469849705696106, -0.30636027455329895, -0.30802109837532043], [-0.30967918038368225, -0.3113381564617157, -0.31299614906311035], [-0.3146505057811737, -0.31630659103393555, -0.317961722612381], [-0.31961408257484436, -0.3212672770023346, -0.3229195177555084], [-0.3245680332183838, -0.32621827721595764, -0.3278675377368927], [-0.32951217889785767, -0.33115944266319275, -0.33280569314956665], [-0.3344491124153137, -0.33609333634376526, -0.3377365171909332], [-0.33937689661979675, -0.34101802110671997, -0.3426581025123596], [-0.3442944586277008, -0.3459324538707733, -0.34756940603256226], [-0.34920260310173035, -0.35083743929862976, -0.3524712026119232], [-0.3541012108325958, -0.355732798576355, -0.3573633134365082], [-0.3589901030063629, -0.3606184422969818, -0.36224567890167236], [-0.3638700544834137, -0.36549508571624756, -0.3671189844608307], [-0.36873912811279297, -0.3703608214855194, -0.3719813823699951], [-0.37359902262687683, -0.3752172887325287, -0.3768344521522522], [-0.3784478008747101, -0.38006263971328735, -0.3816763162612915], [-0.3832853138446808, -0.3848966658115387, -0.3865068554878235], [-0.3881140947341919, -0.38972193002700806, -0.3913285732269287], [-0.392932265996933, -0.3945365250110626, -0.39613956212997437], [-0.3977387845516205, -0.3993394076824188, -0.40093883872032166], [-0.4025344252586365, -0.40413138270378113, -0.4057271182537079], [-0.40731900930404663, -0.4089123010635376, -0.4105043113231659], [-0.4120924770832062, -0.4136819839477539, -0.41527023911476135], [-0.41685551404953003, -0.4184412360191345, -0.42002567648887634], [-0.42160627245903015, -0.42318814992904663, -0.42476874589920044]], [[-0.4263463318347931, -0.42792433500289917, -0.4295010566711426], [-0.4310738742351532, -0.4326479434967041, -0.43422073125839233], [-0.43578875064849854, -0.4373588562011719, -0.43892765045166016], [-0.4404934048652649, -0.4420595169067383, -0.4436242878437042], [-0.44518598914146423, -0.4467480480670929, -0.4483087360858917], [-0.44986552000045776, -0.4514234960079193, -0.45298007130622864], [-0.4545327425003052, -0.45608657598495483, -0.45763900876045227], [-0.4591875374317169, -0.4607371687889099, -0.46228542923927307], [-0.46382972598075867, -0.465375155210495, -0.4669191837310791], [-0.4684600830078125, -0.4700012505054474, -0.47154098749160767], [-0.4730767607688904, -0.47461360692977905, -0.4761490225791931], [-0.47768130898475647, -0.47921380400657654, -0.480744868516922], [-0.4822719395160675, -0.4838000535964966, -0.48532670736312866], [-0.48684853315353394, -0.48837223649024963, -0.48989441990852356], [-0.4914134740829468, -0.49293267726898193, -0.4944503903388977], [-0.4959649443626404, -0.497479647397995, -0.49899283051490784], [-0.5005019903182983, -0.5020121335983276, -0.5035207867622375], [-0.5050253868103027, -0.5065308809280396, -0.508034884929657], [-0.5095348954200745, -0.5110357999801636, -0.5125351548194885], [-0.5140304565429688, -0.5155267119407654, -0.5170213580131531], [-0.5185127854347229, -0.5200042724609375, -0.5214942097663879], [-0.5229800939559937, -0.5244668126106262, -0.5259519815444946], [-0.5274338722229004, -0.5289158225059509, -0.5303961038589478], [-0.5318723917007446, -0.5333495140075684, -0.5348249673843384], [-0.5362955927848816, -0.537767767906189, -0.5392383337020874], [-0.540705680847168, -0.5421729683876038, -0.5436385869979858], [-0.5451009273529053, -0.5465632677078247, -0.5480238795280457], [-0.5494804978370667, -0.550937831401825, -0.5523934364318848], [-0.5538449883460999, -0.5552972555160522, -0.5567478537559509], [-0.5581951141357422, -0.5596423149108887, -0.5610877871513367], [-0.5625283718109131, -0.5639704465866089, -0.5654107928276062], [-0.5668478012084961, -0.5682847499847412, -0.5697198510169983], [-0.5711509585380554, -0.5725826621055603, -0.5740125775337219], [-0.5754392147064209, -0.5768656730651855, -0.5782903432846069], [-0.5797109603881836, -0.5811321139335632, -0.5825515389442444], [-0.5839660167694092, -0.5853818655014038, -0.5867959260940552], [-0.5882066488265991, -0.589617133140564, -0.5910258293151855], [-0.5924311876296997, -0.5938363075256348, -0.5952395796775818], [-0.5966387391090393, -0.598038375377655, -0.5994362235069275], [-0.6008298993110657, -0.6022241115570068, -0.6036164164543152], [-0.6050054430961609, -0.6063941121101379, -0.6077808737754822], [-0.6091628670692444, -0.6105459332466125, -0.6119272112846375], [-0.6133050918579102, -0.6146826148033142, -0.6160582900047302], [-0.617429792881012, -0.6188017129898071, -0.6201717257499695], [-0.6215383410453796, -0.6229045391082764, -0.6242688894271851], [-0.6256291270256042, -0.6269896626472473, -0.6283482313156128], [-0.6297019720077515, -0.6310567855834961, -0.6324096918106079], [-0.6337591409683228, -0.6351081728935242, -0.636455237865448], [-0.6377989053726196, -0.6391420960426331, -0.6404833793640137], [-0.64182049036026, -0.6431578397750854, -0.6444932222366333], [-0.6458244919776917, -0.6471559405326843, -0.6484854817390442], [-0.6498115062713623, -0.6511370539665222, -0.6524606347084045], [-0.6537793278694153, -0.6550989151000977, -0.6564165353775024], [-0.6577306985855103, -0.6590442657470703, -0.6603558659553528], [-0.661663293838501, -0.6629708409309387, -0.6642763614654541], [-0.6655784845352173, -0.6668799519538879, -0.668179452419281], [-0.669474720954895, -0.6707701683044434, -0.6720634698867798], [-0.6733519434928894, -0.6746412515640259, -0.6759284138679504], [-0.6772121787071228, -0.6784952282905579, -0.6797762513160706], [-0.6810538172721863, -0.6823306679725647, -0.6836054921150208], [-0.6848760843276978, -0.6861467361450195, -0.6874153017997742], [-0.6886796355247498, -0.6899440288543701, -0.6912062764167786], [-0.6924650073051453, -0.6937230825424194, -0.6949790120124817], [-0.6962300539016724, -0.6974817514419556, -0.6987313032150269]], [[-0.6999773979187012, -0.7012227177619934, -0.7024658918380737], [-0.7037048935890198, -0.7049437761306763, -0.7061805725097656], [-0.7074137926101685, -0.7086462378501892, -0.709876537322998], [-0.7111026644706726, -0.7123286128044128, -0.7135524153709412], [-0.7147713303565979, -0.7159907817840576, -0.7172080874443054], [-0.7184218168258667, -0.7196347117424011, -0.7208454012870789], [-0.7220526337623596, -0.723258912563324, -0.7244630455970764], [-0.7256629467010498, -0.7268626689910889, -0.7280601263046265], [-0.7292534708976746, -0.7304465174674988, -0.7316372990608215], [-0.7328246235847473, -0.7340109944343567, -0.7351951003074646], [-0.7363744378089905, -0.7375540733337402, -0.7387315034866333], [-0.7399053573608398, -0.74107825756073, -0.7422488927841187], [-0.743415355682373, -0.7445815205574036, -0.7457453608512878], [-0.7469056844711304, -0.7480649948120117, -0.7492220401763916], [-0.7503748536109924, -0.7515273690223694, -0.7526775598526001], [-0.7538241744041443, -0.7549697756767273, -0.7561130523681641], [-0.7572515606880188, -0.7583902478218079, -0.7595266699790955], [-0.7606594562530518, -0.7617912292480469, -0.7629206776618958], [-0.7640459537506104, -0.765170693397522, -0.7662931680679321], [-0.767411470413208, -0.7685292363166809, -0.7696446776390076], [-0.7707566022872925, -0.7718673348426819, -0.772975742816925], [-0.7740793824195862, -0.7751830816268921, -0.7762844562530518], [-0.7773821949958801, -0.7784788012504578, -0.7795730829238892], [-0.7806631326675415, -0.7817526459693909, -0.7828397750854492], [-0.7839232683181763, -0.7850056290626526, -0.7860856056213379], [-0.7871613502502441, -0.7882365584373474, -0.7893093228340149], [-0.7903785109519958, -0.7914464473724365, -0.7925119996070862], [-0.7935727834701538, -0.7946335077285767, -0.7956917881965637], [-0.796746551990509, -0.7977999448776245, -0.7988510131835938], [-0.7998978495597839, -0.8009440302848816, -0.8019877076148987], [-0.8030272722244263, -0.8040661215782166, -0.805102527141571], [-0.8061352968215942, -0.8071667551994324, -0.8081957697868347], [-0.8092201352119446, -0.8102442026138306, -0.8112658262252808], [-0.8122838735580444, -0.8133005499839783, -0.8143147826194763], [-0.8153248429298401, -0.816334068775177, -0.8173408508300781], [-0.8183440566062927, -0.8193458318710327, -0.8203451037406921], [-0.8213402628898621, -0.8223345279693604, -0.8233263492584229], [-0.824314534664154, -0.8253012895584106, -0.8262855410575867], [-0.8272651433944702, -0.8282443881034851, -0.8292210698127747], [-0.8301942348480225, -0.8311658501625061, -0.8321349620819092], [-0.8331000208854675, -0.8340640664100647, -0.8350255489349365], [-0.8359829783439636, -0.8369393944740295, -0.8378932476043701], [-0.8388435244560242, -0.8397923111915588, -0.8407385349273682], [-0.841680109500885, -0.8426212072372437, -0.843559741973877], [-0.8444947004318237, -0.8454281091690063, -0.8463588953018188], [-0.8472856283187866, -0.8482112884521484, -0.8491343855857849], [-0.8500538468360901, -0.8509717583656311, -0.8518871068954468], [-0.852798342704773, -0.8537084460258484, -0.8546159863471985], [-0.8555198907852173, -0.8564222455024719, -0.8573219180107117], [-0.8582170605659485, -0.8591116070747375, -0.8600034713745117], [-0.8608917593955994, -0.8617783784866333, -0.8626623749732971], [-0.8635423183441162, -0.8644210696220398, -0.8652971982955933], [-0.866169273853302, -0.8670401573181152, -0.8679083585739136], [-0.8687729835510254, -0.8696359395980835, -0.8704962134361267], [-0.871351957321167, -0.8722069263458252, -0.8730592727661133], [-0.8739079833030701, -0.8747550249099731, -0.8755993247032166], [-0.87643963098526, -0.8772786855697632, -0.8781149983406067], [-0.8789477348327637, -0.8797787427902222, -0.8806070685386658], [-0.8814313411712646, -0.8822543025016785, -0.8830745220184326], [-0.883891224861145, -0.8847060799598694, -0.8855183124542236], [-0.886326014995575, -0.8871328234672546, -0.8879368901252747], [-0.8887374401092529, -0.8895360827445984, -0.8903321027755737], [-0.8911240696907043, -0.8919146060943604, -0.8927024602890015], [-0.8934862613677979, -0.8942686915397644, -0.8950483798980713]], [[-0.8958244323730469, -0.8965986967086792, -0.8973701596260071], [-0.8981372714042664, -0.8989033102989197, -0.8996666073799133], [-0.9004263281822205, -0.9011841416358948, -0.9019392132759094], [-0.9026902914047241, -0.9034398794174194, -0.9041867256164551], [-0.9049299955368042, -0.9056712985038757, -0.9064098596572876], [-0.9071444272994995, -0.907877504825592, -0.9086077809333801], [-0.9093344807624817, -0.9100592136383057, -0.91078120470047], [-0.9114988446235657, -0.9122152328491211, -0.9129288792610168], [-0.9136390089988708, -0.9143470525741577, -0.9150524139404297], [-0.9157537221908569, -0.91645348072052, -0.9171504378318787], [-0.9178434610366821, -0.9185348153114319, -0.9192233681678772], [-0.919908344745636, -0.9205912947654724, -0.9212715029716492], [-0.9219480752944946, -0.9226226210594177, -0.9232943654060364], [-0.9239618182182312, -0.924627959728241, -0.9252912402153015], [-0.9259506464004517, -0.9266083240509033, -0.9272631406784058], [-0.9279144406318665, -0.92856365442276, -0.9292100071907043], [-0.9298524856567383, -0.930493175983429, -0.9311310648918152], [-0.9317654371261597, -0.9323976039886475, -0.9330269694328308], [-0.9336521625518799, -0.9342758059501648, -0.9348966479301453], [-0.935513973236084, -0.9361291527748108, -0.9367414116859436], [-0.9373498558998108, -0.9379564523696899, -0.9385601878166199], [-0.9391601085662842, -0.9397581219673157, -0.940353274345398], [-0.9409449100494385, -0.9415343403816223, -0.9421209096908569], [-0.9427039623260498, -0.9432847499847412, -0.9438627362251282], [-0.9444365501403809, -0.9450087547302246, -0.9455780982971191], [-0.946143627166748, -0.9467071890830994, -0.9472678303718567], [-0.9478250741958618, -0.9483799934387207, -0.9489319920539856], [-0.9494802355766296, -0.9500265121459961, -0.9505698680877686], [-0.9511097073554993, -0.9516472816467285, -0.9521819353103638], [-0.9527125954627991, -0.9532414674758911, -0.9537674188613892], [-0.9542899131774902, -0.9548100829124451, -0.9553273320198059], [-0.9558408260345459, -0.9563522934913635, -0.9568607807159424], [-0.9573655724525452, -0.9578682780265808, -0.9583680629730225], [-0.9588643908500671, -0.9593583345413208, -0.9598493576049805], [-0.9603369235992432, -0.9608221054077148, -0.9613043665885925], [-0.9617826342582703, -0.96225905418396, -0.9627325534820557], [-0.9632022976875305, -0.9636698961257935, -0.9641345739364624], [-0.9645957946777344, -0.9650546312332153, -0.9655104875564575], [-0.9659626483917236, -0.9664126634597778, -0.9668596982955933], [-0.9673033356666565, -0.9677444696426392, -0.9681826829910278], [-0.9686169624328613, -0.9690492749214172, -0.9694786667823792], [-0.9699046015739441, -0.9703280329704285, -0.9707485437393188], [-0.9711654186248779, -0.9715800285339355, -0.9719916582107544], [-0.9723996520042419, -0.972805380821228, -0.9732081294059753], [-0.9736074805259705, -0.974004328250885, -0.9743981957435608], [-0.9747886657714844, -0.9751765727996826, -0.9755615592002869], [-0.9759426712989807, -0.9763216972351074, -0.9766977429389954], [-0.9770702123641968, -0.9774402976036072, -0.9778074622154236], [-0.978171169757843, -0.9785323739051819, -0.9788905382156372], [-0.9792451858520508, -0.9795973896980286, -0.9799466133117676], [-0.9802924990653992, -0.9806358218193054, -0.9809761047363281], [-0.9813126921653748, -0.9816470146179199, -0.9819782972335815], [-0.9823063015937805, -0.9826316833496094, -0.9829540252685547], [-0.9832728505134583, -0.983589231967926, -0.983902633190155], [-0.9842124581336975, -0.984519898891449, -0.9848242402076721], [-0.9851253032684326, -0.985423743724823, -0.9857191443443298], [-0.9860112071037292, -0.9863005876541138, -0.9865869879722595], [-0.986869752407074, -0.9871501326560974, -0.9874274730682373], [-0.987701416015625, -0.9879727959632874, -0.9882411360740662], [-0.9885061979293823, -0.9887685179710388, -0.9890278577804565], [-0.9892837405204773, -0.9895370602607727, -0.9897873401641846], [-0.9900343418121338, -0.9902786016464233, -0.9905198812484741], [-0.9907577037811279, -0.9909929037094116, -0.9912251234054565], [-0.9914539456367493, -0.9916800856590271, -0.9919032454490662]], [[-0.992123007774353, -0.9923401474952698, -0.9925541877746582], [-0.992764949798584, -0.9929729700088501, -0.9931780099868774], [-0.9933797717094421, -0.9935787320137024, -0.9937747120857239], [-0.9939674139022827, -0.9941573143005371, -0.994344174861908], [-0.9945275783538818, -0.9947084188461304, -0.9948862195014954], [-0.9950606822967529, -0.9952324032783508, -0.9954010844230652], [-0.9955666065216064, -0.9957292079925537, -0.9958888292312622], [-0.9960451722145081, -0.9961987137794495, -0.9963492155075073], [-0.9964964985847473, -0.9966409802436829, -0.9967823624610901], [-0.9969205260276794, -0.9970558881759644, -0.997188150882721], [-0.9973171949386597, -0.997443437576294, -0.9975666403770447], [-0.9976866245269775, -0.9978037476539612, -0.9979178309440613], [-0.9980286955833435, -0.9981366991996765, -0.998241662979126], [-0.9983434677124023, -0.9984423518180847, -0.9985381960868835], [-0.998630940914154, -0.9987207055091858, -0.998807430267334], [-0.9988909363746643, -0.9989715814590454, -0.999049186706543], [-0.9991236329078674, -0.9991951584815979, -0.9992636442184448], [-0.9993290305137634, -0.9993914365768433, -0.9994508028030396], [-0.9995070099830627, -0.9995602965354919, -0.9996104836463928], [-0.9996576309204102, -0.9997017979621887, -0.999742865562439], [-0.9997808337211609, -0.9998158812522888, -0.9998478293418884], [-0.9998767375946045, -0.999902606010437, -0.999925434589386], [-0.9999452233314514, -0.9999619722366333, -0.9999756217002869], [-0.9999862909317017, -0.9999939203262329, -0.9999985098838806]]]\n"
          ]
        }
      ]
    },
    {
      "cell_type": "code",
      "source": [],
      "metadata": {
        "id": "XIXJ1N4_Zdx3"
      },
      "execution_count": null,
      "outputs": []
    }
  ]
}