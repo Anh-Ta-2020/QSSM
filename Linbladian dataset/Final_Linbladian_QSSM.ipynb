{
  "nbformat": 4,
  "nbformat_minor": 0,
  "metadata": {
    "colab": {
      "provenance": []
    },
    "kernelspec": {
      "name": "python3",
      "display_name": "Python 3"
    },
    "language_info": {
      "name": "python"
    }
  },
  "cells": [
    {
      "cell_type": "code",
      "source": [
        "!pip install pennylane --quiet\n"
      ],
      "metadata": {
        "colab": {
          "base_uri": "https://localhost:8080/"
        },
        "id": "z0-lN7Sji3VF",
        "outputId": "e6e97c45-f374-4068-b275-5d16802dd03b"
      },
      "execution_count": 1,
      "outputs": [
        {
          "output_type": "stream",
          "name": "stdout",
          "text": [
            "\u001b[2K     \u001b[90m━━━━━━━━━━━━━━━━━━━━━━━━━━━━━━━━━━━━━━━━\u001b[0m \u001b[32m56.1/56.1 kB\u001b[0m \u001b[31m2.1 MB/s\u001b[0m eta \u001b[36m0:00:00\u001b[0m\n",
            "\u001b[2K   \u001b[90m━━━━━━━━━━━━━━━━━━━━━━━━━━━━━━━━━━━━━━━━\u001b[0m \u001b[32m2.3/2.3 MB\u001b[0m \u001b[31m18.9 MB/s\u001b[0m eta \u001b[36m0:00:00\u001b[0m\n",
            "\u001b[2K   \u001b[90m━━━━━━━━━━━━━━━━━━━━━━━━━━━━━━━━━━━━━━━━\u001b[0m \u001b[32m930.8/930.8 kB\u001b[0m \u001b[31m14.6 MB/s\u001b[0m eta \u001b[36m0:00:00\u001b[0m\n",
            "\u001b[2K   \u001b[90m━━━━━━━━━━━━━━━━━━━━━━━━━━━━━━━━━━━━━━━━\u001b[0m \u001b[32m2.5/2.5 MB\u001b[0m \u001b[31m19.6 MB/s\u001b[0m eta \u001b[36m0:00:00\u001b[0m\n",
            "\u001b[2K   \u001b[90m━━━━━━━━━━━━━━━━━━━━━━━━━━━━━━━━━━━━━━━━\u001b[0m \u001b[32m2.1/2.1 MB\u001b[0m \u001b[31m36.4 MB/s\u001b[0m eta \u001b[36m0:00:00\u001b[0m\n",
            "\u001b[2K   \u001b[90m━━━━━━━━━━━━━━━━━━━━━━━━━━━━━━━━━━━━━━━━\u001b[0m \u001b[32m167.9/167.9 kB\u001b[0m \u001b[31m7.9 MB/s\u001b[0m eta \u001b[36m0:00:00\u001b[0m\n",
            "\u001b[2K   \u001b[90m━━━━━━━━━━━━━━━━━━━━━━━━━━━━━━━━━━━━━━━━\u001b[0m \u001b[32m8.6/8.6 MB\u001b[0m \u001b[31m26.5 MB/s\u001b[0m eta \u001b[36m0:00:00\u001b[0m\n",
            "\u001b[?25h"
          ]
        }
      ]
    },
    {
      "cell_type": "code",
      "source": [
        "import torch\n",
        "import torch.nn as nn\n",
        "import torch.optim as optim\n",
        "from torch.utils.data import Dataset, DataLoader\n",
        "import math\n",
        "import matplotlib.pyplot as plt\n",
        "import numpy as np\n",
        "import pennylane as qml"
      ],
      "metadata": {
        "id": "1wLl5W6b5e5l",
        "colab": {
          "base_uri": "https://localhost:8080/"
        },
        "outputId": "b93c04b7-f3c4-40eb-f8cd-6c6ad25b0083"
      },
      "execution_count": 2,
      "outputs": [
        {
          "output_type": "stream",
          "name": "stderr",
          "text": [
            "/usr/local/lib/python3.11/dist-packages/pennylane/capture/capture_operators.py:33: RuntimeWarning: PennyLane is not yet compatible with JAX versions > 0.4.28. You have version 0.5.2 installed. Please downgrade JAX to <=0.4.28 to avoid runtime errors.\n",
            "  warnings.warn(\n"
          ]
        }
      ]
    },
    {
      "cell_type": "code",
      "source": [
        "import os\n",
        "import random\n",
        "\n",
        "def set_seed(seed):\n",
        "  random.seed(seed)\n",
        "  os.environ['PYTHONHASHSEED'] = str(seed)\n",
        "  np.random.seed(seed)\n",
        "  torch.manual_seed(seed)\n",
        "  torch.cuda.manual_seed(seed)\n",
        "  torch.cuda.manual_seed_all(seed)\n",
        "  torch.backends.cudnn.deterministic = True\n",
        "  torch.backends.cudnn.benchmark = False"
      ],
      "metadata": {
        "id": "AQCXLiUIZ0lr"
      },
      "execution_count": 3,
      "outputs": []
    },
    {
      "cell_type": "code",
      "source": [
        "seed = 123\n",
        "set_seed(seed)"
      ],
      "metadata": {
        "id": "D46EsoGxZ2m8"
      },
      "execution_count": 38,
      "outputs": []
    },
    {
      "cell_type": "code",
      "source": [
        "from scipy.linalg import expm"
      ],
      "metadata": {
        "id": "Dk-WUfJVjkSk"
      },
      "execution_count": 5,
      "outputs": []
    },
    {
      "cell_type": "code",
      "source": [
        "def Linb_meas(t_tensor):  # t_tensor: [n, 1] tensor\n",
        "    t_array = t_tensor.detach().cpu().numpy().flatten()  # Convert to (n,) numpy array\n",
        "\n",
        "    def kron3(a, b, c):\n",
        "        return np.kron(np.kron(a, b), c)\n",
        "\n",
        "    # Pauli matrices\n",
        "    I0, X0, Y0, Z0 = [qml.matrix(op) for op in (qml.Identity(0), qml.PauliX(0), qml.PauliY(0), qml.PauliZ(0))]\n",
        "    I1, X1, Y1, Z1 = [qml.matrix(op) for op in (qml.Identity(1), qml.PauliX(1), qml.PauliY(1), qml.PauliZ(1))]\n",
        "    I2, X2, Y2, Z2 = [qml.matrix(op) for op in (qml.Identity(2), qml.PauliX(2), qml.PauliY(2), qml.PauliZ(2))]\n",
        "\n",
        "    # Hamiltonian parameters\n",
        "    h = 2 * np.pi\n",
        "    Jx = Jy = Jz = 0.1 * np.pi\n",
        "\n",
        "    # Hamiltonian H\n",
        "    H = -(h / 2) * (kron3(Z0, I1, I2) + kron3(I0, Z1, I2) + kron3(I0, I1, Z2)).astype(np.complex128)\n",
        "    H -= 0.5 * Jx * (kron3(X0, X1, I2) + kron3(I0, X1, X2))\n",
        "    H -= 0.5 * Jy * (kron3(Y0, Y1, I2) + kron3(I0, Y1, Y2))\n",
        "    H -= 0.5 * Jz * (kron3(Z0, Z1, I2) + kron3(I0, Z1, Z2))\n",
        "\n",
        "    # Lindblad operators\n",
        "    c = np.sqrt(0.002)\n",
        "    C_ops = [\n",
        "        c * (kron3(X0, I1, I2) + kron3(Y0, I1, I2)),\n",
        "        c * (kron3(I0, X1, I2) + kron3(I0, Y1, I2)),\n",
        "        c * (kron3(I0, I1, X2) + kron3(I0, I1, Y2)),\n",
        "    ]\n",
        "\n",
        "    # Liouvillian superoperator\n",
        "    dim = 8\n",
        "    I_sys = np.eye(dim)\n",
        "    L = -1j * (np.kron(H, I_sys) - np.kron(I_sys, H.T))\n",
        "    for C in C_ops:\n",
        "        CdagC = C.conj().T @ C\n",
        "        L += 0.5 * (2 * np.kron(C, C.conj()) - np.kron(I_sys, CdagC.T) - np.kron(CdagC, I_sys))\n",
        "\n",
        "    # Initial state |+00⟩\n",
        "    ket_plus = (1 / np.sqrt(2)) * np.array([1, 1])\n",
        "    ket_0 = np.array([1, 0])\n",
        "    psi = np.kron(np.kron(ket_plus, ket_0), ket_0)\n",
        "    rho0 = np.outer(psi, psi.conj())\n",
        "    rho0_vec = rho0.reshape(-1)\n",
        "\n",
        "    # Observable X on qubit 0\n",
        "    X1_obs = kron3(X0, I1, I2)\n",
        "\n",
        "    results = []\n",
        "    for t in t_array:\n",
        "        U = expm(L * t)\n",
        "        rho_t_vec = U @ rho0_vec\n",
        "        rho_t = rho_t_vec.reshape(dim, dim)\n",
        "        x_t = np.real(np.trace(X1_obs @ rho_t))\n",
        "        results.append(x_t)\n",
        "\n",
        "    # Return torch tensor of shape [n, 1]\n",
        "    return torch.tensor(results, dtype=torch.float32).unsqueeze(-1)\n"
      ],
      "metadata": {
        "id": "72bskhMjZvrf"
      },
      "execution_count": 6,
      "outputs": []
    },
    {
      "cell_type": "code",
      "source": [
        "class LinbDataset(Dataset):\n",
        "    def __init__(self, x_0, x_1, x_2, y):\n",
        "        self.x_0 = x_0\n",
        "        self.x_1 = x_1\n",
        "        self.x_2 = x_2\n",
        "        self.y = y\n",
        "\n",
        "    def __len__(self):\n",
        "        return len(self.x_0)\n",
        "\n",
        "    def __getitem__(self, idx):\n",
        "        return self.x_0[idx], self.x_1[idx], self.x_2[idx], self.y[idx]"
      ],
      "metadata": {
        "id": "avO1KQHZq3FF"
      },
      "execution_count": 7,
      "outputs": []
    },
    {
      "cell_type": "code",
      "source": [
        "class LinbDataGenerator:\n",
        "    def __init__(self, num_samples=3000, n_ancilla=3, multiplicity=1, ratio=0.8):\n",
        "        assert num_samples % 5 == 0, \"num_samples must be a multiple of 5\"\n",
        "        self.num_samples = num_samples\n",
        "        self.n_ancilla = n_ancilla\n",
        "        self.multiplicity = multiplicity\n",
        "        self.ratio = ratio\n",
        "        self.delta = math.pi / (2 * 3 * num_samples)  # Step size\n",
        "\n",
        "        # Precompute datasets\n",
        "        self.train_data = self._generate_sequence('train')\n",
        "        self.test_data = self._generate_sequence('test')\n",
        "\n",
        "    def _generate_sequence(self, dataset_type):\n",
        "        if dataset_type == 'train':\n",
        "            start = 0\n",
        "            end = self.ratio * (math.pi / 2) - 4 * self.delta\n",
        "            steps = int(self.ratio * self.num_samples)\n",
        "        else:\n",
        "            start = self.ratio * (math.pi / 2)\n",
        "            end = math.pi / 2 - 4 * self.delta\n",
        "            steps = self.num_samples - int(self.ratio * self.num_samples)\n",
        "\n",
        "        x0_data = torch.linspace(start, end, steps)\n",
        "        x1_data = x0_data + 1 * self.delta\n",
        "        x2_data = x0_data + 2 * self.delta\n",
        "        x3_data = x0_data + 3 * self.delta\n",
        "\n",
        "        y1_data = Linb_meas(self.multiplicity * x1_data.unsqueeze(-1)) # Ensure input is [num_samples, 1]\n",
        "        y2_data = Linb_meas(self.multiplicity * x2_data.unsqueeze(-1))\n",
        "        y3_data = Linb_meas(self.multiplicity * x3_data.unsqueeze(-1))\n",
        "        target_seq = torch.cat([y1_data, y2_data, y3_data], dim=1) # Shape [num_samples, 3]\n",
        "\n",
        "        input_seq_0 = Linb_meas(self.multiplicity*x0_data.unsqueeze(-1)) # Shape [num_samples, 1]\n",
        "        input_seq_1 = Linb_meas(self.multiplicity*x1_data.unsqueeze(-1))\n",
        "        input_seq_2 = Linb_meas(self.multiplicity*x2_data.unsqueeze(-1))\n",
        "\n",
        "        return input_seq_0, input_seq_1, input_seq_2, target_seq\n",
        "\n",
        "    def get_loaders(self, batch_size=32):\n",
        "        train_dataset = LinbDataset(*self.train_data)\n",
        "        test_dataset = LinbDataset(*self.test_data)\n",
        "\n",
        "        train_loader = DataLoader(train_dataset, batch_size=batch_size, shuffle=True)\n",
        "        test_loader = DataLoader(test_dataset, batch_size=batch_size)\n",
        "\n",
        "        return train_loader, test_loader"
      ],
      "metadata": {
        "id": "UKQ5-lHEq3H2"
      },
      "execution_count": 8,
      "outputs": []
    },
    {
      "cell_type": "code",
      "source": [
        "generator = LinbDataGenerator()\n",
        "train_loader, test_loader = generator.get_loaders(batch_size=64)"
      ],
      "metadata": {
        "id": "Y7BtIB97q3oX"
      },
      "execution_count": 9,
      "outputs": []
    },
    {
      "cell_type": "code",
      "source": [],
      "metadata": {
        "id": "pK_y5FFaZ9TZ"
      },
      "execution_count": 9,
      "outputs": []
    },
    {
      "cell_type": "code",
      "source": [
        "class QSSMLayer(nn.Module):\n",
        "    def __init__(self, n_ancilla=3, n_layers=6, backend=\"default.qubit\"):\n",
        "        super(QSSMLayer, self).__init__()\n",
        "\n",
        "        self.n_ancilla = n_ancilla # number of ancilla qubits\n",
        "        self.n_layers = n_layers # number of repeated blocks in U_B\n",
        "\n",
        "        self.n_q1 = 1 + n_ancilla # 1 dimensional input + ancillae\n",
        "        self.n_q2 = 2 * self.n_q1\n",
        "        self.n_q3 = 3 * self.n_q1\n",
        "\n",
        "        self.dev1 = qml.device(backend, wires=self.n_q1)\n",
        "        self.dev2 = qml.device(backend, wires=self.n_q2)\n",
        "        self.dev3 = qml.device(backend, wires=self.n_q3)\n",
        "\n",
        "#step 1\n",
        "        def circuit_1(inputs, r_z_1, r_x, r_z_2, c_r_z, U_B, U_A, r_y, c_r_y):\n",
        "\n",
        "            qml.AngleEmbedding(inputs, wires=range(self.n_q1), rotation='Y') # angle embedding by rotation Y\n",
        "\n",
        "            for l in range(self.n_layers):\n",
        "                for i in range(self.n_q1):\n",
        "\n",
        "                    qml.RX(r_z_1[l, i, :], wires=i)\n",
        "                    qml.RZ(r_x[l, i, :], wires=i)\n",
        "                    qml.RX(r_z_2[l, i, :], wires=i)\n",
        "\n",
        "                    if i< self.n_q1 - 1:\n",
        "                      qml.CRZ(c_r_z[l, i, :], wires = [i+1, i] )\n",
        "                    if i == self.n_q1 - 1:\n",
        "                      qml.CRZ(c_r_z[l, i, :], wires = [0, i])\n",
        "\n",
        "            for i in range(self.n_q1):\n",
        "\n",
        "                qml.RY(r_y[i], wires=i) # rotate Y every wrire\n",
        "\n",
        "                if i < self.n_q1 - 1:\n",
        "                  qml.CRY(c_r_y[i], wires=[i+1, i]) # chain of controlled Y gates\n",
        "\n",
        "                if i == self.n_q1 - 1:\n",
        "                  qml.CRY(c_r_y[i], wires=[0, i])\n",
        "\n",
        "            #return [qml.expval(qml.PauliZ(i)) for i in range(self.n_q1)]\n",
        "            return [qml.expval(qml.PauliZ(i)) for i in [1]]\n",
        "\n",
        "#step 2\n",
        "        def circuit_2(inputs, r_z_1, r_x, r_z_2, c_r_z, U_B, U_A, r_y, c_r_y):\n",
        "\n",
        "            qml.AngleEmbedding(inputs, wires=range(self.n_q2), rotation='Y')\n",
        "\n",
        "            for l in range(self.n_layers):\n",
        "                for i in range(self.n_q1):\n",
        "\n",
        "                    qml.RX(r_z_1[l, i, :], wires=i)\n",
        "                    qml.RZ(r_x[l, i, :], wires=i)\n",
        "                    qml.RX(r_z_2[l, i, :], wires=i)\n",
        "\n",
        "                    if i< self.n_q1 - 1:\n",
        "                      qml.CRZ(c_r_z[l, i, :], wires = [i+1, i] )\n",
        "                    if i == self.n_q1 - 1:\n",
        "                      qml.CRZ(c_r_z[l, i, :], wires = [0, i])\n",
        "\n",
        "            for l in range(self.n_layers):\n",
        "                for i in range(self.n_q1, self.n_q2):\n",
        "\n",
        "                    qml.RX(r_z_1[l, i - self.n_q1, :], wires=i)\n",
        "                    qml.RZ(r_x[l, i - self.n_q1, :], wires=i)\n",
        "                    qml.RX(r_z_2[l, i - self.n_q1, :], wires=i)\n",
        "\n",
        "                    if i< self.n_q2 - 1:\n",
        "                      qml.CRZ(c_r_z[l, i - self.n_q1, :], wires = [i+1, i] )\n",
        "                    if i == self.n_q2 - 1:\n",
        "                      qml.CRZ(c_r_z[l, i - self.n_q1, :], wires = [self.n_q1, i])\n",
        "\n",
        "            # Apply e^{1*U_A[i,j] Z_i Z_j} to qubits 0 1 2\n",
        "            for i in range(self.n_q1):\n",
        "              for j in range(i+1, self.n_q1):\n",
        "                qml.IsingZZ(U_A[i,j], wires=[i, j])\n",
        "\n",
        "            # RY and CRY\n",
        "            # wires of x_0\n",
        "            for i in range(self.n_q2):\n",
        "\n",
        "                if i < self.n_q1:\n",
        "\n",
        "                  qml.RY(r_y[i], wires=i) # rotate Y every wrire\n",
        "\n",
        "                  qml.CRY(c_r_y[i], wires=[i+1, i]) # chain of controlled Y gates\n",
        "\n",
        "\n",
        "            # wires of x_1\n",
        "                if ( i in range(self.n_q1, self.n_q2) ):\n",
        "\n",
        "                  qml.RY(r_y[i - self.n_q1], wires=i)\n",
        "\n",
        "                  if i < self.n_q2 - 1:\n",
        "                    qml.CRY(c_r_y[i - self.n_q1], wires=[i+1, i])\n",
        "\n",
        "                  if i == self.n_q2 - 1:\n",
        "                    qml.CRY(c_r_y[i - self.n_q1], wires=[0, i])\n",
        "\n",
        "            #return [qml.expval(qml.PauliZ(i)) for i in range(self.n_q1)]\n",
        "            return [qml.expval(qml.PauliZ(i)) for i in [1]]\n",
        "\n",
        "# step 3\n",
        "        def circuit_3(inputs, r_z_1, r_x, r_z_2, c_r_z, U_B, U_A, r_y, c_r_y):\n",
        "\n",
        "            qml.AngleEmbedding(inputs, wires=range(self.n_q3), rotation='Y')\n",
        "\n",
        "            for l in range(self.n_layers):\n",
        "                for i in range(self.n_q1):\n",
        "\n",
        "                    qml.RX(r_z_1[l, i, :], wires=i)\n",
        "                    qml.RZ(r_x[l, i, :], wires=i)\n",
        "                    qml.RX(r_z_2[l, i, :], wires=i)\n",
        "\n",
        "                    if i< self.n_q1 - 1:\n",
        "                      qml.CRZ(c_r_z[l, i, :], wires = [i+1, i] )\n",
        "                    if i == self.n_q1 - 1:\n",
        "                      qml.CRZ(c_r_z[l, i, :], wires = [0, i])\n",
        "\n",
        "\n",
        "            for l in range(self.n_layers):\n",
        "                for i in range(self.n_q1, self.n_q2):\n",
        "\n",
        "                    qml.RX(r_z_1[l, i - self.n_q1, :], wires=i)\n",
        "                    qml.RZ(r_x[l, i - self.n_q1, :], wires=i)\n",
        "                    qml.RX(r_z_2[l, i - self.n_q1, :], wires=i)\n",
        "\n",
        "                    if i< self.n_q2 - 1:\n",
        "                      qml.CRZ(c_r_z[l, i - self.n_q1, :], wires = [i+1, i] )\n",
        "                    if i == self.n_q2 - 1:\n",
        "                      qml.CRZ(c_r_z[l, i - self.n_q1, :], wires = [self.n_q1, i])\n",
        "\n",
        "\n",
        "            for l in range(self.n_layers):\n",
        "                for i in range(self.n_q2, self.n_q3):\n",
        "                    qml.RX(r_z_1[l, i - self.n_q2, :], wires=i)\n",
        "                    qml.RZ(r_x[l, i - self.n_q2, :], wires=i)\n",
        "                    qml.RX(r_z_2[l, i - self.n_q2, :], wires=i)\n",
        "\n",
        "                    if i< self.n_q3 - 1:\n",
        "                      qml.CRZ(c_r_z[l, i - self.n_q2, :], wires = [i+1, i] )\n",
        "                    if i == self.n_q3 - 1:\n",
        "                      qml.CRZ(c_r_z[l, i - self.n_q2, :], wires = [self.n_q2, i])\n",
        "\n",
        "\n",
        "            # Apply e^{2*U_A[i,j] Z_i Z_j} to qubits 0 1 2\n",
        "            for i in range(self.n_q1):\n",
        "              for j in range(i+1, self.n_q1):\n",
        "                qml.IsingZZ(2*U_A[i, j], wires=[i, j])\n",
        "\n",
        "\n",
        "            # Apply e^{1*U_A[i,j] Z_i Z_j} to qubits 3 4 5\n",
        "            for i in range(self.n_q1, self.n_q2):\n",
        "              for j in range(i+1, self.n_q2):\n",
        "                # Calculate relative indices for U_A\n",
        "                i_rel = i - self.n_q1\n",
        "                j_rel = j - self.n_q1\n",
        "            # Check bounds before accessing U_A\n",
        "                if i_rel < U_A.shape[0] and j_rel < U_A.shape[1]:\n",
        "                  qml.IsingZZ(U_A[i_rel, j_rel], wires=[i, j])\n",
        "\n",
        "            # RY and CRY\n",
        "            # wires of x_0\n",
        "            for i in range(self.n_q3):\n",
        "                if i < self.n_q1:\n",
        "\n",
        "                  qml.RY(r_y[i], wires=i) # rotate Y every wrire\n",
        "\n",
        "                  qml.CRY(c_r_y[i], wires=[i+1, i]) # chain of controlled Y gates\n",
        "\n",
        "\n",
        "            # wires of x_1\n",
        "                if i in range(self.n_q1, self.n_q2):\n",
        "\n",
        "                  qml.RY(r_y[i - self.n_q1], wires=i)\n",
        "\n",
        "                  qml.CRY(c_r_y[i - self.n_q1], wires=[i+1, i]) # chain of controlled Y gates\n",
        "\n",
        "\n",
        "            # wires of x_2\n",
        "                if i in range(self.n_q2, self.n_q3):\n",
        "                  qml.RY(r_y[i - self.n_q2], wires=i) # rotate Y every wrire\n",
        "\n",
        "                  if i < self.n_q3 - 1:\n",
        "                    qml.CRY(c_r_y[i - self.n_q2], wires=[i+1, i]) # chain of controlled Y gates\n",
        "\n",
        "                  if i == self.n_q3 - 1:\n",
        "                    qml.CRY(c_r_y[i - self.n_q2], wires=[0, i])\n",
        "\n",
        "\n",
        "            #return [qml.expval(qml.PauliZ(i)) for i in range(self.n_q1)]\n",
        "            return [qml.expval(qml.PauliZ(i)) for i in [1]]\n",
        "\n",
        "        weight_shapes = {\n",
        "            \"r_z_1\": (self.n_layers, self.n_q1, 1),\n",
        "            \"r_x\": (self.n_layers, self.n_q1, 1),\n",
        "            \"r_z_2\": (self.n_layers, self.n_q1, 1),\n",
        "            \"c_r_z\": (self.n_layers, self.n_q1, 1),\n",
        "            \"U_B\": (self.n_layers, 1, self.n_q1),\n",
        "            \"U_A\":(self.n_q1, self.n_q1),\n",
        "            \"r_y\": (self.n_q1, 1),\n",
        "            \"c_r_y\": (self.n_q1, 1),\n",
        "        }\n",
        "        # Add initialization\n",
        "\n",
        "        self.qlayer_1 = qml.qnn.TorchLayer(qml.QNode(circuit_1, self.dev1, interface=\"torch\"), weight_shapes)\n",
        "        self.qlayer_2 = qml.qnn.TorchLayer(qml.QNode(circuit_2, self.dev2, interface=\"torch\"), weight_shapes)\n",
        "        self.qlayer_3 = qml.qnn.TorchLayer(qml.QNode(circuit_3, self.dev3, interface=\"torch\"), weight_shapes)\n",
        "\n",
        "        # Uniform initialization of all parameters in each quantum layer\n",
        "        init_left, init_right = -.5, .5\n",
        "        for layer in [self.qlayer_1, self.qlayer_2, self.qlayer_3]:\n",
        "          for name, param in layer.named_parameters():\n",
        "            torch.nn.init.uniform_(param, a=init_left, b=init_right)\n",
        "\n",
        "    def forward(self, x_0, x_1, x_2):\n",
        "        out_0 = torch.mean(self.qlayer_1(x_0), dim=1)  # shape: [batch_size]\n",
        "        out_1 = torch.mean(self.qlayer_2(x_1), dim=1)\n",
        "        out_2 = torch.mean(self.qlayer_3(x_2), dim=1)\n",
        "        combined_out = torch.stack([out_0, out_1, out_2], dim=1)  # [batch_size, 3]\n",
        "        return combined_out\n"
      ],
      "metadata": {
        "id": "su9NhJCPZ9lx"
      },
      "execution_count": 57,
      "outputs": []
    },
    {
      "cell_type": "code",
      "source": [
        "model = QSSMLayer()"
      ],
      "metadata": {
        "id": "q7Mu-Aq75N81"
      },
      "execution_count": 58,
      "outputs": []
    },
    {
      "cell_type": "code",
      "source": [
        "criterion = nn.MSELoss()\n",
        "optimizer = optim.SGD(model.parameters(), lr=5*1e-2)"
      ],
      "metadata": {
        "id": "_Zdbrf9jDssd"
      },
      "execution_count": 59,
      "outputs": []
    },
    {
      "cell_type": "code",
      "source": [
        "def count_params(model):\n",
        "    return sum(p.numel() for p in model.parameters() if p.requires_grad)\n",
        "print(count_params(model))"
      ],
      "metadata": {
        "colab": {
          "base_uri": "https://localhost:8080/"
        },
        "id": "oK6SPi2cjAHK",
        "outputId": "e812950a-da12-4068-d17f-690ee8a35de7"
      },
      "execution_count": 60,
      "outputs": [
        {
          "output_type": "stream",
          "name": "stdout",
          "text": [
            "432\n"
          ]
        }
      ]
    },
    {
      "cell_type": "code",
      "source": [
        "loss_history = []"
      ],
      "metadata": {
        "id": "GGcDZ_x6lbjZ"
      },
      "execution_count": 61,
      "outputs": []
    },
    {
      "cell_type": "code",
      "source": [
        "# Test random function\n",
        "model.eval()\n",
        "test_loss_all = 0.0\n",
        "test_loss_y2 = 0.0\n",
        "num_batch = 0\n",
        "\n",
        "with torch.no_grad():\n",
        "    for batch_x_0, batch_x_1, batch_x_2, batch_y in test_loader:\n",
        "        output = model(batch_x_0, batch_x_1, batch_x_2)\n",
        "\n",
        "        loss_all = criterion(output, batch_y)\n",
        "        test_loss_all += loss_all.item()\n",
        "\n",
        "        loss_y2 = criterion(output[:, 2], batch_y[:, 2]) # test only given x0 x1 x2, predict x3\n",
        "        test_loss_y2 += loss_y2.item()\n",
        "        num_batch += 1\n",
        "\n",
        "    test_loss_all /= num_batch\n",
        "    test_loss_y2 /= num_batch\n",
        "print(f\"\\n Test Loss before Training (all steps): {test_loss_all:.4f}\")\n",
        "print(f\"\\n Test Loss before Training (3rd step): {test_loss_y2:.4f}\")\n"
      ],
      "metadata": {
        "colab": {
          "base_uri": "https://localhost:8080/"
        },
        "id": "Ut9bhYV4hiHc",
        "outputId": "b2e77b87-0979-4d81-de4d-267c8e3e0d35"
      },
      "execution_count": 62,
      "outputs": [
        {
          "output_type": "stream",
          "name": "stdout",
          "text": [
            "\n",
            " Test Loss before Training (all steps): 1.2642\n",
            "\n",
            " Test Loss before Training (3rd step): 1.1957\n"
          ]
        }
      ]
    },
    {
      "cell_type": "code",
      "source": [
        "# Training\n",
        "n_epochs = 100\n",
        "for epoch in range(n_epochs):\n",
        "    model.train()\n",
        "    epoch_loss = 0.0\n",
        "    num_batch = 0\n",
        "\n",
        "    for batch_x_0, batch_x_1, batch_x_2, batch_y in train_loader:\n",
        "        optimizer.zero_grad()\n",
        "        output = model(batch_x_0, batch_x_1, batch_x_2)\n",
        "        loss = criterion(output, batch_y)\n",
        "        loss.backward()\n",
        "        optimizer.step()\n",
        "        epoch_loss += loss.item()\n",
        "        num_batch += 1\n",
        "    epoch_loss /= num_batch\n",
        "    #if epoch%10 == 0:\n",
        "    loss_history.append(epoch_loss)\n",
        "    print(f\"Epoch {epoch+1}/{n_epochs} - Loss: {epoch_loss:.4f}\")"
      ],
      "metadata": {
        "colab": {
          "base_uri": "https://localhost:8080/"
        },
        "id": "lbVtobuNDsvT",
        "outputId": "22feb57f-d3cd-44da-e75e-6313774fc189"
      },
      "execution_count": 63,
      "outputs": [
        {
          "output_type": "stream",
          "name": "stdout",
          "text": [
            "Epoch 1/100 - Loss: 0.4362\n",
            "Epoch 2/100 - Loss: 0.3820\n",
            "Epoch 3/100 - Loss: 0.3357\n",
            "Epoch 4/100 - Loss: 0.3092\n",
            "Epoch 5/100 - Loss: 0.2967\n",
            "Epoch 6/100 - Loss: 0.2850\n",
            "Epoch 7/100 - Loss: 0.2719\n",
            "Epoch 8/100 - Loss: 0.2508\n",
            "Epoch 9/100 - Loss: 0.2132\n",
            "Epoch 10/100 - Loss: 0.1640\n",
            "Epoch 11/100 - Loss: 0.1145\n",
            "Epoch 12/100 - Loss: 0.0793\n",
            "Epoch 13/100 - Loss: 0.0568\n",
            "Epoch 14/100 - Loss: 0.0426\n",
            "Epoch 15/100 - Loss: 0.0336\n",
            "Epoch 16/100 - Loss: 0.0276\n",
            "Epoch 17/100 - Loss: 0.0232\n",
            "Epoch 18/100 - Loss: 0.0200\n",
            "Epoch 19/100 - Loss: 0.0177\n",
            "Epoch 20/100 - Loss: 0.0160\n",
            "Epoch 21/100 - Loss: 0.0147\n",
            "Epoch 22/100 - Loss: 0.0135\n",
            "Epoch 23/100 - Loss: 0.0126\n",
            "Epoch 24/100 - Loss: 0.0117\n",
            "Epoch 25/100 - Loss: 0.0111\n",
            "Epoch 26/100 - Loss: 0.0106\n",
            "Epoch 27/100 - Loss: 0.0102\n",
            "Epoch 28/100 - Loss: 0.0098\n",
            "Epoch 29/100 - Loss: 0.0095\n",
            "Epoch 30/100 - Loss: 0.0092\n",
            "Epoch 31/100 - Loss: 0.0090\n",
            "Epoch 32/100 - Loss: 0.0087\n",
            "Epoch 33/100 - Loss: 0.0086\n",
            "Epoch 34/100 - Loss: 0.0084\n",
            "Epoch 35/100 - Loss: 0.0082\n",
            "Epoch 36/100 - Loss: 0.0081\n",
            "Epoch 37/100 - Loss: 0.0080\n",
            "Epoch 38/100 - Loss: 0.0079\n",
            "Epoch 39/100 - Loss: 0.0078\n",
            "Epoch 40/100 - Loss: 0.0077\n",
            "Epoch 41/100 - Loss: 0.0076\n",
            "Epoch 42/100 - Loss: 0.0076\n",
            "Epoch 43/100 - Loss: 0.0075\n",
            "Epoch 44/100 - Loss: 0.0074\n",
            "Epoch 45/100 - Loss: 0.0074\n",
            "Epoch 46/100 - Loss: 0.0073\n",
            "Epoch 47/100 - Loss: 0.0073\n",
            "Epoch 48/100 - Loss: 0.0073\n",
            "Epoch 49/100 - Loss: 0.0072\n",
            "Epoch 50/100 - Loss: 0.0072\n",
            "Epoch 51/100 - Loss: 0.0071\n",
            "Epoch 52/100 - Loss: 0.0071\n",
            "Epoch 53/100 - Loss: 0.0071\n",
            "Epoch 54/100 - Loss: 0.0071\n",
            "Epoch 55/100 - Loss: 0.0070\n",
            "Epoch 56/100 - Loss: 0.0070\n",
            "Epoch 57/100 - Loss: 0.0070\n",
            "Epoch 58/100 - Loss: 0.0070\n",
            "Epoch 59/100 - Loss: 0.0070\n",
            "Epoch 60/100 - Loss: 0.0070\n",
            "Epoch 61/100 - Loss: 0.0069\n",
            "Epoch 62/100 - Loss: 0.0069\n",
            "Epoch 63/100 - Loss: 0.0069\n",
            "Epoch 64/100 - Loss: 0.0069\n",
            "Epoch 65/100 - Loss: 0.0069\n",
            "Epoch 66/100 - Loss: 0.0068\n",
            "Epoch 67/100 - Loss: 0.0068\n",
            "Epoch 68/100 - Loss: 0.0068\n",
            "Epoch 69/100 - Loss: 0.0069\n",
            "Epoch 70/100 - Loss: 0.0068\n",
            "Epoch 71/100 - Loss: 0.0068\n",
            "Epoch 72/100 - Loss: 0.0068\n",
            "Epoch 73/100 - Loss: 0.0068\n",
            "Epoch 74/100 - Loss: 0.0068\n",
            "Epoch 75/100 - Loss: 0.0068\n",
            "Epoch 76/100 - Loss: 0.0068\n",
            "Epoch 77/100 - Loss: 0.0068\n",
            "Epoch 78/100 - Loss: 0.0068\n",
            "Epoch 79/100 - Loss: 0.0067\n",
            "Epoch 80/100 - Loss: 0.0067\n",
            "Epoch 81/100 - Loss: 0.0068\n",
            "Epoch 82/100 - Loss: 0.0067\n",
            "Epoch 83/100 - Loss: 0.0067\n",
            "Epoch 84/100 - Loss: 0.0068\n",
            "Epoch 85/100 - Loss: 0.0067\n",
            "Epoch 86/100 - Loss: 0.0067\n",
            "Epoch 87/100 - Loss: 0.0067\n",
            "Epoch 88/100 - Loss: 0.0067\n",
            "Epoch 89/100 - Loss: 0.0067\n",
            "Epoch 90/100 - Loss: 0.0067\n",
            "Epoch 91/100 - Loss: 0.0067\n",
            "Epoch 92/100 - Loss: 0.0067\n",
            "Epoch 93/100 - Loss: 0.0067\n",
            "Epoch 94/100 - Loss: 0.0067\n",
            "Epoch 95/100 - Loss: 0.0067\n",
            "Epoch 96/100 - Loss: 0.0067\n",
            "Epoch 97/100 - Loss: 0.0067\n",
            "Epoch 98/100 - Loss: 0.0067\n",
            "Epoch 99/100 - Loss: 0.0067\n",
            "Epoch 100/100 - Loss: 0.0067\n"
          ]
        }
      ]
    },
    {
      "cell_type": "code",
      "source": [
        "#Evaluation\n",
        "model.eval()\n",
        "test_loss_all = 0.0\n",
        "test_loss_y2 = 0.0\n",
        "num_batch = 0\n",
        "x_3_list = []\n",
        "y_2_list = []\n",
        "\n",
        "with torch.no_grad():\n",
        "    for batch_x_0, batch_x_1, batch_x_2, batch_y in test_loader:\n",
        "        output = model(batch_x_0, batch_x_1, batch_x_2)\n",
        "\n",
        "        loss_all = criterion(output, batch_y)\n",
        "        test_loss_all += loss_all.item()\n",
        "\n",
        "        loss_y2 = criterion(output[:, 2], batch_y[:, 2])\n",
        "        test_loss_y2 += loss_y2.item()\n",
        "\n",
        "        x_3_list.append(output[:, 2].tolist())\n",
        "        y_2_list.append(batch_y[:, 2].tolist())\n",
        "\n",
        "        num_batch += 1\n",
        "    test_loss_all /= num_batch\n",
        "    test_loss_y2 /= num_batch\n",
        "print(f\"\\n Final test Loss (all steps): {test_loss_all:.4f}\")\n",
        "print(f\"\\n Final test Loss (3rd step): {test_loss_y2:.4f}\")"
      ],
      "metadata": {
        "id": "UBOuW-3pDsx2",
        "colab": {
          "base_uri": "https://localhost:8080/"
        },
        "outputId": "4bfd7868-cdfe-45fe-e614-ec5f330da354"
      },
      "execution_count": 64,
      "outputs": [
        {
          "output_type": "stream",
          "name": "stdout",
          "text": [
            "\n",
            " Final test Loss (all steps): 0.0074\n",
            "\n",
            " Final test Loss (3rd step): 0.0074\n"
          ]
        }
      ]
    },
    {
      "cell_type": "code",
      "source": [
        "%matplotlib inline\n",
        "import matplotlib.pyplot as plt\n",
        "import numpy as np\n",
        "import matplotlib"
      ],
      "metadata": {
        "id": "pCEZMpPDm98Z"
      },
      "execution_count": 65,
      "outputs": []
    },
    {
      "cell_type": "code",
      "source": [
        "n_steps = len(loss_history)"
      ],
      "metadata": {
        "id": "2Bakni3JnXI8"
      },
      "execution_count": 66,
      "outputs": []
    },
    {
      "cell_type": "code",
      "source": [
        "\n",
        "x_coords = [i for i in range(n_steps)]\n",
        "y_coords = loss_history\n",
        "\n",
        "plt.plot(x_coords, y_coords, c=\"#1f77b4\", marker=\"o\")\n",
        "plt.xlabel('X-axis')\n",
        "plt.ylabel('Y-axis')\n",
        "plt.title('Plot of Points')\n",
        "plt.show()"
      ],
      "metadata": {
        "colab": {
          "base_uri": "https://localhost:8080/",
          "height": 472
        },
        "id": "ySOqwBreoUL8",
        "outputId": "42097a0a-c45f-48e7-edcb-e7e5673f22ee"
      },
      "execution_count": 67,
      "outputs": [
        {
          "output_type": "display_data",
          "data": {
            "text/plain": [
              "<Figure size 640x480 with 1 Axes>"
            ],
            "image/png": "[encoded data removed]"
          },
          "metadata": {}
        }
      ]
    },
    {
      "cell_type": "code",
      "source": [
        "print(loss_history)"
      ],
      "metadata": {
        "id": "J-L3-CRaqGLk",
        "colab": {
          "base_uri": "https://localhost:8080/"
        },
        "outputId": "01f66c86-4b01-495f-874b-97cb6cf3d76f"
      },
      "execution_count": 68,
      "outputs": [
        {
          "output_type": "stream",
          "name": "stdout",
          "text": [
            "[0.4362299410920394, 0.38202406309152903, 0.335704238399079, 0.3091781551116391, 0.29670779563878713, 0.2850477417048655, 0.2718979296715636, 0.25078112004618897, 0.21320704096242002, 0.16401787768853338, 0.11449543131809485, 0.07933149398549606, 0.056772493414188684, 0.04256294550080048, 0.03362964255441176, 0.027642612296499704, 0.023221437280115328, 0.020045488141477108, 0.017741996280260776, 0.016033768114682875, 0.014676355070581562, 0.013466021438178263, 0.012557726573983305, 0.011732190982193538, 0.011127812898178635, 0.010648687443646946, 0.010205200456671025, 0.009817356010898948, 0.009501060801803282, 0.009197552639402841, 0.008953561405896357, 0.008732436286089452, 0.008592446040558187, 0.008403884344979337, 0.008248479620210435, 0.008142257256335333, 0.008014566424351773, 0.00787115794312405, 0.007798470372922327, 0.007737519305297418, 0.007632956190622951, 0.007592036106966828, 0.007528676773960653, 0.0074458708006300426, 0.007378647005871723, 0.00734477803895348, 0.007293343593023326, 0.0072531914338469505, 0.007208152674138546, 0.007161643968797044, 0.007134256786421726, 0.007099855997550644, 0.007085646184063272, 0.007081745878646248, 0.007046825803914352, 0.007014389762556867, 0.0070108067072731884, 0.006982790747363316, 0.007028120937512109, 0.0069701040874382385, 0.006917135073117127, 0.0069395432395762515, 0.006884497823193669, 0.006916330943472292, 0.006897930006839727, 0.006831713167852477, 0.006842005593506129, 0.006824362483855925, 0.006878610283724572, 0.006806769849438416, 0.006806273944675922, 0.006811683789189709, 0.0067919959853354256, 0.006799767320779593, 0.006793562580194128, 0.006817644290429981, 0.006771474353674995, 0.006780292532455765, 0.006737784862420277, 0.006714717264434225, 0.006783706221827551, 0.006746628530029403, 0.0067461907471481125, 0.006766929609799071, 0.006718831528958522, 0.006742478434094473, 0.006735698810141338, 0.0066966216545552015, 0.0067111025686914984, 0.0067119176107409756, 0.006719690612762382, 0.006716606721870209, 0.006731731853889008, 0.006735372565392601, 0.006716970697437462, 0.006692496924906185, 0.006685901163636069, 0.006682638360775615, 0.006698228124725192, 0.0066528106966104944]\n"
          ]
        }
      ]
    },
    {
      "cell_type": "code",
      "source": [
        "print(x_3_list)"
      ],
      "metadata": {
        "id": "PVTwvTgYea4r",
        "colab": {
          "base_uri": "https://localhost:8080/"
        },
        "outputId": "b62eb51e-5d22-4ecc-8f78-b3a7a05ff1d8"
      },
      "execution_count": 69,
      "outputs": [
        {
          "output_type": "stream",
          "name": "stdout",
          "text": [
            "[[-0.3609180152416229, -0.3635716438293457, -0.36621764302253723, -0.3688555359840393, -0.3714863657951355, -0.3741096258163452, -0.37672510743141174, -0.37933287024497986, -0.38193291425704956, -0.38452455401420593, -0.3871089518070221, -0.3896854817867279, -0.39225414395332336, -0.3948148787021637, -0.39736706018447876, -0.3999118208885193, -0.4024485647678375, -0.40497729182243347, -0.40749791264533997, -0.4100103974342346, -0.41251423954963684, -0.41501039266586304, -0.417498379945755, -0.4199781119823456, -0.42244967818260193, -0.4249122738838196, -0.4273672103881836, -0.42981377243995667, -0.4322519898414612, -0.43468180298805237, -0.4371032118797302, -0.439515620470047, -0.44192010164260864, -0.4443160891532898, -0.44670358300209045, -0.44908252358436584, -0.45145294070243835, -0.45381423830986023, -0.45616742968559265, -0.45851200819015503, -0.460847944021225, -0.4631751775741577, -0.46549326181411743, -0.46780315041542053, -0.47010424733161926, -0.4723966717720032, -0.4746802747249603, -0.4769551455974579, -0.4792206287384033, -0.48147785663604736, -0.4837263226509094, -0.48596587777137756, -0.4881965219974518, -0.4904177784919739, -0.49263066053390503, -0.49483466148376465, -0.4970296621322632, -0.4992157518863678, -0.5013929009437561, -0.5035605430603027, -0.505719780921936, -0.5078698992729187, -0.5100110769271851, -0.5121431946754456], [-0.5142658352851868, -0.5163799524307251, -0.518484890460968, -0.5205808877944946, -0.5226677060127258, -0.524745523929596, -0.5268137454986572, -0.5288733839988708, -0.5309237837791443, -0.5329651832580566, -0.5349973440170288, -0.5370199680328369, -0.5390339493751526, -0.5410387516021729, -0.5430343747138977, -0.5450208187103271, -0.5469980835914612, -0.5489657521247864, -0.5509247183799744, -0.5528745055198669, -0.5548151135444641, -0.5567464232444763, -0.5586687326431274, -0.5605812668800354, -0.5624850988388062, -0.5643795728683472, -0.5662649869918823, -0.5681411623954773, -0.5700077414512634, -0.5718654990196228, -0.573714017868042, -0.5755533576011658, -0.5773834586143494, -0.5792043805122375, -0.5810156464576721, -0.5828180909156799, -0.5846114158630371, -0.5863955020904541, -0.5881702899932861, -0.5899355411529541, -0.5916920304298401, -0.5934392213821411, -0.5951773524284363, -0.5969061851501465, -0.5986258387565613, -0.6003358960151672, -0.602037250995636, -0.6037293076515198, -0.6054121851921082, -0.6070859432220459, -0.6087501645088196, -0.6104055643081665, -0.6120518445968628, -0.6136890053749084, -0.6153169274330139, -0.6169357895851135, -0.6185451745986938, -0.6201456785202026, -0.6217371821403503, -0.6233195066452026, -0.6248927712440491, -0.6264565587043762, -0.6280116438865662, -0.6295576691627502], [-0.6310945749282837, -0.6326224207878113, -0.634141206741333, -0.6356505751609802, -0.637151300907135, -0.6386430263519287, -0.6401256918907166, -0.6415994167327881, -0.6430637240409851, -0.6445193886756897, -0.645966112613678, -0.6474038362503052, -0.6488326787948608, -0.6502525806427002, -0.6516631245613098, -0.6530650854110718, -0.654458224773407, -0.6558423638343811, -0.6572177410125732, -0.6585841774940491, -0.6599414348602295, -0.6612901091575623, -0.6626299619674683, -0.6639610528945923, -0.6652833223342896, -0.666596531867981, -0.6679011583328247, -0.6691970229148865, -0.6704842448234558, -0.6717626452445984, -0.6730323433876038, -0.6742929220199585, -0.6755452752113342, -0.6767887473106384, -0.6780236959457397, -0.6792499423027039, -0.6804673075675964, -0.6816762685775757, -0.6828765869140625, -0.6840683221817017, -0.6852514743804932, -0.686426043510437, -0.6875919103622437, -0.6887493133544922, -0.6898982524871826, -0.6910387873649597, -0.6921707391738892, -0.6932939887046814, -0.6944089531898499, -0.6955155730247498, -0.6966137290000916, -0.6977034211158752, -0.6987847685813904, -0.6998574733734131, -0.7009220123291016, -0.7019782662391663, -0.7030261754989624, -0.70406574010849, -0.7050967812538147, -0.7061197757720947, -0.7071344256401062, -0.7081408500671387, -0.7091391086578369, -0.7101291418075562], [-0.7111106514930725, -0.7120842933654785, -0.7130497097969055, -0.7140069603919983, -0.7149561047554016, -0.7158970236778259, -0.716829776763916, -0.717754602432251, -0.7186713218688965, -0.7195799946784973, -0.7204806804656982, -0.7213730812072754, -0.7222576141357422, -0.7231342792510986, -0.7240028977394104, -0.724863588809967, -0.7257162928581238, -0.7265610098838806, -0.7273978590965271, -0.728226900100708, -0.7290480732917786, -0.729861319065094, -0.7306666374206543, -0.7314642071723938, -0.7322540283203125, -0.7330360412597656, -0.733810305595398, -0.7345768213272095, -0.7353353500366211, -0.736086368560791, -0.7368296384811401, -0.7375652194023132, -0.7382931113243103, -0.7390132546424866, -0.7397258281707764, -0.7404307723045349, -0.741128146648407, -0.7418178915977478, -0.7425000071525574, -0.7431744337081909, -0.7438414692878723, -0.744500994682312, -0.7451528906822205, -0.7457974553108215, -0.7464341521263123, -0.7470636367797852, -0.7476856708526611, -0.7483002543449402, -0.7489073872566223, -0.7495071291923523, -0.750099241733551, -0.7506841421127319, -0.7512617111206055, -0.7518318295478821, -0.7523946762084961, -0.7529500722885132, -0.7534981966018677, -0.7540391087532043, -0.7545726299285889, -0.7550988793373108, -0.7556179165840149, -0.7561295032501221, -0.7566340565681458, -0.7571313977241516], [-0.7576214075088501, -0.7581043243408203, -0.7585799694061279, -0.7590484023094177, -0.7595097422599792, -0.759963870048523, -0.7604109048843384, -0.7608509063720703, -0.7612836360931396, -0.7617092728614807, -0.7621279358863831, -0.7625395059585571, -0.7629438638687134, -0.7633413076400757, -0.7637315392494202, -0.7641149163246155, -0.7644912004470825, -0.7648604512214661, -0.7652227282524109, -0.7655779123306274, -0.7659262418746948, -0.7662675976753235, -0.7666019797325134, -0.7669293880462646, -0.7672498226165771, -0.7675632834434509, -0.7678698897361755, -0.7681695818901062, -0.7684623599052429, -0.7687482237815857, -0.7690271735191345, -0.7692992687225342, -0.7695645093917847, -0.769822895526886, -0.7700743675231934, -0.7703190445899963, -0.7705568075180054, -0.7707878351211548, -0.771012008190155, -0.7712293267250061, -0.7714398503303528, -0.7716435790061951, -0.7718404531478882, -0.7720305919647217, -0.772213876247406, -0.7723904252052307, -0.7725602388381958, -0.7727232575416565, -0.7728794813156128, -0.7730289101600647, -0.7731716632843018, -0.7733076810836792, -0.7734368443489075, -0.7735593318939209, -0.7736751437187195, -0.7737841606140137, -0.7738864421844482, -0.773982048034668, -0.7740708589553833, -0.7741530537605286, -0.7742285132408142, -0.7742971777915955, -0.7743592262268066, -0.7744144797325134], [-0.7744631171226501, -0.7745050191879272, -0.7745402455329895, -0.7745687961578369, -0.7745906114578247, -0.7746057510375977, -0.774614155292511, -0.7746159434318542, -0.7746110558509827, -0.7745994329452515, -0.7745811343193054, -0.7745561599731445, -0.7745245099067688, -0.7744861841201782, -0.7744410634040833, -0.774389386177063, -0.7743310332298279, -0.7742658853530884, -0.7741941213607788, -0.7741156816482544, -0.7740305662155151, -0.773938775062561, -0.7738402485847473, -0.7737350463867188, -0.7736231088638306, -0.7735044956207275, -0.7733792066574097, -0.773247241973877, -0.7731084823608398, -0.7729631662368774, -0.7728109955787659, -0.7726521492004395, -0.772486686706543, -0.7723144888877869, -0.7721354961395264, -0.771949827671051, -0.7717574238777161, -0.7715582251548767, -0.7713524103164673, -0.7711397409439087, -0.7709203958511353, -0.7706942558288574, -0.77046138048172, -0.7702217102050781, -0.7699754238128662, -0.7697222232818604, -0.7694622278213501, -0.769195556640625, -0.7689220309257507, -0.7686417698860168, -0.7683546543121338, -0.7680607438087463, -0.7677599787712097, -0.7674524784088135, -0.7671381235122681, -0.766817033290863, -0.7664889693260193, -0.7661540508270264, -0.765812337398529, -0.7654637694358826, -0.7651083469390869, -0.7647460699081421, -0.7643768191337585, -0.764000654220581], [-0.7636176347732544, -0.7632277607917786, -0.7628309726715088, -0.7624272704124451, -0.7620165348052979, -0.7615988850593567, -0.7611742615699768, -0.7607428431510925, -0.76030433177948, -0.7598587870597839, -0.7594062685966492, -0.7589468359947205, -0.7584803104400635, -0.7580068707466125, -0.7575263381004333, -0.7570387721061707, -0.7565440535545349, -0.7560424208641052, -0.755533754825592, -0.7550179362297058, -0.7544949650764465, -0.753964900970459, -0.7534277439117432, -0.7528835535049438, -0.7523322701454163, -0.7517737150192261, -0.7512080073356628, -0.7506351470947266, -0.7500550746917725, -0.7494678497314453, -0.7488735318183899, -0.7482718825340271, -0.7476629614830017, -0.7470468878746033, -0.7464235424995422, -0.7457931041717529, -0.7451551556587219, -0.7445099353790283, -0.7438574433326721, -0.7431976795196533, -0.7425306439399719, -0.7418563365936279, -0.7411745190620422, -0.7404853701591492, -0.739788830280304, -0.7390849590301514, -0.738373875617981, -0.7376551628112793, -0.7369290590286255, -0.73619544506073, -0.7354544401168823, -0.7347059845924377, -0.7339501976966858, -0.7331867814064026, -0.7324159145355225, -0.7316374778747559, -0.7308515310287476, -0.7300582528114319, -0.7292571663856506, -0.7284485697746277, -0.7276323437690735, -0.7268086075782776, -0.7259772419929504, -0.7251384258270264], [-0.7242918610572815, -0.7234376072883606, -0.7225756645202637, -0.7217060923576355, -0.7208290100097656, -0.7199440598487854, -0.7190514206886292, -0.7181509733200073, -0.717242956161499, -0.7163270711898804, -0.7154036164283752, -0.7144722938537598, -0.7135330438613892, -0.7125861048698425, -0.7116312980651855, -0.7106687426567078, -0.7096985578536987, -0.7087202072143555, -0.7077340483665466, -0.7067400217056274, -0.7057381272315979, -0.7047285437583923, -0.7037108540534973, -0.7026852369308472, -0.7016515731811523, -0.7006100416183472, -0.6995605826377869, -0.698503315448761, -0.6974378824234009, -0.6963644027709961, -0.6952829360961914, -0.6941934823989868, -0.6930961608886719, -0.6919906139373779, -0.6908770203590393, -0.6897553205490112, -0.6886255145072937, -0.6874876618385315, -0.6863419413566589, -0.6851878762245178, -0.6840256452560425, -0.6828553080558777, -0.6816768050193787, -0.6804904341697693, -0.6792955994606018, -0.6780925989151001, -0.6768814325332642, -0.6756620407104492, -0.6744344234466553, -0.6731988787651062, -0.6719548106193542, -0.6707025170326233, -0.6694419980049133, -0.6681732535362244, -0.6668964624404907, -0.6656111478805542, -0.6643174290657043, -0.6630155444145203, -0.6617053151130676, -0.6603867411613464, -0.6590601801872253, -0.6577249765396118, -0.656381368637085, -0.6550295948982239], [-0.6536692976951599, -0.6523010730743408, -0.6509240865707397, -0.6495386958122253, -0.6481449604034424, -0.6467428803443909, -0.6453323364257812, -0.643913745880127, -0.6424863934516907, -0.6410506963729858, -0.6396064758300781, -0.6381539106369019, -0.6366928815841675, -0.6352238059043884, -0.6337458491325378, -0.6322595477104187, -0.6307646632194519, -0.6292614340782166, -0.6277499794960022, -0.6262298226356506, -0.6247011423110962, -0.6231639981269836, -0.621618390083313, -0.6200643181800842, -0.6185020804405212, -0.6169309616088867, -0.6153514385223389, -0.6137633919715881, -0.6121668815612793, -0.6105621457099915, -0.6089485883712769, -0.6073265671730042, -0.6056960821151733, -0.6040570735931396, -0.6024094820022583, -0.6007538437843323, -0.5990893244743347, -0.597416341304779, -0.595734715461731, -0.5940448045730591, -0.5923466086387634, -0.590639591217041, -0.5889241099357605, -0.5872000455856323, -0.5854676365852356, -0.5837265849113464, -0.5819775462150574, -0.5802196264266968, -0.5784531831741333, -0.5766782164573669, -0.5748948454856873, -0.5731034278869629, -0.571303129196167, -0.569494366645813, -0.5676771998405457, -0.5658515095710754, -0.5640174150466919, -0.5621752738952637, -0.5603243708610535, -0.5584649443626404, -0.556597113609314, -0.5547209978103638, -0.5528363585472107, -0.5509437918663025], [-0.5490423440933228, -0.5471325516700745, -0.5452145338058472, -0.5432880520820618, -0.5413535237312317, -0.5394103527069092, -0.5374588966369629, -0.535499095916748, -0.5335310101509094, -0.5315544605255127, -0.5295702815055847, -0.52757728099823, -0.5255759954452515, -0.5235665440559387, -0.5215487480163574, -0.5195232629776001, -0.5174891352653503, -0.5154467225074768, -0.5133962035179138, -0.5113374590873718, -0.5092706084251404, -0.5071960687637329, -0.505112886428833, -0.5030216574668884]]\n"
          ]
        }
      ]
    },
    {
      "cell_type": "code",
      "source": [
        "print(y_2_list)"
      ],
      "metadata": {
        "colab": {
          "base_uri": "https://localhost:8080/"
        },
        "id": "ibgWNasmaaij",
        "outputId": "e188077a-8f29-4fc7-8efe-c452ed55eaac"
      },
      "execution_count": 70,
      "outputs": [
        {
          "output_type": "stream",
          "name": "stdout",
          "text": [
            "[[-0.381412148475647, -0.38426265120506287, -0.3871082067489624, -0.38994815945625305, -0.3927837014198303, -0.39561423659324646, -0.3984396755695343, -0.40126001834869385, -0.4040752053260803, -0.4068845808506012, -0.40968939661979675, -0.4124889671802521, -0.4152832627296448, -0.41807225346565247, -0.42085525393486023, -0.42363354563713074, -0.4264064133167267, -0.42917385697364807, -0.4319358468055725, -0.43469229340553284, -0.4374426305294037, -0.4401879906654358, -0.4429277777671814, -0.4456619322299957, -0.4483904242515564, -0.45111262798309326, -0.45382970571517944, -0.4565410315990448, -0.45924657583236694, -0.4619463086128235, -0.46464020013809204, -0.4673275649547577, -0.4700096547603607, -0.4726858139038086, -0.47535598278045654, -0.47802016139030457, -0.4806783199310303, -0.48332977294921875, -0.4859757721424103, -0.48861563205718994, -0.49124932289123535, -0.4938768446445465, -0.4964975416660309, -0.4991125762462616, -0.5017213821411133, -0.5043238401412964, -0.5069199800491333, -0.5095097422599792, -0.5120924711227417, -0.5146694183349609, -0.5172399282455444, -0.5198038816452026, -0.5223613381385803, -0.5249117016792297, -0.5274560451507568, -0.5299938321113586, -0.5325249433517456, -0.5350493788719177, -0.537567138671875, -0.5400776267051697, -0.5425819158554077, -0.5450794100761414, -0.5475701093673706, -0.5500540137290955], [-0.5525304675102234, -0.5550005435943604, -0.5574637651443481, -0.5599200129508972, -0.5623692870140076, -0.5648115277290344, -0.5672461986541748, -0.5696743726730347, -0.5720954537391663, -0.5745093822479248, -0.5769162178039551, -0.5793153047561646, -0.581707775592804, -0.5840929746627808, -0.5864709615707397, -0.5888416171073914, -0.5912050008773804, -0.593560516834259, -0.5959091782569885, -0.5982504487037659, -0.6005843281745911, -0.6029107570648193, -0.6052296757698059, -0.6075406074523926, -0.6098445653915405, -0.612140953540802, -0.614429771900177, -0.6167109608650208, -0.618984043598175, -0.6212499737739563, -0.6235082149505615, -0.6257587671279907, -0.6280015707015991, -0.6302366852760315, -0.6324634552001953, -0.6346828937530518, -0.6368945837020874, -0.6390983462333679, -0.6412942409515381, -0.6434817910194397, -0.6456618309020996, -0.6478339433670044, -0.6499980688095093, -0.6521542072296143, -0.6543022990226746, -0.656441867351532, -0.6585738658905029, -0.6606976985931396, -0.6628134846687317, -0.6649210453033447, -0.6670199632644653, -0.6691111922264099, -0.6711941957473755, -0.6732689738273621, -0.6753354072570801, -0.6773936152458191, -0.6794430613517761, -0.681484580039978, -0.6835177540779114, -0.6855425238609314, -0.6875589489936829, -0.689566433429718, -0.6915659308433533, -0.6935569643974304], [-0.6955395340919495, -0.6975135207176208, -0.6994789838790894, -0.7014354467391968, -0.7033838033676147, -0.7053235173225403, -0.7072545886039734, -0.7091770172119141, -0.7110903859138489, -0.7129954695701599, -0.714891791343689, -0.7167794108390808, -0.7186582684516907, -0.7205283641815186, -0.7223892211914062, -0.7242417335510254, -0.7260853052139282, -0.7279201149940491, -0.7297459840774536, -0.7315629720687866, -0.7333706021308899, -0.7351697087287903, -0.7369598746299744, -0.7387410402297974, -0.740513265132904, -0.7422760128974915, -0.7440301179885864, -0.7457751631736755, -0.747511088848114, -0.7492379546165466, -0.7509557604789734, -0.7526639699935913, -0.7543634176254272, -0.7560536861419678, -0.7577347755432129, -0.7594066858291626, -0.7610689401626587, -0.7627223134040833, -0.7643664479255676, -0.766001284122467, -0.7676268219947815, -0.769243061542511, -0.7708495855331421, -0.7724471092224121, -0.7740352153778076, -0.7756139636039734, -0.7771833539009094, -0.7787429094314575, -0.780293345451355, -0.7818343639373779, -0.7833659052848816, -0.784887969493866, -0.7864004969596863, -0.7879031896591187, -0.7893966436386108, -0.790880560874939, -0.7923548817634583, -0.7938196063041687, -0.7952744364738464, -0.7967199087142944, -0.7981557846069336, -0.7995820045471191, -0.8009985685348511, -0.8024054169654846], [-0.8038022518157959, -0.8051896691322327, -0.806567370891571, -0.807935357093811, -0.8092935681343079, -0.8106419444084167, -0.8119803071022034, -0.8133091330528259, -0.8146281838417053, -0.815937340259552, -0.8172366619110107, -0.8185258507728577, -0.8198054432868958, -0.8210752010345459, -0.8223350048065186, -0.8235849142074585, -0.824824869632721, -0.8260546326637268, -0.8272746801376343, -0.8284847736358643, -0.8296849131584167, -0.830875039100647, -0.8320549130439758, -0.8332250118255615, -0.834385097026825, -0.8355351686477661, -0.8366751670837402, -0.8378050923347473, -0.8389246463775635, -0.8400344252586365, -0.8411340713500977, -0.842223584651947, -0.8433030247688293, -0.844372034072876, -0.8454312086105347, -0.8464801907539368, -0.8475189805030823, -0.8485475778579712, -0.8495660424232483, -0.8505740761756897, -0.8515720963478088, -0.8525598645210266, -0.8535374402999878, -0.8545048236846924, -0.8554616570472717, -0.8564084768295288, -0.8573450446128845, -0.8582713007926941, -0.8591873049736023, -0.8600929975509644, -0.860988199710846, -0.861873209476471, -0.8627479672431946, -0.8636123538017273, -0.8644664287567139, -0.8653099536895752, -0.8661432862281799, -0.8669663071632385, -0.8677788972854614, -0.8685811161994934, -0.8693729639053345, -0.8701542019844055, -0.87092524766922, -0.8716858625411987], [-0.8724360466003418, -0.8731757998466492, -0.8739051222801208, -0.8746238350868225, -0.8753322958946228, -0.8760302662849426, -0.876717746257782, -0.8773947954177856, -0.8780612349510193, -0.878717303276062, -0.8793628811836243, -0.879997968673706, -0.8806225657463074, -0.8812366724014282, -0.8818401098251343, -0.8824331760406494, -0.8830157518386841, -0.8835877180099487, -0.8841491937637329, -0.8847000002861023, -0.8852404356002808, -0.8857702612876892, -0.8862895965576172, -0.8867983222007751, -0.8872964978218079, -0.8877840042114258, -0.8882610201835632, -0.8887275457382202, -0.8891834020614624, -0.8896287083625793, -0.8900633454322815, -0.8904874920845032, -0.8909010291099548, -0.8913040161132812, -0.8916963934898376, -0.8920781016349792, -0.8924492001533508, -0.8928097486495972, -0.8931596875190735, -0.8934990167617798, -0.8938277363777161, -0.8941457867622375, -0.894453227519989, -0.8947501182556152, -0.8950363397598267, -0.8953120112419128, -0.8955770134925842, -0.895831286907196, -0.8960750699043274, -0.896308183670044, -0.8965306282043457, -0.8967425227165222, -0.8969436883926392, -0.8971343040466309, -0.8973142504692078, -0.8974835872650146, -0.8976422548294067, -0.8977903127670288, -0.8979277610778809, -0.8980545401573181, -0.8981707096099854, -0.8982762098312378, -0.898371160030365, -0.8984553813934326], [-0.898529052734375, -0.8985920548439026, -0.8986443877220154, -0.8986861705780029, -0.8987172842025757, -0.8987377882003784, -0.8987476825714111, -0.898746907711029, -0.8987355828285217, -0.8987135887145996, -0.8986809849739075, -0.8986377716064453, -0.8985839486122131, -0.8985195159912109, -0.8984444737434387, -0.8983588814735413, -0.898262619972229, -0.8981558084487915, -0.898038387298584, -0.8979103565216064, -0.8977717161178589, -0.8976225256919861, -0.8974627256393433, -0.8972923755645752, -0.8971114754676819, -0.8969199657440186, -0.8967178463935852, -0.8965052366256714, -0.8962820768356323, -0.8960483074188232, -0.8958039879798889, -0.8955491781234741, -0.8952837586402893, -0.8950079083442688, -0.8947214484214783, -0.8944244980812073, -0.894116997718811, -0.8937989473342896, -0.8934705257415771, -0.8931314945220947, -0.8927819728851318, -0.8924219608306885, -0.8920514583587646, -0.8916704654693604, -0.8912791013717651, -0.8908771872520447, -0.8904648423194885, -0.8900420069694519, -0.8896086812019348, -0.8891651034355164, -0.8887109160423279, -0.8882463574409485, -0.8877713680267334, -0.8872859477996826, -0.8867901563644409, -0.8862840533256531, -0.8857674598693848, -0.8852404952049255, -0.8847030997276306, -0.8841553926467896, -0.8835974931716919, -0.883029043674469, -0.8824502825737, -0.8818612098693848], [-0.8812617659568787, -0.8806520700454712, -0.8800321817398071, -0.8794018626213074, -0.8787612318992615, -0.8781103491783142, -0.8774492144584656, -0.8767779469490051, -0.8760963082313538, -0.875404417514801, -0.8747022747993469, -0.8739899396896362, -0.873267412185669, -0.8725348114967346, -0.8717918395996094, -0.8710387349128723, -0.8702754974365234, -0.869502067565918, -0.8687186241149902, -0.8679249286651611, -0.8671211004257202, -0.8663071393966675, -0.8654831051826477, -0.8646489977836609, -0.8638049364089966, -0.8629506826400757, -0.8620863556861877, -0.8612120151519775, -0.8603276014328003, -0.8594331741333008, -0.8585289716720581, -0.8576145768165588, -0.8566901683807373, -0.8557558059692383, -0.8548114895820618, -0.8538574576377869, -0.8528932929039001, -0.8519191741943359, -0.850935161113739, -0.8499413132667542, -0.8489375114440918, -0.8479241728782654, -0.8469007015228271, -0.845867395401001, -0.8448242545127869, -0.8437713384628296, -0.8427088260650635, -0.8416363596916199, -0.8405540585517883, -0.8394620418548584, -0.8383603096008301, -0.8372488617897034, -0.8361279368400574, -0.8349970579147339, -0.8338565230369568, -0.8327063322067261, -0.8315464854240417, -0.8303772807121277, -0.8291982412338257, -0.8280095458030701, -0.8268113136291504, -0.8256034851074219, -0.8243861198425293, -0.8231594562530518], [-0.821923017501831, -0.8206771016120911, -0.8194217085838318, -0.8181568384170532, -0.8168827891349792, -0.8155990242958069, -0.81430584192276, -0.8130032420158386, -0.8116912841796875, -0.8103699088096619, -0.8090395331382751, -0.8076995015144348, -0.8063501715660095, -0.8049915432929993, -0.8036236763000488, -0.8022464513778687, -0.8008603453636169, -0.7994647026062012, -0.79805988073349, -0.7966458201408386, -0.7952226400375366, -0.7937905788421631, -0.792349100112915, -0.7908984422683716, -0.789438784122467, -0.7879699468612671, -0.786492109298706, -0.7850055694580078, -0.7835096716880798, -0.7820047736167908, -0.7804908752441406, -0.7789680361747742, -0.7774365544319153, -0.7758958339691162, -0.7743462324142456, -0.7727877497673035, -0.7712203860282898, -0.7696441411972046, -0.768059492111206, -0.7664656639099121, -0.7648630142211914, -0.7632516622543335, -0.7616314888000488, -0.7600030303001404, -0.7583655118942261, -0.7567192912101746, -0.7550644278526306, -0.7534009218215942, -0.7517287731170654, -0.7500484585762024, -0.7483591437339783, -0.7466613054275513, -0.7449549436569214, -0.7432400584220886, -0.7415170669555664, -0.7397852540016174, -0.7380449771881104, -0.7362962365150452, -0.7345391511917114, -0.7327737212181091, -0.7310003042221069, -0.7292181253433228, -0.7274276614189148, -0.7256289124488831], [-0.7238219380378723, -0.7220070958137512, -0.7201836705207825, -0.7183520197868347, -0.716512143611908, -0.7146642208099365, -0.7128080725669861, -0.7109443545341492, -0.7090720534324646, -0.7071917057037354, -0.7053033709526062, -0.7034069895744324, -0.7015026807785034, -0.699590802192688, -0.697670578956604, -0.6957424283027649, -0.6938064098358154, -0.6918625235557556, -0.6899112462997437, -0.6879516839981079, -0.6859843730926514, -0.6840092539787292, -0.6820264458656311, -0.6800358891487122, -0.6780381202697754, -0.6760322451591492, -0.6740187406539917, -0.6719975471496582, -0.669968843460083, -0.6679329872131348, -0.6658892035484314, -0.6638378500938416, -0.6617790460586548, -0.6597127318382263, -0.6576390266418457, -0.6555583477020264, -0.6534698605537415, -0.6513739824295044, -0.64927077293396, -0.6471602916717529, -0.6450430154800415, -0.6429179906845093, -0.6407856941223145, -0.6386462450027466, -0.6364996433258057, -0.6343458890914917, -0.6321854591369629, -0.6300175189971924, -0.6278424859046936, -0.6256603598594666, -0.6234713196754456, -0.6212757229804993, -0.619072675704956, -0.6168627738952637, -0.6146458983421326, -0.6124221682548523, -0.6101915836334229, -0.6079546809196472, -0.605710506439209, -0.6034595966339111, -0.6012018918991089, -0.5989375114440918, -0.5966664552688599, -0.5943892598152161], [-0.5921049118041992, -0.5898140072822571, -0.5875164866447449, -0.5852124691009521, -0.5829024314880371, -0.5805854201316833, -0.5782619118690491, -0.5759320259094238, -0.5735957026481628, -0.5712530612945557, -0.5689045786857605, -0.5665493011474609, -0.5641877055168152, -0.5618199110031128, -0.559445858001709, -0.5570661425590515, -0.5546796917915344, -0.5522871613502502, -0.549888551235199, -0.5474838018417358, -0.5450730323791504, -0.5426568388938904, -0.5402340888977051, -0.5378053784370422]]\n"
          ]
        }
      ]
    },
    {
      "cell_type": "code",
      "source": [
        "file_path = 'simple_model.pth'\n",
        "torch.save(model.state_dict(), file_path)"
      ],
      "metadata": {
        "id": "DnW5estHaala"
      },
      "execution_count": 71,
      "outputs": []
    },
    {
      "cell_type": "code",
      "source": [
        "model1 = QSSMLayer()\n",
        "model1.load_state_dict(torch.load(file_path))\n",
        "model1.eval()"
      ],
      "metadata": {
        "colab": {
          "base_uri": "https://localhost:8080/"
        },
        "id": "xdSjzo8oaaoL",
        "outputId": "1d12f58b-abb0-4bf7-87cd-50213ca6bae8"
      },
      "execution_count": 72,
      "outputs": [
        {
          "output_type": "execute_result",
          "data": {
            "text/plain": [
              "QSSMLayer(\n",
              "  (qlayer_1): <Quantum Torch Layer: func=circuit_1>\n",
              "  (qlayer_2): <Quantum Torch Layer: func=circuit_2>\n",
              "  (qlayer_3): <Quantum Torch Layer: func=circuit_3>\n",
              ")"
            ]
          },
          "metadata": {},
          "execution_count": 72
        }
      ]
    },
    {
      "cell_type": "code",
      "source": [
        "#Evaluation\n",
        "model1.eval()\n",
        "test_loss_all = 0.0\n",
        "test_loss_y2 = 0.0\n",
        "num_batch = 0\n",
        "output_list = []\n",
        "y_list = []\n",
        "\n",
        "with torch.no_grad():\n",
        "    for batch_x_0, batch_x_1, batch_x_2, batch_y in test_loader:\n",
        "        output = model1(batch_x_0, batch_x_1, batch_x_2)\n",
        "\n",
        "        loss_all = criterion(output, batch_y)\n",
        "        test_loss_all += loss_all.item()\n",
        "\n",
        "        loss_y2 = criterion(output[:, 2], batch_y[:, 2])\n",
        "        test_loss_y2 += loss_y2.item()\n",
        "\n",
        "        output_list.append(output.tolist())\n",
        "        y_list.append(batch_y.tolist())\n",
        "\n",
        "        num_batch += 1\n",
        "    test_loss_all /= num_batch\n",
        "    test_loss_y2 /= num_batch\n",
        "print(f\"\\n Final test Loss (all steps): {test_loss_all:.4f}\")\n",
        "print(f\"\\n Final test Loss (3rd step): {test_loss_y2:.4f}\")"
      ],
      "metadata": {
        "colab": {
          "base_uri": "https://localhost:8080/"
        },
        "id": "OJpqxd2YaarK",
        "outputId": "53004a1c-ff17-4e27-eda8-de9da8559e7d"
      },
      "execution_count": 73,
      "outputs": [
        {
          "output_type": "stream",
          "name": "stdout",
          "text": [
            "\n",
            " Final test Loss (all steps): 0.0074\n",
            "\n",
            " Final test Loss (3rd step): 0.0074\n"
          ]
        }
      ]
    },
    {
      "cell_type": "code",
      "source": [
        "print(output_list)"
      ],
      "metadata": {
        "colab": {
          "base_uri": "https://localhost:8080/"
        },
        "id": "pdLA-blDaimJ",
        "outputId": "611b9a33-6b23-47d0-fd31-ff675ea9f77b"
      },
      "execution_count": 74,
      "outputs": [
        {
          "output_type": "stream",
          "name": "stdout",
          "text": [
            "[[[-0.3589663803577423, -0.3593915104866028, -0.3609180152416229], [-0.361624151468277, -0.3620454967021942, -0.3635716438293457], [-0.36427441239356995, -0.36469191312789917, -0.36621764302253723], [-0.3669165074825287, -0.3673302233219147, -0.3688555359840393], [-0.3695516288280487, -0.3699615001678467, -0.3714863657951355], [-0.37217915058135986, -0.3725851774215698, -0.3741096258163452], [-0.374798983335495, -0.37520116567611694, -0.37672510743141174], [-0.3774111270904541, -0.3778095245361328, -0.37933287024497986], [-0.3800155818462372, -0.3804101049900055, -0.38193291425704956], [-0.38261163234710693, -0.3830023407936096, -0.38452455401420593], [-0.38520053029060364, -0.3855873942375183, -0.3871089518070221], [-0.3877815306186676, -0.38816455006599426, -0.3896854817867279], [-0.3903546929359436, -0.39073389768600464, -0.39225414395332336], [-0.39291998744010925, -0.3932953178882599, -0.3948148787021637], [-0.395476758480072, -0.39584824442863464, -0.39736706018447876], [-0.39802613854408264, -0.39839375019073486, -0.3999118208885193], [-0.40056753158569336, -0.40093129873275757, -0.4024485647678375], [-0.4031008780002594, -0.4034608006477356, -0.40497729182243347], [-0.40562620759010315, -0.40598225593566895, -0.40749791264533997], [-0.40814343094825745, -0.40849560499191284, -0.4100103974342346], [-0.4106519818305969, -0.4110002815723419, -0.41251423954963684], [-0.41315293312072754, -0.4134973883628845, -0.41501039266586304], [-0.4156457185745239, -0.4159862995147705, -0.417498379945755], [-0.4181303083896637, -0.4184670150279999, -0.4199781119823456], [-0.4206066429615021, -0.42093950510025024, -0.42244967818260193], [-0.42307421565055847, -0.42340320348739624, -0.4249122738838196], [-0.42553403973579407, -0.42585912346839905, -0.4273672103881836], [-0.4279855191707611, -0.4283067584037781, -0.42981377243995667], [-0.430428683757782, -0.43074604868888855, -0.4322519898414612], [-0.4328635036945343, -0.43317699432373047, -0.43468180298805237], [-0.4352898895740509, -0.43559950590133667, -0.4371032118797302], [-0.4377073049545288, -0.4380130469799042, -0.439515620470047], [-0.44011685252189636, -0.4404187500476837, -0.44192010164260864], [-0.4425179064273834, -0.44281595945358276, -0.4443160891532898], [-0.4449104964733124, -0.44520464539527893, -0.44670358300209045], [-0.4472946226596832, -0.4475848376750946, -0.44908252358436584], [-0.44967013597488403, -0.4499565362930298, -0.45145294070243835], [-0.4520365595817566, -0.45231908559799194, -0.45381423830986023], [-0.45439496636390686, -0.4546736180782318, -0.45616742968559265], [-0.4567447602748871, -0.45701950788497925, -0.45851200819015503], [-0.45908594131469727, -0.45935681462287903, -0.460847944021225], [-0.4614184498786926, -0.4616854786872864, -0.4631751775741577], [-0.4637417495250702, -0.4640049338340759, -0.46549326181411743], [-0.4660569429397583, -0.46631622314453125, -0.46780315041542053], [-0.4683634042739868, -0.46861881017684937, -0.47010424733161926], [-0.47066110372543335, -0.4709126651287079, -0.4723966717720032], [-0.4729501008987427, -0.4731978178024292, -0.4746802747249603], [-0.47523033618927, -0.47547414898872375, -0.4769551455974579], [-0.4775012135505676, -0.4777412414550781, -0.4792206287384033], [-0.47976386547088623, -0.47999998927116394, -0.48147785663604736], [-0.4820176661014557, -0.4822499752044678, -0.4837263226509094], [-0.484262615442276, -0.4844910502433777, -0.48596587777137756], [-0.48649880290031433, -0.4867233633995056, -0.4881965219974518], [-0.4887255132198334, -0.4889463186264038, -0.4904177784919739], [-0.49094393849372864, -0.4911608397960663, -0.49263066053390503], [-0.4931533932685852, -0.49336645007133484, -0.49483466148376465], [-0.49535396695137024, -0.4955631494522095, -0.4970296621322632], [-0.49754559993743896, -0.4977509379386902, -0.4992157518863678], [-0.4997282922267914, -0.4999297857284546, -0.5013929009437561], [-0.5019014477729797, -0.5020992159843445, -0.5035605430603027], [-0.5040662884712219, -0.5042601823806763, -0.505719780921936], [-0.5062220692634583, -0.506412148475647, -0.5078698992729187], [-0.5083688497543335, -0.5085550546646118, -0.5100110769271851], [-0.5105065703392029, -0.5106890201568604, -0.5121431946754456]], [[-0.5126348733901978, -0.5128134489059448, -0.5142658352851868], [-0.5147546529769897, -0.5149294137954712, -0.5163799524307251], [-0.5168652534484863, -0.5170363187789917, -0.518484890460968], [-0.5189669132232666, -0.5191341638565063, -0.5205808877944946], [-0.521059513092041, -0.5212228894233704, -0.5226677060127258], [-0.5231429934501648, -0.5233025550842285, -0.524745523929596], [-0.5252168774604797, -0.5253726840019226, -0.5268137454986572], [-0.527282178401947, -0.527434229850769, -0.5288733839988708], [-0.5293384194374084, -0.5294866561889648, -0.5309237837791443], [-0.5313855409622192, -0.5315300226211548, -0.5329651832580566], [-0.5334234833717346, -0.5335641503334045, -0.5349973440170288], [-0.5354518890380859, -0.5355888605117798, -0.5370199680328369], [-0.5374716520309448, -0.537604808807373, -0.5390339493751526], [-0.5394822359085083, -0.5396116375923157, -0.5410387516021729], [-0.5414837598800659, -0.5416093468666077, -0.5430343747138977], [-0.5434759259223938, -0.5435978770256042, -0.5450208187103271], [-0.5454590916633606, -0.5455772876739502, -0.5469980835914612], [-0.5474326014518738, -0.5475469827651978, -0.5489657521247864], [-0.5493974685668945, -0.5495080947875977, -0.5509247183799744], [-0.5513530373573303, -0.5514599680900574, -0.5528745055198669], [-0.5532994270324707, -0.5534027218818665, -0.5548151135444641], [-0.5552367568016052, -0.5553362369537354, -0.5567464232444763], [-0.5571647882461548, -0.5572605729103088, -0.5586687326431274], [-0.5590832829475403, -0.5591753125190735, -0.5605812668800354], [-0.560992956161499, -0.5610812902450562, -0.5624850988388062], [-0.5628933906555176, -0.5629781484603882, -0.5643795728683472], [-0.5647846460342407, -0.5648657083511353, -0.5662649869918823], [-0.5666667819023132, -0.5667440891265869, -0.5681411623954773], [-0.5685392618179321, -0.5686129331588745, -0.5700077414512634], [-0.5704029202461243, -0.5704729557037354, -0.5718654990196228], [-0.5722574591636658, -0.572323739528656, -0.573714017868042], [-0.5741026997566223, -0.5741653442382812, -0.5755533576011658], [-0.5759387612342834, -0.5759977102279663, -0.5773834586143494], [-0.5777655839920044, -0.577820897102356, -0.5792043805122375], [-0.5795828700065613, -0.5796344876289368, -0.5810156464576721], [-0.5813912749290466, -0.5814393162727356, -0.5828180909156799], [-0.5831905603408813, -0.5832349061965942, -0.5846114158630371], [-0.5849805474281311, -0.5850213766098022, -0.5863955020904541], [-0.5867613554000854, -0.5867985486984253, -0.5881702899932861], [-0.588532567024231, -0.5885661244392395, -0.5899355411529541], [-0.5902950167655945, -0.5903249382972717, -0.5916920304298401], [-0.5920482277870178, -0.5920745730400085, -0.5934392213821411], [-0.5937922596931458, -0.59381502866745, -0.5951773524284363], [-0.5955271124839783, -0.5955462455749512, -0.5969061851501465], [-0.5972527265548706, -0.5972683429718018, -0.5986258387565613], [-0.5989687442779541, -0.5989808440208435, -0.6003358960151672], [-0.6006760597229004, -0.6006845831871033, -0.602037250995636], [-0.6023740768432617, -0.6023790836334229, -0.6037293076515198], [-0.604063093662262, -0.6040644645690918, -0.6054121851921082], [-0.6057427525520325, -0.6057406663894653, -0.6070859432220459], [-0.6074130535125732, -0.6074073314666748, -0.6087501645088196], [-0.6090744733810425, -0.6090652942657471, -0.6104055643081665], [-0.6107267141342163, -0.6107140183448792, -0.6120518445968628], [-0.6123697757720947, -0.6123536229133606, -0.6136890053749084], [-0.6140037775039673, -0.6139841079711914, -0.6153169274330139], [-0.6156286597251892, -0.6156054139137268, -0.6169357895851135], [-0.6172439455986023, -0.6172172427177429, -0.6185451745986938], [-0.618850588798523, -0.6188203692436218, -0.6201456785202026], [-0.6204479932785034, -0.6204144358634949, -0.6217371821403503], [-0.6220362782478333, -0.621999204158783, -0.6233195066452026], [-0.623615562915802, -0.6235750317573547, -0.6248927712440491], [-0.6251854300498962, -0.6251413822174072, -0.6264565587043762], [-0.626746416091919, -0.6266989707946777, -0.6280116438865662], [-0.6282984018325806, -0.6282475590705872, -0.6295576691627502]], [[-0.6298413276672363, -0.6297869682312012, -0.6310945749282837], [-0.6313750743865967, -0.6313174366950989, -0.6326224207878113], [-0.6328999400138855, -0.6328388452529907, -0.634141206741333], [-0.634415328502655, -0.6343507766723633, -0.6356505751609802], [-0.6359220147132874, -0.6358540654182434, -0.637151300907135], [-0.6374197006225586, -0.6373484134674072, -0.6386430263519287], [-0.6389082670211792, -0.6388336420059204, -0.6401256918907166], [-0.6403879523277283, -0.6403099298477173, -0.6415994167327881], [-0.6418582201004028, -0.6417768597602844, -0.6430637240409851], [-0.6433199048042297, -0.6432351469993591, -0.6445193886756897], [-0.6447725892066956, -0.6446844935417175, -0.645966112613678], [-0.6462163329124451, -0.6461248397827148, -0.6474038362503052], [-0.6476510167121887, -0.6475562453269958, -0.6488326787948608], [-0.6490768194198608, -0.6489787101745605, -0.6502525806427002], [-0.650493323802948, -0.6503919363021851, -0.6516631245613098], [-0.6519012451171875, -0.6517965793609619, -0.6530650854110718], [-0.6533002853393555, -0.6531922817230225, -0.654458224773407], [-0.6546903848648071, -0.6545791029930115, -0.6558423638343811], [-0.6560716032981873, -0.6559571027755737, -0.6572177410125732], [-0.6574440002441406, -0.6573262214660645, -0.6585841774940491], [-0.6588071584701538, -0.658686101436615, -0.6599414348602295], [-0.6601617932319641, -0.6600374579429626, -0.6612901091575623], [-0.6615075469017029, -0.6613799929618835, -0.6626299619674683], [-0.6628445386886597, -0.6627137660980225, -0.6639610528945923], [-0.6641726493835449, -0.6640386581420898, -0.6652833223342896], [-0.6654917001724243, -0.6653544902801514, -0.666596531867981], [-0.6668022871017456, -0.66666179895401, -0.6679011583328247], [-0.6681039929389954, -0.6679604649543762, -0.6691970229148865], [-0.6693969964981079, -0.6692502498626709, -0.6704842448234558], [-0.6706812977790833, -0.6705312728881836, -0.6717626452445984], [-0.6719567775726318, -0.6718036532402039, -0.6730323433876038], [-0.6732233166694641, -0.673067033290863, -0.6742929220199585], [-0.6744814515113831, -0.6743219494819641, -0.6755452752113342], [-0.67573082447052, -0.6755682229995728, -0.6767887473106384], [-0.6769714951515198, -0.6768057346343994, -0.6780236959457397], [-0.6782035827636719, -0.6780346632003784, -0.6792499423027039], [-0.6794266700744629, -0.6792547106742859, -0.6804673075675964], [-0.6806414127349854, -0.68046635389328, -0.6816762685775757], [-0.6818476319313049, -0.6816693544387817, -0.6828765869140625], [-0.6830450892448425, -0.6828638315200806, -0.6840683221817017], [-0.684234082698822, -0.6840496063232422, -0.6852514743804932], [-0.6854144334793091, -0.6852269172668457, -0.686426043510437], [-0.6865859031677246, -0.6863953471183777, -0.6875919103622437], [-0.6877492070198059, -0.6875555515289307, -0.6887493133544922], [-0.6889038681983948, -0.6887072324752808, -0.6898982524871826], [-0.6900501251220703, -0.689850389957428, -0.6910387873649597], [-0.6911877393722534, -0.6909850239753723, -0.6921707391738892], [-0.6923167109489441, -0.6921109557151794, -0.6932939887046814], [-0.6934374570846558, -0.6932286024093628, -0.6944089531898499], [-0.6945497393608093, -0.6943378448486328, -0.6955155730247498], [-0.6956535577774048, -0.6954386830329895, -0.6966137290000916], [-0.6967489719390869, -0.6965311765670776, -0.6977034211158752], [-0.6978360414505005, -0.6976152062416077, -0.6987847685813904], [-0.6989142894744873, -0.6986905336380005, -0.6998574733734131], [-0.6999845504760742, -0.6997577548027039, -0.7009220123291016], [-0.7010464072227478, -0.7008167505264282, -0.7019782662391663], [-0.7020999193191528, -0.7018672823905945, -0.7030261754989624], [-0.7031451463699341, -0.7029095888137817, -0.70406574010849], [-0.7041817903518677, -0.7039432525634766, -0.7050967812538147], [-0.7052103877067566, -0.7049689292907715, -0.7061197757720947], [-0.7062307000160217, -0.7059863209724426, -0.7071344256401062], [-0.7072426676750183, -0.70699542760849, -0.7081408500671387], [-0.7082465291023254, -0.7079963684082031, -0.7091391086578369], [-0.709242045879364, -0.7089890241622925, -0.7101291418075562]], [[-0.710229218006134, -0.7099732160568237, -0.7111106514930725], [-0.7112083435058594, -0.7109495401382446, -0.7120842933654785], [-0.7121792435646057, -0.7119175791740417, -0.7130497097969055], [-0.7131420373916626, -0.7128775715827942, -0.7140069603919983], [-0.71409672498703, -0.7138293385505676, -0.7149561047554016], [-0.7150432467460632, -0.7147729992866516, -0.7158970236778259], [-0.7159814238548279, -0.715708315372467, -0.716829776763916], [-0.7169116735458374, -0.7166357636451721, -0.717754602432251], [-0.717833936214447, -0.7175552248954773, -0.7186713218688965], [-0.7187480330467224, -0.718466579914093, -0.7195799946784973], [-0.7196541428565979, -0.7193697690963745, -0.7204806804656982], [-0.7205519676208496, -0.7202649116516113, -0.7213730812072754], [-0.7214420437812805, -0.721152126789093, -0.7222576141357422], [-0.7223241329193115, -0.7220313549041748, -0.7231342792510986], [-0.7231981754302979, -0.7229027152061462, -0.7240028977394104], [-0.7240642309188843, -0.723766028881073, -0.724863588809967], [-0.7249223589897156, -0.7246213555335999, -0.7257162928581238], [-0.7257724404335022, -0.725468635559082, -0.7265610098838806], [-0.7266146540641785, -0.7263081669807434, -0.7273978590965271], [-0.7274490594863892, -0.7271398305892944, -0.728226900100708], [-0.7282755374908447, -0.7279636263847351, -0.7290480732917786], [-0.7290942072868347, -0.7287795543670654, -0.729861319065094], [-0.72990483045578, -0.7295873761177063, -0.7306666374206543], [-0.7307077050209045, -0.7303876876831055, -0.7314642071723938], [-0.7315028309822083, -0.7311800718307495, -0.7322540283203125], [-0.7322901487350464, -0.7319647073745728, -0.7330360412597656], [-0.733069658279419, -0.7327415347099304, -0.733810305595398], [-0.7338414192199707, -0.7335106730461121, -0.7345768213272095], [-0.7346052527427673, -0.734271764755249, -0.7353353500366211], [-0.7353615164756775, -0.7350254654884338, -0.736086368560791], [-0.7361100316047668, -0.7357712984085083, -0.7368296384811401], [-0.7368508577346802, -0.7365094423294067, -0.7375652194023132], [-0.7375839948654175, -0.7372399568557739, -0.7382931113243103], [-0.7383093237876892, -0.7379626035690308, -0.7390132546424866], [-0.7390270829200745, -0.7386777997016907, -0.7397258281707764], [-0.7397372722625732, -0.7393853664398193, -0.7404307723045349], [-0.7404398322105408, -0.740085244178772, -0.741128146648407], [-0.7411347031593323, -0.7407775521278381, -0.7418178915977478], [-0.7418220639228821, -0.7414623498916626, -0.7425000071525574], [-0.7425016164779663, -0.7421392202377319, -0.7431744337081909], [-0.7431737780570984, -0.7428088784217834, -0.7438414692878723], [-0.743838369846344, -0.7434709072113037, -0.744500994682312], [-0.7444955110549927, -0.7441254258155823, -0.7451528906822205], [-0.7451450228691101, -0.7447724342346191, -0.7457974553108215], [-0.7457869648933411, -0.7454118132591248, -0.7464341521263123], [-0.7464215159416199, -0.7460438013076782, -0.7470636367797852], [-0.7470486164093018, -0.7466683387756348, -0.7476856708526611], [-0.7476682662963867, -0.7472854852676392, -0.7483002543449402], [-0.7482804656028748, -0.7478950619697571, -0.7489073872566223], [-0.7488852143287659, -0.7484973669052124, -0.7495071291923523], [-0.7494823932647705, -0.7490919828414917, -0.750099241733551], [-0.7500723600387573, -0.749679446220398, -0.7506841421127319], [-0.750654935836792, -0.7502594590187073, -0.7512617111206055], [-0.751230001449585, -0.750832200050354, -0.7518318295478821], [-0.7517978549003601, -0.7513974905014038, -0.7523946762084961], [-0.7523581981658936, -0.7519553303718567, -0.7529500722885132], [-0.752911388874054, -0.7525060176849365, -0.7534981966018677], [-0.7534571290016174, -0.7530493140220642, -0.7540391087532043], [-0.7539957165718079, -0.7535853981971741, -0.7545726299285889], [-0.7545269131660461, -0.7541140913963318, -0.7550988793373108], [-0.7550508379936218, -0.7546356916427612, -0.7556179165840149], [-0.7555674314498901, -0.7551497220993042, -0.7561295032501221], [-0.7560768127441406, -0.7556567788124084, -0.7566340565681458], [-0.7565790414810181, -0.7561565041542053, -0.7571313977241516]], [[-0.7570739984512329, -0.7566490173339844, -0.7576214075088501], [-0.7575618028640747, -0.7571343183517456, -0.7581043243408203], [-0.7580423355102539, -0.7576125264167786, -0.7585799694061279], [-0.7585156559944153, -0.7580832839012146, -0.7590484023094177], [-0.7589818835258484, -0.7585471272468567, -0.7595097422599792], [-0.7594408988952637, -0.7590036988258362, -0.759963870048523], [-0.7598927617073059, -0.7594532370567322, -0.7604109048843384], [-0.7603375315666199, -0.7598956227302551, -0.7608509063720703], [-0.760775089263916, -0.7603306770324707, -0.7612836360931396], [-0.7612056136131287, -0.7607588768005371, -0.7617092728614807], [-0.7616289854049683, -0.7611799240112305, -0.7621279358863831], [-0.7620453834533691, -0.7615938186645508, -0.7625395059585571], [-0.7624545693397522, -0.7620007395744324, -0.7629438638687134], [-0.7628568410873413, -0.7624005079269409, -0.7633413076400757], [-0.7632518410682678, -0.762793242931366, -0.7637315392494202], [-0.7636399865150452, -0.7631789445877075, -0.7641149163246155], [-0.7640209794044495, -0.7635576725006104, -0.7644912004470825], [-0.7643950581550598, -0.7639292478561401, -0.7648604512214661], [-0.7647620439529419, -0.7642939686775208, -0.7652227282524109], [-0.7651219367980957, -0.7646515965461731, -0.7655779123306274], [-0.7654750347137451, -0.7650021910667419, -0.7659262418746948], [-0.765821099281311, -0.7653459310531616, -0.7662675976753235], [-0.7661601305007935, -0.7656826972961426, -0.7666019797325134], [-0.7664923071861267, -0.7660124897956848, -0.7669293880462646], [-0.7668174505233765, -0.7663352489471436, -0.7672498226165771], [-0.7671355605125427, -0.7666510939598083, -0.7675632834434509], [-0.7674468755722046, -0.766960084438324, -0.7678698897361755], [-0.7677512168884277, -0.7672621607780457, -0.7681695818901062], [-0.7680487036705017, -0.7675572037696838, -0.7684623599052429], [-0.768339216709137, -0.7678455114364624, -0.7687482237815857], [-0.7686228156089783, -0.7681267857551575, -0.7690271735191345], [-0.7688995599746704, -0.7684012055397034, -0.7692992687225342], [-0.7691694498062134, -0.7686687707901001, -0.7695645093917847], [-0.7694324851036072, -0.7689295411109924, -0.769822895526886], [-0.769688606262207, -0.769183337688446, -0.7700743675231934], [-0.7699379324913025, -0.7694303393363953, -0.7703190445899963], [-0.7701802849769592, -0.7696704268455505, -0.7705568075180054], [-0.7704158425331116, -0.7699037194252014, -0.7707878351211548], [-0.7706446051597595, -0.7701302170753479, -0.771012008190155], [-0.7708665132522583, -0.7703498601913452, -0.7712293267250061], [-0.7710816860198975, -0.7705627083778381, -0.7714398503303528], [-0.7712899446487427, -0.7707687020301819, -0.7716435790061951], [-0.7714914083480835, -0.770967960357666, -0.7718404531478882], [-0.7716861367225647, -0.7711603045463562, -0.7720305919647217], [-0.7718740105628967, -0.7713459730148315, -0.772213876247406], [-0.7720551490783691, -0.7715248465538025, -0.7723904252052307], [-0.7722294926643372, -0.7716968655586243, -0.7725602388381958], [-0.7723970413208008, -0.7718621492385864, -0.7727232575416565], [-0.77255779504776, -0.772020697593689, -0.7728794813156128], [-0.7727118730545044, -0.7721724510192871, -0.7730289101600647], [-0.7728591561317444, -0.7723174691200256, -0.7731716632843018], [-0.77299964427948, -0.7724557518959045, -0.7733076810836792], [-0.7731333374977112, -0.7725871801376343, -0.7734368443489075], [-0.7732603549957275, -0.772711992263794, -0.7735593318939209], [-0.773380696773529, -0.7728300094604492, -0.7736751437187195], [-0.7734942436218262, -0.7729412913322449, -0.7737841606140137], [-0.7736010551452637, -0.7730458378791809, -0.7738864421844482], [-0.7737010717391968, -0.7731436491012573, -0.773982048034668], [-0.7737944722175598, -0.7732347846031189, -0.7740708589553833], [-0.7738810777664185, -0.7733191847801208, -0.7741530537605286], [-0.7739610075950623, -0.773396909236908, -0.7742285132408142], [-0.7740342020988464, -0.7734678387641907, -0.7742971777915955], [-0.7741007804870605, -0.7735320925712585, -0.7743592262268066], [-0.7741605043411255, -0.7735896706581116, -0.7744144797325134]], [[-0.7742136120796204, -0.773640513420105, -0.7744631171226501], [-0.7742599844932556, -0.7736846804618835, -0.7745050191879272], [-0.774299681186676, -0.7737221121788025, -0.7745402455329895], [-0.7743326425552368, -0.7737529277801514, -0.7745687961578369], [-0.7743589878082275, -0.7737769484519958, -0.7745906114578247], [-0.7743786573410034, -0.7737943530082703, -0.7746057510375977], [-0.7743914723396301, -0.7738050222396851, -0.774614155292511], [-0.7743977308273315, -0.773809015750885, -0.7746159434318542], [-0.7743972539901733, -0.7738062739372253, -0.7746110558509827], [-0.7743901014328003, -0.7737969160079956, -0.7745994329452515], [-0.7743762731552124, -0.773780882358551, -0.7745811343193054], [-0.7743557691574097, -0.7737581133842468, -0.7745561599731445], [-0.7743285298347473, -0.7737286686897278, -0.7745245099067688], [-0.7742946147918701, -0.7736924886703491, -0.7744861841201782], [-0.7742540836334229, -0.7736497521400452, -0.7744410634040833], [-0.774206817150116, -0.7736002206802368, -0.774389386177063], [-0.7741528749465942, -0.7735441327095032, -0.7743310332298279], [-0.7740921974182129, -0.7734811902046204, -0.7742658853530884], [-0.7740249037742615, -0.7734116315841675, -0.7741941213607788], [-0.7739508748054504, -0.7733353972434998, -0.7741156816482544], [-0.7738702297210693, -0.7732524871826172, -0.7740305662155151], [-0.7737828493118286, -0.7731629014015198, -0.773938775062561], [-0.7736887335777283, -0.7730665802955627, -0.7738402485847473], [-0.7735880017280579, -0.7729635238647461, -0.7737350463867188], [-0.7734805345535278, -0.7728539109230042, -0.7736231088638306], [-0.7733663320541382, -0.7727375030517578, -0.7735044956207275], [-0.7732455134391785, -0.7726144790649414, -0.7733792066574097], [-0.7731179594993591, -0.7724847197532654, -0.773247241973877], [-0.772983729839325, -0.772348165512085, -0.7731084823608398], [-0.7728427648544312, -0.7722049951553345, -0.7729631662368774], [-0.7726950645446777, -0.7720550894737244, -0.7728109955787659], [-0.7725406885147095, -0.7718985080718994, -0.7726521492004395], [-0.7723796367645264, -0.7717351913452148, -0.772486686706543], [-0.7722117900848389, -0.7715651392936707, -0.7723144888877869], [-0.7720372676849365, -0.7713883519172668, -0.7721354961395264], [-0.7718560695648193, -0.771204948425293, -0.771949827671051], [-0.7716680765151978, -0.7710146903991699, -0.7717574238777161], [-0.7714733481407166, -0.7708178162574768, -0.7715582251548767], [-0.7712720036506653, -0.7706140875816345, -0.7713524103164673], [-0.7710638642311096, -0.7704036235809326, -0.7711397409439087], [-0.7708488702774048, -0.7701865434646606, -0.7709203958511353], [-0.7706272006034851, -0.7699626088142395, -0.7706942558288574], [-0.7703987956047058, -0.769731879234314, -0.77046138048172], [-0.7701636552810669, -0.7694944739341736, -0.7702217102050781], [-0.7699217796325684, -0.7692503929138184, -0.7699754238128662], [-0.7696729898452759, -0.7689993977546692, -0.7697222232818604], [-0.7694175839424133, -0.7687417268753052, -0.7694622278213501], [-0.7691552639007568, -0.768477201461792, -0.769195556640625], [-0.7688862681388855, -0.7682058811187744, -0.7689220309257507], [-0.768610417842865, -0.767927885055542, -0.7686417698860168], [-0.7683278322219849, -0.7676429748535156, -0.7683546543121338], [-0.7680383920669556, -0.7673512697219849, -0.7680607438087463], [-0.7677421569824219, -0.7670527696609497, -0.7677599787712097], [-0.7674391269683838, -0.7667474746704102, -0.7674524784088135], [-0.7671292424201965, -0.7664353251457214, -0.7671381235122681], [-0.7668125629425049, -0.7661164402961731, -0.766817033290863], [-0.7664890289306641, -0.7657906413078308, -0.7664889693260193], [-0.7661586403846741, -0.7654579877853394, -0.7661540508270264], [-0.7658214569091797, -0.7651184797286987, -0.765812337398529], [-0.7654773592948914, -0.7647721171379089, -0.7654637694358826], [-0.7651264667510986, -0.7644189596176147, -0.7651083469390869], [-0.7647686004638672, -0.7640588283538818, -0.7647460699081421], [-0.7644039392471313, -0.7636918425559998, -0.7643768191337585], [-0.7640323638916016, -0.7633180022239685, -0.764000654220581]], [[-0.7636538147926331, -0.7629372477531433, -0.7636176347732544], [-0.7632684707641602, -0.7625495791435242, -0.7632277607917786], [-0.7628762125968933, -0.7621549963951111, -0.7628309726715088], [-0.7624770402908325, -0.761753499507904, -0.7624272704124451], [-0.762070894241333, -0.7613451480865479, -0.7620165348052979], [-0.76165771484375, -0.7609297633171082, -0.7615988850593567], [-0.7612377405166626, -0.7605074048042297, -0.7611742615699768], [-0.7608108520507812, -0.7600781917572021, -0.7607428431510925], [-0.7603768706321716, -0.7596419453620911, -0.76030433177948], [-0.7599359154701233, -0.7591986656188965, -0.7598587870597839], [-0.7594879865646362, -0.758748471736908, -0.7594062685966492], [-0.7590330839157104, -0.7582912445068359, -0.7589468359947205], [-0.7585711479187012, -0.7578270435333252, -0.7584803104400635], [-0.7581023573875427, -0.7573559284210205, -0.7580068707466125], [-0.7576264142990112, -0.7568776607513428, -0.7575263381004333], [-0.7571434378623962, -0.7563923597335815, -0.7570387721061707], [-0.756653368473053, -0.7559000253677368, -0.7565440535545349], [-0.756156325340271, -0.755400538444519, -0.7560424208641052], [-0.7556523084640503, -0.7548942565917969, -0.755533754825592], [-0.7551410794258118, -0.7543807029724121, -0.7550179362297058], [-0.7546228170394897, -0.7538601160049438, -0.7544949650764465], [-0.7540974020957947, -0.7533323168754578, -0.753964900970459], [-0.7535649538040161, -0.752797544002533, -0.7534277439117432], [-0.7530252933502197, -0.7522555589675903, -0.7528835535049438], [-0.7524786591529846, -0.7517066597938538, -0.7523322701454163], [-0.7519248127937317, -0.751150369644165, -0.7517737150192261], [-0.7513637542724609, -0.7505870461463928, -0.7512080073356628], [-0.7507956027984619, -0.750016450881958, -0.7506351470947266], [-0.7502201795578003, -0.7494388222694397, -0.7500550746917725], [-0.7496376633644104, -0.7488539218902588, -0.7494678497314453], [-0.749048113822937, -0.7482619881629944, -0.7488735318183899], [-0.7484511733055115, -0.7476626634597778, -0.7482718825340271], [-0.7478470206260681, -0.7470560669898987, -0.7476629614830017], [-0.7472356557846069, -0.7464423775672913, -0.7470468878746033], [-0.7466169595718384, -0.7458214163780212, -0.7464235424995422], [-0.7459912300109863, -0.745193362236023, -0.7457931041717529], [-0.7453581094741821, -0.744557797908783, -0.7451551556587219], [-0.7447177171707153, -0.7439150214195251, -0.7445099353790283], [-0.7440699934959412, -0.74326491355896, -0.7438574433326721], [-0.7434149384498596, -0.7426075339317322, -0.7431976795196533], [-0.7427526116371155, -0.7419428825378418, -0.7425306439399719], [-0.7420831322669983, -0.7412709593772888, -0.7418563365936279], [-0.7414061427116394, -0.7405915856361389, -0.7411745190620422], [-0.7407218217849731, -0.7399048209190369, -0.7404853701591492], [-0.7400301098823547, -0.7392107844352722, -0.739788830280304], [-0.739331066608429, -0.7385092973709106, -0.7390849590301514], [-0.7386248111724854, -0.7378005981445312, -0.738373875617981], [-0.7379108667373657, -0.7370843291282654, -0.7376551628112793], [-0.7371895909309387, -0.7363606691360474, -0.7369290590286255], [-0.7364609241485596, -0.7356295585632324, -0.73619544506073], [-0.7357247471809387, -0.7348909974098206, -0.7354544401168823], [-0.7349812388420105, -0.7341450452804565, -0.7347059845924377], [-0.7342303395271301, -0.7333917617797852, -0.7339501976966858], [-0.7334718108177185, -0.7326308488845825, -0.7331867814064026], [-0.7327057123184204, -0.7318624258041382, -0.7324159145355225], [-0.7319322228431702, -0.7310864329338074, -0.7316374778747559], [-0.7311512231826782, -0.7303029894828796, -0.7308515310287476], [-0.7303628325462341, -0.7295122146606445, -0.7300582528114319], [-0.7295666933059692, -0.7287136316299438, -0.7292571663856506], [-0.7287631034851074, -0.7279075980186462, -0.7284485697746277], [-0.7279518246650696, -0.7270939350128174, -0.7276323437690735], [-0.72713303565979, -0.726272702217102, -0.7268086075782776], [-0.7263066172599792, -0.7254438400268555, -0.7259772419929504], [-0.7254728078842163, -0.7246076464653015, -0.7251384258270264]], [[-0.7246311902999878, -0.7237635850906372, -0.7242918610572815], [-0.7237820029258728, -0.7229118347167969, -0.7234376072883606], [-0.7229250073432922, -0.7220525145530701, -0.7225756645202637], [-0.72206050157547, -0.7211855053901672, -0.7217060923576355], [-0.721188485622406, -0.7203110456466675, -0.7208290100097656], [-0.7203086018562317, -0.7194286584854126, -0.7199440598487854], [-0.7194209694862366, -0.7185385823249817, -0.7190514206886292], [-0.7185256481170654, -0.7176408171653748, -0.7181509733200073], [-0.7176225781440735, -0.716735303401947, -0.717242956161499], [-0.7167118191719055, -0.7158221006393433, -0.7163270711898804], [-0.7157934308052063, -0.714901328086853, -0.7154036164283752], [-0.714867115020752, -0.7139725685119629, -0.7144722938537598], [-0.7139331698417664, -0.713036060333252, -0.7135330438613892], [-0.7129912972450256, -0.7120917439460754, -0.7125861048698425], [-0.7120415568351746, -0.7111396193504333, -0.7116312980651855], [-0.7110841274261475, -0.7101796865463257, -0.7106687426567078], [-0.7101190686225891, -0.7092121243476868, -0.7096985578536987], [-0.7091459035873413, -0.7082365155220032, -0.7087202072143555], [-0.7081648707389832, -0.7072530388832092, -0.7077340483665466], [-0.7071760892868042, -0.7062616944313049, -0.7067400217056274], [-0.7061793208122253, -0.7052624821662903, -0.7057381272315979], [-0.7051749229431152, -0.7042556405067444, -0.7047285437583923], [-0.7041624188423157, -0.703240692615509, -0.7037108540534973], [-0.703141987323761, -0.7022177577018738, -0.7026852369308472], [-0.702113687992096, -0.7011868953704834, -0.7016515731811523], [-0.7010773420333862, -0.7001481056213379, -0.7006100416183472], [-0.7000331282615662, -0.6991013884544373, -0.6995605826377869], [-0.6989810466766357, -0.6980469226837158, -0.698503315448761], [-0.6979208588600159, -0.6969842314720154, -0.6974378824234009], [-0.6968526840209961, -0.695913553237915, -0.6963644027709961], [-0.6957765221595764, -0.6948348879814148, -0.6952829360961914], [-0.6946923136711121, -0.6937481760978699, -0.6941934823989868], [-0.6936002969741821, -0.6926537156105042, -0.6930961608886719], [-0.6925000548362732, -0.6915509700775146, -0.6919906139373779], [-0.6913917660713196, -0.6904401779174805, -0.6908770203590393], [-0.6902753710746765, -0.6893213391304016, -0.6897553205490112], [-0.6891509294509888, -0.6881943345069885, -0.6886255145072937], [-0.6880184412002563, -0.6870593428611755, -0.6874876618385315], [-0.6868780255317688, -0.685916543006897, -0.6863419413566589], [-0.6857293248176575, -0.6847653388977051, -0.6851878762245178], [-0.6845725178718567, -0.683605968952179, -0.6840256452560425], [-0.6834075450897217, -0.6824384927749634, -0.6828553080558777], [-0.6822344660758972, -0.6812629103660583, -0.6816768050193787], [-0.6810534000396729, -0.680079460144043, -0.6804904341697693], [-0.6798640489578247, -0.6788875460624695, -0.6792955994606018], [-0.6786664724349976, -0.6776874661445618, -0.6780925989151001], [-0.6774606704711914, -0.6764792203903198, -0.6768814325332642], [-0.6762467622756958, -0.6752627491950989, -0.6756620407104492], [-0.6750245690345764, -0.6740381121635437, -0.6744344234466553], [-0.6737944483757019, -0.6728055477142334, -0.6731988787651062], [-0.6725558638572693, -0.671564519405365, -0.6719548106193542], [-0.6713090538978577, -0.6703150868415833, -0.6707025170326233], [-0.6700539588928223, -0.6690576076507568, -0.6694419980049133], [-0.6687906980514526, -0.6677918434143066, -0.6681732535362244], [-0.6675194501876831, -0.6665180325508118, -0.6668964624404907], [-0.6662396192550659, -0.665235698223114, -0.6656111478805542], [-0.664951503276825, -0.6639450788497925, -0.6643174290657043], [-0.6636551022529602, -0.6626462340354919, -0.6630155444145203], [-0.6623503565788269, -0.6613390445709229, -0.6617053151130676], [-0.6610373854637146, -0.66002357006073, -0.6603867411613464], [-0.6597163081169128, -0.6586999893188477, -0.6590601801872253], [-0.6583866477012634, -0.6573678851127625, -0.6577249765396118], [-0.657048761844635, -0.6560274362564087, -0.656381368637085], [-0.6557023525238037, -0.6546787023544312, -0.6550295948982239]], [[-0.6543477177619934, -0.6533215641975403, -0.6536692976951599], [-0.6529850363731384, -0.65195631980896, -0.6523010730743408], [-0.6516136527061462, -0.650582492351532, -0.6509240865707397], [-0.6502339243888855, -0.6492003202438354, -0.6495386958122253], [-0.6488457918167114, -0.6478096842765808, -0.6481449604034424], [-0.6474493741989136, -0.6464107632637024, -0.6467428803443909], [-0.6460444331169128, -0.6450033783912659, -0.6453323364257812], [-0.6446315050125122, -0.6435879468917847, -0.643913745880127], [-0.6432097554206848, -0.6421638131141663, -0.6424863934516907], [-0.6417796611785889, -0.6407312750816345, -0.6410506963729858], [-0.6403411030769348, -0.6392903327941895, -0.6396064758300781], [-0.6388942003250122, -0.6378409266471863, -0.6381539106369019], [-0.6374388933181763, -0.6363831162452698, -0.6366928815841675], [-0.6359753608703613, -0.6349171996116638, -0.6352238059043884], [-0.634503185749054, -0.6334425806999207, -0.6337458491325378], [-0.6330224871635437, -0.6319594383239746, -0.6322595477104187], [-0.6315333843231201, -0.6304678916931152, -0.6307646632194519], [-0.6300358176231384, -0.628967821598053, -0.6292614340782166], [-0.6285301446914673, -0.6274597644805908, -0.6277499794960022], [-0.6270155906677246, -0.6259428858757019, -0.6262298226356506], [-0.6254926919937134, -0.6244175434112549, -0.6247011423110962], [-0.6239612698554993, -0.622883677482605, -0.6231639981269836], [-0.622421383857727, -0.621341347694397, -0.621618390083313], [-0.620872974395752, -0.6197906136512756, -0.6200643181800842], [-0.6193165183067322, -0.6182317137718201, -0.6185020804405212], [-0.6177512407302856, -0.616663932800293, -0.6169309616088867], [-0.6161773800849915, -0.6150878071784973, -0.6153514385223389], [-0.6145951151847839, -0.613503098487854, -0.6137633919715881], [-0.6130043268203735, -0.6119098663330078, -0.6121668815612793], [-0.6114053726196289, -0.6103086471557617, -0.6105621457099915], [-0.6097975969314575, -0.6086984276771545, -0.6089485883712769], [-0.608181357383728, -0.6070798635482788, -0.6073265671730042], [-0.6065566539764404, -0.6054527163505554, -0.6056960821151733], [-0.60492342710495, -0.6038171052932739, -0.6040570735931396], [-0.6032816767692566, -0.6021730303764343, -0.6024094820022583], [-0.6016318798065186, -0.6005208492279053, -0.6007538437843323], [-0.5999730825424194, -0.5988597273826599, -0.5990893244743347], [-0.5983058214187622, -0.5971902012825012, -0.597416341304779], [-0.5966300964355469, -0.5955121517181396, -0.595734715461731], [-0.5949459671974182, -0.59382563829422, -0.5940448045730591], [-0.5932536125183105, -0.5921309590339661, -0.5923466086387634], [-0.5915524363517761, -0.5904273986816406, -0.590639591217041], [-0.5898427367210388, -0.5887154340744019, -0.5889241099357605], [-0.5881245732307434, -0.5869949460029602, -0.5872000455856323], [-0.5863978862762451, -0.5852660536766052, -0.5854676365852356], [-0.584662675857544, -0.5835285186767578, -0.5837265849113464], [-0.5829194188117981, -0.5817829966545105, -0.5819775462150574], [-0.5811673998832703, -0.5800285935401917, -0.5802196264266968], [-0.57940673828125, -0.5782657265663147, -0.5784531831741333], [-0.5776377320289612, -0.5764944553375244, -0.5766782164573669], [-0.5758602023124695, -0.5747146606445312, -0.5748948454856873], [-0.5740746259689331, -0.5729268193244934, -0.5731034278869629], [-0.5722801685333252, -0.571130096912384, -0.571303129196167], [-0.5704771876335144, -0.5693249702453613, -0.569494366645813], [-0.5686658620834351, -0.5675113797187805, -0.5676771998405457], [-0.5668460726737976, -0.5656893253326416, -0.5658515095710754], [-0.565017819404602, -0.5638589262962341, -0.5640174150466919], [-0.5631815791130066, -0.5620203614234924, -0.5621752738952637], [-0.5613364577293396, -0.5601730942726135, -0.5603243708610535], [-0.5594829320907593, -0.5583174228668213, -0.5584649443626404], [-0.5576209425926208, -0.556453287601471, -0.556597113609314], [-0.5557506084442139, -0.5545807480812073, -0.5547209978103638], [-0.5538718104362488, -0.5526998043060303, -0.5528363585472107], [-0.5519851446151733, -0.5508109927177429, -0.5509437918663025]], [[-0.5500895977020264, -0.548913300037384, -0.5490423440933228], [-0.5481856465339661, -0.5470072627067566, -0.5471325516700745], [-0.5462733507156372, -0.5450928211212158, -0.5452145338058472], [-0.5443527698516846, -0.5431700944900513, -0.5432880520820618], [-0.542424201965332, -0.5412394404411316, -0.5413535237312317], [-0.5404868721961975, -0.5393000245094299, -0.5394103527069092], [-0.5385411977767944, -0.5373522639274597, -0.5374588966369629], [-0.5365872383117676, -0.535396158695221, -0.535499095916748], [-0.5346249938011169, -0.5334318280220032, -0.5335310101509094], [-0.532654345035553, -0.5314591526985168, -0.5315544605255127], [-0.5306759476661682, -0.5294787287712097, -0.5295702815055847], [-0.5286887884140015, -0.5274895429611206, -0.52757728099823], [-0.5266933441162109, -0.5254920721054077, -0.5255759954452515], [-0.5246896743774414, -0.5234863758087158, -0.5235665440559387], [-0.5226777791976929, -0.5214725136756897, -0.5215487480163574], [-0.5206581354141235, -0.519450843334198, -0.5195232629776001], [-0.5186297297477722, -0.5174205303192139, -0.5174891352653503], [-0.5165932178497314, -0.5153819918632507, -0.5154467225074768], [-0.5145484805107117, -0.5133352875709534, -0.5133962035179138], [-0.5124955773353577, -0.5112804174423218, -0.5113374590873718], [-0.5104345083236694, -0.5092174410820007, -0.5092706084251404], [-0.5083657503128052, -0.5071468353271484, -0.5071960687637329], [-0.5062884092330933, -0.5050675272941589, -0.505112886428833], [-0.5042029619216919, -0.5029801726341248, -0.5030216574668884]]]\n"
          ]
        }
      ]
    },
    {
      "cell_type": "code",
      "source": [
        "print(y_list)"
      ],
      "metadata": {
        "colab": {
          "base_uri": "https://localhost:8080/"
        },
        "id": "oSjhFc8daio5",
        "outputId": "d332dd56-f452-4061-81fc-e9d9bf517d6f"
      },
      "execution_count": 75,
      "outputs": [
        {
          "output_type": "stream",
          "name": "stdout",
          "text": [
            "[[[-0.37950822710990906, -0.3804604709148407, -0.381412148475647], [-0.3823620080947876, -0.3833126127719879, -0.38426265120506287], [-0.38521087169647217, -0.3861598074436188, -0.3871082067489624], [-0.38805413246154785, -0.38900139927864075, -0.38994815945625305], [-0.39089304208755493, -0.3918386399745941, -0.3927837014198303], [-0.3937269151210785, -0.39467087388038635, -0.39561423659324646], [-0.39655575156211853, -0.3974980115890503, -0.3984396755695343], [-0.39937952160835266, -0.40032005310058594, -0.40126001834869385], [-0.4021981358528137, -0.4031369686126709, -0.4040752053260803], [-0.40501096844673157, -0.40594807267189026, -0.4068845808506012], [-0.4078192710876465, -0.4087546169757843, -0.40968939661979675], [-0.41062232851982117, -0.4115559458732605, -0.4124889671802521], [-0.4134201407432556, -0.4143519997596741, -0.4152832627296448], [-0.41621267795562744, -0.41714274883270264, -0.41807225346565247], [-0.41899925470352173, -0.41992756724357605, -0.42085525393486023], [-0.42178112268447876, -0.42270761728286743, -0.42363354563713074], [-0.4245575964450836, -0.42548230290412903, -0.4264064133167267], [-0.4273286759853363, -0.42825156450271606, -0.42917385697364807], [-0.43009430170059204, -0.43101537227630615, -0.4319358468055725], [-0.43285444378852844, -0.4337736666202545, -0.43469229340553284], [-0.435608446598053, -0.4365258514881134, -0.4374426305294037], [-0.43835753202438354, -0.43927308917045593, -0.4401879906654358], [-0.4411010444164276, -0.4420147240161896, -0.4429277777671814], [-0.4438389539718628, -0.44475075602531433, -0.4456619322299957], [-0.4465712308883667, -0.4474811553955078, -0.4483904242515564], [-0.4492972195148468, -0.4502052366733551, -0.45111262798309326], [-0.4520181119441986, -0.4529242217540741, -0.45382970571517944], [-0.454733282327652, -0.45563748478889465, -0.4565410315990448], [-0.4574427008628845, -0.458344966173172, -0.45924657583236694], [-0.46014630794525146, -0.46104663610458374, -0.4619463086128235], [-0.4628441035747528, -0.4637424647808075, -0.46464020013809204], [-0.46553540229797363, -0.4664318263530731, -0.4673275649547577], [-0.4682214558124542, -0.46911588311195374, -0.4700096547603607], [-0.47090157866477966, -0.4717940092086792, -0.4726858139038086], [-0.47357574105262756, -0.4744662046432495, -0.47535598278045654], [-0.47624391317367554, -0.4771323800086975, -0.47802016139030457], [-0.4789060950279236, -0.4797925353050232, -0.4806783199310303], [-0.4815616011619568, -0.4824460446834564, -0.48332977294921875], [-0.48421165347099304, -0.4850940406322479, -0.4859757721424103], [-0.4868555963039398, -0.48773595690727234, -0.48861563205718994], [-0.48949339985847473, -0.4903717041015625, -0.49124932289123535], [-0.4921250641345978, -0.4930012822151184, -0.4938768446445465], [-0.49474990367889404, -0.4956240653991699, -0.4964975416660309], [-0.49736911058425903, -0.49824121594429016, -0.4991125762462616], [-0.499982088804245, -0.5008520483970642, -0.5017213821411133], [-0.5025887489318848, -0.5034566521644592, -0.5043238401412964], [-0.5051891207695007, -0.5060548782348633, -0.5069199800491333], [-0.5077831149101257, -0.5086467862129211, -0.5095097422599792], [-0.5103701949119568, -0.5112316608428955, -0.5120924711227417], [-0.5129513740539551, -0.5138107538223267, -0.5146694183349609], [-0.5155261754989624, -0.5163834095001221, -0.5172399282455444], [-0.5180944800376892, -0.518949568271637, -0.5198038816452026], [-0.5206563472747803, -0.5215092301368713, -0.5223613381385803], [-0.5232110619544983, -0.5240617394447327, -0.5249117016792297], [-0.5257598161697388, -0.5266082882881165, -0.5274560451507568], [-0.5283019542694092, -0.529148280620575, -0.5299938321113586], [-0.5308374762535095, -0.5316815972328186, -0.5325249433517456], [-0.5333663821220398, -0.5342082381248474, -0.5350493788719177], [-0.5358886122703552, -0.5367282629013062, -0.537567138671875], [-0.5384035706520081, -0.5392409563064575, -0.5400776267051697], [-0.540912389755249, -0.541747510433197, -0.5425819158554077], [-0.5434144139289856, -0.5442472696304321, -0.5450794100761414], [-0.5459096431732178, -0.5467402935028076, -0.5475701093673706], [-0.5483980774879456, -0.5492264032363892, -0.5500540137290955]], [[-0.5508791208267212, -0.5517051815986633, -0.5525304675102234], [-0.5533538460731506, -0.5541775822639465, -0.5550005435943604], [-0.5558216571807861, -0.5566430687904358, -0.5574637651443481], [-0.5582825541496277, -0.5591016411781311, -0.5599200129508972], [-0.5607364773750305, -0.5615532398223877, -0.5623692870140076], [-0.5631833672523499, -0.5639978647232056, -0.5648115277290344], [-0.5656227469444275, -0.5664348602294922, -0.5672461986541748], [-0.5680556297302246, -0.5688654184341431, -0.5696743726730347], [-0.5704814195632935, -0.5712888240814209, -0.5720954537391663], [-0.5729001760482788, -0.5737051963806152, -0.5745093822479248], [-0.5753117203712463, -0.5761143565177917, -0.5769162178039551], [-0.5777156352996826, -0.578515887260437, -0.5793153047561646], [-0.580112874507904, -0.5809107422828674, -0.581707775592804], [-0.5825029015541077, -0.5832983255386353, -0.5840929746627808], [-0.5848857164382935, -0.58567875623703, -0.5864709615707397], [-0.5872612595558167, -0.5880518555641174, -0.5888416171073914], [-0.5896295309066772, -0.5904176235198975, -0.5912050008773804], [-0.5919898748397827, -0.5927755832672119, -0.593560516834259], [-0.5943434834480286, -0.595126748085022, -0.5959091782569885], [-0.5966897010803223, -0.5974704623222351, -0.5982504487037659], [-0.5990285277366638, -0.5998068451881409, -0.6005843281745911], [-0.6013599038124084, -0.6021357178688049, -0.6029107570648193], [-0.6036838293075562, -0.6044571995735168, -0.6052296757698059], [-0.605999767780304, -0.6067706346511841, -0.6075406074523926], [-0.608308732509613, -0.6090770959854126, -0.6098445653915405], [-0.6106101870536804, -0.6113759875297546, -0.612140953540802], [-0.6129040122032166, -0.6136673092842102, -0.614429771900177], [-0.615190327167511, -0.6159510612487793, -0.6167109608650208], [-0.6174684762954712, -0.6182267069816589, -0.618984043598175], [-0.6197395324707031, -0.6204952001571655, -0.6212499737739563], [-0.622002899646759, -0.6227560043334961, -0.6235082149505615], [-0.6242585778236389, -0.6250091195106506, -0.6257587671279907], [-0.6265065670013428, -0.6272544860839844, -0.6280015707015991], [-0.6287468075752258, -0.6294921636581421, -0.6302366852760315], [-0.6309787631034851, -0.631721556186676, -0.6324634552001953], [-0.6332034468650818, -0.6339436173439026, -0.6346828937530518], [-0.6354203224182129, -0.6361578702926636, -0.6368945837020874], [-0.6376293897628784, -0.638364315032959, -0.6390983462333679], [-0.6398305296897888, -0.6405628323554993, -0.6412942409515381], [-0.6420233249664307, -0.642753005027771, -0.6434817910194397], [-0.6442086696624756, -0.6449357271194458, -0.6456618309020996], [-0.6463860869407654, -0.6471104621887207, -0.6478339433670044], [-0.6485555768013, -0.6492772698402405, -0.6499980688095093], [-0.65071702003479, -0.6514360904693604, -0.6521542072296143], [-0.6528704762458801, -0.6535868644714355, -0.6543022990226746], [-0.6550154089927673, -0.6557291150093079, -0.656441867351532], [-0.6571527719497681, -0.6578637957572937, -0.6585738658905029], [-0.6592820882797241, -0.6599903702735901, -0.6606976985931396], [-0.661403238773346, -0.6621087789535522, -0.6628134846687317], [-0.6635162830352783, -0.664219081401825, -0.6649210453033447], [-0.6656206250190735, -0.6663207411766052, -0.6670199632644653], [-0.6677173376083374, -0.6684147119522095, -0.6691111922264099], [-0.6698058247566223, -0.6705004572868347, -0.6711941957473755], [-0.6718860864639282, -0.672577977180481, -0.6732689738273621], [-0.6739580631256104, -0.6746472120285034, -0.6753354072570801], [-0.6760218143463135, -0.6767081618309021, -0.6773936152458191], [-0.6780767440795898, -0.6787603497505188, -0.6794430613517761], [-0.6801238656044006, -0.6808046698570251, -0.681484580039978], [-0.6821626424789429, -0.6828406453132629, -0.6835177540779114], [-0.6841930150985718, -0.6848682165145874, -0.6855425238609314], [-0.6862149834632874, -0.6868874430656433, -0.6875589489936829], [-0.6882281303405762, -0.6888977289199829, -0.689566433429718], [-0.6902332901954651, -0.6909000873565674, -0.6915659308433533], [-0.6922299861907959, -0.692893922328949, -0.6935569643974304]], [[-0.6942181587219238, -0.6948792934417725, -0.6955395340919495], [-0.6961978673934937, -0.6968561410903931, -0.6975135207176208], [-0.6981690526008606, -0.6988244652748108, -0.6994789838790894], [-0.7001312375068665, -0.7007837891578674, -0.7014354467391968], [-0.7020852565765381, -0.7027350068092346, -0.7033838033676147], [-0.7040307521820068, -0.7046775817871094, -0.7053235173225403], [-0.7059676051139832, -0.7066115736961365, -0.7072545886039734], [-0.707895815372467, -0.7085369229316711, -0.7091770172119141], [-0.7098149061203003, -0.7104530930519104, -0.7110903859138489], [-0.7117257714271545, -0.7123610973358154, -0.7129954695701599], [-0.7136279344558716, -0.7142603397369385, -0.714891791343689], [-0.7155213952064514, -0.7161508798599243, -0.7167794108390808], [-0.7174060940742493, -0.718032717704773, -0.7186582684516907], [-0.7192820310592651, -0.7199057340621948, -0.7205283641815186], [-0.7211487889289856, -0.7217695116996765, -0.7223892211914062], [-0.7230071425437927, -0.7236249446868896, -0.7242417335510254], [-0.7248566746711731, -0.7254714965820312, -0.7260853052139282], [-0.7266973257064819, -0.7273092269897461, -0.7279201149940491], [-0.728529155254364, -0.7291380763053894, -0.7297459840774536], [-0.7303521037101746, -0.7309580445289612, -0.7315629720687866], [-0.7321656942367554, -0.7327686548233032, -0.7333706021308899], [-0.7339707612991333, -0.7345707416534424, -0.7351697087287903], [-0.7357668876647949, -0.7363638877868652, -0.7369598746299744], [-0.7375540733337402, -0.7381480932235718, -0.7387410402297974], [-0.7393322587013245, -0.7399232387542725, -0.740513265132904], [-0.7411010265350342, -0.7416890263557434, -0.7422760128974915], [-0.7428611516952515, -0.7434461116790771, -0.7440301179885864], [-0.7446122765541077, -0.7451941967010498, -0.7457751631736755], [-0.7463542819023132, -0.7469332218170166, -0.747511088848114], [-0.7480872273445129, -0.7486631274223328, -0.7492379546165466], [-0.749811053276062, -0.7503839135169983, -0.7509557604789734], [-0.7515254020690918, -0.7520951628684998, -0.7526639699935913], [-0.7532309293746948, -0.753797709941864, -0.7543634176254272], [-0.7549273371696472, -0.7554910182952881, -0.7560536861419678], [-0.7566145658493042, -0.7571752071380615, -0.7577347755432129], [-0.7582926154136658, -0.7588501572608948, -0.7594066858291626], [-0.7599610090255737, -0.7605155110359192, -0.7610689401626587], [-0.7616205811500549, -0.7621719837188721, -0.7627223134040833], [-0.763270914554596, -0.76381915807724, -0.7643664479255676], [-0.764911949634552, -0.7654571533203125, -0.766001284122467], [-0.7665436863899231, -0.7670857906341553, -0.7676268219947815], [-0.7681661248207092, -0.7687050700187683, -0.769243061542511], [-0.769778847694397, -0.7703147530555725, -0.7708495855331421], [-0.7713826298713684, -0.7719153761863708, -0.7724471092224121], [-0.7729770541191101, -0.7735066413879395, -0.7740352153778076], [-0.7745620608329773, -0.7750885486602783, -0.7756139636039734], [-0.77613765001297, -0.7766610383987427, -0.7771833539009094], [-0.7777035236358643, -0.7782237529754639, -0.7787429094314575], [-0.7792602777481079, -0.7797773480415344, -0.780293345451355], [-0.780807614326477, -0.7813215255737305, -0.7818343639373779], [-0.7823454737663269, -0.7828562259674072, -0.7833659052848816], [-0.7838738560676575, -0.7843814492225647, -0.784887969493866], [-0.7853927612304688, -0.7858971357345581, -0.7864004969596863], [-0.7869017720222473, -0.7874029874801636, -0.7879031896591187], [-0.7884016036987305, -0.7888996601104736, -0.7893966436386108], [-0.7898918986320496, -0.7903867363929749, -0.790880560874939], [-0.7913725972175598, -0.791864275932312, -0.7923548817634583], [-0.792843759059906, -0.7933322191238403, -0.7938196063041687], [-0.7943049669265747, -0.7947902083396912, -0.7952744364738464], [-0.7957568764686584, -0.7962389588356018, -0.7967199087142944], [-0.7971991896629333, -0.7976779937744141, -0.7981557846069336], [-0.7986318469047546, -0.7991074323654175, -0.7995820045471191], [-0.8000548481941223, -0.8005272150039673, -0.8009985685348511], [-0.8014681339263916, -0.8019372820854187, -0.8024054169654846]], [[-0.8028714656829834, -0.8033373951911926, -0.8038022518157959], [-0.8042653799057007, -0.804728090763092, -0.8051896691322327], [-0.8056495785713196, -0.8061090111732483, -0.806567370891571], [-0.8070240616798401, -0.8074802160263062, -0.807935357093811], [-0.8083887696266174, -0.8088417053222656, -0.8092935681343079], [-0.8097437024116516, -0.8101933598518372, -0.8106419444084167], [-0.8110885620117188, -0.8115350008010864, -0.8119803071022034], [-0.8124239444732666, -0.8128671050071716, -0.8133091330528259], [-0.8137494921684265, -0.8141893744468689, -0.8146281838417053], [-0.8150652647018433, -0.815501868724823, -0.815937340259552], [-0.8163711428642273, -0.8168044686317444, -0.8172366619110107], [-0.8176668882369995, -0.818096935749054, -0.8185258507728577], [-0.8189530968666077, -0.8193798065185547, -0.8198054432868958], [-0.8202294111251831, -0.8206528425216675, -0.8210752010345459], [-0.8214958310127258, -0.8219159841537476, -0.8223350048065186], [-0.8227523565292358, -0.8231691718101501, -0.8235849142074585], [-0.8239989280700684, -0.82441246509552, -0.824824869632721], [-0.8252353072166443, -0.8256455063819885, -0.8260546326637268], [-0.8264620304107666, -0.8268688917160034, -0.8272746801376343], [-0.8276787996292114, -0.8280823230743408, -0.8284847736358643], [-0.828885555267334, -0.8292858004570007, -0.8296849131584167], [-0.8300824165344238, -0.8304792642593384, -0.830875039100647], [-0.8312689065933228, -0.8316624760627747, -0.8320549130439758], [-0.8324457406997681, -0.8328359127044678, -0.8332250118255615], [-0.8336125016212463, -0.8339993953704834, -0.834385097026825], [-0.8347692489624023, -0.8351527452468872, -0.8355351686477661], [-0.8359159231185913, -0.8362960815429688, -0.8366751670837402], [-0.837052583694458, -0.837429404258728, -0.8378050923347473], [-0.8381788730621338, -0.8385523557662964, -0.8389246463775635], [-0.8392953872680664, -0.8396654725074768, -0.8400344252586365], [-0.8404017686843872, -0.8407684564590454, -0.8411340713500977], [-0.8414980173110962, -0.841861367225647, -0.842223584651947], [-0.8425841927528381, -0.8429442048072815, -0.8433030247688293], [-0.8436599969863892, -0.8440166115760803, -0.844372034072876], [-0.8447259068489075, -0.8450791239738464, -0.8454312086105347], [-0.845781683921814, -0.8461315035820007, -0.8464801907539368], [-0.8468272686004639, -0.8471736907958984, -0.8475189805030823], [-0.8478626608848572, -0.8482056856155396, -0.8485475778579712], [-0.8488879203796387, -0.8492275476455688, -0.8495660424232483], [-0.8499026894569397, -0.8502389788627625, -0.8505740761756897], [-0.850907564163208, -0.8512403964996338, -0.8515720963478088], [-0.851902186870575, -0.8522316217422485, -0.8525598645210266], [-0.8528865575790405, -0.8532125949859619, -0.8535374402999878], [-0.8538607358932495, -0.8541833758354187, -0.8545048236846924], [-0.8548244833946228, -0.8551436066627502, -0.8554616570472717], [-0.8557780981063843, -0.8560938835144043, -0.8564084768295288], [-0.8567215204238892, -0.8570338487625122, -0.8573450446128845], [-0.8576546907424927, -0.8579635620117188, -0.8582713007926941], [-0.8585774898529053, -0.8588829636573792, -0.8591873049736023], [-0.8594900965690613, -0.8597921133041382, -0.8600929975509644], [-0.8603920936584473, -0.860690712928772, -0.860988199710846], [-0.861284077167511, -0.8615792393684387, -0.861873209476471], [-0.8621656894683838, -0.8624573945999146, -0.8627479672431946], [-0.8630369901657104, -0.8633252382278442, -0.8636123538017273], [-0.863897979259491, -0.8641827702522278, -0.8644664287567139], [-0.8647483587265015, -0.8650297522544861, -0.8653099536895752], [-0.8655886650085449, -0.8658665418624878, -0.8661432862281799], [-0.8664185404777527, -0.8666930198669434, -0.8669663071632385], [-0.8672380447387695, -0.8675090670585632, -0.8677788972854614], [-0.8680472373962402, -0.8683147430419922, -0.8685811161994934], [-0.8688459992408752, -0.8691100478172302, -0.8693729639053345], [-0.8696341514587402, -0.869894802570343, -0.8701542019844055], [-0.8704121708869934, -0.8706693053245544, -0.87092524766922], [-0.8711796998977661, -0.8714333772659302, -0.8716858625411987]], [[-0.8719368577003479, -0.8721870183944702, -0.8724360466003418], [-0.872683584690094, -0.8729302883148193, -0.8731757998466492], [-0.8734198808670044, -0.873663067817688, -0.8739051222801208], [-0.8741455078125, -0.8743852972984314, -0.8746238350868225], [-0.874860942363739, -0.8750972151756287, -0.8753322958946228], [-0.8755658864974976, -0.8757986426353455, -0.8760302662849426], [-0.8762603998184204, -0.8764896392822266, -0.876717746257782], [-0.8769444227218628, -0.877170205116272, -0.8773947954177856], [-0.8776177763938904, -0.8778401017189026, -0.8780612349510193], [-0.8782808780670166, -0.8784996867179871, -0.878717303276062], [-0.8789334893226624, -0.8791487812995911, -0.8793628811836243], [-0.8795755505561829, -0.8797873854637146, -0.879997968673706], [-0.8802071809768677, -0.8804154396057129, -0.8806225657463074], [-0.8808282613754272, -0.8810330629348755, -0.8812366724014282], [-0.8814387321472168, -0.8816400170326233, -0.8818401098251343], [-0.8820387721061707, -0.8822365999221802, -0.8824331760406494], [-0.8826283812522888, -0.8828226327896118, -0.8830157518386841], [-0.883207380771637, -0.883398175239563, -0.8835877180099487], [-0.8837758898735046, -0.8839631080627441, -0.8841491937637329], [-0.8843337297439575, -0.8845174908638, -0.8847000002861023], [-0.8848811388015747, -0.8850613832473755, -0.8852404356002808], [-0.8854180574417114, -0.8855947256088257, -0.8857702612876892], [-0.8859443664550781, -0.8861175775527954, -0.8862895965576172], [-0.8864601850509644, -0.8866298198699951, -0.8867983222007751], [-0.8869653940200806, -0.8871315121650696, -0.8872964978218079], [-0.887459933757782, -0.8876225352287292, -0.8877840042114258], [-0.8879440426826477, -0.8881031274795532, -0.8882610201835632], [-0.8884175419807434, -0.8885731101036072, -0.8887275457382202], [-0.8888804912567139, -0.8890325427055359, -0.8891834020614624], [-0.8893328905105591, -0.8894814252853394, -0.8896287083625793], [-0.8897745609283447, -0.8899195790290833, -0.8900633454322815], [-0.8902058005332947, -0.8903472423553467, -0.8904874920845032], [-0.8906264305114746, -0.8907642960548401, -0.8909010291099548], [-0.8910364508628845, -0.8911707997322083, -0.8913040161132812], [-0.8914358615875244, -0.8915666937828064, -0.8916963934898376], [-0.8918246626853943, -0.8919519782066345, -0.8920781016349792], [-0.8922028541564941, -0.8923265933990479, -0.8924492001533508], [-0.892570436000824, -0.8926907181739807, -0.8928097486495972], [-0.8929274678230286, -0.8930441737174988, -0.8931596875190735], [-0.8932738900184631, -0.8933870196342468, -0.8934990167617798], [-0.8936097025871277, -0.8937193155288696, -0.8938277363777161], [-0.8939347863197327, -0.8940408825874329, -0.8941457867622375], [-0.8942493796348572, -0.8943518996238708, -0.894453227519989], [-0.8945533037185669, -0.8946523070335388, -0.8947501182556152], [-0.8948466181755066, -0.8949421048164368, -0.8950363397598267], [-0.8951293230056763, -0.8952212333679199, -0.8953120112419128], [-0.8954014182090759, -0.8954898118972778, -0.8955770134925842], [-0.8956628441810608, -0.8957476615905762, -0.895831286907196], [-0.8959136605262756, -0.8959949612617493, -0.8960750699043274], [-0.8961538672447205, -0.8962315917015076, -0.896308183670044], [-0.8963834643363953, -0.8964576125144958, -0.8965306282043457], [-0.8966023921966553, -0.8966730237007141, -0.8967425227165222], [-0.8968106508255005, -0.8968777656555176, -0.8969436883926392], [-0.8970083594322205, -0.897071897983551, -0.8971343040466309], [-0.8971953988075256, -0.8972554206848145, -0.8973142504692078], [-0.8973718285560608, -0.8974282741546631, -0.8974835872650146], [-0.8975375890731812, -0.8975905179977417, -0.8976422548294067], [-0.8976927399635315, -0.8977421522140503, -0.8977903127670288], [-0.897837221622467, -0.8978830575942993, -0.8979277610778809], [-0.8979711532592773, -0.8980134129524231, -0.8980545401573181], [-0.8980944156646729, -0.8981331586837769, -0.8981707096099854], [-0.8982070088386536, -0.8982422351837158, -0.8982762098312378], [-0.8983089923858643, -0.89834064245224, -0.898371160030365], [-0.8984003663063049, -0.8984284400939941, -0.8984553813934326]], [[-0.8984810709953308, -0.8985056281089783, -0.898529052734375], [-0.8985511660575867, -0.8985722064971924, -0.8985920548439026], [-0.8986106514930725, -0.8986281156539917, -0.8986443877220154], [-0.8986595273017883, -0.898673415184021, -0.8986861705780029], [-0.8986977338790894, -0.8987081050872803, -0.8987172842025757], [-0.8987252712249756, -0.8987321257591248, -0.8987377882003784], [-0.8987422585487366, -0.8987455368041992, -0.8987476825714111], [-0.8987486362457275, -0.8987483382225037, -0.898746907711029], [-0.8987443447113037, -0.8987405300140381, -0.8987355828285217], [-0.8987294435501099, -0.8987221121788025, -0.8987135887145996], [-0.898703932762146, -0.8986930251121521, -0.8986809849739075], [-0.8986678123474121, -0.8986533880233765, -0.8986377716064453], [-0.8986210227012634, -0.898603081703186, -0.8985839486122131], [-0.8985636830329895, -0.8985422253608704, -0.8985195159912109], [-0.8984957337379456, -0.8984706997871399, -0.8984444737434387], [-0.8984171748161316, -0.8983886241912842, -0.8983588814735413], [-0.8983280062675476, -0.8982959389686584, -0.898262619972229], [-0.8982282280921936, -0.8981925845146179, -0.8981558084487915], [-0.8981178402900696, -0.8980786800384521, -0.898038387298584], [-0.8979969024658203, -0.8979542255401611, -0.8979103565216064], [-0.897865355014801, -0.8978191018104553, -0.8977717161178589], [-0.8977232575416565, -0.897673487663269, -0.8976225256919861], [-0.8975704908370972, -0.897517204284668, -0.8974627256393433], [-0.8974071741104126, -0.8973503708839417, -0.8972923755645752], [-0.8972333073616028, -0.8971729874610901, -0.8971114754676819], [-0.897048830986023, -0.8969849944114685, -0.8969199657440186], [-0.8968538045883179, -0.8967864513397217, -0.8967178463935852], [-0.8966482877731323, -0.8965773582458496, -0.8965052366256714], [-0.896432101726532, -0.8963576555252075, -0.8962820768356323], [-0.8962053656578064, -0.896127462387085, -0.8960483074188232], [-0.8959681391716003, -0.8958866596221924, -0.8958039879798889], [-0.8957203030586243, -0.8956353068351746, -0.8955491781234741], [-0.8954619765281677, -0.8953734636306763, -0.8952837586402893], [-0.8951930999755859, -0.8951010704040527, -0.8950079083442688], [-0.8949136734008789, -0.8948181867599487, -0.8947214484214783], [-0.8946237564086914, -0.8945246934890747, -0.8944244980812073], [-0.8943232297897339, -0.8942207098007202, -0.894116997718811], [-0.8940122723579407, -0.8939061760902405, -0.8937989473342896], [-0.893690824508667, -0.8935812711715698, -0.8934705257415771], [-0.8933587670326233, -0.8932456970214844, -0.8931314945220947], [-0.8930162787437439, -0.8928996920585632, -0.8927819728851318], [-0.8926632404327393, -0.8925431966781616, -0.8924219608306885], [-0.8922997117042542, -0.8921762108802795, -0.8920514583587646], [-0.8919257521629333, -0.8917986750602722, -0.8916704654693604], [-0.8915413618087769, -0.8914108276367188, -0.8912791013717651], [-0.8911464214324951, -0.8910123705863953, -0.8908771872520447], [-0.8907410502433777, -0.8906034827232361, -0.8904648423194885], [-0.8903251886367798, -0.8901841640472412, -0.8900420069694519], [-0.8898988366127014, -0.8897543549537659, -0.8896086812019348], [-0.8894621729850769, -0.8893142342567444, -0.8891651034355164], [-0.8890150189399719, -0.8888635635375977, -0.8887109160423279], [-0.8885573744773865, -0.8884024620056152, -0.8882463574409485], [-0.8880893588066101, -0.8879309296607971, -0.8877713680267334], [-0.8876108527183533, -0.8874489665031433, -0.8872859477996826], [-0.8871219754219055, -0.8869566321372986, -0.8867901563644409], [-0.8866228461265564, -0.8864539861679077, -0.8862840533256531], [-0.886113166809082, -0.8859409093856812, -0.8857674598693848], [-0.8855931162834167, -0.8854173421859741, -0.8852404952049255], [-0.8850626945495605, -0.884883463382721, -0.8847030997276306], [-0.8845218420028687, -0.8843392133712769, -0.8841553926467896], [-0.8839708566665649, -0.8837847113609314, -0.8835974931716919], [-0.883409321308136, -0.8832197785377502, -0.883029043674469], [-0.8828374743461609, -0.8826444745063782, -0.8824502825737], [-0.8822552561759949, -0.8820587992668152, -0.8818612098693848]], [[-0.8816627264022827, -0.881462812423706, -0.8812617659568787], [-0.8810598850250244, -0.8808565735816956, -0.8806520700454712], [-0.8804468512535095, -0.8802400827407837, -0.8800321817398071], [-0.8798233866691589, -0.8796132206916809, -0.8794018626213074], [-0.879189670085907, -0.878976047039032, -0.8787612318992615], [-0.8785456418991089, -0.8783285617828369, -0.8781103491783142], [-0.8778913021087646, -0.8776708245277405, -0.8774492144584656], [-0.8772268891334534, -0.877003014087677, -0.8767779469490051], [-0.8765521049499512, -0.8763247728347778, -0.8760963082313538], [-0.8758670091629028, -0.8756362795829773, -0.875404417514801], [-0.8751717209815979, -0.8749375343322754, -0.8747022747993469], [-0.8744661808013916, -0.8742286562919617, -0.8739899396896362], [-0.8737504482269287, -0.8735094666481018, -0.873267412185669], [-0.8730246424674988, -0.8727803230285645, -0.8725348114967346], [-0.8722885251045227, -0.8720407485961914, -0.8717918395996094], [-0.87154221534729, -0.8712910413742065, -0.8710387349128723], [-0.8707857131958008, -0.8705311417579651, -0.8702754974365234], [-0.8700190186500549, -0.8697611093521118, -0.869502067565918], [-0.8692423701286316, -0.8689810633659363, -0.8687186241149902], [-0.8684554696083069, -0.8681907653808594, -0.8679249286651611], [-0.8676583766937256, -0.8673902750015259, -0.8671211004257202], [-0.8668511509895325, -0.8665797114372253, -0.8663071393966675], [-0.8660338521003723, -0.865759015083313, -0.8654831051826477], [-0.8652064204216003, -0.8649282455444336, -0.8646489977836609], [-0.8643691539764404, -0.8640876412391663, -0.8638049364089966], [-0.8635215759277344, -0.863236665725708, -0.8629506826400757], [-0.862663984298706, -0.8623757362365723, -0.8620863556861877], [-0.8617962598800659, -0.8615046739578247, -0.8612120151519775], [-0.8609185814857483, -0.8606236577033997, -0.8603276014328003], [-0.8600308299064636, -0.8597325682640076, -0.8594331741333008], [-0.8591333031654358, -0.8588317036628723, -0.8585289716720581], [-0.8582255244255066, -0.8579205870628357, -0.8576145768165588], [-0.8573077917098999, -0.8569995164871216, -0.8566901683807373], [-0.8563801050186157, -0.85606849193573, -0.8557558059692383], [-0.8554424047470093, -0.8551275134086609, -0.8548114895820618], [-0.8544950485229492, -0.8541768193244934, -0.8538574576377869], [-0.8535374402999878, -0.8532159328460693, -0.8528932929039001], [-0.8525699973106384, -0.8522451519966125, -0.8519191741943359], [-0.8515926003456116, -0.8512644171714783, -0.850935161113739], [-0.850605309009552, -0.850273847579956, -0.8499413132667542], [-0.8496081233024597, -0.8492733836174011, -0.8489375114440918], [-0.8486012816429138, -0.8482632637023926, -0.8479241728782654], [-0.8475843667984009, -0.847243070602417, -0.8469007015228271], [-0.8465576171875, -0.8462130427360535, -0.845867395401001], [-0.845521092414856, -0.845173180103302, -0.8448242545127869], [-0.8444746732711792, -0.8441235423088074, -0.8437713384628296], [-0.8434187173843384, -0.8430643081665039, -0.8427088260650635], [-0.8423527479171753, -0.8419950604438782, -0.8416363596916199], [-0.841277003288269, -0.840916097164154, -0.8405540585517883], [-0.8401914834976196, -0.839827299118042, -0.8394620418548584], [-0.8390962481498718, -0.8387287855148315, -0.8383603096008301], [-0.8379912376403809, -0.8376205563545227, -0.8372488617897034], [-0.8368768095970154, -0.8365029096603394, -0.8361279368400574], [-0.8357524275779724, -0.8353752493858337, -0.8349970579147339], [-0.834618330001831, -0.8342379927635193, -0.8338565230369568], [-0.8334745764732361, -0.8330910205841064, -0.8327063322067261], [-0.8323211669921875, -0.83193439245224, -0.8315464854240417], [-0.8311583995819092, -0.8307684063911438, -0.8303772807121277], [-0.8299856781959534, -0.8295925259590149, -0.8291982412338257], [-0.8288034200668335, -0.8284070491790771, -0.8280095458030701], [-0.8276115655899048, -0.8272119760513306, -0.8268113136291504], [-0.8264101147651672, -0.8260073065757751, -0.8256034851074219], [-0.8251991271972656, -0.8247931599617004, -0.8243861198425293], [-0.823978841304779, -0.823569655418396, -0.8231594562530518]], [[-0.8227487802505493, -0.8223364353179932, -0.821923017501831], [-0.8215091824531555, -0.8210936784744263, -0.8206771016120911], [-0.8202601075172424, -0.8198414444923401, -0.8194217085838318], [-0.8190014958381653, -0.8185796737670898, -0.8181568384170532], [-0.8177337646484375, -0.817308783531189, -0.8168827891349792], [-0.8164563179016113, -0.8160281777381897, -0.8155990242958069], [-0.8151693940162659, -0.8147381544113159, -0.81430584192276], [-0.8138730525970459, -0.8134386539459229, -0.8130032420158386], [-0.8125673532485962, -0.8121298551559448, -0.8116912841796875], [-0.811252236366272, -0.8108116388320923, -0.8103699088096619], [-0.8099281191825867, -0.8094843626022339, -0.8090395331382751], [-0.8085943460464478, -0.8081474304199219, -0.8076995015144348], [-0.8072512149810791, -0.8068011999130249, -0.8063501715660095], [-0.8058987855911255, -0.805445671081543, -0.8049915432929993], [-0.8045370578765869, -0.8040808439254761, -0.8036236763000488], [-0.8031660318374634, -0.802706778049469, -0.8022464513778687], [-0.8017860651016235, -0.8013237714767456, -0.8008603453636169], [-0.8003966212272644, -0.7999311685562134, -0.7994647026062012], [-0.7989978790283203, -0.7985293865203857, -0.79805988073349], [-0.7975899577140808, -0.7971184253692627, -0.7966458201408386], [-0.7961728572845459, -0.7956982851028442, -0.7952226400375366], [-0.7947469353675842, -0.7942692637443542, -0.7937905788421631], [-0.7933115363121033, -0.7928308248519897, -0.792349100112915], [-0.7918670177459717, -0.7913832664489746, -0.7908984422683716], [-0.7904133796691895, -0.7899265885353088, -0.789438784122467], [-0.7889506220817566, -0.7884607911109924, -0.7879699468612671], [-0.7874788045883179, -0.7869859933853149, -0.786492109298706], [-0.7859982848167419, -0.7855024337768555, -0.7850055694580078], [-0.7845084071159363, -0.7840095162391663, -0.7835096716880798], [-0.7830094695091248, -0.782507598400116, -0.7820047736167908], [-0.7815015912055969, -0.7809967398643494, -0.7804908752441406], [-0.779984712600708, -0.7794768810272217, -0.7789680361747742], [-0.7784592509269714, -0.7779483795166016, -0.7774365544319153], [-0.7769244313240051, -0.7764106392860413, -0.7758958339691162], [-0.7753807902336121, -0.7748640179634094, -0.7743462324142456], [-0.7738282084465027, -0.7733084559440613, -0.7727877497673035], [-0.7722667455673218, -0.7717440128326416, -0.7712203860282898], [-0.7706964015960693, -0.7701707482337952, -0.7696441411972046], [-0.7691176533699036, -0.7685890197753906, -0.768059492111206], [-0.7675296664237976, -0.7669981122016907, -0.7664656639099121], [-0.7659329175949097, -0.7653984427452087, -0.7648630142211914], [-0.764327347278595, -0.7637900114059448, -0.7632516622543335], [-0.7627130746841431, -0.7621727585792542, -0.7616314888000488], [-0.7610903978347778, -0.7605472207069397, -0.7600030303001404], [-0.7594586610794067, -0.7589125633239746, -0.7583655118942261], [-0.7578182220458984, -0.7572692632675171, -0.7567192912101746], [-0.7561691403388977, -0.7556172609329224, -0.7550644278526306], [-0.7545113563537598, -0.7539566159248352, -0.7534009218215942], [-0.7528449892997742, -0.7522873282432556, -0.7517287731170654], [-0.7511703968048096, -0.7506098747253418, -0.7500484585762024], [-0.7494868040084839, -0.7489234209060669, -0.7483591437339783], [-0.7477946281433105, -0.7472284436225891, -0.7466613054275513], [-0.7460939884185791, -0.7455249428749084, -0.7449549436569214], [-0.744384765625, -0.7438128590583801, -0.7432400584220886], [-0.7426674365997314, -0.7420927286148071, -0.7415170669555664], [-0.7409412264823914, -0.7403637170791626, -0.7397852540016174], [-0.7392066121101379, -0.73862624168396, -0.7380449771881104], [-0.7374635338783264, -0.736880362033844, -0.7362962365150452], [-0.7357120513916016, -0.7351260781288147, -0.7345391511917114], [-0.7339521646499634, -0.7333633899688721, -0.7327737212181091], [-0.7321842908859253, -0.7315927743911743, -0.7310003042221069], [-0.73040771484375, -0.7298133969306946, -0.7292181253433228], [-0.7286227941513062, -0.7280256748199463, -0.7274276614189148], [-0.7268295884132385, -0.726229727268219, -0.7256289124488831]], [[-0.7250280976295471, -0.7244254350662231, -0.7238219380378723], [-0.7232187390327454, -0.7226133942604065, -0.7220070958137512], [-0.7214007377624512, -0.7207926511764526, -0.7201836705207825], [-0.7195745706558228, -0.7189637422561646, -0.7183520197868347], [-0.7177401781082153, -0.7171266078948975, -0.716512143611908], [-0.7158976197242737, -0.7152813673019409, -0.7146642208099365], [-0.7140469551086426, -0.7134279608726501, -0.7128080725669861], [-0.7121886014938354, -0.7115669250488281, -0.7109443545341492], [-0.7103217244148254, -0.7096973061561584, -0.7090720534324646], [-0.708446741104126, -0.7078197002410889, -0.7071917057037354], [-0.7065637707710266, -0.7059339880943298, -0.7053033709526062], [-0.7046726942062378, -0.7040402889251709, -0.7034069895744324], [-0.7027736902236938, -0.7021386027336121, -0.7015026807785034], [-0.7008671164512634, -0.7002294063568115, -0.699590802192688], [-0.6989521980285645, -0.6983118057250977, -0.697670578956604], [-0.6970293521881104, -0.6963863372802734, -0.6957424283027649], [-0.6950985789299011, -0.6944529414176941, -0.6938064098358154], [-0.6931598782539368, -0.6925116181373596, -0.6918625235557556], [-0.691213846206665, -0.6905629634857178, -0.6899112462997437], [-0.6892595291137695, -0.6886060237884521, -0.6879516839981079], [-0.6872974038124084, -0.6866413354873657, -0.6859843730926514], [-0.6853274703025818, -0.684668779373169, -0.6840092539787292], [-0.6833497881889343, -0.6826885342597961, -0.6820264458656311], [-0.6813644170761108, -0.6807006001472473, -0.6800358891487122], [-0.6793717741966248, -0.6787053942680359, -0.6780381202697754], [-0.6773709654808044, -0.6767020225524902, -0.6760322451591492], [-0.6753625273704529, -0.6746910214424133, -0.6740187406539917], [-0.6733464598655701, -0.67267245054245, -0.6719975471496582], [-0.671322762966156, -0.6706462502479553, -0.669968843460083], [-0.6692919731140137, -0.6686129570007324, -0.6679329872131348], [-0.6672531962394714, -0.6665716171264648, -0.6658892035484314], [-0.6652068495750427, -0.6645227670669556, -0.6638378500938416], [-0.6631530523300171, -0.6624664664268494, -0.6617790460586548], [-0.661091685295105, -0.6604026556015015, -0.6597127318382263], [-0.6590229272842407, -0.6583313941955566, -0.6576390266418457], [-0.6569472551345825, -0.6562532186508179, -0.6555583477020264], [-0.6548636555671692, -0.6541671752929688, -0.6534698605537415], [-0.6527726650238037, -0.6520737409591675, -0.6513739824295044], [-0.6506743431091309, -0.6499729752540588, -0.64927077293396], [-0.6485687494277954, -0.6478649377822876, -0.6471602916717529], [-0.6464563012123108, -0.6457500457763672, -0.6450430154800415], [-0.6443361043930054, -0.6436274647712708, -0.6429179906845093], [-0.6422086358070374, -0.6414976119995117, -0.6407856941223145], [-0.6400740146636963, -0.6393605470657349, -0.6386462450027466], [-0.6379321813583374, -0.637216329574585, -0.6364996433258057], [-0.6357831358909607, -0.6350648999214172, -0.6343458890914917], [-0.6336275339126587, -0.6329069137573242, -0.6321854591369629], [-0.6314642429351807, -0.6307412981987, -0.6300175189971924], [-0.6292939186096191, -0.6285685896873474, -0.6278424859046936], [-0.6271165609359741, -0.6263888478279114, -0.6256603598594666], [-0.6249321103096008, -0.6242020726203918, -0.6234713196754456], [-0.6227412223815918, -0.6220088601112366, -0.6212757229804993], [-0.6205428242683411, -0.6198081374168396, -0.619072675704956], [-0.6183375120162964, -0.6176005005836487, -0.6168627738952637], [-0.616125226020813, -0.6153859496116638, -0.6146458983421326], [-0.6139060854911804, -0.613164484500885, -0.6124221682548523], [-0.6116800904273987, -0.6109362244606018, -0.6101915836334229], [-0.609447717666626, -0.6087015867233276, -0.6079546809196472], [-0.6072080731391907, -0.6064596772193909, -0.605710506439209], [-0.604961633682251, -0.6042109727859497, -0.6034595966339111], [-0.6027084589004517, -0.6019555330276489, -0.6012018918991089], [-0.6004485487937927, -0.5996934175491333, -0.5989375114440918], [-0.5981819033622742, -0.5974245667457581, -0.5966664552688599], [-0.5959091782569885, -0.595149576663971, -0.5943892598152161]], [[-0.5936292409896851, -0.5928674340248108, -0.5921049118041992], [-0.5913426876068115, -0.5905786752700806, -0.5898140072822571], [-0.5890495777130127, -0.5882834196090698, -0.5875164866447449], [-0.5867499113082886, -0.585981547832489, -0.5852124691009521], [-0.5844442248344421, -0.5836736559867859, -0.5829024314880371], [-0.5821315050125122, -0.581358790397644, -0.5805854201316833], [-0.5798123478889465, -0.5790374875068665, -0.5782619118690491], [-0.5774866938591003, -0.5767097473144531, -0.5759320259094238], [-0.5751546621322632, -0.574375569820404, -0.5735957026481628], [-0.5728162527084351, -0.572035014629364, -0.5712530612945557], [-0.570472002029419, -0.5696886777877808, -0.5689045786857605], [-0.5681208968162537, -0.5673354864120483, -0.5665493011474609], [-0.565763533115387, -0.5649759769439697, -0.5641877055168152], [-0.5633998513221741, -0.5626102089881897, -0.5618199110031128], [-0.5610299706459045, -0.560238242149353, -0.559445858001709], [-0.5586543679237366, -0.5578606128692627, -0.5570661425590515], [-0.5562720894813538, -0.5554762482643127, -0.5546796917915344], [-0.5538836121559143, -0.5530857443809509, -0.5522871613502502], [-0.5514890551567078, -0.5506891012191772, -0.549888551235199], [-0.5490883588790894, -0.5482864379882812, -0.5474838018417358], [-0.5466816425323486, -0.5458776950836182, -0.5450730323791504], [-0.5442694425582886, -0.5434634685516357, -0.5426568388938904], [-0.5418506264686584, -0.541042685508728, -0.5402340888977051], [-0.5394259095191956, -0.5386159420013428, -0.5378053784370422]]]\n"
          ]
        }
      ]
    },
    {
      "cell_type": "code",
      "source": [],
      "metadata": {
        "id": "e5XBG8JXairR"
      },
      "execution_count": null,
      "outputs": []
    }
  ]
}